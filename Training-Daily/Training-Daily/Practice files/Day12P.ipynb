{
 "cells": [
  {
   "cell_type": "markdown",
   "id": "79fb150a",
   "metadata": {},
   "source": [
    "# Decorators"
   ]
  },
  {
   "cell_type": "markdown",
   "id": "6fa5fbfe",
   "metadata": {},
   "source": [
    "As stated above the decorators are used to modify the behaviour of function or class.<br> In Decorators, functions are taken as the argument into another function and then called inside the wrapper function."
   ]
  },
  {
   "cell_type": "code",
   "execution_count": 2,
   "id": "2f433da8",
   "metadata": {},
   "outputs": [
    {
     "name": "stdout",
     "output_type": "stream",
     "text": [
      "Hello, this is before function execution\n",
      "This is inside the function !!\n",
      "This is after function execution\n"
     ]
    }
   ],
   "source": [
    "# defining a decorator\n",
    "def hello_decorator(func):\n",
    "\n",
    "\t# inner1 is a Wrapper function in \n",
    "\t# which the argument is called\n",
    "\t\n",
    "\t# inner function can access the outer local\n",
    "\t# functions like in this case \"func\"\n",
    "\tdef inner1():\n",
    "\t\tprint(\"Hello, this is before function execution\")\n",
    "\n",
    "\t\t# calling the actual function now\n",
    "\t\t# inside the wrapper function.\n",
    "\t\tfunc()\n",
    "\n",
    "\t\tprint(\"This is after function execution\")\n",
    "\t\t\n",
    "\treturn inner1\n",
    "\n",
    "\n",
    "# defining a function, to be called inside wrapper\n",
    "def function_to_be_used():\n",
    "\tprint(\"This is inside the function !!\")\n",
    "\n",
    "\n",
    "# passing 'function_to_be_used' inside the\n",
    "# decorator to control its behaviour\n",
    "function_to_be_used = hello_decorator(function_to_be_used)\n",
    "\n",
    "\n",
    "# calling the function\n",
    "function_to_be_used()"
   ]
  },
  {
   "cell_type": "markdown",
   "id": "e5811193",
   "metadata": {},
   "source": [
    "#### find out the execution time of a function using a decorator"
   ]
  },
  {
   "cell_type": "code",
   "execution_count": 7,
   "id": "db5dcd71",
   "metadata": {},
   "outputs": [
    {
     "name": "stdout",
     "output_type": "stream",
     "text": [
      "3628800\n",
      "Total time taken in :  factorial 2.0026257038116455\n"
     ]
    }
   ],
   "source": [
    "# importing libraries\n",
    "import time\n",
    "import math\n",
    "\n",
    "# decorator to calculate duration\n",
    "# taken by any function.\n",
    "def calculate_time(func):\n",
    "\t\n",
    "\t# added arguments inside the inner1,\n",
    "\t# if function takes any arguments,\n",
    "\t# can be added like this.\n",
    "\tdef inner1(*args, **kwargs):\n",
    "\n",
    "\t\t# storing time before function execution\n",
    "\t\tbegin = time.time()\n",
    "\t\t\n",
    "\t\tfunc(*args, **kwargs)\n",
    "\n",
    "\t\t# storing time after function execution\n",
    "\t\tend = time.time()\n",
    "\t\tprint(\"Total time taken in : \", func.__name__, end - begin)\n",
    "\n",
    "\treturn inner1\n",
    "\n",
    "\n",
    "\n",
    "# this can be added to any function present,\n",
    "# in this case to calculate a factorial\n",
    "@calculate_time\n",
    "def factorial(num):\n",
    "\n",
    "\t# sleep 2 seconds because it takes very less time\n",
    "\t# so that you can see the actual difference\n",
    "\ttime.sleep(2)\n",
    "\tprint(math.factorial(num))\n",
    "\n",
    "# calling the function.\n",
    "factorial(10)\n"
   ]
  },
  {
   "cell_type": "markdown",
   "id": "21091b25",
   "metadata": {},
   "source": [
    "##### What if a function returns something or an argument is passed to the function?"
   ]
  },
  {
   "cell_type": "code",
   "execution_count": 8,
   "id": "379c6e1e",
   "metadata": {},
   "outputs": [
    {
     "name": "stdout",
     "output_type": "stream",
     "text": [
      "before Execution\n",
      "Inside the function\n",
      "after Execution\n",
      "Sum = 3\n"
     ]
    }
   ],
   "source": [
    "def hello_decorator(func):\n",
    "\tdef inner1(*args, **kwargs):\n",
    "\t\t\n",
    "\t\tprint(\"before Execution\")\n",
    "\t\t\n",
    "\t\t# getting the returned value\n",
    "\t\treturned_value = func(*args, **kwargs)\n",
    "\t\tprint(\"after Execution\")\n",
    "\t\t\n",
    "\t\t# returning the value to the original frame\n",
    "\t\treturn returned_value\n",
    "\t\t\n",
    "\treturn inner1\n",
    "\n",
    "\n",
    "# adding decorator to the function\n",
    "@hello_decorator\n",
    "def sum_two_numbers(a, b):\n",
    "\tprint(\"Inside the function\")\n",
    "\treturn a + b\n",
    "\n",
    "a, b = 1, 2\n",
    "\n",
    "# getting the value through return of the function\n",
    "print(\"Sum =\", sum_two_numbers(a, b))\n"
   ]
  },
  {
   "cell_type": "markdown",
   "id": "2e35eb40",
   "metadata": {},
   "source": [
    "### Chaining decorators"
   ]
  },
  {
   "cell_type": "markdown",
   "id": "e1872bc4",
   "metadata": {},
   "source": [
    "##### Chaining decorators means decorating a function with multiple decorators.\n",
    "Decorator Will behave like this<br>\n",
    "decor1(decor(num))<br>\n",
    "decor(decor1(num2))"
   ]
  },
  {
   "cell_type": "code",
   "execution_count": 13,
   "id": "273cba0e",
   "metadata": {},
   "outputs": [
    {
     "name": "stdout",
     "output_type": "stream",
     "text": [
      "aaa : 400\n",
      "bbb : 200\n"
     ]
    }
   ],
   "source": [
    "# code for testing decorator chaining \n",
    "def decor1(func): \n",
    "\tdef inner(): \n",
    "\t\tx = func() \n",
    "\t\treturn x * x \n",
    "\treturn inner \n",
    "\n",
    "def decor(func): \n",
    "\tdef inner(): \n",
    "\t\tx = func() \n",
    "\t\treturn 2 * x \n",
    "\treturn inner \n",
    "\n",
    "@decor1\n",
    "@decor\n",
    "def num(): \n",
    "\treturn 10\n",
    "\n",
    "@decor\n",
    "@decor1\n",
    "def num2():\n",
    "\treturn 10\n",
    "\n",
    "print(f\"aaa : {num()}\") \n",
    "print(f\"bbb : {num2()}\")\n"
   ]
  },
  {
   "cell_type": "markdown",
   "id": "a86fabef",
   "metadata": {},
   "source": [
    "# Generators"
   ]
  },
  {
   "cell_type": "markdown",
   "id": "f46935e0",
   "metadata": {},
   "source": [
    "A Generator in Python is a function that returns an iterator using the Yield keyword.<br>\n",
    "A generator function in Python is defined like a normal function, but whenever it needs to generate a value, it does so with the yield keyword rather than return.<br>\n",
    "If the body of a def contains yield, the function automatically becomes a Python generator function. "
   ]
  },
  {
   "cell_type": "markdown",
   "id": "ef9cc5f6",
   "metadata": {},
   "source": [
    "#### Create a Generator in Python\n",
    "In Python, we can create a generator function by simply using the def keyword and the yield keyword. The generator has the following syntax in Python:<br>\n",
    "\n",
    "def function_name():<br>\n",
    "yield statement"
   ]
  },
  {
   "cell_type": "code",
   "execution_count": 14,
   "id": "f9de5525",
   "metadata": {},
   "outputs": [
    {
     "name": "stdout",
     "output_type": "stream",
     "text": [
      "1\n",
      "2\n",
      "3\n"
     ]
    }
   ],
   "source": [
    "# A generator function that yields 1 for first time, \n",
    "# 2 second time and 3 third time \n",
    "def simpleGeneratorFun(): \n",
    "\tyield 1\t\t\t\n",
    "\tyield 2\t\t\t\n",
    "\tyield 3\t\t\t\n",
    "\n",
    "# Driver code to check above generator function \n",
    "for value in simpleGeneratorFun(): \n",
    "\tprint(value)\n"
   ]
  },
  {
   "cell_type": "code",
   "execution_count": 15,
   "id": "de2bc586",
   "metadata": {},
   "outputs": [
    {
     "name": "stdout",
     "output_type": "stream",
     "text": [
      "1\n",
      "2\n",
      "3\n"
     ]
    }
   ],
   "source": [
    "# A Python program to demonstrate use of \n",
    "# generator object with next() \n",
    "\n",
    "# A generator function \n",
    "def simpleGeneratorFun(): \n",
    "\tyield 1\n",
    "\tyield 2\n",
    "\tyield 3\n",
    "\n",
    "# x is a generator object \n",
    "x = simpleGeneratorFun() \n",
    "\n",
    "# Iterating over the generator object using next funcrion\n",
    "\n",
    "# In Python 3, __next__() \n",
    "print(next(x)) \n",
    "print(next(x)) \n",
    "print(next(x))\n"
   ]
  },
  {
   "cell_type": "code",
   "execution_count": 22,
   "id": "a57c8248",
   "metadata": {},
   "outputs": [
    {
     "name": "stdout",
     "output_type": "stream",
     "text": [
      "0\n",
      "1\n",
      "1\n",
      "2\n",
      "3\n",
      "\n",
      "Using for in loop\n",
      "0\n",
      "1\n",
      "1\n",
      "2\n",
      "3\n"
     ]
    }
   ],
   "source": [
    "# A simple generator for Fibonacci Numbers \n",
    "def fib(limit): \n",
    "\t\n",
    "\t# Initialize first two Fibonacci Numbers \n",
    "\ta, b = 0, 1\n",
    "\n",
    "\t# One by one yield next Fibonacci Number \n",
    "\twhile a < limit: \n",
    "\t\tyield a \n",
    "\t\ta, b = b, a + b \n",
    "\n",
    "# Create a generator object \n",
    "x = fib(5) \n",
    "\n",
    "# Iterating over the generator object using next \n",
    "# In Python 3, __next__() \n",
    "print(next(x)) \n",
    "print(next(x)) \n",
    "print(next(x)) \n",
    "print(next(x)) \n",
    "print(next(x)) \n",
    "\n",
    "\n",
    "\n",
    "# Iterating over the generator object using for \n",
    "# in loop. \n",
    "print(\"\\nUsing for in loop\") \n",
    "for i in fib(5): \n",
    "\tprint(i)\n"
   ]
  },
  {
   "cell_type": "markdown",
   "id": "b833e0ea",
   "metadata": {},
   "source": [
    "#### Python Generator Expression\n",
    "In Python, generator expression is another way of writing the generator function. It uses the Python list comprehension technique but instead of storing the elements in a list in memory, it creates generator objects.<br>\n",
    "\n",
    "##### Generator Expression Syntax<br>\n",
    "\n",
    "(expression for item in iterable)\n",
    " "
   ]
  },
  {
   "cell_type": "code",
   "execution_count": 25,
   "id": "e3e9f423",
   "metadata": {},
   "outputs": [
    {
     "name": "stdout",
     "output_type": "stream",
     "text": [
      "0\n",
      "10\n",
      "20\n"
     ]
    }
   ],
   "source": [
    "# generator expression \n",
    "generator_exp = (i * 5 for i in range(5) if i%2==0) \n",
    "\n",
    "for i in generator_exp: \n",
    "\tprint(i)\n"
   ]
  },
  {
   "cell_type": "markdown",
   "id": "4c4dc454",
   "metadata": {},
   "source": [
    "# Practice (Decorator)"
   ]
  },
  {
   "cell_type": "markdown",
   "id": "769bbd77",
   "metadata": {},
   "source": [
    "Q) Write a Python program to create a decorator that logs the arguments and return value of a function.<br>\n",
    "The decorator in this code logs the function name, arguments, and return value whenever the decorated function is called."
   ]
  },
  {
   "cell_type": "code",
   "execution_count": 35,
   "id": "197dc119",
   "metadata": {},
   "outputs": [
    {
     "name": "stdout",
     "output_type": "stream",
     "text": [
      "Calling fibo with args: (10,), kwargs: {}\n",
      "0\n",
      "1\n",
      "1\n",
      "2\n",
      "3\n",
      "5\n",
      "8\n",
      "Function fibo excuted successfully\n"
     ]
    }
   ],
   "source": [
    "def decorator(func):\n",
    "    def wrap(*args, **kwargs):\n",
    "        print(f\"Calling {func.__name__} with args: {args}, kwargs: {kwargs}\")\n",
    "        func(*args, **kwargs)\n",
    "        print(f\"Function {func.__name__} excuted successfully\") \n",
    "    return wrap\n",
    "\n",
    "@decorator\n",
    "def fibo(x):\n",
    "    a, b = 0, 1\n",
    "    while a < x:\n",
    "         print(a)\n",
    "         a, b = b, a + b \n",
    "    \n",
    "fibo(10)"
   ]
  },
  {
   "cell_type": "markdown",
   "id": "e71f1d51",
   "metadata": {},
   "source": [
    "Q) Python program to create a decorator function to measure the execution time of a function."
   ]
  },
  {
   "cell_type": "code",
   "execution_count": 38,
   "id": "5efe9dd3",
   "metadata": {},
   "outputs": [
    {
     "name": "stdout",
     "output_type": "stream",
     "text": [
      "0\n",
      "1\n",
      "1\n",
      "2\n",
      "3\n",
      "5\n",
      "8\n",
      "Function fibo took 0.0001 seconds to execute\n"
     ]
    }
   ],
   "source": [
    "import time\n",
    "def calculate_time(func):\n",
    "\tdef inner1(*args, **kwargs):\n",
    "\t\tbegin = time.time()\n",
    "\t\tfunc(*args, **kwargs)\n",
    "\t\tend = time.time()\n",
    "\t\tprint(f\"Function {func.__name__} took {end - begin:.4f} seconds to execute\")\n",
    "\treturn inner1\n",
    "\n",
    "@calculate_time\n",
    "def fibo(x):\n",
    "    a, b = 0, 1\n",
    "    while a < x:\n",
    "         print(a)\n",
    "         a, b = b, a + b \n",
    "\n",
    "fibo(10)"
   ]
  },
  {
   "cell_type": "markdown",
   "id": "efb36604",
   "metadata": {},
   "source": [
    "Q) Python program to create a decorator to convert the return value of a function to a specified data type."
   ]
  },
  {
   "cell_type": "code",
   "execution_count": 47,
   "id": "c499bee4",
   "metadata": {},
   "outputs": [
    {
     "name": "stdout",
     "output_type": "stream",
     "text": [
      "Result: 2.5\n",
      "Type of Result: <class 'str'>\n"
     ]
    }
   ],
   "source": [
    "def convert(data_type):\n",
    "    def decorator(func):\n",
    "        def wrapper(*args, **kwargs):\n",
    "            result = func(*args, **kwargs)\n",
    "            return data_type(result)\n",
    "        return wrapper\n",
    "    return decorator\n",
    "\n",
    "@convert(str)\n",
    "def divide(a, b):\n",
    "    return a / b\n",
    "\n",
    "result = divide(5, 2)\n",
    "print(\"Result:\", result)\n",
    "print(\"Type of Result:\", type(result))"
   ]
  },
  {
   "cell_type": "markdown",
   "id": "ad7710de",
   "metadata": {},
   "source": [
    "Q) Python program that implements a decorator to cache the result of a function."
   ]
  },
  {
   "cell_type": "code",
   "execution_count": 51,
   "id": "e29249b3",
   "metadata": {},
   "outputs": [
    {
     "name": "stdout",
     "output_type": "stream",
     "text": [
      "Calculating addition:\n",
      "9\n",
      "Retrieving result from cache:\n",
      "9\n",
      "Calculating addition:\n",
      "12\n",
      "Retrieving result from cache:\n",
      "12\n",
      "Calculating addition:\n",
      "4\n",
      "Retrieving result from cache:\n",
      "4\n"
     ]
    }
   ],
   "source": [
    "def cache(func):\n",
    "    cache={}\n",
    "\n",
    "    def wrapper(*args,**kargs):\n",
    "        key= (*args,*kargs.items())\n",
    "        if key in cache :\n",
    "            print(\"Retrieving result from cache:\")\n",
    "            return cache[key]\n",
    "        result=func(*args,**kargs)\n",
    "        cache[key]=result\n",
    "        return result\n",
    "    return wrapper\n",
    "\n",
    "@cache\n",
    "def add(x,y):\n",
    "    print(\"Calculating addition:\")\n",
    "    return x+y\n",
    "\n",
    "print(add(4, 5)) \n",
    "print(add(4, 5))  \n",
    "print(add(5, 7)) \n",
    "print(add(5, 7))  \n",
    "print(add(-3, 7))\n",
    "print(add(-3, 7)) "
   ]
  },
  {
   "cell_type": "markdown",
   "id": "99407044",
   "metadata": {},
   "source": [
    "Q) Python program that implements a decorator to validate function arguments based on a given condition."
   ]
  },
  {
   "cell_type": "code",
   "execution_count": 57,
   "id": "5c36b650",
   "metadata": {},
   "outputs": [
    {
     "name": "stdout",
     "output_type": "stream",
     "text": [
      "The of 5 is: 125\n"
     ]
    }
   ],
   "source": [
    "def argument(condition):\n",
    "    def decorator(func):\n",
    "        def wrapper(*args,**kargs):\n",
    "            if condition(*args,**kargs):\n",
    "                return func(*args,**kargs)\n",
    "            else:\n",
    "                raise ValueError(\"Invalid arguments\")\n",
    "        return wrapper\n",
    "    return decorator\n",
    "\n",
    "\n",
    "@argument(lambda x: x > 0)\n",
    "def cube(x):\n",
    "    return x**3\n",
    "\n",
    "a=int(input(\"Enter value for Cube:\"))\n",
    "print(f\"The of {a} is: {cube(a)}\")"
   ]
  },
  {
   "cell_type": "markdown",
   "id": "c4cb9f38",
   "metadata": {},
   "source": [
    "Q) Python program that implements a decorator to retry a function multiple times in case of failure."
   ]
  },
  {
   "cell_type": "code",
   "execution_count": 67,
   "id": "c6ec6a7c",
   "metadata": {},
   "outputs": [
    {
     "name": "stdout",
     "output_type": "stream",
     "text": [
      "Attempt 1/3 failed: float division by zero\n",
      "Retrying...\n",
      "Attempt 2/3 failed: float division by zero\n",
      "Retrying...\n",
      "Attempt 3/3 failed: float division by zero\n",
      "Error:Failed after 3 attempts\n"
     ]
    }
   ],
   "source": [
    "import time\n",
    "\n",
    "def retry_on_failure(retries):\n",
    "    def decorator(func):\n",
    "        def wrapper(*args, **kwargs):\n",
    "            for attempt in range(1, retries + 1):\n",
    "                try:\n",
    "                    result = func(*args, **kwargs)\n",
    "                    return result\n",
    "                except Exception as e:\n",
    "                    print(f\"Attempt {attempt}/{retries} failed: {e}\")\n",
    "                    if attempt < retries:\n",
    "                        print(\"Retrying...\")\n",
    "                        time.sleep(1)  # Wait for 1 second before retrying\n",
    "            raise RuntimeError(f\"Failed after {retries} attempts\")\n",
    "        return wrapper\n",
    "    return decorator\n",
    "\n",
    "@retry_on_failure(retries=3)\n",
    "def divide(a, b):\n",
    "    return a / b\n",
    "\n",
    "if __name__ == \"__main__\":\n",
    "    def main():\n",
    "        a = float(input(\"Enter first number: \"))\n",
    "        b = float(input(\"Enter second number: \"))\n",
    "        try:\n",
    "            result = divide(a, b)\n",
    "            print(\"Result of division:\", result)\n",
    "        except RuntimeError as e:\n",
    "            print(f\"Error:{e}\")\n",
    "\n",
    "    main()\n"
   ]
  },
  {
   "cell_type": "markdown",
   "id": "4f15bc93",
   "metadata": {},
   "source": [
    "Q) Write a Python program that implements a decorator to add logging functionality to a function.<br>\n",
    "\n",
    "Logging functionality refers to the capability of recording and storing information about program execution. It allows you to capture significant events, messages, and errors that occur during code execution."
   ]
  },
  {
   "cell_type": "code",
   "execution_count": 70,
   "id": "a0fbfb5b",
   "metadata": {},
   "outputs": [
    {
     "name": "stdout",
     "output_type": "stream",
     "text": [
      "Calling function 'add' with arg: (3, 5), kargs: {}\n",
      "Function 'add' returned result: 8\n",
      "Calling function 'subtract' with arg: (10, 7), kargs: {}\n",
      "Function 'subtract' returned result: 3\n"
     ]
    }
   ],
   "source": [
    "def log_function(func):\n",
    "    def wrapper(*args, **kwargs):\n",
    "        print(f\"Calling function '{func.__name__}' with arg: {args}, kargs: {kwargs}\")\n",
    "        result = func(*args, **kwargs)\n",
    "        print(f\"Function '{func.__name__}' returned result: {result}\")\n",
    "        return result\n",
    "    return wrapper\n",
    "\n",
    "@log_function\n",
    "def add(x, y):\n",
    "    return x + y\n",
    "\n",
    "@log_function\n",
    "def subtract(x, y):\n",
    "    return x - y\n",
    "\n",
    "result1 = add(3, 5)\n",
    "result2 = subtract(10, 7)\n"
   ]
  },
  {
   "cell_type": "markdown",
   "id": "aa182ce7",
   "metadata": {},
   "source": [
    "Q) Python program that implements a decorator to handle exceptions raised by a function and provide a default response."
   ]
  },
  {
   "cell_type": "code",
   "execution_count": 71,
   "id": "8329d2d4",
   "metadata": {},
   "outputs": [
    {
     "name": "stdout",
     "output_type": "stream",
     "text": [
      "Exception Occurred:division by zero\n",
      "Result of Division: An ERROR Occurred!\n"
     ]
    }
   ],
   "source": [
    "def exception(default_response):\n",
    "    def decorator(func):\n",
    "        def wrapper(*args,**kargs):\n",
    "            try:\n",
    "                return func(*args,**kargs)\n",
    "            except Exception as e:\n",
    "                print(f\"Exception Occurred:{e}\")\n",
    "                return default_response\n",
    "        return wrapper\n",
    "    return decorator\n",
    "\n",
    "\n",
    "@exception(default_response=\"An ERROR Occurred!\")\n",
    "def divide(x,y):\n",
    "    return x/y\n",
    "\n",
    "a=int(input(\"Enter value for a :\"))\n",
    "b=int(input(\"Enter value for b :\"))\n",
    "r=divide(a,b)\n",
    "print(f\"Result of Division: {r}\")"
   ]
  }
 ],
 "metadata": {
  "kernelspec": {
   "display_name": "Python 3",
   "language": "python",
   "name": "python3"
  },
  "language_info": {
   "codemirror_mode": {
    "name": "ipython",
    "version": 3
   },
   "file_extension": ".py",
   "mimetype": "text/x-python",
   "name": "python",
   "nbconvert_exporter": "python",
   "pygments_lexer": "ipython3",
   "version": "3.10.13"
  }
 },
 "nbformat": 4,
 "nbformat_minor": 5
}
