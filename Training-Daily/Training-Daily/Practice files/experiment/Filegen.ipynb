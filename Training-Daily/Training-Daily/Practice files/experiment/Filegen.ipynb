{
 "cells": [
  {
   "cell_type": "code",
   "execution_count": 1,
   "metadata": {},
   "outputs": [],
   "source": [
    "import string\n",
    "import os\n",
    "# Define a function to generate the text files\n",
    "def generate_files():\n",
    "   # Get the uppercase letters from A to Z\n",
    "   letters = string.ascii_uppercase\n",
    "   # Use list comprehension to create the file names and create the files\n",
    "   [open(letter + '.txt', 'w').close() for letter in letters]\n",
    "# Call the function to generate the files\n",
    "generate_files()"
   ]
  }
 ],
 "metadata": {
  "kernelspec": {
   "display_name": "Python 3",
   "language": "python",
   "name": "python3"
  },
  "language_info": {
   "codemirror_mode": {
    "name": "ipython",
    "version": 3
   },
   "file_extension": ".py",
   "mimetype": "text/x-python",
   "name": "python",
   "nbconvert_exporter": "python",
   "pygments_lexer": "ipython3",
   "version": "3.10.13"
  }
 },
 "nbformat": 4,
 "nbformat_minor": 2
}
