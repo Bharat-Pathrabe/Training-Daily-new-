{
 "cells": [
  {
   "cell_type": "code",
   "execution_count": 2,
   "id": "65ff286f",
   "metadata": {},
   "outputs": [
    {
     "name": "stdout",
     "output_type": "stream",
     "text": [
      "Enter the string: applebananaberry\n",
      "Which index character to replace: 5\n",
      "Modified string: applbananaberry\n"
     ]
    }
   ],
   "source": [
    "st = input(\"Enter the string: \")\n",
    "n = int(input(\"Which index character to replace: \"))\n",
    "m_st = st[:n-1] + st[n:]\n",
    "print(f\"Modified string: {m_st}\")"
   ]
  }
 ],
 "metadata": {
  "kernelspec": {
   "display_name": "Python 3 (ipykernel)",
   "language": "python",
   "name": "python3"
  },
  "language_info": {
   "codemirror_mode": {
    "name": "ipython",
    "version": 3
   },
   "file_extension": ".py",
   "mimetype": "text/x-python",
   "name": "python",
   "nbconvert_exporter": "python",
   "pygments_lexer": "ipython3",
   "version": "3.9.12"
  }
 },
 "nbformat": 4,
 "nbformat_minor": 5
}
