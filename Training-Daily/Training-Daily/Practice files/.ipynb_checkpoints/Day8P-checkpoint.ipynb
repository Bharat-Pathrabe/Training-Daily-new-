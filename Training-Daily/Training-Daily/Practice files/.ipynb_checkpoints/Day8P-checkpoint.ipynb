{
 "cells": [
  {
   "cell_type": "markdown",
   "id": "c21cc939",
   "metadata": {},
   "source": [
    "# Practice (Recursion)"
   ]
  },
  {
   "cell_type": "markdown",
   "id": "a66cf279",
   "metadata": {},
   "source": [
    "Q1) program to calculate the sum of a list of numbers using recursion."
   ]
  },
  {
   "cell_type": "code",
   "execution_count": 77,
   "id": "c4827bbd",
   "metadata": {},
   "outputs": [
    {
     "name": "stdout",
     "output_type": "stream",
     "text": [
      "Enter elements comma Sep: 7,4,7,1\n",
      "19\n"
     ]
    }
   ],
   "source": [
    "def lsum(a):\n",
    "    return a[0] if len(a) == 1 else int(a[0]) + int(lsum(a[1:]))\n",
    "\n",
    "li=[x for x in input(\"Enter elements comma Sep: \").split(\",\")]\n",
    "print(lsum(li))"
   ]
  },
  {
   "cell_type": "markdown",
   "id": "d031bb61",
   "metadata": {},
   "source": [
    "Q2) program to convert an integer to a string in any base using recursion."
   ]
  },
  {
   "cell_type": "code",
   "execution_count": 81,
   "id": "4f4892fb",
   "metadata": {},
   "outputs": [
    {
     "name": "stdout",
     "output_type": "stream",
     "text": [
      "Enter Number: 2835\n",
      "Enter Base: 16\n",
      "B13\n"
     ]
    }
   ],
   "source": [
    "def to_string(n, base):\n",
    "    conver_tString = \"0123456789ABCDEF\"\n",
    "    return conver_tString[n] if n < base else to_string(n // base, base) + conver_tString[n % base]\n",
    "    \n",
    "n=int(input(\"Enter Number: \"))\n",
    "base=int(input(\"Enter Base: \"))\n",
    "print(to_string(n,base))"
   ]
  },
  {
   "cell_type": "markdown",
   "id": "cf620d4f",
   "metadata": {},
   "source": [
    "Q3) program to sum recursion lists using recursion."
   ]
  },
  {
   "cell_type": "code",
   "execution_count": 8,
   "id": "d6bf5bcd",
   "metadata": {},
   "outputs": [
    {
     "name": "stdout",
     "output_type": "stream",
     "text": [
      "21\n"
     ]
    }
   ],
   "source": [
    "def sum_rec(li):\n",
    "    #return sum(sum_rec(i) if type(i) == type([]) else i for i in li)\n",
    "    return sum(sum_rec(i) if isinstance(i,list) else i for i in li)\n",
    "li=[1, 2, [3,4], [5,6]]\n",
    "print(sum_rec(li))"
   ]
  },
  {
   "cell_type": "markdown",
   "id": "8caacde1",
   "metadata": {},
   "source": [
    "Q4) program to get the factorial of a non-negative integer using recursion."
   ]
  },
  {
   "cell_type": "code",
   "execution_count": 14,
   "id": "b0b61368",
   "metadata": {},
   "outputs": [
    {
     "name": "stdout",
     "output_type": "stream",
     "text": [
      "Enter to calculate factorial:3\n",
      "Factorial is : 6\n"
     ]
    }
   ],
   "source": [
    "def facto(n):\n",
    "    return n * facto(n-1) if n>0 else 1\n",
    "n=int(input(\"Enter to calculate factorial:\"))\n",
    "print(f\"Factorial is : {facto(n)}\")"
   ]
  },
  {
   "cell_type": "markdown",
   "id": "a16fc2f3",
   "metadata": {},
   "source": [
    "Q5) program to solve the Fibonacci sequence using recursion."
   ]
  },
  {
   "cell_type": "code",
   "execution_count": 18,
   "id": "fdcd3145",
   "metadata": {},
   "outputs": [
    {
     "name": "stdout",
     "output_type": "stream",
     "text": [
      "Number to find Fibonacci Seq Element: 7\n",
      "Squence: 13\n"
     ]
    }
   ],
   "source": [
    "def seq(n):\n",
    "    return 1 if n == 1 or n == 2 else seq(n-1) + seq(n-2)\n",
    "n= int(input(\"Number to find Fibonacci Seq Element: \"))\n",
    "print(f\"Squence: {seq(n)}\")"
   ]
  },
  {
   "cell_type": "markdown",
   "id": "e055c667",
   "metadata": {},
   "source": [
    "Q6) program to get the sum of a non-negative integer using recursion.<br>\n",
    "Test Data:<br>\n",
    "sumDigits(345) -> 12<br>\n",
    "sumDigits(45) -> 9"
   ]
  },
  {
   "cell_type": "code",
   "execution_count": 28,
   "id": "c48b4d04",
   "metadata": {},
   "outputs": [
    {
     "name": "stdout",
     "output_type": "stream",
     "text": [
      "Enter NUmber: 345\n",
      "Sum: 12\n"
     ]
    }
   ],
   "source": [
    "def sumr(n):\n",
    "    return 0 if n == 0 else n%10 + sumr(int(n/10))\n",
    "n= int(input(\"Enter NUmber: \"))\n",
    "print(f\"Sum: {sumr(n)}\")"
   ]
  },
  {
   "cell_type": "markdown",
   "id": "312d56d2",
   "metadata": {},
   "source": [
    "Q7) program to calculate the sum of the positive integers of n+(n-2)+(n-4)... (until n-x =< 0) using recursion .<br>\n",
    "Test Data:<br>\n",
    "sum_series(6) -> 12<br>\n",
    "sum_series(10) -> 30"
   ]
  },
  {
   "cell_type": "code",
   "execution_count": 30,
   "id": "c840dd8b",
   "metadata": {},
   "outputs": [
    {
     "name": "stdout",
     "output_type": "stream",
     "text": [
      "Enter Number for Sum_series: 10\n",
      "Sum of Series is: 30\n"
     ]
    }
   ],
   "source": [
    "def sum_s(n):\n",
    "    return 0 if n<0 else n+sum_s(n-2)\n",
    "n=int(input(\"Enter Number for Sum_series: \"))\n",
    "print(f\"Sum of Series is: {sum_s(n)}\")"
   ]
  },
  {
   "cell_type": "markdown",
   "id": "74ff168c",
   "metadata": {},
   "source": [
    "Q8) program to calculate the sum of harmonic series upto n terms.<br>\n",
    "Note: The harmonic sum is the sum of reciprocals of the positive integers."
   ]
  },
  {
   "cell_type": "code",
   "execution_count": 49,
   "id": "c20560f9",
   "metadata": {},
   "outputs": [
    {
     "name": "stdout",
     "output_type": "stream",
     "text": [
      "Term upto which harmonic series run: 7\n",
      "Sum of Harmonic series: 2.5928571428571425\n"
     ]
    }
   ],
   "source": [
    "def h_sum(n):\n",
    "    return 1 if n<2 else 1/n + h_sum(n-1)\n",
    "n=int(input(\"Term upto which harmonic series run: \"))\n",
    "print(f\"Sum of Harmonic series: {h_sum(n)}\")"
   ]
  },
  {
   "cell_type": "markdown",
   "id": "24301db8",
   "metadata": {},
   "source": [
    "Q9) program to calculate the geometric sum up to 'n' terms.<br>\n",
    "Note: In mathematics, a geometric series is a series with a constant ratio between successive terms."
   ]
  },
  {
   "cell_type": "code",
   "execution_count": 59,
   "id": "306493e0",
   "metadata": {},
   "outputs": [
    {
     "name": "stdout",
     "output_type": "stream",
     "text": [
      "Term upto which Geometric series run: 4\n",
      "Sum of Geometric series: 1.9375\n"
     ]
    }
   ],
   "source": [
    "def g_sum(n):\n",
    "    return 1 if n==0 else 1/2**n + g_sum(n-1)\n",
    "n=int(input(\"Term upto which Geometric series run: \"))\n",
    "print(f\"Sum of Geometric series: {g_sum(n)}\")"
   ]
  },
  {
   "cell_type": "markdown",
   "id": "547ccbed",
   "metadata": {},
   "source": [
    "Q10) program to calculate the value of 'a' to the power of 'b' using recursion.\n",
    "Test Data :\n",
    "(power(3,4) -> 81"
   ]
  },
  {
   "cell_type": "code",
   "execution_count": 75,
   "id": "6ab063a0",
   "metadata": {},
   "outputs": [
    {
     "name": "stdout",
     "output_type": "stream",
     "text": [
      "Enter the value of a:3\n",
      "Enter the value of b:2\n",
      "The value of a to the power b : 9\n"
     ]
    }
   ],
   "source": [
    "def power(a,b):\n",
    "    return 1 if b == 0 else 0 if a == 0 else a if b == 1 else a * power(a,b-1)\n",
    "\n",
    "a=int(input(\"Enter the value of a:\"))\n",
    "b=int(input(\"Enter the value of b:\"))\n",
    "print(f\"The value of a to the power b : {power(a,b)}\")"
   ]
  },
  {
   "cell_type": "markdown",
   "id": "d671aa0a",
   "metadata": {},
   "source": [
    "Q11) program to find the greatest common divisor (GCD) of two integers using recursion."
   ]
  },
  {
   "cell_type": "code",
   "execution_count": 74,
   "id": "3ecbc599",
   "metadata": {},
   "outputs": [
    {
     "name": "stdout",
     "output_type": "stream",
     "text": [
      "Enter the first number:12\n",
      "Enter the first number:14\n",
      "GCD of 12 and  14 is : 2\n"
     ]
    }
   ],
   "source": [
    "def rgcd(a,b):\n",
    "    low = min(a,b)\n",
    "    high = max(a,b)\n",
    "    return high if low == 0 else 1 if low == 1 else rgcd(low,high%low)\n",
    "a=int(input(\"Enter the first number:\"))\n",
    "b=int(input(\"Enter the first number:\"))\n",
    "print(f\"GCD of {a} and  {b} is : {rgcd(a,b)}\")"
   ]
  },
  {
   "cell_type": "markdown",
   "id": "8f843a21",
   "metadata": {},
   "source": [
    "# Json"
   ]
  },
  {
   "cell_type": "markdown",
   "id": "689e0e1b",
   "metadata": {},
   "source": [
    "Q1) program to convert JSON data to Python object."
   ]
  },
  {
   "cell_type": "code",
   "execution_count": 101,
   "id": "6037acc6",
   "metadata": {},
   "outputs": [
    {
     "name": "stdout",
     "output_type": "stream",
     "text": [
      "{'quiz': {'sport': {'q1': {'question': 'Which one is correct team name in NBA?', 'options': ['New York Bulls', 'Los Angeles Kings', 'Golden State Warriros', 'Huston Rocket'], 'answer': 'Huston Rocket'}}, 'maths': {'q1': {'question': '5 + 7 = ?', 'options': ['10', '11', '12', '13'], 'answer': '12'}, 'q2': {'question': '12 - 8 = ?', 'options': ['1', '2', '3', '4'], 'answer': '4'}}}}\n",
      "{'sport': {'q1': {'question': 'Which one is correct team name in NBA?', 'options': ['New York Bulls', 'Los Angeles Kings', 'Golden State Warriros', 'Huston Rocket'], 'answer': 'Huston Rocket'}}, 'maths': {'q1': {'question': '5 + 7 = ?', 'options': ['10', '11', '12', '13'], 'answer': '12'}, 'q2': {'question': '12 - 8 = ?', 'options': ['1', '2', '3', '4'], 'answer': '4'}}}\n"
     ]
    }
   ],
   "source": [
    "import json\n",
    "j_data= open(\"K.json\")\n",
    "P_load=json.load(j_data)\n",
    "print(P_load)"
   ]
  }
 ],
 "metadata": {
  "kernelspec": {
   "display_name": "Python 3 (ipykernel)",
   "language": "python",
   "name": "python3"
  },
  "language_info": {
   "codemirror_mode": {
    "name": "ipython",
    "version": 3
   },
   "file_extension": ".py",
   "mimetype": "text/x-python",
   "name": "python",
   "nbconvert_exporter": "python",
   "pygments_lexer": "ipython3",
   "version": "3.9.12"
  }
 },
 "nbformat": 4,
 "nbformat_minor": 5
}
