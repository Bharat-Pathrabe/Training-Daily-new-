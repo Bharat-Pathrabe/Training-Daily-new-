{
 "cells": [
  {
   "cell_type": "markdown",
   "id": "1f08da57",
   "metadata": {},
   "source": [
    "# Practice (Recursion)"
   ]
  },
  {
   "cell_type": "markdown",
   "id": "d1da0155",
   "metadata": {},
   "source": [
    "Q1) program to calculate the sum of a list of numbers using recursion."
   ]
  },
  {
   "cell_type": "code",
   "execution_count": 77,
   "id": "7bf435c8",
   "metadata": {},
   "outputs": [
    {
     "name": "stdout",
     "output_type": "stream",
     "text": [
      "Enter elements comma Sep: 7,4,7,1\n",
      "19\n"
     ]
    }
   ],
   "source": [
    "def lsum(a):\n",
    "    return a[0] if len(a) == 1 else int(a[0]) + int(lsum(a[1:]))\n",
    "\n",
    "li=[x for x in input(\"Enter elements comma Sep: \").split(\",\")]\n",
    "print(lsum(li))"
   ]
  },
  {
   "cell_type": "markdown",
   "id": "eccb132f",
   "metadata": {},
   "source": [
    "Q2) program to convert an integer to a string in any base using recursion."
   ]
  },
  {
   "cell_type": "code",
   "execution_count": 81,
   "id": "cc638d8f",
   "metadata": {},
   "outputs": [
    {
     "name": "stdout",
     "output_type": "stream",
     "text": [
      "Enter Number: 2835\n",
      "Enter Base: 16\n",
      "B13\n"
     ]
    }
   ],
   "source": [
    "def to_string(n, base):\n",
    "    conver_tString = \"0123456789ABCDEF\"\n",
    "    return conver_tString[n] if n < base else to_string(n // base, base) + conver_tString[n % base]\n",
    "    \n",
    "n=int(input(\"Enter Number: \"))\n",
    "base=int(input(\"Enter Base: \"))\n",
    "print(to_string(n,base))"
   ]
  },
  {
   "cell_type": "markdown",
   "id": "12700578",
   "metadata": {},
   "source": [
    "Q3) program to sum recursion lists using recursion."
   ]
  },
  {
   "cell_type": "code",
   "execution_count": 8,
   "id": "a24b635d",
   "metadata": {},
   "outputs": [
    {
     "name": "stdout",
     "output_type": "stream",
     "text": [
      "21\n"
     ]
    }
   ],
   "source": [
    "def sum_rec(li):\n",
    "    #return sum(sum_rec(i) if type(i) == type([]) else i for i in li)\n",
    "    return sum(sum_rec(i) if isinstance(i,list) else i for i in li)\n",
    "li=[1, 2, [3,4], [5,6]]\n",
    "print(sum_rec(li))"
   ]
  },
  {
   "cell_type": "markdown",
   "id": "b0beacfb",
   "metadata": {},
   "source": [
    "Q4) program to get the factorial of a non-negative integer using recursion."
   ]
  },
  {
   "cell_type": "code",
   "execution_count": 14,
   "id": "dddae073",
   "metadata": {},
   "outputs": [
    {
     "name": "stdout",
     "output_type": "stream",
     "text": [
      "Enter to calculate factorial:3\n",
      "Factorial is : 6\n"
     ]
    }
   ],
   "source": [
    "def facto(n):\n",
    "    return n * facto(n-1) if n>0 else 1\n",
    "n=int(input(\"Enter to calculate factorial:\"))\n",
    "print(f\"Factorial is : {facto(n)}\")"
   ]
  },
  {
   "cell_type": "markdown",
   "id": "3eed7c1a",
   "metadata": {},
   "source": [
    "Q5) program to solve the Fibonacci sequence using recursion."
   ]
  },
  {
   "cell_type": "code",
   "execution_count": 18,
   "id": "1ea28b28",
   "metadata": {},
   "outputs": [
    {
     "name": "stdout",
     "output_type": "stream",
     "text": [
      "Number to find Fibonacci Seq Element: 7\n",
      "Squence: 13\n"
     ]
    }
   ],
   "source": [
    "def seq(n):\n",
    "    return 1 if n == 1 or n == 2 else seq(n-1) + seq(n-2)\n",
    "n= int(input(\"Number to find Fibonacci Seq Element: \"))\n",
    "print(f\"Squence: {seq(n)}\")"
   ]
  },
  {
   "cell_type": "markdown",
   "id": "9ba4fdd1",
   "metadata": {},
   "source": [
    "Q6) program to get the sum of a non-negative integer using recursion.<br>\n",
    "Test Data:<br>\n",
    "sumDigits(345) -> 12<br>\n",
    "sumDigits(45) -> 9"
   ]
  },
  {
   "cell_type": "code",
   "execution_count": 28,
   "id": "ef97e335",
   "metadata": {},
   "outputs": [
    {
     "name": "stdout",
     "output_type": "stream",
     "text": [
      "Enter NUmber: 345\n",
      "Sum: 12\n"
     ]
    }
   ],
   "source": [
    "def sumr(n):\n",
    "    return 0 if n == 0 else n%10 + sumr(int(n/10))\n",
    "n= int(input(\"Enter NUmber: \"))\n",
    "print(f\"Sum: {sumr(n)}\")"
   ]
  },
  {
   "cell_type": "markdown",
   "id": "88029924",
   "metadata": {},
   "source": [
    "Q7) program to calculate the sum of the positive integers of n+(n-2)+(n-4)... (until n-x =< 0) using recursion .<br>\n",
    "Test Data:<br>\n",
    "sum_series(6) -> 12<br>\n",
    "sum_series(10) -> 30"
   ]
  },
  {
   "cell_type": "code",
   "execution_count": 30,
   "id": "20a4d57b",
   "metadata": {},
   "outputs": [
    {
     "name": "stdout",
     "output_type": "stream",
     "text": [
      "Enter Number for Sum_series: 10\n",
      "Sum of Series is: 30\n"
     ]
    }
   ],
   "source": [
    "def sum_s(n):\n",
    "    return 0 if n<0 else n+sum_s(n-2)\n",
    "n=int(input(\"Enter Number for Sum_series: \"))\n",
    "print(f\"Sum of Series is: {sum_s(n)}\")"
   ]
  },
  {
   "cell_type": "markdown",
   "id": "6d55ee7d",
   "metadata": {},
   "source": [
    "Q8) program to calculate the sum of harmonic series upto n terms.<br>\n",
    "Note: The harmonic sum is the sum of reciprocals of the positive integers."
   ]
  },
  {
   "cell_type": "code",
   "execution_count": 49,
   "id": "a42a8bcd",
   "metadata": {},
   "outputs": [
    {
     "name": "stdout",
     "output_type": "stream",
     "text": [
      "Term upto which harmonic series run: 7\n",
      "Sum of Harmonic series: 2.5928571428571425\n"
     ]
    }
   ],
   "source": [
    "def h_sum(n):\n",
    "    return 1 if n<2 else 1/n + h_sum(n-1)\n",
    "n=int(input(\"Term upto which harmonic series run: \"))\n",
    "print(f\"Sum of Harmonic series: {h_sum(n)}\")"
   ]
  },
  {
   "cell_type": "markdown",
   "id": "56da610b",
   "metadata": {},
   "source": [
    "Q9) program to calculate the geometric sum up to 'n' terms.<br>\n",
    "Note: In mathematics, a geometric series is a series with a constant ratio between successive terms."
   ]
  },
  {
   "cell_type": "code",
   "execution_count": 59,
   "id": "01ea43bf",
   "metadata": {},
   "outputs": [
    {
     "name": "stdout",
     "output_type": "stream",
     "text": [
      "Term upto which Geometric series run: 4\n",
      "Sum of Geometric series: 1.9375\n"
     ]
    }
   ],
   "source": [
    "def g_sum(n):\n",
    "    return 1 if n==0 else 1/2**n + g_sum(n-1)\n",
    "n=int(input(\"Term upto which Geometric series run: \"))\n",
    "print(f\"Sum of Geometric series: {g_sum(n)}\")"
   ]
  },
  {
   "cell_type": "markdown",
   "id": "3acd7860",
   "metadata": {},
   "source": [
    "Q10) program to calculate the value of 'a' to the power of 'b' using recursion.\n",
    "Test Data :\n",
    "(power(3,4) -> 81"
   ]
  },
  {
   "cell_type": "code",
   "execution_count": 75,
   "id": "9e1aa332",
   "metadata": {},
   "outputs": [
    {
     "name": "stdout",
     "output_type": "stream",
     "text": [
      "Enter the value of a:3\n",
      "Enter the value of b:2\n",
      "The value of a to the power b : 9\n"
     ]
    }
   ],
   "source": [
    "def power(a,b):\n",
    "    return 1 if b == 0 else 0 if a == 0 else a if b == 1 else a * power(a,b-1)\n",
    "\n",
    "a=int(input(\"Enter the value of a:\"))\n",
    "b=int(input(\"Enter the value of b:\"))\n",
    "print(f\"The value of a to the power b : {power(a,b)}\")"
   ]
  },
  {
   "cell_type": "markdown",
   "id": "6a126e39",
   "metadata": {},
   "source": [
    "Q11) program to find the greatest common divisor (GCD) of two integers using recursion."
   ]
  },
  {
   "cell_type": "code",
   "execution_count": 74,
   "id": "1ddcb665",
   "metadata": {},
   "outputs": [
    {
     "name": "stdout",
     "output_type": "stream",
     "text": [
      "Enter the first number:12\n",
      "Enter the first number:14\n",
      "GCD of 12 and  14 is : 2\n"
     ]
    }
   ],
   "source": [
    "def rgcd(a,b):\n",
    "    low = min(a,b)\n",
    "    high = max(a,b)\n",
    "    return high if low == 0 else 1 if low == 1 else rgcd(low,high%low)\n",
    "a=int(input(\"Enter the first number:\"))\n",
    "b=int(input(\"Enter the first number:\"))\n",
    "print(f\"GCD of {a} and  {b} is : {rgcd(a,b)}\")"
   ]
  },
  {
   "cell_type": "markdown",
   "id": "d4675ac7",
   "metadata": {},
   "source": [
    "# Json"
   ]
  },
  {
   "cell_type": "markdown",
   "id": "37a78d66",
   "metadata": {},
   "source": [
    "Q1) program to convert JSON data to Python object."
   ]
  },
  {
   "cell_type": "code",
   "execution_count": 101,
   "id": "9c7ae042",
   "metadata": {},
   "outputs": [
    {
     "name": "stdout",
     "output_type": "stream",
     "text": [
      "{'quiz': {'sport': {'q1': {'question': 'Which one is correct team name in NBA?', 'options': ['New York Bulls', 'Los Angeles Kings', 'Golden State Warriros', 'Huston Rocket'], 'answer': 'Huston Rocket'}}, 'maths': {'q1': {'question': '5 + 7 = ?', 'options': ['10', '11', '12', '13'], 'answer': '12'}, 'q2': {'question': '12 - 8 = ?', 'options': ['1', '2', '3', '4'], 'answer': '4'}}}}\n",
      "{'sport': {'q1': {'question': 'Which one is correct team name in NBA?', 'options': ['New York Bulls', 'Los Angeles Kings', 'Golden State Warriros', 'Huston Rocket'], 'answer': 'Huston Rocket'}}, 'maths': {'q1': {'question': '5 + 7 = ?', 'options': ['10', '11', '12', '13'], 'answer': '12'}, 'q2': {'question': '12 - 8 = ?', 'options': ['1', '2', '3', '4'], 'answer': '4'}}}\n"
     ]
    }
   ],
   "source": [
    "import json\n",
    "j_data= open(\"K.json\")\n",
    "P_load=json.load(j_data)\n",
    "print(P_load)"
   ]
  },
  {
   "cell_type": "markdown",
   "id": "5c23e624",
   "metadata": {},
   "source": [
    "Q2) program to convert Python object to JSON data."
   ]
  },
  {
   "cell_type": "code",
   "execution_count": 103,
   "id": "413ed3b9",
   "metadata": {},
   "outputs": [
    {
     "name": "stdout",
     "output_type": "stream",
     "text": [
      "Stored Successfully\n"
     ]
    }
   ],
   "source": [
    "import json\n",
    "python_obj = {\n",
    "  \"name\": \"David\",\n",
    "  \"class\":\"I\",\n",
    "  \"age\": 6  \n",
    "}\n",
    "with open(\"L.json\",\"a\") as f:\n",
    "    json.dump(python_obj,f)\n",
    "print(\"Stored Successfully\")\n",
    "\n"
   ]
  }
 ],
 "metadata": {
  "kernelspec": {
   "display_name": "Python 3 (ipykernel)",
   "language": "python",
   "name": "python3"
  },
  "language_info": {
   "codemirror_mode": {
    "name": "ipython",
    "version": 3
   },
   "file_extension": ".py",
   "mimetype": "text/x-python",
   "name": "python",
   "nbconvert_exporter": "python",
   "pygments_lexer": "ipython3",
   "version": "3.9.12"
  }
 },
 "nbformat": 4,
 "nbformat_minor": 5
}
