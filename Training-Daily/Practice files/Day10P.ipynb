{
 "cells": [
  {
   "cell_type": "markdown",
   "id": "d9a1aaa1",
   "metadata": {},
   "source": [
    "# Practice (string)"
   ]
  },
  {
   "cell_type": "markdown",
   "id": "f927b413",
   "metadata": {},
   "source": [
    "Q) Python function to convert a given string to all uppercase if it contains at least 2 uppercase characters in the first 4 characters."
   ]
  },
  {
   "cell_type": "code",
   "execution_count": 4,
   "id": "5b25ebe2",
   "metadata": {},
   "outputs": [
    {
     "name": "stdout",
     "output_type": "stream",
     "text": [
      "Result: PYTHON\n"
     ]
    }
   ],
   "source": [
    "def c_upper(st):\n",
    "   upper = sum(1 for i in st[:4] if i.isupper())\n",
    "   return st.upper() if upper >= 2 else st\n",
    "st=input(\"Enter string: \")\n",
    "print(f\"Result: {c_upper(st)}\") "
   ]
  },
  {
   "cell_type": "markdown",
   "id": "a8272a17",
   "metadata": {},
   "source": [
    "Q) program to sort a string lexicographically.<br>\n",
    "(In mathematics, the lexicographic or lexicographical order (also known as lexical order, or dictionary order) is a generalization of the alphabetical order of the dictionaries to sequences of ordered symbols or,<br> more generally, of elements of a totally ordered set.)"
   ]
  },
  {
   "cell_type": "code",
   "execution_count": 18,
   "id": "fb4cebed",
   "metadata": {},
   "outputs": [
    {
     "name": "stdout",
     "output_type": "stream",
     "text": [
      "['a', 'a', 'B', 'h', 'r', 't']\n"
     ]
    }
   ],
   "source": [
    "st=input(\"Enter String:\")\n",
    "print(sorted(st, key=str.upper))"
   ]
  },
  {
   "cell_type": "markdown",
   "id": "495153af",
   "metadata": {},
   "source": [
    "Q) program to check whether a string starts with specified characters."
   ]
  },
  {
   "cell_type": "code",
   "execution_count": 22,
   "id": "e3d2a558",
   "metadata": {},
   "outputs": [
    {
     "name": "stdout",
     "output_type": "stream",
     "text": [
      "True\n"
     ]
    }
   ],
   "source": [
    "st=input(\"Enter string:\")\n",
    "k=input(\"To find start of string:\")\n",
    "print(st.startswith(k))"
   ]
  },
  {
   "cell_type": "markdown",
   "id": "b9155306",
   "metadata": {},
   "source": [
    "# Practice (File handling)"
   ]
  },
  {
   "cell_type": "markdown",
   "id": "32a55f13",
   "metadata": {},
   "source": [
    "Q) Python program to read an entire text file."
   ]
  },
  {
   "cell_type": "code",
   "execution_count": 27,
   "id": "7407f296",
   "metadata": {},
   "outputs": [
    {
     "name": "stdout",
     "output_type": "stream",
     "text": [
      " The way its meant to be played\n",
      " KoZaK MoD\n",
      " Kerochan\n",
      " SHrey\n",
      " \n"
     ]
    }
   ],
   "source": [
    "f= open(\"demofile.txt\",\"r\")\n",
    "print(f.read())\n",
    "f.close()"
   ]
  },
  {
   "cell_type": "code",
   "execution_count": 29,
   "id": "2ddb3473",
   "metadata": {},
   "outputs": [
    {
     "name": "stdout",
     "output_type": "stream",
     "text": [
      " The way its meant to be played\n",
      " KoZaK MoD\n",
      " Kerochan\n",
      " SHrey\n",
      " \n"
     ]
    }
   ],
   "source": [
    "with open(\"demofile.txt\",\"r\") as f:\n",
    "    print(f.read())\n",
    "    f.close()"
   ]
  },
  {
   "cell_type": "markdown",
   "id": "92dbc159",
   "metadata": {},
   "source": [
    "Q) Python program to read first n lines of a file."
   ]
  },
  {
   "cell_type": "code",
   "execution_count": 56,
   "id": "d30a652f",
   "metadata": {},
   "outputs": [
    {
     "name": "stdout",
     "output_type": "stream",
     "text": [
      "The way its meant to be played\n",
      "KoZaK MoD\n"
     ]
    }
   ],
   "source": [
    "def read_f(file,n):\n",
    "        try:\n",
    "            with open (file,\"r\") as f:\n",
    "                l=[i.strip() for i in f.readlines()[:n]]\n",
    "                print(\"\\n\".join(l))\n",
    "                f.close()\n",
    "        except FileNotFoundError:\n",
    "             print(f\"File {file} Not Found!\")\n",
    "\n",
    "file=input(\"Enter file name:\")\n",
    "n=int(input(\"Number of lines:\"))\n",
    "read_f(file,n)    "
   ]
  },
  {
   "cell_type": "markdown",
   "id": "f725eccf",
   "metadata": {},
   "source": [
    "Q) Python program to append text to a file and display the text."
   ]
  },
  {
   "cell_type": "code",
   "execution_count": 65,
   "id": "05bc4128",
   "metadata": {},
   "outputs": [
    {
     "name": "stdout",
     "output_type": "stream",
     "text": [
      "The way its meant to be played\n",
      "KoZaK MoD\n",
      "Kerochan\n",
      "SHrey\n",
      "Uff \n",
      "Again \n"
     ]
    }
   ],
   "source": [
    "def add_text(file,st):\n",
    "        with open (file,\"a\") as f:\n",
    "            f.write(st + \" \")\n",
    "            f.close()\n",
    "\n",
    "file=input(\"ENter file name:\")\n",
    "st=input(\"Enter text to add in file:\")\n",
    "\n",
    "add_text(file,st)\n",
    "with open(file,\"r\") as f:\n",
    "    print(f.read()) "
   ]
  },
  {
   "cell_type": "markdown",
   "id": "feb6e262",
   "metadata": {},
   "source": [
    "Q) Python program to read last n lines of a file."
   ]
  },
  {
   "cell_type": "code",
   "execution_count": 70,
   "id": "fda97481",
   "metadata": {},
   "outputs": [
    {
     "name": "stdout",
     "output_type": "stream",
     "text": [
      "Uff \n",
      "Again "
     ]
    }
   ],
   "source": [
    "def last_l(file,n):\n",
    "    try:\n",
    "        with open(file,\"r\") as f:\n",
    "            for i in (f.readlines()[-n:]):\n",
    "                print(i,end=\"\")\n",
    "    except FileNotFoundError:\n",
    "        print(f\"{file} not Found!\")\n",
    "\n",
    "file= input(\"Enter the file name:\")\n",
    "n=int(input(\"Enter number of last lines:\"))\n",
    "last_l(file,n)"
   ]
  },
  {
   "cell_type": "markdown",
   "id": "863022eb",
   "metadata": {},
   "source": [
    "Q) Python program to read a file line by line and store it into a list."
   ]
  },
  {
   "cell_type": "code",
   "execution_count": 73,
   "id": "28df5781",
   "metadata": {},
   "outputs": [
    {
     "name": "stdout",
     "output_type": "stream",
     "text": [
      "['The way its meant to be played\\n', 'KoZaK MoD\\n', 'Kerochan\\n', 'SHrey\\n', 'Uff \\n', 'Again ']\n"
     ]
    }
   ],
   "source": [
    "def read_f(file):\n",
    "    try:\n",
    "        with open(file,\"r\") as f:\n",
    "            l=f.readlines()\n",
    "            print(l)\n",
    "    except FileNotFoundError:\n",
    "        print(f\"{file} not found!\")\n",
    "\n",
    "file=input(\"Enter the file name:\")\n",
    "read_f(file)"
   ]
  },
  {
   "cell_type": "markdown",
   "id": "b4311121",
   "metadata": {},
   "source": [
    "Q) python program to find the longest words."
   ]
  },
  {
   "cell_type": "code",
   "execution_count": 82,
   "id": "b90520cf",
   "metadata": {},
   "outputs": [
    {
     "name": "stdout",
     "output_type": "stream",
     "text": [
      "Longest Word: Kerochan\n"
     ]
    }
   ],
   "source": [
    "def long_w(file):\n",
    "    try:\n",
    "        with open(file,\"r\") as f:\n",
    "            w=f.read().split()\n",
    "        return max(w,key=len)\n",
    "    except FileNotFoundError:\n",
    "        print(f\"{file} not found!\")\n",
    "\n",
    "file=input(\"Enter the file name:\")\n",
    "print(f\"Longest Word: {long_w(file)}\")"
   ]
  },
  {
   "cell_type": "markdown",
   "id": "c8439db6",
   "metadata": {},
   "source": [
    "Q) Python program to count the number of lines in a text file."
   ]
  },
  {
   "cell_type": "code",
   "execution_count": 84,
   "id": "26c59fde",
   "metadata": {},
   "outputs": [
    {
     "name": "stdout",
     "output_type": "stream",
     "text": [
      "Number of lines: 6\n"
     ]
    }
   ],
   "source": [
    "def l_count(file):\n",
    "    try:\n",
    "        with open(file,\"r\") as f:\n",
    "            return len(f.readlines())\n",
    "    except FileNotFoundError:\n",
    "        print(f\"{file} not found!\")\n",
    "\n",
    "file=input(\"Enter the file name:\")\n",
    "print(f\"Number of lines: {l_count(file)}\")"
   ]
  },
  {
   "cell_type": "markdown",
   "id": "c05d42a7",
   "metadata": {},
   "source": [
    "Q) Python program to count the frequency of words in a file."
   ]
  },
  {
   "cell_type": "code",
   "execution_count": 91,
   "id": "ce0586f7",
   "metadata": {},
   "outputs": [
    {
     "name": "stdout",
     "output_type": "stream",
     "text": [
      "Number of words in the file :\n",
      "Counter({'The': 1, 'way': 1, 'its': 1, 'meant': 1, 'to': 1, 'be': 1, 'played': 1, 'KoZaK': 1, 'MoD': 1, 'Kerochan': 1, 'SHrey': 1, 'Uff': 1, 'Again': 1})\n"
     ]
    }
   ],
   "source": [
    "from collections import Counter\n",
    "def word_count(file):\n",
    "        try:\n",
    "            with open(file,\"r\") as f:\n",
    "                    return Counter(f.read().split())\n",
    "        except FileNotFoundError:\n",
    "               print(f\"{file} not found!\")\n",
    "file=input(\"Enter the name of file:\")\n",
    "print(f\"Number of words in the file :\\n{word_count(file)}\")"
   ]
  },
  {
   "cell_type": "markdown",
   "id": "af0a14b0",
   "metadata": {},
   "source": [
    "Q) Python program to get the file size of a plain file."
   ]
  },
  {
   "cell_type": "code",
   "execution_count": 102,
   "id": "03dd6963",
   "metadata": {},
   "outputs": [
    {
     "name": "stdout",
     "output_type": "stream",
     "text": [
      "File size: 10353 Btyes\n"
     ]
    }
   ],
   "source": [
    "import os\n",
    "def size(file):\n",
    "        return os.stat(file).st_size\n",
    "        \n",
    "file=input(\"Enter file name:\")\n",
    "print(f\"File size: {size(file)} Btyes\")"
   ]
  },
  {
   "cell_type": "markdown",
   "id": "6aa18a99",
   "metadata": {},
   "source": [
    "Q) Python program to write a list to a file."
   ]
  },
  {
   "cell_type": "code",
   "execution_count": 109,
   "id": "ce64d308",
   "metadata": {},
   "outputs": [
    {
     "name": "stdout",
     "output_type": "stream",
     "text": [
      "List Inserted Successfully:\n",
      "The way its meant to be played\n",
      "KoZaK MoD\n",
      "Kerochan\n",
      "SHrey\n",
      "Uff \n",
      "Again Black Blue Red Green Drink Lemon Water \n"
     ]
    }
   ],
   "source": [
    "def insert(file,l):\n",
    "    with open(file,\"a\") as f:\n",
    "        for i in l:\n",
    "            f.write(i + \" \") \n",
    "        print(\"List Inserted Successfully:\")\n",
    "\n",
    "file=input(\"Enter the file name:\")\n",
    "l=input(\"Enter words for list space Separated:\").split(\" \")\n",
    "insert(file,l)\n",
    "\n",
    "with open(file,\"r\") as f:\n",
    "    print(f.read())"
   ]
  },
  {
   "cell_type": "markdown",
   "id": "fd964202",
   "metadata": {},
   "source": [
    "Q) Python program to copy the contents of a file to another file "
   ]
  },
  {
   "cell_type": "code",
   "execution_count": 114,
   "id": "ebe84933",
   "metadata": {},
   "outputs": [
    {
     "name": "stdout",
     "output_type": "stream",
     "text": [
      "The Contents of file f.txt has been copied to t.txt\n"
     ]
    }
   ],
   "source": [
    "from shutil import copyfile\n",
    "\n",
    "to=input(\"Enter desgination file name: \")\n",
    "fromm=input(\"Enter source file name:\")\n",
    "print(f\"The Contents of file {fromm} has been copied to {copyfile(fromm,to)}\")"
   ]
  },
  {
   "cell_type": "code",
   "execution_count": 116,
   "id": "9b73f8c2",
   "metadata": {},
   "outputs": [
    {
     "name": "stdout",
     "output_type": "stream",
     "text": [
      "The Contents of file f.txt has been copied to t.txt\n"
     ]
    }
   ],
   "source": [
    "def cop(fromm,to):\n",
    "    with open(fromm,'r') as firstfile, open(to,'w') as secondfile: \n",
    "        for line in firstfile: \n",
    "                secondfile.write(line)\n",
    "\n",
    "to=input(\"Enter desgination file name: \")\n",
    "fromm=input(\"Enter source file name:\")\n",
    "cop(fromm,to)\n",
    "print(f\"The Contents of file {fromm} has been copied to {to}\")"
   ]
  },
  {
   "cell_type": "markdown",
   "id": "ce1a882c",
   "metadata": {},
   "source": [
    "Q) Python program to combine each line from first file with the corresponding line in second file."
   ]
  },
  {
   "cell_type": "code",
   "execution_count": 126,
   "id": "0d641484",
   "metadata": {},
   "outputs": [
    {
     "name": "stdout",
     "output_type": "stream",
     "text": [
      "The way its meant to be played\n",
      "The way its meant to be played\n",
      "\n",
      "KoZaK MoD\n",
      "KoZaK MoD\n",
      "\n",
      "Kerochan\n",
      "Kerochan\n",
      "\n",
      "SHrey\n",
      "SHrey\n",
      "\n",
      "Uff \n",
      "Uff \n",
      "\n",
      "Again Black Blue Red Green Drink Lemon Water \n",
      "Again Black Blue Red Green Drink Lemon Water \n",
      "\n"
     ]
    }
   ],
   "source": [
    "def combine(file1,file2):\n",
    "    with open(file1) as f1,open(file2) as f2:\n",
    "        for i,j in zip(f1,f2):\n",
    "            print(i+j)\n",
    "\n",
    "file1=input(\"Name of file 1:\")\n",
    "file2=input(\"Name of file 2:\")\n",
    "combine(file1,file2)"
   ]
  },
  {
   "cell_type": "code",
   "execution_count": 127,
   "id": "bc5118cb",
   "metadata": {},
   "outputs": [
    {
     "name": "stdout",
     "output_type": "stream",
     "text": [
      "The way its meant to be played The way its meant to be played\n",
      "\n",
      "KoZaK MoD KoZaK MoD\n",
      "\n",
      "Kerochan Kerochan\n",
      "\n",
      "SHrey SHrey\n",
      "\n",
      "Uff Uff \n",
      "\n",
      "Again Black Blue Red Green Drink Lemon Water Again Black Blue Red Green Drink Lemon Water \n",
      "\n"
     ]
    }
   ],
   "source": [
    "def combine(file1,file2):\n",
    "    with open(file1) as f1 ,open(file2) as f2:\n",
    "        xl,yl=f1.readlines(),f2.readlines()\n",
    "        for i in range (len (xl)):\n",
    "            print(yl[i].strip() + \" \" + xl[i]) \n",
    "\n",
    "file1=input(\"Name of file 1:\")\n",
    "file2=input(\"Name of file 2:\")\n",
    "combine(file1,file2)"
   ]
  },
  {
   "cell_type": "markdown",
   "id": "4e23a131",
   "metadata": {},
   "source": [
    "Q) Python program to read a random line from a file."
   ]
  },
  {
   "cell_type": "code",
   "execution_count": 158,
   "id": "874acdb8",
   "metadata": {},
   "outputs": [
    {
     "name": "stdout",
     "output_type": "stream",
     "text": [
      "Random line: The way its meant to be played\n"
     ]
    }
   ],
   "source": [
    "import random\n",
    "\n",
    "def ran(file):\n",
    "    return random.choice(open(file).read().splitlines())\n",
    "\n",
    "file=input(\"Enter the file name:\")\n",
    "print(f\"Random line: {ran(file)}\")"
   ]
  },
  {
   "cell_type": "markdown",
   "id": "8ae0f7f9",
   "metadata": {},
   "source": [
    "Q) Python program to assess if a file is closed or not."
   ]
  },
  {
   "cell_type": "code",
   "execution_count": 165,
   "id": "92726aa9",
   "metadata": {},
   "outputs": [
    {
     "name": "stdout",
     "output_type": "stream",
     "text": [
      "Is the file closed?: False\n",
      "Is the file closed now?: True\n"
     ]
    }
   ],
   "source": [
    "def check(file):\n",
    "    with open(file) as f:\n",
    "        return f.closed\n",
    "\n",
    "file=input(\"Enter file name:\")\n",
    "print(f\"Is the file closed?: {check(file)}\")\n",
    "f.close()\n",
    "print(f\"Is the file closed now?: {f.closed}\")"
   ]
  },
  {
   "cell_type": "markdown",
   "id": "4cd117b3",
   "metadata": {},
   "source": [
    "Q) Python program to remove newline characters from a file."
   ]
  },
  {
   "cell_type": "code",
   "execution_count": 173,
   "id": "09314425",
   "metadata": {},
   "outputs": [
    {
     "name": "stdout",
     "output_type": "stream",
     "text": [
      "['The way its meant to be played', 'KoZaK MoD', 'Kerochan', 'SHrey', 'Uff ', 'Again Black Blue Red Green Drink Lemon Water ']\n"
     ]
    }
   ],
   "source": [
    "def r_new(file):\n",
    "    with open(file) as f:\n",
    "        return [i.rstrip(\"\\n\") for i in f]\n",
    "\n",
    "file=input(\"Enter the file name:\")\n",
    "print(r_new(file))"
   ]
  },
  {
   "cell_type": "markdown",
   "id": "e5edc14a",
   "metadata": {},
   "source": [
    "Q) Write a Python program that takes a text file as input and returns the number of words of a given text file.<br>\n",
    "Note: Some words can be separated by a comma with no space."
   ]
  },
  {
   "cell_type": "code",
   "execution_count": 181,
   "id": "a75fd088",
   "metadata": {},
   "outputs": [
    {
     "name": "stdout",
     "output_type": "stream",
     "text": [
      "Total words: 138\n"
     ]
    }
   ],
   "source": [
    "def c_words(file):\n",
    "    with open(file) as f:\n",
    "        return len(f.read().replace(\",\",\" \").replace(\"  \",\" \").split(\" \"))\n",
    "\n",
    "file=input(\"Enter the file name:\")\n",
    "print(f\"Total words: {c_words(file)}\")"
   ]
  },
  {
   "cell_type": "markdown",
   "id": "c0b0e8b8",
   "metadata": {},
   "source": [
    "Q) Python program to extract characters from various text files and puts them into a list."
   ]
  },
  {
   "cell_type": "code",
   "execution_count": 193,
   "id": "6def3db8",
   "metadata": {},
   "outputs": [
    {
     "name": "stdout",
     "output_type": "stream",
     "text": [
      "Elements are: ['Pellentesque sodales, velit at sollicitudin rutrum, felis ligula facilisis nunc, a ornare augue ligula ut est. Nullam pharetra vestibulum arcu at elementum. Cras eleifend, nisi eget viverra laoreet, dolor ligula condimentum ipsum, non egestas quam odio nec lorem. Pellentesque iaculis in leo at elementum. Phasellus cursus efficitur ex, id maximus neque hendrerit ut. Nam maximus sapien eget ex suscipit tincidunt. Fusce nisl purus, scelerisque at nisi quis, porttitor tempor arcu. Suspendisse lacinia molestie velit, sed blandit libero consequat ac. Pellentesque ut neque dapibus, semper nibh sit amet, ultricies est. Suspendisse in mauris dapibus, dapibus dolor in, volutpat leo. Vestibulum ante ipsum primis in faucibus orci luctus et ultrices posuere cubilia curae; In eget laoreet est. Nullam et feugiat eros. In luctus fringilla nisi, sed consectetur orci fermentum ut. Fusce in mauris et sapien convallis semper a a risus.\\n', 'Pellentesque sodales, velit at sollicitudin rutrum, felis ligula facilisis nunc, a ornare augue ligula ut est. Nullam pharetra vestibulum arcu at elementum. Cras eleifend, nisi eget viverra laoreet, dolor ligula condimentum ipsum, non egestas quam odio nec lorem. Pellentesque iaculis in leo at elementum. Phasellus cursus efficitur ex, id maximus neque hendrerit ut. Nam maximus sapien eget ex suscipit tincidunt. Fusce nisl purus, scelerisque at nisi quis, porttitor tempor arcu. Suspendisse lacinia molestie velit, sed blandit libero consequat ac. Pellentesque ut neque dapibus, semper nibh sit amet, ultricies est. Suspendisse in mauris dapibus, dapibus dolor in, volutpat leo. Vestibulum ante ipsum primis in faucibus orci luctus et ultrices posuere cubilia curae; In eget laoreet est. Nullam et feugiat eros. In luctus fringilla nisi, sed consectetur orci fermentum ut. Fusce in mauris et sapien convallis semper a a risus.\\n', 'Pellentesque sodales, velit at sollicitudin rutrum, felis ligula facilisis nunc, a ornare augue ligula ut est. Nullam pharetra vestibulum arcu at elementum. Cras eleifend, nisi eget viverra laoreet, dolor ligula condimentum ipsum, non egestas quam odio nec lorem. Pellentesque iaculis in leo at elementum. Phasellus cursus efficitur ex, id maximus neque hendrerit ut. Nam maximus sapien eget ex suscipit tincidunt. Fusce nisl purus, scelerisque at nisi quis, porttitor tempor arcu. Suspendisse lacinia molestie velit, sed blandit libero consequat ac. Pellentesque ut neque dapibus, semper nibh sit amet, ultricies est. Suspendisse in mauris dapibus, dapibus dolor in, volutpat leo. Vestibulum ante ipsum primis in faucibus orci luctus et ultrices posuere cubilia curae; In eget laoreet est. Nullam et feugiat eros. In luctus fringilla nisi, sed consectetur orci fermentum ut. Fusce in mauris et sapien convallis semper a a risus.\\n', 'Pellentesque sodales, velit at sollicitudin rutrum, felis ligula facilisis nunc, a ornare augue ligula ut est. Nullam pharetra vestibulum arcu at elementum. Cras eleifend, nisi eget viverra laoreet, dolor ligula condimentum ipsum, non egestas quam odio nec lorem. Pellentesque iaculis in leo at elementum. Phasellus cursus efficitur ex, id maximus neque hendrerit ut. Nam maximus sapien eget ex suscipit tincidunt. Fusce nisl purus, scelerisque at nisi quis, porttitor tempor arcu. Suspendisse lacinia molestie velit, sed blandit libero consequat ac. Pellentesque ut neque dapibus, semper nibh sit amet, ultricies est. Suspendisse in mauris dapibus, dapibus dolor in, volutpat leo. Vestibulum ante ipsum primis in faucibus orci luctus et ultrices posuere cubilia curae; In eget laoreet est. Nullam et feugiat eros. In luctus fringilla nisi, sed consectetur orci fermentum ut. Fusce in mauris et sapien convallis semper a a risus.\\n', 'Pellentesque sodales, velit at sollicitudin rutrum, felis ligula facilisis nunc, a ornare augue ligula ut est. Nullam pharetra vestibulum arcu at elementum. Cras eleifend, nisi eget viverra laoreet, dolor ligula condimentum ipsum, non egestas quam odio nec lorem. Pellentesque iaculis in leo at elementum. Phasellus cursus efficitur ex, id maximus neque hendrerit ut. Nam maximus sapien eget ex suscipit tincidunt. Fusce nisl purus, scelerisque at nisi quis, porttitor tempor arcu. Suspendisse lacinia molestie velit, sed blandit libero consequat ac. Pellentesque ut neque dapibus, semper nibh sit amet, ultricies est. Suspendisse in mauris dapibus, dapibus dolor in, volutpat leo. Vestibulum ante ipsum primis in faucibus orci luctus et ultrices posuere cubilia curae; In eget laoreet est. Nullam et feugiat eros. In luctus fringilla nisi, sed consectetur orci fermentum ut. Fusce in mauris et sapien convallis semper a a risus.\\n', 'Pellentesque sodales, velit at sollicitudin rutrum, felis ligula facilisis nunc, a ornare augue ligula ut est. Nullam pharetra vestibulum arcu at elementum. Cras eleifend, nisi eget viverra laoreet, dolor ligula condimentum ipsum, non egestas quam odio nec lorem. Pellentesque iaculis in leo at elementum. Phasellus cursus efficitur ex, id maximus neque hendrerit ut. Nam maximus sapien eget ex suscipit tincidunt. Fusce nisl purus, scelerisque at nisi quis, porttitor tempor arcu. Suspendisse lacinia molestie velit, sed blandit libero consequat ac. Pellentesque ut neque dapibus, semper nibh sit amet, ultricies est. Suspendisse in mauris dapibus, dapibus dolor in, volutpat leo. Vestibulum ante ipsum primis in faucibus orci luctus et ultrices posuere cubilia curae; In eget laoreet est. Nullam et feugiat eros. In luctus fringilla nisi, sed consectetur orci fermentum ut. Fusce in mauris et sapien convallis semper a a risus.\\n', 'Pellentesque sodales, velit at sollicitudin rutrum, felis ligula facilisis nunc, a ornare augue ligula ut est. Nullam pharetra vestibulum arcu at elementum. Cras eleifend, nisi eget viverra laoreet, dolor ligula condimentum ipsum, non egestas quam odio nec lorem. Pellentesque iaculis in leo at elementum. Phasellus cursus efficitur ex, id maximus neque hendrerit ut. Nam maximus sapien eget ex suscipit tincidunt. Fusce nisl purus, scelerisque at nisi quis, porttitor tempor arcu. Suspendisse lacinia molestie velit, sed blandit libero consequat ac. Pellentesque ut neque dapibus, semper nibh sit amet, ultricies est. Suspendisse in mauris dapibus, dapibus dolor in, volutpat leo. Vestibulum ante ipsum primis in faucibus orci luctus et ultrices posuere cubilia curae; In eget laoreet est. Nullam et feugiat eros. In luctus fringilla nisi, sed consectetur orci fermentum ut. Fusce in mauris et sapien convallis semper a a risus.\\n', 'Pellentesque sodales, velit at sollicitudin rutrum, felis ligula facilisis nunc, a ornare augue ligula ut est. Nullam pharetra vestibulum arcu at elementum. Cras eleifend, nisi eget viverra laoreet, dolor ligula condimentum ipsum, non egestas quam odio nec lorem. Pellentesque iaculis in leo at elementum. Phasellus cursus efficitur ex, id maximus neque hendrerit ut. Nam maximus sapien eget ex suscipit tincidunt. Fusce nisl purus, scelerisque at nisi quis, porttitor tempor arcu. Suspendisse lacinia molestie velit, sed blandit libero consequat ac. Pellentesque ut neque dapibus, semper nibh sit amet, ultricies est. Suspendisse in mauris dapibus, dapibus dolor in, volutpat leo. Vestibulum ante ipsum primis in faucibus orci luctus et ultrices posuere cubilia curae; In eget laoreet est. Nullam et feugiat eros. In luctus fringilla nisi, sed consectetur orci fermentum ut. Fusce in mauris et sapien convallis semper a a risus.\\n', 'Pellentesque sodales, velit at sollicitudin rutrum, felis ligula facilisis nunc, a ornare augue ligula ut est. Nullam pharetra vestibulum arcu at elementum. Cras eleifend, nisi eget viverra laoreet, dolor ligula condimentum ipsum, non egestas quam odio nec lorem. Pellentesque iaculis in leo at elementum. Phasellus cursus efficitur ex, id maximus neque hendrerit ut. Nam maximus sapien eget ex suscipit tincidunt. Fusce nisl purus, scelerisque at nisi quis, porttitor tempor arcu. Suspendisse lacinia molestie velit, sed blandit libero consequat ac. Pellentesque ut neque dapibus, semper nibh sit amet, ultricies est. Suspendisse in mauris dapibus, dapibus dolor in, volutpat leo. Vestibulum ante ipsum primis in faucibus orci luctus et ultrices posuere cubilia curae; In eget laoreet est. Nullam et feugiat eros. In luctus fringilla nisi, sed consectetur orci fermentum ut. Fusce in mauris et sapien convallis semper a a risus.\\n', 'Pellentesque sodales, velit at sollicitudin rutrum, felis ligula facilisis nunc, a ornare augue ligula ut est. Nullam pharetra vestibulum arcu at elementum. Cras eleifend, nisi eget viverra laoreet, dolor ligula condimentum ipsum, non egestas quam odio nec lorem. Pellentesque iaculis in leo at elementum. Phasellus cursus efficitur ex, id maximus neque hendrerit ut. Nam maximus sapien eget ex suscipit tincidunt. Fusce nisl purus, scelerisque at nisi quis, porttitor tempor arcu. Suspendisse lacinia molestie velit, sed blandit libero consequat ac. Pellentesque ut neque dapibus, semper nibh sit amet, ultricies est. Suspendisse in mauris dapibus, dapibus dolor in, volutpat leo. Vestibulum ante ipsum primis in faucibus orci luctus et ultrices posuere cubilia curae; In eget laoreet est. Nullam et feugiat eros. In luctus fringilla nisi, sed consectetur orci fermentum ut. Fusce in mauris et sapien convallis semper a a risus.\\n', 'Pellentesque sodales, velit at sollicitudin rutrum, felis ligula facilisis nunc, a ornare augue ligula ut est. Nullam pharetra vestibulum arcu at elementum. Cras eleifend, nisi eget viverra laoreet, dolor ligula condimentum ipsum, non egestas quam odio nec lorem. Pellentesque iaculis in leo at elementum. Phasellus cursus efficitur ex, id maximus neque hendrerit ut. Nam maximus sapien eget ex suscipit tincidunt. Fusce nisl purus, scelerisque at nisi quis, porttitor tempor arcu. Suspendisse lacinia molestie velit, sed blandit libero consequat ac. Pellentesque ut neque dapibus, semper nibh sit amet, ultricies est. Suspendisse in mauris dapibus, dapibus dolor in, volutpat leo. Vestibulum ante ipsum primis in faucibus orci luctus et ultrices posuere cubilia curae; In eget laoreet est. Nullam et feugiat eros. In luctus fringilla nisi, sed consectetur orci fermentum ut. Fusce in mauris et sapien convallis semper a a risus.\\n', 'Pellentesque sodales, velit at sollicitudin rutrum, felis ligula facilisis nunc, a ornare augue ligula ut est. Nullam pharetra vestibulum arcu at elementum. Cras eleifend, nisi eget viverra laoreet, dolor ligula condimentum ipsum, non egestas quam odio nec lorem. Pellentesque iaculis in leo at elementum. Phasellus cursus efficitur ex, id maximus neque hendrerit ut. Nam maximus sapien eget ex suscipit tincidunt. Fusce nisl purus, scelerisque at nisi quis, porttitor tempor arcu. Suspendisse lacinia molestie velit, sed blandit libero consequat ac. Pellentesque ut neque dapibus, semper nibh sit amet, ultricies est. Suspendisse in mauris dapibus, dapibus dolor in, volutpat leo. Vestibulum ante ipsum primis in faucibus orci luctus et ultrices posuere cubilia curae; In eget laoreet est. Nullam et feugiat eros. In luctus fringilla nisi, sed consectetur orci fermentum ut. Fusce in mauris et sapien convallis semper a a risus.\\n', 'Pellentesque sodales, velit at sollicitudin rutrum, felis ligula facilisis nunc, a ornare augue ligula ut est. Nullam pharetra vestibulum arcu at elementum. Cras eleifend, nisi eget viverra laoreet, dolor ligula condimentum ipsum, non egestas quam odio nec lorem. Pellentesque iaculis in leo at elementum. Phasellus cursus efficitur ex, id maximus neque hendrerit ut. Nam maximus sapien eget ex suscipit tincidunt. Fusce nisl purus, scelerisque at nisi quis, porttitor tempor arcu. Suspendisse lacinia molestie velit, sed blandit libero consequat ac. Pellentesque ut neque dapibus, semper nibh sit amet, ultricies est. Suspendisse in mauris dapibus, dapibus dolor in, volutpat leo. Vestibulum ante ipsum primis in faucibus orci luctus et ultrices posuere cubilia curae; In eget laoreet est. Nullam et feugiat eros. In luctus fringilla nisi, sed consectetur orci fermentum ut. Fusce in mauris et sapien convallis semper a a risus.\\n', 'Pellentesque sodales, velit at sollicitudin rutrum, felis ligula facilisis nunc, a ornare augue ligula ut est. Nullam pharetra vestibulum arcu at elementum. Cras eleifend, nisi eget viverra laoreet, dolor ligula condimentum ipsum, non egestas quam odio nec lorem. Pellentesque iaculis in leo at elementum. Phasellus cursus efficitur ex, id maximus neque hendrerit ut. Nam maximus sapien eget ex suscipit tincidunt. Fusce nisl purus, scelerisque at nisi quis, porttitor tempor arcu. Suspendisse lacinia molestie velit, sed blandit libero consequat ac. Pellentesque ut neque dapibus, semper nibh sit amet, ultricies est. Suspendisse in mauris dapibus, dapibus dolor in, volutpat leo. Vestibulum ante ipsum primis in faucibus orci luctus et ultrices posuere cubilia curae; In eget laoreet est. Nullam et feugiat eros. In luctus fringilla nisi, sed consectetur orci fermentum ut. Fusce in mauris et sapien convallis semper a a risus.\\n', 'Pellentesque sodales, velit at sollicitudin rutrum, felis ligula facilisis nunc, a ornare augue ligula ut est. Nullam pharetra vestibulum arcu at elementum. Cras eleifend, nisi eget viverra laoreet, dolor ligula condimentum ipsum, non egestas quam odio nec lorem. Pellentesque iaculis in leo at elementum. Phasellus cursus efficitur ex, id maximus neque hendrerit ut. Nam maximus sapien eget ex suscipit tincidunt. Fusce nisl purus, scelerisque at nisi quis, porttitor tempor arcu. Suspendisse lacinia molestie velit, sed blandit libero consequat ac. Pellentesque ut neque dapibus, semper nibh sit amet, ultricies est. Suspendisse in mauris dapibus, dapibus dolor in, volutpat leo. Vestibulum ante ipsum primis in faucibus orci luctus et ultrices posuere cubilia curae; In eget laoreet est. Nullam et feugiat eros. In luctus fringilla nisi, sed consectetur orci fermentum ut. Fusce in mauris et sapien convallis semper a a risus.\\n', 'Pellentesque sodales, velit at sollicitudin rutrum, felis ligula facilisis nunc, a ornare augue ligula ut est. Nullam pharetra vestibulum arcu at elementum. Cras eleifend, nisi eget viverra laoreet, dolor ligula condimentum ipsum, non egestas quam odio nec lorem. Pellentesque iaculis in leo at elementum. Phasellus cursus efficitur ex, id maximus neque hendrerit ut. Nam maximus sapien eget ex suscipit tincidunt. Fusce nisl purus, scelerisque at nisi quis, porttitor tempor arcu. Suspendisse lacinia molestie velit, sed blandit libero consequat ac. Pellentesque ut neque dapibus, semper nibh sit amet, ultricies est. Suspendisse in mauris dapibus, dapibus dolor in, volutpat leo. Vestibulum ante ipsum primis in faucibus orci luctus et ultrices posuere cubilia curae; In eget laoreet est. Nullam et feugiat eros. In luctus fringilla nisi, sed consectetur orci fermentum ut. Fusce in mauris et sapien convallis semper a a risus.\\n', 'Pellentesque sodales, velit at sollicitudin rutrum, felis ligula facilisis nunc, a ornare augue ligula ut est. Nullam pharetra vestibulum arcu at elementum. Cras eleifend, nisi eget viverra laoreet, dolor ligula condimentum ipsum, non egestas quam odio nec lorem. Pellentesque iaculis in leo at elementum. Phasellus cursus efficitur ex, id maximus neque hendrerit ut. Nam maximus sapien eget ex suscipit tincidunt. Fusce nisl purus, scelerisque at nisi quis, porttitor tempor arcu. Suspendisse lacinia molestie velit, sed blandit libero consequat ac. Pellentesque ut neque dapibus, semper nibh sit amet, ultricies est. Suspendisse in mauris dapibus, dapibus dolor in, volutpat leo. Vestibulum ante ipsum primis in faucibus orci luctus et ultrices posuere cubilia curae; In eget laoreet est. Nullam et feugiat eros. In luctus fringilla nisi, sed consectetur orci fermentum ut. Fusce in mauris et sapien convallis semper a a risus.\\n', 'Pellentesque sodales, velit at sollicitudin rutrum, felis ligula facilisis nunc, a ornare augue ligula ut est. Nullam pharetra vestibulum arcu at elementum. Cras eleifend, nisi eget viverra laoreet, dolor ligula condimentum ipsum, non egestas quam odio nec lorem. Pellentesque iaculis in leo at elementum. Phasellus cursus efficitur ex, id maximus neque hendrerit ut. Nam maximus sapien eget ex suscipit tincidunt. Fusce nisl purus, scelerisque at nisi quis, porttitor tempor arcu. Suspendisse lacinia molestie velit, sed blandit libero consequat ac. Pellentesque ut neque dapibus, semper nibh sit amet, ultricies est. Suspendisse in mauris dapibus, dapibus dolor in, volutpat leo. Vestibulum ante ipsum primis in faucibus orci luctus et ultrices posuere cubilia curae; In eget laoreet est. Nullam et feugiat eros. In luctus fringilla nisi, sed consectetur orci fermentum ut. Fusce in mauris et sapien convallis semper a a risus.\\n', 'Pellentesque sodales, velit at sollicitudin rutrum, felis ligula facilisis nunc, a ornare augue ligula ut est. Nullam pharetra vestibulum arcu at elementum. Cras eleifend, nisi eget viverra laoreet, dolor ligula condimentum ipsum, non egestas quam odio nec lorem. Pellentesque iaculis in leo at elementum. Phasellus cursus efficitur ex, id maximus neque hendrerit ut. Nam maximus sapien eget ex suscipit tincidunt. Fusce nisl purus, scelerisque at nisi quis, porttitor tempor arcu. Suspendisse lacinia molestie velit, sed blandit libero consequat ac. Pellentesque ut neque dapibus, semper nibh sit amet, ultricies est. Suspendisse in mauris dapibus, dapibus dolor in, volutpat leo. Vestibulum ante ipsum primis in faucibus orci luctus et ultrices posuere cubilia curae; In eget laoreet est. Nullam et feugiat eros. In luctus fringilla nisi, sed consectetur orci fermentum ut. Fusce in mauris et sapien convallis semper a a risus.\\n', 'Pellentesque sodales, velit at sollicitudin rutrum, felis ligula facilisis nunc, a ornare augue ligula ut est. Nullam pharetra vestibulum arcu at elementum. Cras eleifend, nisi eget viverra laoreet, dolor ligula condimentum ipsum, non egestas quam odio nec lorem. Pellentesque iaculis in leo at elementum. Phasellus cursus efficitur ex, id maximus neque hendrerit ut. Nam maximus sapien eget ex suscipit tincidunt. Fusce nisl purus, scelerisque at nisi quis, porttitor tempor arcu. Suspendisse lacinia molestie velit, sed blandit libero consequat ac. Pellentesque ut neque dapibus, semper nibh sit amet, ultricies est. Suspendisse in mauris dapibus, dapibus dolor in, volutpat leo. Vestibulum ante ipsum primis in faucibus orci luctus et ultrices posuere cubilia curae; In eget laoreet est. Nullam et feugiat eros. In luctus fringilla nisi, sed consectetur orci fermentum ut. Fusce in mauris et sapien convallis semper a a risus.\\n']\n",
      "20\n"
     ]
    }
   ],
   "source": [
    "import glob\n",
    "l=[]\n",
    "for i in glob.glob(\"*.*\"):\n",
    "    with open(file) as f:\n",
    "        l.append(f.read())\n",
    "print(f\"Elements are: {l}\")"
   ]
  },
  {
   "cell_type": "markdown",
   "id": "baa65750",
   "metadata": {},
   "source": [
    "Q) Python program to generate 26 text files named A.txt, B.txt, and so on up to Z.txt."
   ]
  },
  {
   "cell_type": "code",
   "execution_count": 1,
   "id": "e0e009ef",
   "metadata": {},
   "outputs": [],
   "source": [
    "import string\n",
    "import os\n",
    "def generate_files():\n",
    "   letters = string.ascii_uppercase\n",
    "   [open(letter + '.txt', 'w').close() for letter in letters]\n",
    "generate_files()"
   ]
  },
  {
   "cell_type": "code",
   "execution_count": 2,
   "id": "18ce0773",
   "metadata": {},
   "outputs": [],
   "source": [
    "# TO delete \n",
    "import string\n",
    "import os\n",
    "def delete_files():\n",
    "   letters = string.ascii_uppercase\n",
    "   [os.remove(letter + '.txt') for letter in letters if os.path.exists(letter + '.txt')]\n",
    "delete_files()"
   ]
  },
  {
   "cell_type": "markdown",
   "id": "45ee3027",
   "metadata": {},
   "source": [
    "Q) Python program to create a file where all letters of English alphabet are listed by specified number of letters on each line."
   ]
  },
  {
   "cell_type": "code",
   "execution_count": 4,
   "id": "3cea1055",
   "metadata": {},
   "outputs": [],
   "source": [
    "import string\n",
    "def letters_file_line(n):\n",
    "   with open(\"words.txt\", \"w\") as f:\n",
    "       alphabet = string.ascii_uppercase\n",
    "       letters = [alphabet[i:i + n] + \"\\n\" for i in range(0, len(alphabet), n)]\n",
    "       f.writelines(letters)\n",
    "letters_file_line(3)"
   ]
  },
  {
   "cell_type": "markdown",
   "id": "ff4864f4",
   "metadata": {},
   "source": [
    "# Practice (String Cont.)"
   ]
  },
  {
   "cell_type": "markdown",
   "id": "b5f49e38",
   "metadata": {},
   "source": [
    "Q) Write a Python program to create a Caesar encryption.<br>\n",
    "Note : In cryptography, a Caesar cipher, also known as Caesar's cipher, the shift cipher, Caesar's code or Caesar shift, is one of the simplest and<br>\n",
    "most widely known encryption techniques. It is a type of substitution cipher in which each letter in the plaintext is replaced by a letter some fixed number of positions down the alphabet.<br>\n",
    "For example, with a left shift of 3, D would be replaced by A, E would become B, and so on. The method is named after Julius Caesar, who used it in his private correspondence."
   ]
  },
  {
   "cell_type": "code",
   "execution_count": 19,
   "id": "06d18474",
   "metadata": {},
   "outputs": [
    {
     "name": "stdout",
     "output_type": "stream",
     "text": [
      "Encrtypted text: Ymj bfd nyx rjfsy yt gj uqfdjI\n"
     ]
    }
   ],
   "source": [
    "def cipher(text,shift):\n",
    "    en_text=\"\"\n",
    "    alpha=\"abcdefghijklmnopqrstuvwxyz\"\n",
    "    alpha_len=len(alpha)\n",
    "    for i in text:\n",
    "        if i.isalpha():\n",
    "            if i.isupper():\n",
    "                i_index=(alpha.index(i.lower()) + shift) % alpha_len\n",
    "                en_i= alpha[i_index].upper()\n",
    "            else:\n",
    "                i_index=(alpha.index(i) + shift) % alpha_len\n",
    "                en_i=alpha[i_index]\n",
    "        else:\n",
    "            en_i= i\n",
    "        en_text += en_i\n",
    "    return en_text\n",
    "\n",
    "text=input(\"Enter text to encrypt:\")\n",
    "shift=int(input(\"Enter the shift Value:\"))\n",
    "print(f\"Encrtypted text: {cipher(text,shift)}\")"
   ]
  },
  {
   "cell_type": "markdown",
   "id": "2ce71b03",
   "metadata": {},
   "source": [
    "Q) Write a Python program to get all strobogrammatic numbers that are of length n.<br>\n",
    "A strobogrammatic number is a number whose numeral is rotationally symmetric, so that it appears the same when rotated 180 degrees.<br>\n",
    "In other words, the numeral looks the same right-side up and upside down (e.g., 69, 96, 1001).<br>\n",
    "\n",
    "For example,<br>\n",
    "Given n = 2, return [\"11\", \"69\", \"88\", \"96\"].<br>\n",
    "Given n = 3, return ['818', '111', '916', '619', '808', '101', '906', '609', '888', '181', '986', '689']"
   ]
  },
  {
   "cell_type": "code",
   "execution_count": 30,
   "id": "8a50a28e",
   "metadata": {},
   "outputs": [
    {
     "name": "stdout",
     "output_type": "stream",
     "text": [
      "Strobogrammatic numbers of length 3 are: ['000', '110', '690', '880', '960', '001', '111', '691', '881', '961', '008', '118', '698', '888', '968']\n"
     ]
    }
   ],
   "source": [
    "def find_s(n):\n",
    "    if n == 0:\n",
    "        return [\"\"]\n",
    "    if n == 1:\n",
    "        return [\"0\",\"1\",\"8\"]\n",
    "    pairs= [('0', '0'), ('1', '1'), ('6', '9'), ('8', '8'), ('9', '6')]\n",
    "    return [''.join(j) + i for i in find_s(n - 2) for j in pairs if n > 2 or j[0] != '0']\n",
    "\n",
    "num=int(input(\"Enter the lenth of strobogrammatic:\"))\n",
    "print(f\"Strobogrammatic numbers of length {num} are: {find_s(num)}\")"
   ]
  }
 ],
 "metadata": {
  "kernelspec": {
   "display_name": "Python 3 (ipykernel)",
   "language": "python",
   "name": "python3"
  },
  "language_info": {
   "codemirror_mode": {
    "name": "ipython",
    "version": 3
   },
   "file_extension": ".py",
   "mimetype": "text/x-python",
   "name": "python",
   "nbconvert_exporter": "python",
   "pygments_lexer": "ipython3",
   "version": "3.10.13"
  }
 },
 "nbformat": 4,
 "nbformat_minor": 5
}
