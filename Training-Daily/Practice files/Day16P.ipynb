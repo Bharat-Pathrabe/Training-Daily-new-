{
 "cells": [
  {
   "cell_type": "markdown",
   "metadata": {},
   "source": [
    "# Practice"
   ]
  },
  {
   "cell_type": "markdown",
   "metadata": {},
   "source": [
    "### Random data generation"
   ]
  },
  {
   "cell_type": "code",
   "execution_count": 31,
   "metadata": {},
   "outputs": [
    {
     "data": {
      "text/plain": [
       "[200, 60, 160, 40]"
      ]
     },
     "execution_count": 31,
     "metadata": {},
     "output_type": "execute_result"
    }
   ],
   "source": [
    "# Method should I use to get 4 elements from the following list randomly\n",
    "import random # ramdom function for generating random numbers and performing random selections.\n",
    "samplelist = [20, 40, 60, 80, 100, 120, 140, 160, 180, 200]\n",
    "random.sample(samplelist, 4)\n",
    "#random.sample(samplelist, 4): This line selects a random sample of 4 elements from the samplelist. Here's what it does:\n",
    "#random.sample(): This is a function from the random module. It takes two arguments: a population (in this case, samplelist) and a sample size (in this case, 4).\n",
    "#samplelist: This is the list from which the sample will be taken.\n",
    "#4: This is the number of elements to be selected from the samplelist."
   ]
  },
  {
   "cell_type": "code",
   "execution_count": 8,
   "metadata": {},
   "outputs": [
    {
     "name": "stdout",
     "output_type": "stream",
     "text": [
      "Current state of the random number generator: (3, (1431849493, 30121505, 2501052711, 2499936702, 1399843612, 3191935640, 2379822304, 300973446, 1835092890, 2219684996, 369934342, 1282527012, 495666035, 2031653222, 3511221745, 1436889523, 4024675484, 3541111548, 990631413, 1074265383, 659709517, 1738633488, 3652300753, 2882830183, 1561190602, 3108097986, 2744035678, 2568807906, 439714297, 3296248365, 888900317, 168666004, 1690661061, 145535954, 499772524, 1318409536, 652749194, 3021834605, 1303258101, 239544926, 980516100, 3563540888, 3604641258, 4087419475, 3790475879, 1835600106, 3478168430, 427488355, 1290368802, 1500206036, 2453674987, 639541526, 2961802361, 1949172872, 1338019874, 1718312094, 2434542542, 2753034277, 3213004216, 1221550800, 4222150751, 3046792302, 1817047085, 2322961168, 1672837803, 1879151884, 896370902, 958333935, 1165522118, 1203695681, 3788806729, 1285454958, 2004286819, 1323051846, 2532753654, 3068572918, 375643646, 4258778545, 1655419541, 2496723083, 498823243, 2632399807, 105805915, 272936321, 1897734608, 2812494983, 1722438121, 1556185533, 2485566123, 2965516211, 221536992, 2196746106, 1491810536, 244685385, 203450002, 1598861348, 924654645, 3878108812, 1127457395, 1146587280, 4004738299, 1818019340, 4294253353, 3810316525, 265359211, 4124761691, 3055269861, 1584702627, 1829763406, 362317621, 2086702095, 367624538, 989487311, 3710436992, 3355242051, 480596663, 3211862971, 2552038691, 2008969733, 319027395, 3655612078, 4094411183, 2234331135, 1784167108, 2666484119, 1080794172, 2565644868, 2702064271, 294596179, 4284594149, 1874164456, 1799735135, 3578727370, 492929879, 1214829558, 845476125, 3981765253, 3996978395, 429269281, 3065248839, 3633775684, 4131969127, 1885634771, 2232802235, 646621577, 3138189932, 2562614361, 3603813171, 2763983131, 4255141958, 3263892679, 2904347684, 1396946809, 909605641, 1840448005, 1093623450, 792860717, 2658822039, 739190667, 3043194943, 1400285176, 2812991669, 792513701, 1403002519, 3647591481, 3362249677, 848335799, 1538672247, 58459106, 2159292237, 2128871815, 3019266334, 3500682861, 3134582903, 715946881, 4202839116, 526693490, 3278134821, 3790672645, 2107506260, 303253614, 3120323305, 3969712823, 543258102, 3900752129, 846897128, 906823605, 2205330108, 3143162106, 1547508473, 2923767841, 1394340509, 2216572304, 2000949561, 209844096, 529720890, 3466407943, 1200570390, 1039854889, 2771662063, 3526158633, 2030795134, 1681524466, 4191555908, 1752054043, 3655775175, 3407610913, 2444422604, 2666292351, 3178749056, 1581559052, 2142308393, 430759891, 2822873451, 1761955867, 1771945661, 1726617368, 81528729, 2055458660, 1997794703, 3721610267, 888824110, 2414151641, 3534741296, 3955990519, 4089448106, 1401700062, 2136131608, 1646827283, 3258572999, 3429752628, 2065364716, 3859252410, 1075855455, 4244632685, 2811501829, 2014707211, 1864080291, 1750640749, 774273, 2421605290, 806310536, 1818218705, 3174918087, 1971429321, 3874359156, 978974889, 1035376410, 1675324689, 2629930764, 2887353422, 3817402977, 1243955890, 2327014130, 321328965, 333183335, 4044112515, 3809684730, 516769965, 519996098, 1313460432, 2144809154, 483849787, 3692060129, 2698768475, 3669451778, 2438568838, 1267679483, 3965629469, 2002454926, 410091462, 3485605818, 271652803, 4064578783, 324997828, 2592797695, 79127756, 2071980386, 3076516435, 2292403125, 1854015690, 457490446, 977144933, 3364863699, 2718804696, 3581753958, 2888704965, 3343875837, 4031483278, 3762911429, 4065899505, 3595115701, 1926600701, 875926662, 401177194, 2264896979, 3601515222, 184965768, 1530972360, 958385673, 3078319721, 4136713687, 2417009689, 770492645, 3117399309, 2738285124, 2390627285, 1058827611, 3887316102, 1862202690, 2603362779, 1968957541, 1844558084, 683222328, 1184781090, 1966321860, 329301642, 504335171, 3473228014, 1707179029, 1811808943, 3095848559, 5345017, 298005956, 1007944330, 3507755236, 4066978117, 574350112, 4051244712, 1328130705, 1983894586, 189638829, 1582740744, 3849348231, 1020856211, 3792938063, 1746202544, 4219508871, 3364643093, 1445880143, 3520638243, 520209556, 2638385623, 3466510254, 4105956726, 241738483, 568408267, 882813115, 923573416, 382301180, 797862599, 191026057, 3797383433, 2808111861, 2134676812, 3281008630, 2094912824, 1740580887, 1523844244, 2829535275, 139640186, 2406176868, 1471645442, 119931739, 200260751, 1488238854, 2344160458, 3592811488, 3281439846, 167713891, 2384489912, 996320501, 223065681, 1516512146, 4080119296, 2869228386, 685492867, 3585184645, 644779085, 4267236344, 710919807, 2110366214, 3798975705, 1102883745, 3223585667, 2046914647, 1197486324, 2084796720, 3762677645, 2045320243, 1633020298, 2588002695, 1918720621, 74741437, 3398751334, 2040463778, 2547317430, 3183327794, 2107231544, 3272784796, 3392448504, 3019788459, 3279933429, 898681920, 4109170642, 3869406971, 2696199213, 3244416514, 2882170755, 1399746423, 395025003, 2449772655, 4268210975, 2237498885, 3430474816, 4024227337, 3469681581, 412585349, 281214388, 1807836551, 3002448611, 3602129936, 68194311, 2164279338, 2723400041, 3607399776, 2242272141, 1824854327, 2599733908, 4154967874, 2429951662, 1437570677, 2264394980, 1871021335, 3406070972, 991489034, 1424767571, 2304666779, 457983466, 3863737055, 1692520909, 3659455018, 3655060438, 3993354618, 2113285410, 1773918893, 601965387, 2960774503, 1690890656, 440517945, 2104946129, 630676962, 2482879635, 1889365759, 1611748531, 324480339, 3747421038, 920692354, 4142203326, 4030824365, 2939376294, 735808918, 820295619, 70479342, 1225781440, 4001194676, 1078415224, 3154842247, 299970585, 1462292960, 2244904349, 1488486424, 3822399489, 2661136830, 4239549318, 3668917152, 2161612342, 589654425, 2904998983, 3745356386, 2792511443, 2181117008, 2250212549, 3646203334, 2705978965, 2169416186, 959314489, 1661522246, 3392910816, 2967833434, 1903145909, 3125005625, 75120794, 3459590220, 3561616399, 1045403260, 1127817431, 2190397161, 3275444144, 3821666442, 2557086080, 2075137834, 3773884456, 2289680354, 1944048173, 3730178571, 461991060, 712590851, 2187145763, 1953460707, 2760036001, 3670494373, 187915152, 2337764153, 4018366894, 758473694, 1145069978, 125550521, 2665374282, 2415514246, 808549840, 3678924309, 2524620591, 1807750253, 1893216311, 3482375565, 831735380, 3224199109, 3125055122, 2290023298, 3727878299, 885081648, 2198012074, 1316627733, 3544115214, 3798337338, 3411350197, 2306158667, 2452711906, 2831955840, 1663106842, 1946830180, 1802004945, 4070151651, 4095895822, 1269214127, 1129840870, 4033837862, 3839778950, 2633735537, 3972544006, 3687984051, 2729375544, 3770907516, 548907505, 1891235272, 2255782792, 1185528809, 4108572491, 263523345, 228044305, 2430388431, 1660911765, 2270100042, 2671295022, 2726432547, 4011066854, 3917802963, 465251300, 3391343253, 1088212311, 979987544, 4259896300, 1792668110, 1085107662, 2668540932, 2676907641, 969053332, 411300176, 3245529140, 3256797879, 2283608227, 2126889593, 1339265782, 183608414, 1275794303, 791762770, 4137178688, 82219045, 775808957, 3606919718, 3590297539, 4269598090, 2220056212, 2680815947, 1255392171, 3084154795, 3046933391, 393925520, 2062579615, 1282220163, 52335437, 531563121, 1410032937, 57570484, 2580228524, 3439027793, 2188344044, 3443706881, 2582456455, 1489707255, 1645063428, 468586602, 4069230730, 3268673048, 820973146, 1245454776, 657437466, 566503561, 2119339777, 311699086, 2392179622, 1724629696, 1685090147, 7), None)\n"
     ]
    }
   ],
   "source": [
    "# Method should i use to capture and change the current state of the random generator\n",
    "import random\n",
    "\n",
    "# state = random.getstate(): This line captures the current state of the random number generator using the random.getstate() function \n",
    "# and assigns it to the variable state.\n",
    "state = random.getstate() \n",
    "\n",
    "# Print the captured state\n",
    "print(\"Current state of the random number generator:\", state)\n",
    "\n",
    "# random.setstate(state): This line sets the state of the random number generator\n",
    "# to the previously captured state, effectively restoring the generator to its previous state.\n",
    "random.setstate(state)"
   ]
  },
  {
   "cell_type": "code",
   "execution_count": 37,
   "metadata": {},
   "outputs": [
    {
     "data": {
      "text/plain": [
       "[400, 200, 500]"
      ]
     },
     "execution_count": 37,
     "metadata": {},
     "output_type": "execute_result"
    }
   ],
   "source": [
    "# Correct function to get 3 elements from the list randomly in such a way that each element of the list has a different probability of being selected.\n",
    "import random\n",
    "\n",
    "numberList = [100, 200, 300, 400, 500]\n",
    "random.choices(numberList, weights=(10, 5, 15, 20, 50), k=3)\n",
    "#random.choices(): This function is used to make random selections from a population. It takes several parameters:\n",
    "#numberList: The population from which to make selections.\n",
    "#weights=(10, 5, 15, 20, 50): A sequence of weights corresponding to the elements in the population. These weights determine the probability of selecting each element. \n",
    "#In this case, the weights are (10, 5, 15, 20, 50), meaning that the probability of selecting 100 is 10/100, 200 is 5/100, 300 is 15/100, 400 is 20/100, and 500 is 50/100.\n",
    "#k=3: The number of elements to select. In this case, it selects 3 elements randomly from the population according to the specified weights."
   ]
  },
  {
   "cell_type": "code",
   "execution_count": 14,
   "metadata": {},
   "outputs": [
    {
     "name": "stdout",
     "output_type": "stream",
     "text": [
      "Random UUID: c16eb0ed-ce15-41a1-8916-d4b165a35678\n"
     ]
    }
   ],
   "source": [
    "import uuid\n",
    "\n",
    "# Generate a random UUID\n",
    "random_uuid = uuid.uuid4()\n",
    "#uuid.uuid4(): This function generates a random UUID using a cryptographically secure random number generator. It returns a UUID object representing the generated UUID.\n",
    "#The uuid4() function generates UUIDs based on random or pseudo-random numbers. These UUIDs are unique across both space and time,\n",
    "#making them suitable for use as identifiers in distributed systems or for other purposes where uniqueness is required.\n",
    "#The random_uuid variable is assigned the generated UUID object.\n",
    "\n",
    "print(\"Random UUID:\", random_uuid)\n",
    "#print(\"Random UUID:\", random_uuid): This line prints out the generated random UUID along with a descriptive message.\n",
    "#The random_uuid object is converted to a string representation and concatenated with the message \"Random UUID:\". The result is then printed to the console."
   ]
  },
  {
   "cell_type": "code",
   "execution_count": 15,
   "metadata": {},
   "outputs": [
    {
     "data": {
      "text/plain": [
       "32.59087600349177"
      ]
     },
     "execution_count": 15,
     "metadata": {},
     "output_type": "execute_result"
    }
   ],
   "source": [
    "#To generate a random float number between 20.5 to 50.5, which function of a random module I need to use\n",
    "import random\n",
    "\n",
    "random.uniform(20.5, 50.5)\n",
    "#random.uniform(20.5, 50.5): This line calls the random.uniform() function with two arguments: 20.5 and 50.5.\n",
    "#random.uniform() generates a random floating-point number x such that 20.5 <= x < 50.5. The range is inclusive of 20.5 but exclusive of 50.5.\n",
    "#The function returns the randomly generated floating-point number within the specified range."
   ]
  },
  {
   "cell_type": "code",
   "execution_count": 38,
   "metadata": {},
   "outputs": [
    {
     "data": {
      "text/plain": [
       "192"
      ]
     },
     "execution_count": 38,
     "metadata": {},
     "output_type": "execute_result"
    }
   ],
   "source": [
    "#Choose the correct function from the following list to get the random integer between 99 to 200, which is divisible by 3.\n",
    "import random\n",
    "\n",
    "random.randrange(99, 200, 3)\n",
    "#random.randrange(99, 200, 3): This line calls the random.randrange() function with three arguments: 99, 200, and 3.\n",
    "#random.randrange() generates a random integer x such that 99 <= x < 200, and x is a multiple of 3.\n",
    "#The range [99, 200) indicates that the generated integer can be greater than or equal to 99 and less than 200, \n",
    "#and the step size of 3 specifies that only multiples of 3 within this range will be generated.\n",
    "#The function returns the randomly generated integer within the specified range and step size."
   ]
  },
  {
   "cell_type": "code",
   "execution_count": 19,
   "metadata": {},
   "outputs": [
    {
     "name": "stdout",
     "output_type": "stream",
     "text": [
      "Random secure integer: 24\n",
      "Random secure integer: 62\n"
     ]
    }
   ],
   "source": [
    "# To Generate a random secure integer number, select all the correct options.\n",
    "import random\n",
    "import secrets # secrets provides functions for generating cryptographically secure random numbers.\n",
    "\n",
    "# Using random.SystemRandom().randint()\n",
    "secure_random_int = random.SystemRandom().randint(0, 100)\n",
    "#This section demonstrates the generation of a random secure integer using random.SystemRandom().randint().\n",
    "#random.SystemRandom() creates an instance of the SystemRandom class from the random module. This class uses the system's cryptographic random number generator.\n",
    "#.randint(0, 100) generates a random integer between 0 and 100 (inclusive).\n",
    "#The generated integer is stored in the variable secure_random_int.\n",
    "print(\"Random secure integer:\", secure_random_int)\n",
    "\n",
    "# Using secrets.randbelow()\n",
    "secure_random_int = secrets.randbelow(100)\n",
    "#This section demonstrates the generation of a random secure integer using secrets.randbelow().\n",
    "#secrets.randbelow(100) generates a random integer less than 100 using a cryptographically secure random number generator.\n",
    "#The generated integer is stored in the variable secure_random_int.\n",
    "print(\"Random secure integer:\", secure_random_int)"
   ]
  },
  {
   "cell_type": "code",
   "execution_count": 40,
   "metadata": {},
   "outputs": [
    {
     "data": {
      "text/plain": [
       "'4e69298737c86b1abac23c1664c8b87d1c09d7617158a2533cb73ee84a62882b'"
      ]
     },
     "execution_count": 40,
     "metadata": {},
     "output_type": "execute_result"
    }
   ],
   "source": [
    "# I want to generate a random secure hex token of 32 bytes to reset the password, which method should I use\n",
    "import random\n",
    "import secrets\n",
    "\n",
    "secrets.token_hex(32) # This line attempts to generate a random hex token of 32 bytes using the secrets.token_hex() "
   ]
  },
  {
   "cell_type": "code",
   "execution_count": 29,
   "metadata": {},
   "outputs": [
    {
     "data": {
      "text/plain": [
       "'i'"
      ]
     },
     "execution_count": 29,
     "metadata": {},
     "output_type": "execute_result"
    }
   ],
   "source": [
    "#str = “PYnative”. Choose the correct function to pick a single character from a given string randomly.\n",
    "import random\n",
    "\n",
    "str = \"PYnative\"\n",
    "random.choice(str)\n",
    "#random.choice(str): This line uses the random.choice() function to select a random character from the string str.\n",
    "#random.choice() takes a sequence (such as a string, list, or tuple) as its argument and returns a randomly chosen element from that sequence.\n",
    "#In this case, str is the sequence from which the random character will be selected.\n",
    "#The function returns a single randomly chosen character from the string."
   ]
  },
  {
   "cell_type": "markdown",
   "metadata": {},
   "source": [
    "#### Tip and Trick"
   ]
  },
  {
   "cell_type": "code",
   "execution_count": 52,
   "metadata": {},
   "outputs": [
    {
     "name": "stdout",
     "output_type": "stream",
     "text": [
      "Total time required to execute code is=  6.961822509765625e-05\n"
     ]
    }
   ],
   "source": [
    "# Tip and Trick 1: How to measure the time elapsed to execute your code in Python\n",
    "\n",
    "import time  # Import the time module to measure execution time\n",
    "\n",
    "startTime = time.time()  # Get the current time as the starting time\n",
    "\n",
    "# Write your code or function calls here\n",
    "\n",
    "# For example:\n",
    "# function1()\n",
    "# function2()\n",
    "\n",
    "endTime = time.time()  # Get the current time as the ending time\n",
    "totalTime = endTime - startTime  # Calculate the total time taken by subtracting the start time from the end time\n",
    "\n",
    "print(\"Total time required to execute code is= \", totalTime)  # Print the total time taken to execute the code"
   ]
  },
  {
   "cell_type": "code",
   "execution_count": 54,
   "metadata": {},
   "outputs": [
    {
     "name": "stdout",
     "output_type": "stream",
     "text": [
      "['Kozak', 'Emma', 'Smith']\n"
     ]
    }
   ],
   "source": [
    "# Tip and Trick 2: Get the difference between the two Lists\n",
    "\n",
    "# Define two lists\n",
    "list1 = ['Scott', 'Eric', 'Kelly', 'Emma', 'Smith']\n",
    "list2 = ['Scott', 'Eric', 'Kelly', 'Kozak']\n",
    "\n",
    "# Convert lists to sets to perform set operations\n",
    "set1 = set(list1)\n",
    "set2 = set(list2)\n",
    "\n",
    "# Compute the symmetric difference between set1 and set2\n",
    "# The symmetric difference of two sets is the set of elements that are in either of the sets, but not in their intersection\n",
    "# In other words, it returns elements that are unique to each set\n",
    "list3 = list(set1.symmetric_difference(set2))\n",
    "\n",
    "# Print the list containing elements that are unique to either list1 or list2\n",
    "print(list3)"
   ]
  },
  {
   "cell_type": "code",
   "execution_count": 56,
   "metadata": {},
   "outputs": [
    {
     "name": "stdout",
     "output_type": "stream",
     "text": [
      "size of list =  104\n",
      "size of name =  58\n"
     ]
    }
   ],
   "source": [
    "# Tip and Trick 3: Calculate memory is being used by an object in Python\n",
    "\n",
    "import sys  # Import the sys module to access system-related information\n",
    "\n",
    "# Define a list\n",
    "list1 = ['Scott', 'Eric', 'Kelly', 'Emma', 'Smith']\n",
    "\n",
    "# Print the size of the list object in memory using sys.getsizeof()\n",
    "print(\"size of list = \", sys.getsizeof(list1))\n",
    "\n",
    "# Define a string\n",
    "name = 'Kozak Mod'\n",
    "\n",
    "# Print the size of the string object in memory using sys.getsizeof()\n",
    "print(\"size of name = \", sys.getsizeof(name))\n",
    "\n",
    "#The sys.getsizeof() function returns the size of the object in bytes.\n",
    "#In this code:\n",
    "#sys.getsizeof(list1) returns the size of the list1 object in memory.\n",
    "#sys.getsizeof(name) returns the size of the name object (string) in memory.\n",
    "#This code snippet can be useful for understanding the memory footprint of different objects in Python. \n",
    "#It's important to note that the reported size may include additional overhead and may not precisely reflect the memory usage of the object's contents."
   ]
  },
  {
   "cell_type": "code",
   "execution_count": 57,
   "metadata": {},
   "outputs": [
    {
     "name": "stdout",
     "output_type": "stream",
     "text": [
      "Original=  [20, 22, 24, 26, 28, 28, 20, 30, 24]\n",
      "After removing duplicate=  [20, 22, 24, 26, 28, 30]\n"
     ]
    }
   ],
   "source": [
    "# Tip and Trick 4: Removing duplicates items from a list\n",
    "\n",
    "# Define a list of numbers with duplicates\n",
    "listNumbers = [20, 22, 24, 26, 28, 28, 20, 30, 24]\n",
    "\n",
    "# Print the original list\n",
    "print(\"Original= \", listNumbers)\n",
    "\n",
    "# Convert the list to a set to remove duplicates (sets only contain unique elements)\n",
    "# Convert it back to a list to retain the original list structure\n",
    "listNumbers = list(set(listNumbers))\n",
    "\n",
    "# Print the list after removing duplicates\n",
    "print(\"After removing duplicate= \", listNumbers)"
   ]
  },
  {
   "cell_type": "code",
   "execution_count": null,
   "metadata": {},
   "outputs": [],
   "source": [
    "# Tip and Trick 5: Find if all elements in a list are identical\n",
    "\n",
    "# Define a list where all elements are the same\n",
    "listOne = [20, 20, 20, 20]\n",
    "\n",
    "# Check if all elements are duplicates by comparing the count of the first element with the length of the list\n",
    "# If the count of the first element is equal to the length of the list, it means all elements are duplicates\n",
    "print(\"All elements are duplicates in listOne:\", listOne.count(listOne[0]) == len(listOne))\n",
    "\n",
    "# Define a list where not all elements are the same\n",
    "listTwo = [20, 20, 20, 50]\n",
    "\n",
    "# Check if all elements are duplicates in the same way\n",
    "print(\"All elements are duplicates in listTwo:\", listTwo.count(listTwo[0]) == len(listTwo))"
   ]
  },
  {
   "cell_type": "code",
   "execution_count": null,
   "metadata": {},
   "outputs": [],
   "source": [
    "# Tip and Trick 6: How to efficiently compare two unordered lists\n",
    "\n",
    "from collections import Counter  # Import the Counter class from the collections module\n",
    "\n",
    "# Define two lists\n",
    "one = [33, 22, 11, 44, 55]\n",
    "two = [22, 11, 44, 55, 33]\n",
    "\n",
    "# Check if the two lists have the same elements (ignoring order) using Counter\n",
    "# Counter creates a dictionary-like object with elements as keys and their counts as values\n",
    "# Comparing the Counters checks if the two lists have the same elements with the same counts\n",
    "print(\"Are the two lists equal (regardless of order)?\", Counter(one) == Counter(two))"
   ]
  },
  {
   "cell_type": "code",
   "execution_count": 58,
   "metadata": {},
   "outputs": [
    {
     "name": "stdout",
     "output_type": "stream",
     "text": [
      "Are all elements in listOne unique? True\n",
      "Are all elements in listTwo unique? False\n"
     ]
    }
   ],
   "source": [
    "# Tip and Trick 7: How to check if all elements in a list are unique\n",
    "\n",
    "def isUnique(item):\n",
    "    tempSet = set()  # Create an empty set to store unique elements encountered\n",
    "    # The expression inside any() checks if any element in the list is already in the set or not\n",
    "    # If an element is already in the set, or if it's added to the set (tempSet.add(i)), any() returns True\n",
    "    # Otherwise, it returns False\n",
    "    return not any(i in tempSet or tempSet.add(i) for i in item)\n",
    "\n",
    "# Test with listOne\n",
    "listOne = [123, 345, 456, 23, 567]\n",
    "print(\"Are all elements in listOne unique?\", isUnique(listOne))\n",
    "\n",
    "# Test with listTwo\n",
    "listTwo = [123, 345, 567, 23, 567]\n",
    "print(\"Are all elements in listTwo unique?\", isUnique(listTwo))"
   ]
  },
  {
   "cell_type": "code",
   "execution_count": 62,
   "metadata": {},
   "outputs": [
    {
     "name": "stdout",
     "output_type": "stream",
     "text": [
      "Byte to string is pynative\n"
     ]
    }
   ],
   "source": [
    "# Tip and Trick 8: Convert Byte to String\n",
    "\n",
    "byteVar = b\"pynative\"  # Define a byte string\n",
    "decoded_str = byteVar.decode(\"utf-8\")  # Decode the byte string using UTF-8 encoding and convert it to a regular string\n",
    "print(\"Byte to string is\", decoded_str)  # Print the resulting string"
   ]
  },
  {
   "cell_type": "code",
   "execution_count": 64,
   "metadata": {},
   "outputs": [
    {
     "name": "stdout",
     "output_type": "stream",
     "text": [
      "Using enumerate\n",
      "Index [ 0 ] Value 123\n",
      "Index [ 1 ] Value 345\n",
      "Index [ 2 ] Value 456\n",
      "Index [ 3 ] Value 23\n"
     ]
    }
   ],
   "source": [
    "#Tip and Trick 9: Use enumerate\n",
    "\n",
    "listOne = [123, 345, 456, 23]  # Define a list\n",
    "\n",
    "print(\"Using enumerate\")\n",
    "# Iterate over the list with the enumerate function\n",
    "# enumerate() returns a tuple containing the index and the corresponding element of the list\n",
    "for index, element in enumerate(listOne): \n",
    "    # Print the index and the corresponding element\n",
    "    print(\"Index [\", index,\"]\", \"Value\", element)"
   ]
  },
  {
   "cell_type": "code",
   "execution_count": 66,
   "metadata": {},
   "outputs": [
    {
     "name": "stdout",
     "output_type": "stream",
     "text": [
      "{1: 'Scott', 2: 'Eric', 3: 'Kelly', 4: 'Emma', 5: 'Kozak'}\n"
     ]
    }
   ],
   "source": [
    "# Tip and Trick 10: Merge two dictionaries in a single expression\n",
    "\n",
    "currentEmployee = {1: 'Scott', 2: \"Eric\", 3:\"Kelly\"}  # Define the currentEmployee dictionary\n",
    "formerEmployee = {2: 'Eric', 4: \"Emma\", 5: \"Kozak\"}  # Define the formerEmployee dictionary\n",
    "\n",
    "# Merge the two dictionaries using dictionary unpacking (**)\n",
    "# This syntax merges the key-value pairs of both dictionaries into a new dictionary\n",
    "allEmployee = {**currentEmployee, **formerEmployee}\n",
    "\n",
    "print(allEmployee)  # Print the merged dictionary"
   ]
  },
  {
   "cell_type": "code",
   "execution_count": 67,
   "metadata": {},
   "outputs": [
    {
     "name": "stdout",
     "output_type": "stream",
     "text": [
      "{54: 'Hard Disk', 65: 'Laptop', 76: 'RAM'}\n"
     ]
    }
   ],
   "source": [
    "# Tip and Trick 11: Convert two lists into a dictionary\n",
    "\n",
    "ItemId = [54, 65, 76]  # List containing item IDs\n",
    "names = [\"Hard Disk\", \"Laptop\", \"RAM\"]  # List containing item names\n",
    "\n",
    "# Use the zip() function to pair elements from ItemId and names into tuples, then convert it to a dictionary\n",
    "itemDictionary = dict(zip(ItemId, names))\n",
    "\n",
    "print(itemDictionary)  # Print the resulting dictionary"
   ]
  },
  {
   "cell_type": "code",
   "execution_count": 68,
   "metadata": {},
   "outputs": [
    {
     "name": "stdout",
     "output_type": "stream",
     "text": [
      "Hex to int: 4062\n",
      "String to int: 34\n"
     ]
    }
   ],
   "source": [
    "# Tip and Trick 12: Convert hex string, String to int\n",
    "\n",
    "hexNumber = \"0xfde\"  # Hexadecimal representation of a number\n",
    "stringNumber = \"34\"  # String representation of a number\n",
    "\n",
    "# Convert hexadecimal string to integer using int() function with base 0\n",
    "# The base argument of 0 automatically detects the base from the prefix ('0x' indicates hexadecimal)\n",
    "print(\"Hex to int:\", int(hexNumber, 0))\n",
    "\n",
    "# Convert string representation of a number to integer using int() function with base 0\n",
    "# The base argument of 0 automatically detects the base from the content of the string\n",
    "print(\"String to int:\", int(stringNumber, 0))"
   ]
  },
  {
   "cell_type": "code",
   "execution_count": 69,
   "metadata": {},
   "outputs": [
    {
     "name": "stdout",
     "output_type": "stream",
     "text": [
      "88.23\n"
     ]
    }
   ],
   "source": [
    "# Tip and Trick 13: Format a decimal to always show 2 decimal places\n",
    "\n",
    "number = 88.2345  # Define a floating-point number\n",
    "\n",
    "# Use the format() method to format the number with two decimal places\n",
    "# {0:.2f} is a format specifier that formats the first argument (number) as a floating-point number with two decimal places\n",
    "formatted_number = '{0:.2f}'.format(number)\n",
    "\n",
    "print(formatted_number)  # Print the formatted number"
   ]
  },
  {
   "cell_type": "code",
   "execution_count": 71,
   "metadata": {},
   "outputs": [
    {
     "name": "stdout",
     "output_type": "stream",
     "text": [
      "Product: 200 Division: 2.0\n"
     ]
    }
   ],
   "source": [
    "# Tip and Trick 14: Return multiple values from a function\n",
    "\n",
    "def multiplication_Division(num1, num2):\n",
    "    # Define a function that takes two numbers as input\n",
    "    # Returns their product and division as a tuple\n",
    "    return num1 * num2, num2 / num1\n",
    "\n",
    "# Call the function with arguments 10 and 20\n",
    "# Unpack the returned tuple into variables product and division\n",
    "product, division = multiplication_Division(10, 20)\n",
    "\n",
    "# Print the results\n",
    "print(\"Product:\", product, \"Division:\", division)"
   ]
  },
  {
   "cell_type": "code",
   "execution_count": 72,
   "metadata": {},
   "outputs": [
    {
     "name": "stdout",
     "output_type": "stream",
     "text": [
      "6 exists in column 1\n"
     ]
    }
   ],
   "source": [
    "# Tip and Trick 15: The efficient way to check if a value exists in a NumPy array\n",
    "\n",
    "import numpy\n",
    "\n",
    "arraySample = numpy.array([[1, 2], [3, 4], [4, 6], [7, 8]])\n",
    "\n",
    "col_num = 1  # Specify the column number to check\n",
    "value = 6  # Specify the value to check for\n",
    "\n",
    "# Check if the value exists in the specified column of the array\n",
    "if value in arraySample[:, col_num]:\n",
    "    print(value, \"exists in column\", col_num)\n",
    "else:\n",
    "    print(value, \"does not exist in column\", col_num)"
   ]
  },
  {
   "cell_type": "code",
   "execution_count": 73,
   "metadata": {},
   "outputs": [
    {
     "name": "stdout",
     "output_type": "stream",
     "text": [
      "[0.0, 0.1, 0.2, 0.3, 0.4, 0.5, 0.6, 0.7, 0.8, 0.9, 1.0]\n"
     ]
    }
   ],
   "source": [
    "# Tip and Trick 16: range for float numbers\n",
    "\n",
    "def float_range(start, stop, step):\n",
    "    while start < stop:\n",
    "        yield round(start, 10)  # Round to avoid floating-point precision issues\n",
    "        start += step\n",
    "\n",
    "start = 0.0\n",
    "stop = 1.0\n",
    "step = 0.1\n",
    "\n",
    "float_range = list(float_range(start, stop, step))\n",
    "print(float_range)\n"
   ]
  },
  {
   "cell_type": "code",
   "execution_count": 79,
   "metadata": {},
   "outputs": [
    {
     "name": "stdout",
     "output_type": "stream",
     "text": [
      "[[5, 6, 7], [2, 3, 4], [7, 8, 9]]\n"
     ]
    }
   ],
   "source": [
    "list1 = [1, -2, 3]\n",
    "list2 = [4, 5, 6]\n",
    "\n",
    "result = [[i + j for i in list2] for j in list1]\n",
    "print(result)"
   ]
  },
  {
   "cell_type": "code",
   "execution_count": null,
   "metadata": {},
   "outputs": [],
   "source": []
  },
  {
   "cell_type": "code",
   "execution_count": null,
   "metadata": {},
   "outputs": [],
   "source": []
  },
  {
   "cell_type": "code",
   "execution_count": null,
   "metadata": {},
   "outputs": [],
   "source": []
  },
  {
   "cell_type": "code",
   "execution_count": null,
   "metadata": {},
   "outputs": [],
   "source": []
  },
  {
   "cell_type": "code",
   "execution_count": null,
   "metadata": {},
   "outputs": [],
   "source": []
  }
 ],
 "metadata": {
  "kernelspec": {
   "display_name": "Python 3",
   "language": "python",
   "name": "python3"
  },
  "language_info": {
   "codemirror_mode": {
    "name": "ipython",
    "version": 3
   },
   "file_extension": ".py",
   "mimetype": "text/x-python",
   "name": "python",
   "nbconvert_exporter": "python",
   "pygments_lexer": "ipython3",
   "version": "3.10.13"
  }
 },
 "nbformat": 4,
 "nbformat_minor": 2
}
