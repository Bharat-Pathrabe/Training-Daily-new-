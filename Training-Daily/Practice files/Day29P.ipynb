{
 "cells": [
  {
   "cell_type": "markdown",
   "id": "630bc03c",
   "metadata": {},
   "source": [
    "# SCipy"
   ]
  },
  {
   "cell_type": "markdown",
   "id": "1f4fadf7",
   "metadata": {},
   "source": [
    "SciPy is a scientific computation library that uses NumPy underneath.\n",
    "\n",
    "SciPy stands for Scientific Python."
   ]
  },
  {
   "cell_type": "code",
   "execution_count": 2,
   "id": "458b2bd9",
   "metadata": {},
   "outputs": [
    {
     "name": "stdout",
     "output_type": "stream",
     "text": [
      "1.67492749804e-27\n"
     ]
    }
   ],
   "source": [
    "from scipy import constants\n",
    "\n",
    "print(constants.neutron_mass)"
   ]
  },
  {
   "cell_type": "code",
   "execution_count": 1,
   "id": "f5fb0792",
   "metadata": {},
   "outputs": [
    {
     "name": "stdout",
     "output_type": "stream",
     "text": [
      "1.13.0\n"
     ]
    }
   ],
   "source": [
    "import scipy\n",
    "\n",
    "print(scipy.__version__)"
   ]
  },
  {
   "cell_type": "code",
   "execution_count": 3,
   "id": "fb140c20",
   "metadata": {},
   "outputs": [
    {
     "name": "stdout",
     "output_type": "stream",
     "text": [
      "Defaulting to user installation because normal site-packages is not writeable\n",
      "Collecting scipy\n",
      "  Downloading scipy-1.13.0-cp310-cp310-manylinux_2_17_x86_64.manylinux2014_x86_64.whl (38.6 MB)\n",
      "\u001b[2K     \u001b[90m━━━━━━━━━━━━━━━━━━━━━━━━━━━━━━━━━━━━━━━\u001b[0m \u001b[32m38.6/38.6 MB\u001b[0m \u001b[31m461.7 kB/s\u001b[0m eta \u001b[36m0:00:00\u001b[0m00:01\u001b[0m00:03\u001b[0m\n",
      "\u001b[?25hCollecting numpy<2.3,>=1.22.4\n",
      "  Using cached numpy-1.26.4-cp310-cp310-manylinux_2_17_x86_64.manylinux2014_x86_64.whl (18.2 MB)\n",
      "Installing collected packages: numpy, scipy\n",
      "Successfully installed numpy-1.26.4 scipy-1.13.0\n",
      "Note: you may need to restart the kernel to use updated packages.\n"
     ]
    }
   ],
   "source": [
    "pip install --upgrade scipy"
   ]
  },
  {
   "cell_type": "markdown",
   "id": "2b233137",
   "metadata": {},
   "source": [
    "### SciPy Constants\n",
    "#### Constants in SciPy\n",
    "As SciPy is more focused on scientific implementations, it provides many built-in scientific constants.\n",
    "\n",
    "These constants can be helpful when you are working with Data Science."
   ]
  },
  {
   "cell_type": "code",
   "execution_count": 3,
   "id": "791a2d09",
   "metadata": {},
   "outputs": [
    {
     "name": "stdout",
     "output_type": "stream",
     "text": [
      "3.141592653589793\n"
     ]
    }
   ],
   "source": [
    "# pi is an example of a scientific constant.\n",
    "from scipy import constants\n",
    "print (constants.pi)"
   ]
  },
  {
   "cell_type": "markdown",
   "id": "e442db45",
   "metadata": {},
   "source": [
    "#### Constant Units\n",
    "A list of all units under the constants module can be seen using the dir() function."
   ]
  },
  {
   "cell_type": "code",
   "execution_count": 4,
   "id": "00071803",
   "metadata": {},
   "outputs": [
    {
     "name": "stdout",
     "output_type": "stream",
     "text": [
      "['Avogadro', 'Boltzmann', 'Btu', 'Btu_IT', 'Btu_th', 'ConstantWarning', 'G', 'Julian_year', 'N_A', 'Planck', 'R', 'Rydberg', 'Stefan_Boltzmann', 'Wien', '__all__', '__builtins__', '__cached__', '__doc__', '__file__', '__loader__', '__name__', '__package__', '__path__', '__spec__', '_codata', '_constants', '_obsolete_constants', 'acre', 'alpha', 'angstrom', 'arcmin', 'arcminute', 'arcsec', 'arcsecond', 'astronomical_unit', 'atm', 'atmosphere', 'atomic_mass', 'atto', 'au', 'bar', 'barrel', 'bbl', 'blob', 'c', 'calorie', 'calorie_IT', 'calorie_th', 'carat', 'centi', 'codata', 'constants', 'convert_temperature', 'day', 'deci', 'degree', 'degree_Fahrenheit', 'deka', 'dyn', 'dyne', 'e', 'eV', 'electron_mass', 'electron_volt', 'elementary_charge', 'epsilon_0', 'erg', 'exa', 'exbi', 'femto', 'fermi', 'find', 'fine_structure', 'fluid_ounce', 'fluid_ounce_US', 'fluid_ounce_imp', 'foot', 'g', 'gallon', 'gallon_US', 'gallon_imp', 'gas_constant', 'gibi', 'giga', 'golden', 'golden_ratio', 'grain', 'gram', 'gravitational_constant', 'h', 'hbar', 'hectare', 'hecto', 'horsepower', 'hour', 'hp', 'inch', 'k', 'kgf', 'kibi', 'kilo', 'kilogram_force', 'kmh', 'knot', 'lambda2nu', 'lb', 'lbf', 'light_year', 'liter', 'litre', 'long_ton', 'm_e', 'm_n', 'm_p', 'm_u', 'mach', 'mebi', 'mega', 'metric_ton', 'micro', 'micron', 'mil', 'mile', 'milli', 'minute', 'mmHg', 'mph', 'mu_0', 'nano', 'nautical_mile', 'neutron_mass', 'nu2lambda', 'ounce', 'oz', 'parsec', 'pebi', 'peta', 'physical_constants', 'pi', 'pico', 'point', 'pound', 'pound_force', 'precision', 'proton_mass', 'psi', 'pt', 'quecto', 'quetta', 'ronna', 'ronto', 'short_ton', 'sigma', 'slinch', 'slug', 'speed_of_light', 'speed_of_sound', 'stone', 'survey_foot', 'survey_mile', 'tebi', 'tera', 'test', 'ton_TNT', 'torr', 'troy_ounce', 'troy_pound', 'u', 'unit', 'value', 'week', 'yard', 'year', 'yobi', 'yocto', 'yotta', 'zebi', 'zepto', 'zero_Celsius', 'zetta']\n"
     ]
    }
   ],
   "source": [
    "from scipy import constants\n",
    "\n",
    "print(dir(constants))"
   ]
  },
  {
   "cell_type": "markdown",
   "id": "78d74f1d",
   "metadata": {},
   "source": [
    "#### Unit Categories\n",
    "The units are placed under these categories:<br>\n",
    "<br>\n",
    "Metric<br>\n",
    "Binary<br>\n",
    "Mass<br>\n",
    "Angle<br>\n",
    "Time<br>\n",
    "Length<br>\n",
    "Pressure<br>\n",
    "Volume<br>\n",
    "Speed<br>\n",
    "Temperature<br>\n",
    "Energy<br>\n",
    "Power<br>\n",
    "Force<br>"
   ]
  },
  {
   "cell_type": "markdown",
   "id": "e862db7a",
   "metadata": {},
   "source": [
    "#### Metric (SI) Prefixes:\n",
    "Return the specified unit in meter (e.g. centi returns 0.01)"
   ]
  },
  {
   "cell_type": "code",
   "execution_count": 10,
   "id": "90a128b9",
   "metadata": {},
   "outputs": [
    {
     "name": "stdout",
     "output_type": "stream",
     "text": [
      "yotta =  1e+24\n",
      "zetta =  1e+21\n",
      "exa   =  1e+18\n",
      "peta  =  1000000000000000.0\n",
      "tera  =  1000000000000.0\n",
      "giga  =  1000000000.0\n",
      "mega  =  1000000.0\n",
      "kilo  =  1000.0\n",
      "hecto =  100.0\n",
      "deka  =  10.0\n",
      "deci  =  0.1\n",
      "centi =  0.01\n",
      "milli =  0.001\n",
      "micro =  1e-06\n",
      "nano  =  1e-09\n",
      "pico  =  1e-12\n",
      "femto =  1e-15\n",
      "atto  =  1e-18\n",
      "zepto =  1e-21\n"
     ]
    }
   ],
   "source": [
    "from scipy import constants\n",
    "\n",
    "print(\"yotta = \",constants.yotta)\n",
    "print(\"zetta = \",constants.zetta)\n",
    "print(\"exa   = \",constants.exa)\n",
    "print(\"peta  = \",constants.peta)\n",
    "print(\"tera  = \",constants.tera)\n",
    "print(\"giga  = \",constants.giga)\n",
    "print(\"mega  = \",constants.mega)\n",
    "print(\"kilo  = \",constants.kilo)\n",
    "print(\"hecto = \",constants.hecto)\n",
    "print(\"deka  = \",constants.deka)\n",
    "print(\"deci  = \",constants.deci)\n",
    "print(\"centi = \",constants.centi)\n",
    "print(\"milli = \",constants.milli)\n",
    "print(\"micro = \",constants.micro)\n",
    "print(\"nano  = \",constants.nano)\n",
    "print(\"pico  = \",constants.pico)\n",
    "print(\"femto = \",constants.femto)\n",
    "print(\"atto  = \",constants.atto)\n",
    "print(\"zepto = \",constants.zepto)"
   ]
  },
  {
   "cell_type": "markdown",
   "id": "0ba834e1",
   "metadata": {},
   "source": [
    "#### Binary Prefixes:\n",
    "Return the specified unit in bytes (e.g. kibi returns 1024)"
   ]
  },
  {
   "cell_type": "code",
   "execution_count": 11,
   "id": "33d70ca6",
   "metadata": {},
   "outputs": [
    {
     "name": "stdout",
     "output_type": "stream",
     "text": [
      "kibi =  1024\n",
      "mebi =  1048576\n",
      "gibi =  1073741824\n",
      "tebi =  1099511627776\n",
      "pebi =  1125899906842624\n",
      "exbi =  1152921504606846976\n",
      "zebi =  1180591620717411303424\n",
      "yobi =  1208925819614629174706176\n"
     ]
    }
   ],
   "source": [
    "from scipy import constants\n",
    "\n",
    "print(\"kibi = \", constants.kibi)\n",
    "print(\"mebi = \", constants.mebi)\n",
    "print(\"gibi = \", constants.gibi)\n",
    "print(\"tebi = \", constants.tebi)\n",
    "print(\"pebi = \", constants.pebi)\n",
    "print(\"exbi = \", constants.exbi)\n",
    "print(\"zebi = \", constants.zebi)\n",
    "print(\"yobi = \", constants.yobi)"
   ]
  },
  {
   "cell_type": "markdown",
   "id": "852041b5",
   "metadata": {},
   "source": [
    "#### Mass:\n",
    "Return the specified unit in kg (e.g. gram returns 0.001)"
   ]
  },
  {
   "cell_type": "code",
   "execution_count": 14,
   "id": "6dfa4f92",
   "metadata": {},
   "outputs": [
    {
     "name": "stdout",
     "output_type": "stream",
     "text": [
      "gram        =  0.001\n",
      "metric_ton  =  1000.0\n",
      "grain       =  6.479891e-05\n",
      "lb          =  0.45359236999999997\n",
      "pound       =  0.45359236999999997\n",
      "oz          =  0.028349523124999998\n",
      "ounce       =  0.028349523124999998\n",
      "stone       =  6.3502931799999995\n",
      "long_ton    =  1016.0469088\n",
      "short_ton   =  907.1847399999999\n",
      "troy_ounce  =  0.031103476799999998\n",
      "troy_pound  =  0.37324172159999996\n",
      "carat       =  0.0002\n",
      "atomic_mass =  1.6605390666e-27\n",
      "m_u         =  1.6605390666e-27\n",
      "u           =  1.6605390666e-27\n"
     ]
    }
   ],
   "source": [
    "from scipy import constants\n",
    "\n",
    "print(\"gram        = \",constants.gram)\n",
    "print(\"metric_ton  = \",constants.metric_ton)\n",
    "print(\"grain       = \",constants.grain)\n",
    "print(\"lb          = \",constants.lb)\n",
    "print(\"pound       = \",constants.pound)\n",
    "print(\"oz          = \",constants.oz)\n",
    "print(\"ounce       = \",constants.ounce)\n",
    "print(\"stone       = \",constants.stone)\n",
    "print(\"long_ton    = \",constants.long_ton)\n",
    "print(\"short_ton   = \",constants.short_ton)\n",
    "print(\"troy_ounce  = \",constants.troy_ounce)\n",
    "print(\"troy_pound  = \",constants.troy_pound)\n",
    "print(\"carat       = \",constants.carat)\n",
    "print(\"atomic_mass = \",constants.atomic_mass)\n",
    "print(\"m_u         = \",constants.m_u)\n",
    "print(\"u           = \",constants.u)"
   ]
  },
  {
   "cell_type": "markdown",
   "id": "c5f219cc",
   "metadata": {},
   "source": [
    "#### Angle:\n",
    "Return the specified unit in radians (e.g. degree returns 0.017453292519943295)"
   ]
  },
  {
   "cell_type": "code",
   "execution_count": 15,
   "id": "c908f370",
   "metadata": {},
   "outputs": [
    {
     "name": "stdout",
     "output_type": "stream",
     "text": [
      "degree    =  0.017453292519943295\n",
      "arcmin    =  0.0002908882086657216\n",
      "arcminute =  0.0002908882086657216\n",
      "arcsec    =  4.84813681109536e-06\n",
      "arcsecond =  4.84813681109536e-06\n"
     ]
    }
   ],
   "source": [
    "from scipy import constants\n",
    "\n",
    "print(\"degree    = \",constants.degree)     \n",
    "print(\"arcmin    = \",constants.arcmin)     \n",
    "print(\"arcminute = \",constants.arcminute)  \n",
    "print(\"arcsec    = \",constants.arcsec)     \n",
    "print(\"arcsecond = \",constants.arcsecond)"
   ]
  },
  {
   "cell_type": "markdown",
   "id": "62700ebc",
   "metadata": {},
   "source": [
    "# ML"
   ]
  },
  {
   "cell_type": "markdown",
   "id": "5ff491bb",
   "metadata": {},
   "source": [
    "### Linear Regression"
   ]
  },
  {
   "cell_type": "code",
   "execution_count": 6,
   "id": "8cbd3dc9",
   "metadata": {},
   "outputs": [
    {
     "data": {
      "image/png": "[encoded data removed]",
      "text/plain": [
       "<Figure size 432x288 with 1 Axes>"
      ]
     },
     "metadata": {
      "needs_background": "light"
     },
     "output_type": "display_data"
    }
   ],
   "source": [
    "import matplotlib.pyplot as plt\n",
    "from scipy import stats\n",
    "\n",
    "x = [5,7,8,7,2,17,2,9,4,11,12,9,6]\n",
    "y = [99,86,87,88,111,86,103,87,94,78,77,85,86]\n",
    "\n",
    "slope , intercept , r , p ,std_err = stats.linregress(x,y)\n",
    "\n",
    "def myfunc(x):\n",
    "    return slope * x + intercept\n",
    "mymodel = list(map(myfunc,x))\n",
    "\n",
    "plt.scatter(x, y)\n",
    "plt.plot(x, mymodel)\n",
    "plt.show()"
   ]
  },
  {
   "cell_type": "code",
   "execution_count": 17,
   "id": "25a8787a",
   "metadata": {},
   "outputs": [
    {
     "name": "stdout",
     "output_type": "stream",
     "text": [
      "[False, True, False, True]\n"
     ]
    }
   ],
   "source": [
    "numbers = (1, 2, 3, 4)\n",
    "result = map(lambda x: x%2 == 0, numbers)\n",
    "print(list(result))"
   ]
  },
  {
   "cell_type": "code",
   "execution_count": null,
   "id": "4e92b0ed",
   "metadata": {},
   "outputs": [],
   "source": []
  }
 ],
 "metadata": {
  "kernelspec": {
   "display_name": "Python 3 (ipykernel)",
   "language": "python",
   "name": "python3"
  },
  "language_info": {
   "codemirror_mode": {
    "name": "ipython",
    "version": 3
   },
   "file_extension": ".py",
   "mimetype": "text/x-python",
   "name": "python",
   "nbconvert_exporter": "python",
   "pygments_lexer": "ipython3",
   "version": "3.10.13"
  }
 },
 "nbformat": 4,
 "nbformat_minor": 5
}
