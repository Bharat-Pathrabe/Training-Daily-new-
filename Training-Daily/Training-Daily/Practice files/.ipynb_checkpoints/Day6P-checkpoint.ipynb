{
 "cells": [
  {
   "cell_type": "markdown",
   "id": "cd0f3a3a",
   "metadata": {},
   "source": [
    "# PIP - Packages"
   ]
  },
  {
   "cell_type": "code",
   "execution_count": 5,
   "id": "08a419bb",
   "metadata": {},
   "outputs": [
    {
     "name": "stdout",
     "output_type": "stream",
     "text": [
      "Package                       Version\r\n",
      "----------------------------- --------------------\r\n",
      "aiohttp                       3.8.1\r\n",
      "aiosignal                     1.2.0\r\n",
      "alabaster                     0.7.12\r\n",
      "anaconda-client               1.9.0\r\n",
      "anaconda-navigator            2.1.4\r\n",
      "anaconda-project              0.10.2\r\n",
      "anyio                         3.5.0\r\n",
      "appdirs                       1.4.4\r\n",
      "argon2-cffi                   21.3.0\r\n",
      "argon2-cffi-bindings          21.2.0\r\n",
      "arrow                         1.2.2\r\n",
      "astroid                       2.6.6\r\n",
      "astropy                       5.0.4\r\n",
      "asttokens                     2.0.5\r\n",
      "async-timeout                 4.0.1\r\n",
      "atomicwrites                  1.4.0\r\n",
      "attrs                         21.4.0\r\n",
      "Automat                       20.2.0\r\n",
      "autopep8                      1.6.0\r\n",
      "Babel                         2.9.1\r\n",
      "backcall                      0.2.0\r\n",
      "backports.functools-lru-cache 1.6.4\r\n",
      "backports.tempfile            1.0\r\n",
      "backports.weakref             1.0.post1\r\n",
      "bcrypt                        3.2.0\r\n",
      "beautifulsoup4                4.11.1\r\n",
      "binaryornot                   0.4.4\r\n",
      "bitarray                      2.4.1\r\n",
      "bkcharts                      0.2\r\n",
      "black                         19.10b0\r\n",
      "bleach                        4.1.0\r\n",
      "bokeh                         2.4.2\r\n",
      "boto3                         1.21.32\r\n",
      "botocore                      1.24.32\r\n",
      "Bottleneck                    1.3.4\r\n",
      "brotlipy                      0.7.0\r\n",
      "cachetools                    4.2.2\r\n",
      "certifi                       2021.10.8\r\n",
      "cffi                          1.15.0\r\n",
      "chardet                       4.0.0\r\n",
      "charset-normalizer            2.0.4\r\n",
      "click                         8.0.4\r\n",
      "cloudpickle                   2.0.0\r\n",
      "clyent                        1.2.2\r\n",
      "colorama                      0.4.4\r\n",
      "colorcet                      2.0.6\r\n",
      "conda                         4.12.0\r\n",
      "conda-build                   3.21.8\r\n",
      "conda-content-trust           0+unknown\r\n",
      "conda-pack                    0.6.0\r\n",
      "conda-package-handling        1.8.1\r\n",
      "conda-repo-cli                1.0.4\r\n",
      "conda-token                   0.3.0\r\n",
      "conda-verify                  3.4.2\r\n",
      "constantly                    15.1.0\r\n",
      "cookiecutter                  1.7.3\r\n",
      "cryptography                  3.4.8\r\n",
      "cssselect                     1.1.0\r\n",
      "cycler                        0.11.0\r\n",
      "Cython                        0.29.28\r\n",
      "cytoolz                       0.11.0\r\n",
      "daal4py                       2021.5.0\r\n",
      "dask                          2022.2.1\r\n",
      "datashader                    0.13.0\r\n",
      "datashape                     0.5.4\r\n",
      "debugpy                       1.5.1\r\n",
      "decorator                     5.1.1\r\n",
      "defusedxml                    0.7.1\r\n",
      "diff-match-patch              20200713\r\n",
      "distributed                   2022.2.1\r\n",
      "docutils                      0.17.1\r\n",
      "entrypoints                   0.4\r\n",
      "et-xmlfile                    1.1.0\r\n",
      "executing                     0.8.3\r\n",
      "fastjsonschema                2.15.1\r\n",
      "filelock                      3.6.0\r\n",
      "flake8                        3.9.2\r\n",
      "Flask                         1.1.2\r\n",
      "fonttools                     4.25.0\r\n",
      "frozenlist                    1.2.0\r\n",
      "fsspec                        2022.2.0\r\n",
      "future                        0.18.2\r\n",
      "gensim                        4.1.2\r\n",
      "glob2                         0.7\r\n",
      "gmpy2                         2.1.2\r\n",
      "google-api-core               1.25.1\r\n",
      "google-auth                   1.33.0\r\n",
      "google-cloud-core             1.7.1\r\n",
      "google-cloud-storage          1.31.0\r\n",
      "google-crc32c                 1.1.2\r\n",
      "google-resumable-media        1.3.1\r\n",
      "googleapis-common-protos      1.53.0\r\n",
      "greenlet                      1.1.1\r\n",
      "grpcio                        1.42.0\r\n",
      "h5py                          3.6.0\r\n",
      "HeapDict                      1.0.1\r\n",
      "holoviews                     1.14.8\r\n",
      "hvplot                        0.7.3\r\n",
      "hyperlink                     21.0.0\r\n",
      "idna                          3.3\r\n",
      "imagecodecs                   2021.8.26\r\n",
      "imageio                       2.9.0\r\n",
      "imagesize                     1.3.0\r\n",
      "importlib-metadata            4.11.3\r\n",
      "incremental                   21.3.0\r\n",
      "inflection                    0.5.1\r\n",
      "iniconfig                     1.1.1\r\n",
      "intake                        0.6.5\r\n",
      "intervaltree                  3.1.0\r\n",
      "ipykernel                     6.9.1\r\n",
      "ipython                       8.2.0\r\n",
      "ipython-genutils              0.2.0\r\n",
      "ipywidgets                    7.6.5\r\n",
      "isort                         5.9.3\r\n",
      "itemadapter                   0.3.0\r\n",
      "itemloaders                   1.0.4\r\n",
      "itsdangerous                  2.0.1\r\n",
      "jdcal                         1.4.1\r\n",
      "jedi                          0.18.1\r\n",
      "jeepney                       0.7.1\r\n",
      "Jinja2                        2.11.3\r\n",
      "jinja2-time                   0.2.0\r\n",
      "jmespath                      0.10.0\r\n",
      "joblib                        1.1.0\r\n",
      "json5                         0.9.6\r\n",
      "jsonschema                    4.4.0\r\n",
      "jupyter                       1.0.0\r\n",
      "jupyter-client                6.1.12\r\n",
      "jupyter-console               6.4.0\r\n",
      "jupyter-core                  4.9.2\r\n",
      "jupyter-server                1.13.5\r\n",
      "jupyterlab                    3.3.2\r\n",
      "jupyterlab-pygments           0.1.2\r\n",
      "jupyterlab-server             2.10.3\r\n",
      "jupyterlab-widgets            1.0.0\r\n",
      "keyring                       23.4.0\r\n",
      "kiwisolver                    1.3.2\r\n",
      "lazy-object-proxy             1.6.0\r\n",
      "libarchive-c                  2.9\r\n",
      "llvmlite                      0.38.0\r\n",
      "locket                        0.2.1\r\n",
      "lxml                          4.8.0\r\n",
      "Markdown                      3.3.4\r\n",
      "MarkupSafe                    2.0.1\r\n",
      "matplotlib                    3.5.1\r\n",
      "matplotlib-inline             0.1.2\r\n",
      "mccabe                        0.6.1\r\n",
      "mistune                       0.8.4\r\n",
      "mkl-fft                       1.3.1\r\n",
      "mkl-random                    1.2.2\r\n",
      "mkl-service                   2.4.0\r\n",
      "mock                          4.0.3\r\n",
      "mpmath                        1.2.1\r\n",
      "msgpack                       1.0.2\r\n",
      "multidict                     5.2.0\r\n",
      "multipledispatch              0.6.0\r\n",
      "munkres                       1.1.4\r\n",
      "mypy-extensions               0.4.3\r\n",
      "navigator-updater             0.2.1\r\n",
      "nbclassic                     0.3.5\r\n",
      "nbclient                      0.5.13\r\n",
      "nbconvert                     6.4.4\r\n",
      "nbformat                      5.3.0\r\n",
      "nest-asyncio                  1.5.5\r\n",
      "networkx                      2.7.1\r\n",
      "nltk                          3.7\r\n",
      "nose                          1.3.7\r\n",
      "notebook                      6.4.8\r\n",
      "numba                         0.55.1\r\n",
      "numexpr                       2.8.1\r\n",
      "numpy                         1.21.5\r\n",
      "numpydoc                      1.2\r\n",
      "olefile                       0.46\r\n",
      "openpyxl                      3.0.9\r\n",
      "packaging                     21.3\r\n",
      "pandas                        1.4.2\r\n",
      "pandocfilters                 1.5.0\r\n",
      "panel                         0.13.0\r\n",
      "param                         1.12.0\r\n",
      "parsel                        1.6.0\r\n",
      "parso                         0.8.3\r\n",
      "partd                         1.2.0\r\n",
      "pathspec                      0.7.0\r\n",
      "patsy                         0.5.2\r\n",
      "pep8                          1.7.1\r\n",
      "pexpect                       4.8.0\r\n",
      "pickleshare                   0.7.5\r\n",
      "Pillow                        9.0.1\r\n",
      "pip                           21.2.4\r\n",
      "pkginfo                       1.8.2\r\n",
      "plotly                        5.6.0\r\n",
      "pluggy                        1.0.0\r\n",
      "poyo                          0.5.0\r\n",
      "prometheus-client             0.13.1\r\n",
      "prompt-toolkit                3.0.20\r\n",
      "Protego                       0.1.16\r\n",
      "protobuf                      3.19.1\r\n",
      "psutil                        5.8.0\r\n",
      "ptyprocess                    0.7.0\r\n",
      "pure-eval                     0.2.2\r\n",
      "py                            1.11.0\r\n",
      "pyasn1                        0.4.8\r\n",
      "pyasn1-modules                0.2.8\r\n",
      "pycodestyle                   2.7.0\r\n",
      "pycosat                       0.6.3\r\n",
      "pycparser                     2.21\r\n",
      "pyct                          0.4.6\r\n",
      "pycurl                        7.44.1\r\n",
      "PyDispatcher                  2.0.5\r\n",
      "pydocstyle                    6.1.1\r\n",
      "pyerfa                        2.0.0\r\n",
      "pyflakes                      2.3.1\r\n",
      "Pygments                      2.11.2\r\n",
      "PyHamcrest                    2.0.2\r\n",
      "PyJWT                         2.1.0\r\n",
      "pylint                        2.9.6\r\n",
      "pyls-spyder                   0.4.0\r\n",
      "pyodbc                        4.0.32\r\n",
      "pyOpenSSL                     21.0.0\r\n",
      "pyparsing                     3.0.4\r\n",
      "pyrsistent                    0.18.0\r\n",
      "PySocks                       1.7.1\r\n",
      "pytest                        7.1.1\r\n",
      "python-dateutil               2.8.2\r\n",
      "python-lsp-black              1.0.0\r\n",
      "python-lsp-jsonrpc            1.0.0\r\n",
      "python-lsp-server             1.2.4\r\n",
      "python-slugify                5.0.2\r\n",
      "python-snappy                 0.6.0\r\n",
      "pytz                          2021.3\r\n",
      "pyviz-comms                   2.0.2\r\n",
      "PyWavelets                    1.3.0\r\n",
      "pyxdg                         0.27\r\n",
      "PyYAML                        6.0\r\n",
      "pyzmq                         22.3.0\r\n",
      "QDarkStyle                    3.0.2\r\n",
      "qstylizer                     0.1.10\r\n",
      "QtAwesome                     1.0.3\r\n",
      "qtconsole                     5.3.0\r\n",
      "QtPy                          2.0.1\r\n",
      "queuelib                      1.5.0\r\n",
      "regex                         2022.3.15\r\n",
      "requests                      2.27.1\r\n",
      "requests-file                 1.5.1\r\n",
      "rope                          0.22.0\r\n",
      "rsa                           4.7.2\r\n",
      "Rtree                         0.9.7\r\n",
      "ruamel-yaml-conda             0.15.100\r\n",
      "s3transfer                    0.5.0\r\n",
      "scikit-image                  0.19.2\r\n",
      "scikit-learn                  1.0.2\r\n",
      "scikit-learn-intelex          2021.20220215.212715\r\n",
      "scipy                         1.7.3\r\n",
      "Scrapy                        2.6.1\r\n",
      "seaborn                       0.11.2\r\n",
      "SecretStorage                 3.3.1\r\n",
      "Send2Trash                    1.8.0\r\n",
      "service-identity              18.1.0\r\n",
      "setuptools                    61.2.0\r\n",
      "sip                           4.19.13\r\n",
      "six                           1.16.0\r\n",
      "smart-open                    5.1.0\r\n",
      "sniffio                       1.2.0\r\n",
      "snowballstemmer               2.2.0\r\n",
      "sortedcollections             2.1.0\r\n",
      "sortedcontainers              2.4.0\r\n",
      "soupsieve                     2.3.1\r\n",
      "Sphinx                        4.4.0\r\n",
      "sphinxcontrib-applehelp       1.0.2\r\n",
      "sphinxcontrib-devhelp         1.0.2\r\n",
      "sphinxcontrib-htmlhelp        2.0.0\r\n",
      "sphinxcontrib-jsmath          1.0.1\r\n",
      "sphinxcontrib-qthelp          1.0.3\r\n",
      "sphinxcontrib-serializinghtml 1.1.5\r\n",
      "spyder                        5.1.5\r\n",
      "spyder-kernels                2.1.3\r\n",
      "SQLAlchemy                    1.4.32\r\n",
      "stack-data                    0.2.0\r\n",
      "statsmodels                   0.13.2\r\n",
      "sympy                         1.10.1\r\n",
      "tables                        3.6.1\r\n",
      "tabulate                      0.8.9\r\n",
      "TBB                           0.2\r\n",
      "tblib                         1.7.0\r\n",
      "tenacity                      8.0.1\r\n",
      "terminado                     0.13.1\r\n",
      "testpath                      0.5.0\r\n",
      "text-unidecode                1.3\r\n",
      "textdistance                  4.2.1\r\n",
      "threadpoolctl                 2.2.0\r\n",
      "three-merge                   0.1.1\r\n",
      "tifffile                      2021.7.2\r\n",
      "tinycss                       0.4\r\n",
      "tldextract                    3.2.0\r\n",
      "toml                          0.10.2\r\n",
      "tomli                         1.2.2\r\n",
      "toolz                         0.11.2\r\n",
      "tornado                       6.1\r\n",
      "tqdm                          4.64.0\r\n",
      "traitlets                     5.1.1\r\n",
      "Twisted                       22.2.0\r\n",
      "typed-ast                     1.4.3\r\n",
      "typing_extensions             4.1.1\r\n",
      "ujson                         5.1.0\r\n",
      "Unidecode                     1.2.0\r\n",
      "urllib3                       1.26.9\r\n",
      "w3lib                         1.21.0\r\n",
      "watchdog                      2.1.6\r\n",
      "wcwidth                       0.2.5\r\n",
      "webencodings                  0.5.1\r\n",
      "websocket-client              0.58.0\r\n",
      "Werkzeug                      2.0.3\r\n",
      "wheel                         0.37.1\r\n",
      "widgetsnbextension            3.5.2\r\n",
      "wrapt                         1.12.1\r\n",
      "wurlitzer                     3.0.2\r\n",
      "xarray                        0.20.1\r\n",
      "xlrd                          2.0.1\r\n",
      "XlsxWriter                    3.0.3\r\n",
      "yapf                          0.31.0\r\n",
      "yarl                          1.6.3\r\n",
      "zict                          2.0.0\r\n",
      "zipp                          3.7.0\r\n",
      "zope.interface                5.4.0\r\n"
     ]
    },
    {
     "name": "stdout",
     "output_type": "stream",
     "text": [
      "Note: you may need to restart the kernel to use updated packages.\n"
     ]
    }
   ],
   "source": [
    "pip list"
   ]
  },
  {
   "cell_type": "code",
   "execution_count": 6,
   "id": "2cf9752f",
   "metadata": {},
   "outputs": [],
   "source": [
    "# Remove a Package\n",
    "# pip uninstall camelcase"
   ]
  },
  {
   "cell_type": "code",
   "execution_count": 7,
   "id": "91d8024d",
   "metadata": {},
   "outputs": [],
   "source": [
    "# Find Packages\n",
    "# Find more packages at https://pypi.org/."
   ]
  },
  {
   "cell_type": "code",
   "execution_count": 8,
   "id": "5fa2b874",
   "metadata": {},
   "outputs": [
    {
     "ename": "ModuleNotFoundError",
     "evalue": "No module named 'camelcase'",
     "output_type": "error",
     "traceback": [
      "\u001b[0;31m---------------------------------------------------------------------------\u001b[0m",
      "\u001b[0;31mModuleNotFoundError\u001b[0m                       Traceback (most recent call last)",
      "Input \u001b[0;32mIn [8]\u001b[0m, in \u001b[0;36m<cell line: 2>\u001b[0;34m()\u001b[0m\n\u001b[1;32m      1\u001b[0m \u001b[38;5;66;03m# Using a Package\u001b[39;00m\n\u001b[0;32m----> 2\u001b[0m \u001b[38;5;28;01mimport\u001b[39;00m \u001b[38;5;21;01mcamelcase\u001b[39;00m\n\u001b[1;32m      4\u001b[0m c \u001b[38;5;241m=\u001b[39m camelcase\u001b[38;5;241m.\u001b[39mCamelCase()\n\u001b[1;32m      5\u001b[0m txt \u001b[38;5;241m=\u001b[39m \u001b[38;5;124m\"\u001b[39m\u001b[38;5;124mhello world\u001b[39m\u001b[38;5;124m\"\u001b[39m\n",
      "\u001b[0;31mModuleNotFoundError\u001b[0m: No module named 'camelcase'"
     ]
    }
   ],
   "source": [
    "# Using a Package\n",
    "import camelcase\n",
    "\n",
    "c = camelcase.CamelCase()\n",
    "txt = \"hello world\"\n",
    "print(c.hump(txt))"
   ]
  },
  {
   "cell_type": "markdown",
   "id": "84db9541",
   "metadata": {},
   "source": [
    "##### Download a package"
   ]
  },
  {
   "cell_type": "code",
   "execution_count": 10,
   "id": "7744a6e0",
   "metadata": {},
   "outputs": [
    {
     "name": "stdout",
     "output_type": "stream",
     "text": [
      "Collecting camelcase\n",
      "  Downloading camelcase-0.2.tar.gz (1.3 kB)\n",
      "Building wheels for collected packages: camelcase\n",
      "  Building wheel for camelcase (setup.py) ... \u001b[?25ldone\n",
      "\u001b[?25h  Created wheel for camelcase: filename=camelcase-0.2-py3-none-any.whl size=1789 sha256=e9484445e5ce7ff67f02287e08285e34c6751779a4f79b128e31ab8c0c158ca1\n",
      "  Stored in directory: /home/trellis/.cache/pip/wheels/c3/9a/eb/7eca0b069ef85183fd3215aa793d8ffa56ae5b424912c311df\n",
      "Successfully built camelcase\n",
      "Installing collected packages: camelcase\n",
      "Successfully installed camelcase-0.2\n",
      "Note: you may need to restart the kernel to use updated packages.\n"
     ]
    }
   ],
   "source": [
    "pip install camelcase"
   ]
  },
  {
   "cell_type": "code",
   "execution_count": 1,
   "id": "9c35ab28",
   "metadata": {},
   "outputs": [
    {
     "name": "stdout",
     "output_type": "stream",
     "text": [
      "Hello World\n"
     ]
    }
   ],
   "source": [
    "# Using a Package\n",
    "import camelcase\n",
    "\n",
    "c = camelcase.CamelCase()\n",
    "txt = \"hello world\"\n",
    "print(c.hump(txt))"
   ]
  },
  {
   "cell_type": "markdown",
   "id": "fee7cc23",
   "metadata": {},
   "source": [
    "##### Check Version"
   ]
  },
  {
   "cell_type": "code",
   "execution_count": 2,
   "id": "feb620ed",
   "metadata": {},
   "outputs": [
    {
     "name": "stdout",
     "output_type": "stream",
     "text": [
      "pip 21.2.4 from /home/trellis/anaconda3/lib/python3.9/site-packages/pip (python 3.9)\n",
      "Note: you may need to restart the kernel to use updated packages.\n"
     ]
    }
   ],
   "source": [
    "pip --version"
   ]
  },
  {
   "cell_type": "markdown",
   "id": "c9bea8bd",
   "metadata": {},
   "source": [
    "# Try Except"
   ]
  },
  {
   "cell_type": "code",
   "execution_count": 42,
   "id": "2b078b08",
   "metadata": {},
   "outputs": [
    {
     "name": "stdout",
     "output_type": "stream",
     "text": [
      "ENter contains to write into the file: The way its meant to be played\n"
     ]
    }
   ],
   "source": [
    "#The try block will raise an error when trying to write to a read-only file:\n",
    "\n",
    "try:\n",
    "  f = open(\"demofile.txt\",\"a\")\n",
    "  x=input(\"ENter contains to write into the file: \")\n",
    "  try:\n",
    "    f.write(\" \"+ x)\n",
    "    f.close()\n",
    "  except:\n",
    "    print(\"Something went wrong when writing to the file\")\n",
    "  finally:\n",
    "    f.close()\n",
    "except:\n",
    "  print(\"Something went wrong when opening the file\")  \n"
   ]
  },
  {
   "cell_type": "code",
   "execution_count": 31,
   "id": "55f6354a",
   "metadata": {},
   "outputs": [
    {
     "ename": "Exception",
     "evalue": "Sorry, no numbers below zero",
     "output_type": "error",
     "traceback": [
      "\u001b[0;31m---------------------------------------------------------------------------\u001b[0m",
      "\u001b[0;31mException\u001b[0m                                 Traceback (most recent call last)",
      "Input \u001b[0;32mIn [31]\u001b[0m, in \u001b[0;36m<cell line: 3>\u001b[0;34m()\u001b[0m\n\u001b[1;32m      2\u001b[0m x \u001b[38;5;241m=\u001b[39m \u001b[38;5;241m-\u001b[39m\u001b[38;5;241m1\u001b[39m\n\u001b[1;32m      3\u001b[0m \u001b[38;5;28;01mif\u001b[39;00m x \u001b[38;5;241m<\u001b[39m \u001b[38;5;241m0\u001b[39m:\n\u001b[0;32m----> 4\u001b[0m   \u001b[38;5;28;01mraise\u001b[39;00m \u001b[38;5;167;01mException\u001b[39;00m(\u001b[38;5;124m\"\u001b[39m\u001b[38;5;124mSorry, no numbers below zero\u001b[39m\u001b[38;5;124m\"\u001b[39m)\n",
      "\u001b[0;31mException\u001b[0m: Sorry, no numbers below zero"
     ]
    }
   ],
   "source": [
    "# Raise EXception\n",
    "x = -1\n",
    "if x < 0:\n",
    "  raise Exception(\"Sorry, no numbers below zero\")"
   ]
  },
  {
   "cell_type": "code",
   "execution_count": 32,
   "id": "955f29f2",
   "metadata": {},
   "outputs": [
    {
     "ename": "TypeError",
     "evalue": "Only integers are allowed",
     "output_type": "error",
     "traceback": [
      "\u001b[0;31m---------------------------------------------------------------------------\u001b[0m",
      "\u001b[0;31mTypeError\u001b[0m                                 Traceback (most recent call last)",
      "Input \u001b[0;32mIn [32]\u001b[0m, in \u001b[0;36m<cell line: 3>\u001b[0;34m()\u001b[0m\n\u001b[1;32m      2\u001b[0m x \u001b[38;5;241m=\u001b[39m \u001b[38;5;124m\"\u001b[39m\u001b[38;5;124mhello\u001b[39m\u001b[38;5;124m\"\u001b[39m\n\u001b[1;32m      3\u001b[0m \u001b[38;5;28;01mif\u001b[39;00m \u001b[38;5;129;01mnot\u001b[39;00m \u001b[38;5;28mtype\u001b[39m(x) \u001b[38;5;129;01mis\u001b[39;00m \u001b[38;5;28mint\u001b[39m:\n\u001b[0;32m----> 4\u001b[0m   \u001b[38;5;28;01mraise\u001b[39;00m \u001b[38;5;167;01mTypeError\u001b[39;00m(\u001b[38;5;124m\"\u001b[39m\u001b[38;5;124mOnly integers are allowed\u001b[39m\u001b[38;5;124m\"\u001b[39m)\n",
      "\u001b[0;31mTypeError\u001b[0m: Only integers are allowed"
     ]
    }
   ],
   "source": [
    "# raise TypeError\n",
    "x = \"hello\"\n",
    "if not type(x) is int:\n",
    "  raise TypeError(\"Only integers are allowed\")"
   ]
  },
  {
   "cell_type": "code",
   "execution_count": 33,
   "id": "83867504",
   "metadata": {},
   "outputs": [
    {
     "name": "stdout",
     "output_type": "stream",
     "text": [
      "Enter username:k\n",
      "Username is: k\n"
     ]
    }
   ],
   "source": [
    "username = input(\"Enter username:\")\n",
    "print(\"Username is: \" + username)"
   ]
  },
  {
   "cell_type": "markdown",
   "id": "0b5df41e",
   "metadata": {},
   "source": [
    "# String Formatting "
   ]
  },
  {
   "cell_type": "code",
   "execution_count": 34,
   "id": "e40212a9",
   "metadata": {},
   "outputs": [
    {
     "name": "stdout",
     "output_type": "stream",
     "text": [
      "I want 3 pieces of item number 567 for 49.00 dollars.\n",
      "I want 3 pieces of item number 567 for 49.00 dollars.\n"
     ]
    }
   ],
   "source": [
    "quantity = 3\n",
    "itemno = 567\n",
    "price = 49\n",
    "myorder = \"I want {} pieces of item number {} for {:.2f} dollars.\"\n",
    "print(myorder.format(quantity, itemno, price))\n",
    "print(f\"I want {quantity} pieces of item number {itemno} for {price:.2f} dollars.\")"
   ]
  },
  {
   "cell_type": "code",
   "execution_count": 35,
   "id": "bd44de3f",
   "metadata": {},
   "outputs": [
    {
     "name": "stdout",
     "output_type": "stream",
     "text": [
      "I have a Ford, it is a Mustang.\n"
     ]
    }
   ],
   "source": [
    "myorder = \"I have a {carname}, it is a {model}.\"\n",
    "print(myorder.format(carname = \"Ford\", model = \"Mustang\"))"
   ]
  },
  {
   "cell_type": "markdown",
   "id": "02a3790a",
   "metadata": {},
   "source": [
    "# File Handling"
   ]
  },
  {
   "cell_type": "code",
   "execution_count": 49,
   "id": "c201910b",
   "metadata": {},
   "outputs": [
    {
     "name": "stdout",
     "output_type": "stream",
     "text": [
      " The way its meant to be played\n",
      " KoZaK MoD\n",
      " Kerochan\n",
      " SHrey\n",
      " \n"
     ]
    }
   ],
   "source": [
    "f = open(\"demofile.txt\",\"r\")\n",
    "print(f.read())\n",
    "f.close()"
   ]
  },
  {
   "cell_type": "code",
   "execution_count": 50,
   "id": "0e62f198",
   "metadata": {},
   "outputs": [
    {
     "name": "stdout",
     "output_type": "stream",
     "text": [
      " The way its meant to be played\n",
      "\n",
      " KoZaK MoD\n",
      "\n",
      " Kerochan\n",
      "\n",
      " SHrey\n",
      "\n",
      " \n"
     ]
    }
   ],
   "source": [
    "f = open(\"demofile.txt\",\"r\")\n",
    "print(f.readline())\n",
    "for x in f:\n",
    "    print(x)\n",
    "f.close()"
   ]
  },
  {
   "cell_type": "code",
   "execution_count": 55,
   "id": "95cf032e",
   "metadata": {},
   "outputs": [
    {
     "name": "stdout",
     "output_type": "stream",
     "text": [
      "File does not exist Creating a new one\n",
      "The way\n"
     ]
    }
   ],
   "source": [
    "import os\n",
    "if os.path.exists(\"democreate.txt\"):\n",
    "    os.remove(\"democreate.txt\")\n",
    "else:\n",
    "    print(\"File does not exist Creating a new one\")\n",
    "f=open(\"democreate.txt\",\"x\")\n",
    "x=\"The way\"\n",
    "f.write(x)\n",
    "f.close()\n",
    "f=open(\"democreate.txt\",\"r\")\n",
    "print(f.read())"
   ]
  },
  {
   "cell_type": "markdown",
   "id": "92eeb38a",
   "metadata": {},
   "source": [
    "# Practice"
   ]
  },
  {
   "cell_type": "code",
   "execution_count": 62,
   "id": "5b89824f",
   "metadata": {},
   "outputs": [
    {
     "name": "stdout",
     "output_type": "stream",
     "text": [
      "Enter the value of n: 5\n",
      "615\n"
     ]
    }
   ],
   "source": [
    "# program that accepts an integer (n) and computes the value of n+nn+nnn.\n",
    "n=(input(\"Enter the value of n: \"))\n",
    "print(int(n)+int(n+n)+int(n+n+n))"
   ]
  },
  {
   "cell_type": "code",
   "execution_count": 63,
   "id": "a8522a9d",
   "metadata": {},
   "outputs": [
    {
     "name": "stdout",
     "output_type": "stream",
     "text": [
      "Enter the value of n: 5\n",
      "24\n"
     ]
    }
   ],
   "source": [
    "# program to calculate the difference between a given number and 17. If the number is greater than 17,\n",
    "# return twice the absolute difference.\n",
    "n=int(input(\"Enter the value of n: \"))\n",
    "print(2*abs(n-17))"
   ]
  },
  {
   "cell_type": "code",
   "execution_count": 66,
   "id": "6fdd3d92",
   "metadata": {},
   "outputs": [
    {
     "name": "stdout",
     "output_type": "stream",
     "text": [
      "Enter the Number to test: 922\n",
      "True\n"
     ]
    }
   ],
   "source": [
    "# program to test whether a number is within 100 of 1000 or 2000.\n",
    "def check(n):\n",
    "    return (abs(1000-n) <= 100) or (abs(2000-n) <= 100) \n",
    "n=int(input(\"Enter the Number to test: \"))\n",
    "print(check(n))"
   ]
  },
  {
   "cell_type": "code",
   "execution_count": 70,
   "id": "8975a72e",
   "metadata": {},
   "outputs": [
    {
     "name": "stdout",
     "output_type": "stream",
     "text": [
      "Enter the First Number to calculate: 3\n",
      "Enter the Second Number to calculate: 3\n",
      "Enter the Third Number to calculate: 3\n",
      "27\n"
     ]
    }
   ],
   "source": [
    "# program to calculate the sum of three given numbers. If the values are equal, return three times their sum.\n",
    "def calculate(x,y,z):\n",
    "    if  x == y == z:\n",
    "        return 3 * (x + y + z)\n",
    "    else:\n",
    "        return x + y + z\n",
    "a=int(input(\"Enter the First Number to calculate: \"))\n",
    "b=int(input(\"Enter the Second Number to calculate: \"))\n",
    "c=int(input(\"Enter the Third Number to calculate: \"))\n",
    "print(calculate(a,b,c))"
   ]
  },
  {
   "cell_type": "code",
   "execution_count": 74,
   "id": "947f3f7a",
   "metadata": {},
   "outputs": [
    {
     "name": "stdout",
     "output_type": "stream",
     "text": [
      "Enter the number to check:6\n",
      "the entered number is even\n"
     ]
    }
   ],
   "source": [
    "# program that determines whether a given number (accepted from the user) is even or odd,\n",
    "# and prints an appropriate message to the user.\n",
    "def check(n):\n",
    "    if n % 2 == 0:\n",
    "        return \"the entered number is even\"\n",
    "    else:\n",
    "        return \"the entered number is odd\"\n",
    "n=int(input(\"Enter the number to check:\"))\n",
    "print(check(n))"
   ]
  },
  {
   "cell_type": "code",
   "execution_count": 79,
   "id": "d52f533d",
   "metadata": {},
   "outputs": [
    {
     "name": "stdout",
     "output_type": "stream",
     "text": [
      "Enter the lenght of list:5\n",
      "Enter the elements of list:\n",
      " 8\n",
      " 6\n",
      " 6\n",
      " 8\n",
      " 6\n",
      "enter the number to count occurance:6\n",
      "Number of times element occurred are: 3\n"
     ]
    }
   ],
   "source": [
    "# program to count the certain number in a given list.\n",
    "def found(l):\n",
    "    num=int(input(\"enter the number to count occurance:\"))\n",
    "    return l.count(num)\n",
    "l=[]\n",
    "n=int(input(\"Enter the lenght of list:\"))\n",
    "print(\"Enter the elements of list:\")\n",
    "for x in range(n):\n",
    "    a=int(input(\" \"))\n",
    "    l.append(a)\n",
    "print(f\"Number of times element occurred are: {found(l)}\")"
   ]
  },
  {
   "cell_type": "code",
   "execution_count": 81,
   "id": "a013a734",
   "metadata": {},
   "outputs": [
    {
     "name": "stdout",
     "output_type": "stream",
     "text": [
      "Enter the string: hello\n",
      "Number of copies: 4\n",
      "hehehehe\n"
     ]
    }
   ],
   "source": [
    "# program to get n (non-negative integer) copies of the first 2 characters of a given string.\n",
    "# Return n copies of the whole string if the length is less than 2.\n",
    "def copy (s,n):\n",
    "    if len(s) <= 2:\n",
    "        return mulc(s,n)\n",
    "    else:\n",
    "        ss=s[:2]\n",
    "        return mulc(ss,n)\n",
    "def mulc(x,n):\n",
    "    r=\"\"\n",
    "    for i in range(n):\n",
    "        r=r+x\n",
    "    return r\n",
    "s=input(\"Enter the string: \")\n",
    "n=int(input(\"Number of copies: \"))\n",
    "print(copy(s,n))"
   ]
  },
  {
   "cell_type": "code",
   "execution_count": 88,
   "id": "817486e6",
   "metadata": {},
   "outputs": [
    {
     "name": "stdout",
     "output_type": "stream",
     "text": [
      "Enter the lenght of list:5\n",
      "Enter the elements of list:\n",
      " 5\n",
      " 2\n",
      " 7\n",
      " 3\n",
      " 9\n",
      "Histogram:\n",
      "@@@@@\n",
      "@@\n",
      "@@@@@@@\n",
      "@@@\n",
      "@@@@@@@@@\n"
     ]
    }
   ],
   "source": [
    "# program to create a histogram from a given list of integers.\n",
    "def hist(l):\n",
    "    print(\"Histogram:\")\n",
    "    for i in l:\n",
    "        out=\"\"\n",
    "        time=i\n",
    "        for j in range(time,0,-1):\n",
    "            out += \"@\"\n",
    "        print(out)\n",
    "    \n",
    "l=[]\n",
    "n=int(input(\"Enter the lenght of list:\"))\n",
    "print(\"Enter the elements of list:\")\n",
    "for x in range(n):\n",
    "    a=int(input(\" \"))\n",
    "    l.append(a)\n",
    "hist(l)"
   ]
  },
  {
   "cell_type": "code",
   "execution_count": 96,
   "id": "c6dab6b1",
   "metadata": {},
   "outputs": [
    {
     "name": "stdout",
     "output_type": "stream",
     "text": [
      "Enter the lenght of the list:4\n",
      "Enter the elements for the list:\n",
      "3\n",
      "4\n",
      "2\n",
      "3\n",
      "3423\n"
     ]
    }
   ],
   "source": [
    "# program that concatenates all elements in a list into a string and returns it.\n",
    "def convert(l):\n",
    "    s=\"\"\n",
    "    for i in l:\n",
    "        s += str(i)\n",
    "    return s\n",
    "    \n",
    "l=[]\n",
    "n= int(input(\"Enter the lenght of the list:\"))\n",
    "print(\"Enter the elements for the list:\")\n",
    "l=[int(input()) for a in range(n)]\n",
    "print(convert(l))\n"
   ]
  },
  {
   "cell_type": "code",
   "execution_count": 99,
   "id": "3aaf20a7",
   "metadata": {},
   "outputs": [
    {
     "name": "stdout",
     "output_type": "stream",
     "text": [
      "386\n",
      "462\n",
      "418\n",
      "344\n",
      "236\n",
      "566\n",
      "978\n",
      "328\n",
      "162\n",
      "758\n",
      "918\n",
      "237\n"
     ]
    }
   ],
   "source": [
    "# program to print all even numbers from a given list of numbers in the same order and\n",
    "#stop printing any after 237 in the sequence.\n",
    "numbers = [    \n",
    "    386, 462, 47, 418, 907, 344, 236, 375, 823, 566, 597, 978, 328, 615, 953, 345, \n",
    "    399, 162, 758, 219, 918, 237, 412, 566, 826, 248, 866, 950, 626, 949, 687, 217, \n",
    "    815, 67, 104, 58, 512, 24, 892, 894, 767, 553, 81, 379, 843, 831, 445, 742, 717, \n",
    "    958,743, 527\n",
    "    ]\n",
    "#[(break) if num == 237 else (print(num)) for num in numbers]\n",
    "for x in numbers:\n",
    "    if x == 237:\n",
    "        print(x)  \n",
    "        break  \n",
    "    elif x % 2 == 0:\n",
    "        print(x)"
   ]
  }
 ],
 "metadata": {
  "kernelspec": {
   "display_name": "Python 3 (ipykernel)",
   "language": "python",
   "name": "python3"
  },
  "language_info": {
   "codemirror_mode": {
    "name": "ipython",
    "version": 3
   },
   "file_extension": ".py",
   "mimetype": "text/x-python",
   "name": "python",
   "nbconvert_exporter": "python",
   "pygments_lexer": "ipython3",
   "version": "3.9.12"
  }
 },
 "nbformat": 4,
 "nbformat_minor": 5
}
