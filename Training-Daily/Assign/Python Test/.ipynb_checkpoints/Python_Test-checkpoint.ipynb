{
 "cells": [
  {
   "cell_type": "markdown",
   "id": "4e9d0752",
   "metadata": {},
   "source": [
    "# Python Test"
   ]
  },
  {
   "cell_type": "markdown",
   "id": "b342bbad",
   "metadata": {},
   "source": [
    "### Section A"
   ]
  },
  {
   "cell_type": "markdown",
   "id": "8ee8e6cc",
   "metadata": {},
   "source": [
    "Q1) What will be the output of the following Python code?<br>"
   ]
  },
  {
   "cell_type": "code",
   "execution_count": 1,
   "id": "3af556f7",
   "metadata": {},
   "outputs": [
    {
     "name": "stdout",
     "output_type": "stream",
     "text": [
      "True\n"
     ]
    }
   ],
   "source": [
    "print((True or False) and True)"
   ]
  },
  {
   "cell_type": "markdown",
   "id": "b8559be4",
   "metadata": {},
   "source": [
    "Q2) What will be the output of the following Python code?"
   ]
  },
  {
   "cell_type": "code",
   "execution_count": 2,
   "id": "76e67e5d",
   "metadata": {},
   "outputs": [
    {
     "name": "stdout",
     "output_type": "stream",
     "text": [
      "5\n"
     ]
    }
   ],
   "source": [
    "lst = [1, 2, 3, 4, 5]\n",
    "print(lst[-1])"
   ]
  },
  {
   "cell_type": "markdown",
   "id": "85e2b2cf",
   "metadata": {},
   "source": [
    "Q3) Strings are immutable in Python, which means a string cannot be modified.<br>\n",
    "(a) True<br>\n",
    "(b) False"
   ]
  },
  {
   "cell_type": "markdown",
   "id": "2b6e413f",
   "metadata": {},
   "source": [
    "#### True"
   ]
  },
  {
   "cell_type": "markdown",
   "id": "3726e562",
   "metadata": {},
   "source": [
    "Q4) Which method should I use to convert String \"welcome to the beautiful world of python\" to \"Welcome To The Beautiful World Of Python\""
   ]
  },
  {
   "cell_type": "code",
   "execution_count": 3,
   "id": "fae680ef",
   "metadata": {},
   "outputs": [
    {
     "name": "stdout",
     "output_type": "stream",
     "text": [
      "Welcome To The Beautiful World Of Python\n"
     ]
    }
   ],
   "source": [
    "string = \"welcome to the beautiful world of python\"\n",
    "title_string = string.title()\n",
    "print(title_string)"
   ]
  },
  {
   "cell_type": "markdown",
   "id": "1468e13b",
   "metadata": {},
   "source": [
    "Q5) What is the output when we execute list(\"Python 3\")?"
   ]
  },
  {
   "cell_type": "code",
   "execution_count": 4,
   "id": "59864ce6",
   "metadata": {},
   "outputs": [
    {
     "data": {
      "text/plain": [
       "['P', 'y', 't', 'h', 'o', 'n', ' ', '3']"
      ]
     },
     "execution_count": 4,
     "metadata": {},
     "output_type": "execute_result"
    }
   ],
   "source": [
    "list(\"Python 3\")"
   ]
  },
  {
   "cell_type": "markdown",
   "id": "4207015d",
   "metadata": {},
   "source": [
    "Q6) What will be the output of the following Python code?"
   ]
  },
  {
   "cell_type": "code",
   "execution_count": 5,
   "id": "435f19e0",
   "metadata": {},
   "outputs": [
    {
     "name": "stdout",
     "output_type": "stream",
     "text": [
      "n\n"
     ]
    }
   ],
   "source": [
    "names = ['Maulik', 'Jignesh', 'Arjun']\n",
    "print(names[-1][-1])"
   ]
  },
  {
   "cell_type": "markdown",
   "id": "ec647e0a",
   "metadata": {},
   "source": [
    "Q7) Suppose lst is [1, 3, 2], What is lst*2?"
   ]
  },
  {
   "cell_type": "code",
   "execution_count": 6,
   "id": "f0472991",
   "metadata": {},
   "outputs": [
    {
     "name": "stdout",
     "output_type": "stream",
     "text": [
      "[1, 3, 2, 1, 3, 2]\n"
     ]
    }
   ],
   "source": [
    "lst=[1,3,2]\n",
    "print(lst*2)"
   ]
  },
  {
   "cell_type": "markdown",
   "id": "965f4857",
   "metadata": {},
   "source": [
    "Q8) What will be the output of the following Python code?"
   ]
  },
  {
   "cell_type": "code",
   "execution_count": 7,
   "id": "27241b0c",
   "metadata": {},
   "outputs": [
    {
     "name": "stdout",
     "output_type": "stream",
     "text": [
      "[0.0, 0.5]\n"
     ]
    }
   ],
   "source": [
    "print([0.5 * x for x in range(0, 2)])"
   ]
  },
  {
   "cell_type": "markdown",
   "id": "50c8ffe2",
   "metadata": {},
   "source": [
    "Q9) What will be the output of the following Python code?"
   ]
  },
  {
   "cell_type": "code",
   "execution_count": 8,
   "id": "c4613cd9",
   "metadata": {},
   "outputs": [
    {
     "name": "stdout",
     "output_type": "stream",
     "text": [
      "5\n"
     ]
    }
   ],
   "source": [
    "numbers = [1, 2, 3, 4]\n",
    "numbers.append([5,6,7,8])\n",
    "print(len(numbers))"
   ]
  },
  {
   "cell_type": "markdown",
   "id": "d1d23c64",
   "metadata": {},
   "source": [
    "Q10) What will be the output of the following Python code?"
   ]
  },
  {
   "cell_type": "code",
   "execution_count": 9,
   "id": "cba13cf9",
   "metadata": {},
   "outputs": [
    {
     "name": "stdout",
     "output_type": "stream",
     "text": [
      "[1, 5, 4, 3]\n"
     ]
    }
   ],
   "source": [
    "lst = [[3, 4, 5, 1], [33, 6, 1, 2]]\n",
    "print(lst[0][::-1])"
   ]
  },
  {
   "cell_type": "markdown",
   "id": "ad0e9027",
   "metadata": {},
   "source": [
    "Q11) What will be the output of the following Python code?"
   ]
  },
  {
   "cell_type": "code",
   "execution_count": 10,
   "id": "22d9b9a9",
   "metadata": {},
   "outputs": [
    {
     "name": "stdout",
     "output_type": "stream",
     "text": [
      "2\n"
     ]
    }
   ],
   "source": [
    "d = {\"maulik\":40, \"jignesh\":45}\n",
    "print(len(list(d.keys())))"
   ]
  },
  {
   "cell_type": "markdown",
   "id": "0eff195f",
   "metadata": {},
   "source": [
    "Q12) Write python code to get the value of the key “apples” if it exists and returns 0 if it does not?"
   ]
  },
  {
   "cell_type": "code",
   "execution_count": 11,
   "id": "940cffe1",
   "metadata": {},
   "outputs": [
    {
     "name": "stdout",
     "output_type": "stream",
     "text": [
      "4\n"
     ]
    }
   ],
   "source": [
    "fruits = {'bananas': 7, 'apples': 4, 'grapes': 19, 'pears': 4}\n",
    "apples_value = fruits.get('apples', 0)\n",
    "print(apples_value)"
   ]
  },
  {
   "cell_type": "markdown",
   "id": "4024b6b5",
   "metadata": {},
   "source": [
    "Q13) What will be the output of the following Python code?"
   ]
  },
  {
   "cell_type": "code",
   "execution_count": 13,
   "id": "5faed1ca",
   "metadata": {},
   "outputs": [
    {
     "name": "stdout",
     "output_type": "stream",
     "text": [
      "[2, 4, 6, 8, 10]\n"
     ]
    }
   ],
   "source": [
    "def even_check(num):\n",
    "    if num % 2 == 0:\n",
    "        return True\n",
    "    else:\n",
    "        return False\n",
    "\n",
    "numbers = [1, 2, 3, 4, 5, 6, 7, 8, 9, 10]\n",
    "even_numbers = filter(even_check, numbers)\n",
    "print(list(even_numbers))"
   ]
  },
  {
   "cell_type": "markdown",
   "id": "ce60dd59",
   "metadata": {},
   "source": [
    "Q14) In object oriented programming, what is the relation of an object to a class<br>\n",
    "(a) class is an instance of an object<br>\n",
    "(b) object is a child of a class<br>\n",
    "(c) object is a method of a class<br>\n",
    "(d) object is an instance of a class"
   ]
  },
  {
   "cell_type": "markdown",
   "id": "bebf4b6a",
   "metadata": {},
   "source": [
    "#### (d) object is an instance of a class"
   ]
  },
  {
   "cell_type": "markdown",
   "id": "a1a78816",
   "metadata": {},
   "source": [
    "Q15) What is the purpose of the try block in Python error handling?"
   ]
  },
  {
   "cell_type": "markdown",
   "id": "3061d375",
   "metadata": {},
   "source": [
    "#### The purpose of the try block in Python error handling is to enclose the code that might raise an exception.By enclosing this code within a try block, you can catch and handle exceptions gracefully.<br>If an exception occurs within the try block, Python will immediately jump to the appropriate except block that matches the type of exception raised. This allows you to handle the exception in a controlled manner, rather than letting it crash the program."
   ]
  },
  {
   "cell_type": "markdown",
   "id": "9fda43a6",
   "metadata": {},
   "source": [
    "Q16) Which of the following is NOT a standard Python exception?<br>\n",
    "(a) KeyError<br>\n",
    "(b) ValueException<br>\n",
    "(c) IndexError<br>\n",
    "(d) TypeError"
   ]
  },
  {
   "cell_type": "markdown",
   "id": "56f678a0",
   "metadata": {},
   "source": [
    "#### (b) ValueException"
   ]
  },
  {
   "cell_type": "markdown",
   "id": "1bc26fe3",
   "metadata": {},
   "source": [
    "Q17) Decorators do not modify a function _____<br>\n",
    "(a) Permanently<br>\n",
    "(b) Temporarily<br>\n",
    "(c) Can not be determined<br>\n",
    "(d) None of the above"
   ]
  },
  {
   "cell_type": "markdown",
   "id": "70365942",
   "metadata": {},
   "source": [
    "#### (a) Permanently"
   ]
  },
  {
   "cell_type": "markdown",
   "id": "0cc3f1b5",
   "metadata": {},
   "source": [
    "Q18) What will be the output of the following Python code?"
   ]
  },
  {
   "cell_type": "code",
   "execution_count": 14,
   "id": "7f8951ed",
   "metadata": {},
   "outputs": [
    {
     "name": "stdout",
     "output_type": "stream",
     "text": [
      "['a', 'b', 'c', 'd', '']\n"
     ]
    }
   ],
   "source": [
    "print(list(\"a#b#c#d#\".split('#')))"
   ]
  },
  {
   "cell_type": "markdown",
   "id": "24aedfa0",
   "metadata": {},
   "source": [
    "Q19) To which of the following the “in” operator can be used to check if an item is in it?<br> (a) Lists<br> (b) Dictionary<br> (c) Set<br> (d) Lists and Dictionary<br> (e) Lists, Dictionary, and Set"
   ]
  },
  {
   "cell_type": "markdown",
   "id": "5dac5136",
   "metadata": {},
   "source": [
    "#### (e) Lists, Dictionary, and Set"
   ]
  },
  {
   "cell_type": "markdown",
   "id": "b7e44a5e",
   "metadata": {},
   "source": [
    "Q20) Which of these about a dictionary is false?<br> \n",
    "(a) The values of a dictionary can be accessed using keys <br>(b) The keys of a dictionary can be accessed using values<br> (c) Dictionaries aren’t ordered<br> (d) Dictionaries are mutable"
   ]
  },
  {
   "cell_type": "markdown",
   "id": "c9f4780e",
   "metadata": {},
   "source": [
    "#### (b) The keys of a dictionary can be accessed using values."
   ]
  },
  {
   "cell_type": "markdown",
   "id": "c05d218d",
   "metadata": {},
   "source": [
    "Q21) What will the following regular expression pattern match? pattern = r'\\d+'<br>\n",
    "(a) Matches one or more digits <br>(b) Matches one or more alphabetic characters<br> (c) Matches any character<br> (d) Matches a specific string"
   ]
  },
  {
   "cell_type": "markdown",
   "id": "65b48bc4",
   "metadata": {},
   "source": [
    "#### (a) Matches one or more digits"
   ]
  },
  {
   "cell_type": "markdown",
   "id": "279b0654",
   "metadata": {},
   "source": [
    "Q22) Which character is used in Python to make a single line comment?<br> (a) / <br>(b) // <br>(c) # <br>(d) !"
   ]
  },
  {
   "cell_type": "markdown",
   "id": "02a206ef",
   "metadata": {},
   "source": [
    "#### (c)#"
   ]
  },
  {
   "cell_type": "markdown",
   "id": "874730c7",
   "metadata": {},
   "source": [
    "Q23) Which of the following is not a keyword in Python language?<br> (a) val <br>(b) raise <br>(c) try <br>(d) with"
   ]
  },
  {
   "cell_type": "markdown",
   "id": "4917c52c",
   "metadata": {},
   "source": [
    "#### (a) val"
   ]
  },
  {
   "cell_type": "markdown",
   "id": "e509620f",
   "metadata": {},
   "source": [
    "Q24) What will be the output of this function?"
   ]
  },
  {
   "cell_type": "code",
   "execution_count": 16,
   "id": "dd0752a3",
   "metadata": {},
   "outputs": [
    {
     "data": {
      "text/plain": [
       "5"
      ]
     },
     "execution_count": 16,
     "metadata": {},
     "output_type": "execute_result"
    }
   ],
   "source": [
    "round(4.576)"
   ]
  },
  {
   "cell_type": "markdown",
   "id": "3bc54c46",
   "metadata": {},
   "source": [
    "Q25) What will be the output of the following Python code?"
   ]
  },
  {
   "cell_type": "code",
   "execution_count": 18,
   "id": "1efede03",
   "metadata": {},
   "outputs": [
    {
     "name": "stdout",
     "output_type": "stream",
     "text": [
      "2\n",
      "4\n"
     ]
    }
   ],
   "source": [
    "i = 2\n",
    "while True:\n",
    "    if i % 3 == 0:\n",
    "        break\n",
    "    print(i)\n",
    "    i += 2"
   ]
  },
  {
   "cell_type": "markdown",
   "id": "1b8a86dc",
   "metadata": {},
   "source": [
    "Q26) What will be the output of the following Python code?"
   ]
  },
  {
   "cell_type": "code",
   "execution_count": 19,
   "id": "4c938a81",
   "metadata": {},
   "outputs": [
    {
     "name": "stdout",
     "output_type": "stream",
     "text": [
      "{0: 0, 1: 1, 2: 4}\n"
     ]
    }
   ],
   "source": [
    "print({i: i * i for i in range(3)})"
   ]
  },
  {
   "cell_type": "markdown",
   "id": "02acd215",
   "metadata": {},
   "source": [
    "Q27) What will be the output of the following Python code?"
   ]
  },
  {
   "cell_type": "code",
   "execution_count": 20,
   "id": "a57459ff",
   "metadata": {},
   "outputs": [
    {
     "name": "stdout",
     "output_type": "stream",
     "text": [
      "abc\n"
     ]
    }
   ],
   "source": [
    "print(\"a\"+\"bc\")"
   ]
  },
  {
   "cell_type": "markdown",
   "id": "ef5924b1",
   "metadata": {},
   "source": [
    "Q28) What is the option, when moving to a branch, to create the branch it if it does not exist?<br> (a) -b <br>(b) -all <br>(c) -new <br>(d) -newbranch"
   ]
  },
  {
   "cell_type": "markdown",
   "id": "88e43a5a",
   "metadata": {},
   "source": [
    "#### (a) -b"
   ]
  },
  {
   "cell_type": "markdown",
   "id": "26f036f6",
   "metadata": {},
   "source": [
    "Q29) Which command adds changes to the staging area in Git?<br> (a) git add <br>(b) git save <br>(c) git upload <br>(d) git stage"
   ]
  },
  {
   "cell_type": "markdown",
   "id": "b23eab52",
   "metadata": {},
   "source": [
    "#### (a) git add"
   ]
  },
  {
   "cell_type": "markdown",
   "id": "99bdc201",
   "metadata": {},
   "source": [
    "Q30) How do you push changes from a local branch to a remote repository?<br> (a) git send <br>(b) git upload <br>(c) git dispatch <br>(d) git push"
   ]
  },
  {
   "cell_type": "markdown",
   "id": "5ac75361",
   "metadata": {},
   "source": [
    "#### (d) git push"
   ]
  },
  {
   "cell_type": "markdown",
   "id": "121f94e6",
   "metadata": {},
   "source": [
    "### Section B"
   ]
  },
  {
   "cell_type": "markdown",
   "id": "aec2d98b",
   "metadata": {},
   "source": [
    "Q1) Write python program to find the second largest number in the integer list."
   ]
  },
  {
   "cell_type": "code",
   "execution_count": 21,
   "id": "73335d2c",
   "metadata": {},
   "outputs": [
    {
     "name": "stdout",
     "output_type": "stream",
     "text": [
      "Second largest number: 20\n"
     ]
    }
   ],
   "source": [
    "def second_largest(numbers):\n",
    "    numbers.sort(reverse=True)\n",
    "    return numbers[1]\n",
    "integer_list = [10, 5, 20, 15, 30]\n",
    "print(\"Second largest number:\", second_largest(integer_list))"
   ]
  },
  {
   "cell_type": "markdown",
   "id": "da8e6c8d",
   "metadata": {},
   "source": [
    "Q2) Write a Python program to count the frequency of each element in a list.<br>\n",
    "Example:<br>\n",
    "Input: nums = [1, 2, 3, 2, 1, 3, 2, 4, 5, 4]<br>\n",
    "Output: {1:2, 2:3, 3:2, 4:2, 5:1}<br>"
   ]
  },
  {
   "cell_type": "code",
   "execution_count": 22,
   "id": "c779089a",
   "metadata": {},
   "outputs": [
    {
     "name": "stdout",
     "output_type": "stream",
     "text": [
      "Output: {1: 2, 2: 3, 3: 2, 4: 2, 5: 1}\n"
     ]
    }
   ],
   "source": [
    "def count_frequency(nums):\n",
    "    frequency = {}\n",
    "    for num in nums:\n",
    "        if num in frequency:\n",
    "            frequency[num] += 1\n",
    "        else:\n",
    "            frequency[num] = 1\n",
    "    return frequency\n",
    "\n",
    "nums = [1, 2, 3, 2, 1, 3, 2, 4, 5, 4]\n",
    "frequency = count_frequency(nums)\n",
    "print(\"Output:\", frequency)"
   ]
  },
  {
   "cell_type": "markdown",
   "id": "833cfc97",
   "metadata": {},
   "source": [
    "Q3) Write a Python program to find the common elements between two lists.<br>\n",
    "Example:<br>\n",
    "Input: list_a = [1, 2, 3, 4, 5] and list_b = [4, 5, 6, 7, 8]<br>\n",
    "Output: [4, 5]<br>"
   ]
  },
  {
   "cell_type": "code",
   "execution_count": 24,
   "id": "ab24c6be",
   "metadata": {},
   "outputs": [
    {
     "name": "stdout",
     "output_type": "stream",
     "text": [
      "Output: [4, 5]\n"
     ]
    }
   ],
   "source": [
    "def find_common_elements(list_a, list_b):\n",
    "    set_a = set(list_a)\n",
    "    set_b = set(list_b)\n",
    "    common_elements = set_a.intersection(set_b)\n",
    "    return list(common_elements)\n",
    "\n",
    "list_a = [1, 2, 3, 4, 5]\n",
    "list_b = [4, 5, 6, 7, 8]\n",
    "common_elements = find_common_elements(list_a, list_b)\n",
    "print(\"Output:\", common_elements)\n"
   ]
  },
  {
   "cell_type": "markdown",
   "id": "09fcdf6f",
   "metadata": {},
   "source": [
    "Q4) Write a Python program to count Vowels in a Given Word.<br>\n",
    "Example:<br>\n",
    "Input: word = \"programming\"<br>\n",
    "Output: 3"
   ]
  },
  {
   "cell_type": "code",
   "execution_count": 25,
   "id": "ccc43a1f",
   "metadata": {},
   "outputs": [
    {
     "name": "stdout",
     "output_type": "stream",
     "text": [
      "Output: 3\n"
     ]
    }
   ],
   "source": [
    "def count_vowels(word):\n",
    "    vowels = \"aeiouAEIOU\"\n",
    "    count = 0\n",
    "    for char in word:\n",
    "        if char in vowels:\n",
    "            count += 1\n",
    "    return count\n",
    "\n",
    "word = \"programming\"\n",
    "vowel_count = count_vowels(word)\n",
    "print(\"Output:\", vowel_count)"
   ]
  },
  {
   "cell_type": "markdown",
   "id": "0200a109",
   "metadata": {},
   "source": [
    "Q5) Write a program that accepts a sentence and calculate the number of letters and digits.<br>\n",
    "Suppose the following input is supplied to the program:<br>\n",
    "hello world! 123<br>\n",
    "Then, the output should be:<br>\n",
    "LETTERS 10<br>\n",
    "DIGITS 3"
   ]
  },
  {
   "cell_type": "code",
   "execution_count": 26,
   "id": "8ac5db75",
   "metadata": {},
   "outputs": [
    {
     "name": "stdout",
     "output_type": "stream",
     "text": [
      "Enter a sentence: hello world! 123\n",
      "LETTERS 10\n",
      "DIGITS 3\n"
     ]
    }
   ],
   "source": [
    "def count_letters_digits(sentence):\n",
    "    letters_count = 0\n",
    "    digits_count = 0\n",
    "    for char in sentence:\n",
    "        if char.isalpha():\n",
    "            letters_count += 1\n",
    "        elif char.isdigit():\n",
    "            digits_count += 1\n",
    "    return letters_count, digits_count\n",
    "\n",
    "sentence = input(\"Enter a sentence: \")\n",
    "letters_count, digits_count = count_letters_digits(sentence)\n",
    "print(\"LETTERS\", letters_count)\n",
    "print(\"DIGITS\", digits_count)"
   ]
  },
  {
   "cell_type": "markdown",
   "id": "026c97a7",
   "metadata": {},
   "source": [
    "Q6) Create a Python function that takes two dictionaries as input and merges them into a single dictionary. If there are any common keys, the values should be added together.<br>\n",
    "Example:<br>\n",
    "Input: dict1 = {\"a\":1, \"b\": 2}, dict2 = {\"c\":3, \"a\":4}<br>\n",
    "Output: {\"a\":5, \"b\": 2, \"c\":3}<br>"
   ]
  },
  {
   "cell_type": "code",
   "execution_count": 27,
   "id": "7f07ee62",
   "metadata": {},
   "outputs": [
    {
     "name": "stdout",
     "output_type": "stream",
     "text": [
      "Output: {'a': 5, 'b': 2, 'c': 3}\n"
     ]
    }
   ],
   "source": [
    "def merge_dictionaries(dict1, dict2):\n",
    "    merged_dict = dict1.copy()\n",
    "    for key, value in dict2.items():\n",
    "        if key in merged_dict:\n",
    "            merged_dict[key] += value\n",
    "        else:\n",
    "            merged_dict[key] = value\n",
    "    return merged_dict\n",
    "\n",
    "dict1 = {\"a\": 1, \"b\": 2}\n",
    "dict2 = {\"c\": 3, \"a\": 4}\n",
    "merged_dict = merge_dictionaries(dict1, dict2)\n",
    "print(\"Output:\", merged_dict)"
   ]
  },
  {
   "cell_type": "markdown",
   "id": "078982db",
   "metadata": {},
   "source": [
    "Q7) Create a Python function that takes a dictionary as input and returns a new dictionary with keys as values and values as keys (assuming values are unique)."
   ]
  },
  {
   "cell_type": "code",
   "execution_count": 32,
   "id": "7878fa8c",
   "metadata": {},
   "outputs": [
    {
     "name": "stdout",
     "output_type": "stream",
     "text": [
      "Output: {1: 'a', 2: 'b', 3: 'c'}\n"
     ]
    }
   ],
   "source": [
    "def swap_keys_values(input_dict):\n",
    "    return {value: key for key, value in input_dict.items()}\n",
    "\n",
    "input_dict = {\"a\": 1, \"b\": 2, \"c\": 3}\n",
    "swapped_dict = swap_keys_values(input_dict)\n",
    "print(\"Output:\", swapped_dict)"
   ]
  },
  {
   "cell_type": "markdown",
   "id": "594acbcb",
   "metadata": {},
   "source": [
    "Q8) Create a Python function that takes two lists as input and returns True if they have at least one common element, False otherwise."
   ]
  },
  {
   "cell_type": "code",
   "execution_count": 34,
   "id": "300ab6e8",
   "metadata": {},
   "outputs": [
    {
     "name": "stdout",
     "output_type": "stream",
     "text": [
      "Output: True\n"
     ]
    }
   ],
   "source": [
    "def have_common_element(list1, list2):\n",
    "    set1 = set(list1)\n",
    "    for element in list2:\n",
    "        if element in set1:\n",
    "            return True\n",
    "    return False\n",
    "\n",
    "list1 = [1, 2, 3, 4, 5]\n",
    "list2 = [5, 6, 7, 8, 9]\n",
    "result = have_common_element(list1, list2)\n",
    "print(\"Output:\", result)"
   ]
  },
  {
   "cell_type": "markdown",
   "id": "82ea103e",
   "metadata": {},
   "source": [
    "Q9) Write a Python program that reads a text file, counts the frequency of each character, and stores the counts in a dictionary where the keys are the characters and the values are the frequencies."
   ]
  },
  {
   "cell_type": "code",
   "execution_count": 38,
   "id": "d7adc8fc",
   "metadata": {},
   "outputs": [
    {
     "name": "stdout",
     "output_type": "stream",
     "text": [
      "Character Frequency: {'L': 5, 'o': 25, 'r': 24, 'e': 59, 'm': 18, ' ': 90, 'I': 6, 'p': 18, 's': 39, 'u': 17, 'i': 32, 'l': 17, 'y': 13, 'd': 16, 't': 43, 'x': 2, 'f': 6, 'h': 14, 'n': 38, 'g': 11, 'a': 28, '.': 4, 'b': 5, \"'\": 1, 'v': 5, 'c': 10, '1': 2, '5': 1, '0': 3, ',': 4, 'w': 6, 'k': 7, '9': 1, '6': 1, 'A': 1, 'P': 1, 'M': 1}\n"
     ]
    }
   ],
   "source": [
    "def count_character_frequency(file_name):\n",
    "    char_frequency = {}\n",
    "    with open(file_name, 'r') as file:\n",
    "        for line in file:\n",
    "            for char in line:\n",
    "                if char in char_frequency:\n",
    "                    char_frequency[char] += 1\n",
    "                else:\n",
    "                    char_frequency[char] = 1\n",
    "    return char_frequency\n",
    "\n",
    "file_name = \"example.txt\"\n",
    "frequency_dict = count_character_frequency(file_name)\n",
    "print(\"Character Frequency:\", frequency_dict)"
   ]
  },
  {
   "cell_type": "markdown",
   "id": "55bdec14",
   "metadata": {},
   "source": [
    "Q10) Write a program to address the following scenario -\n",
    "Given an integer list nums, return true if any value appears at least twice in the list, and return false if every element is distinct.<br>\n",
    "Example 1:<br>\n",
    "Input: nums = [1,2,3,1]<br>\n",
    "Output: true<br>\n",
    "Example 2:<br>\n",
    "Input: nums = [1,2,3,4]<br>\n",
    "Output: false<br>\n",
    "Example 3:<br>\n",
    "Input: nums = [1,1,1,3,3,4,3,2,4,2]<br>\n",
    "Output: true"
   ]
  },
  {
   "cell_type": "code",
   "execution_count": 41,
   "id": "a1fbd7d3",
   "metadata": {},
   "outputs": [
    {
     "name": "stdout",
     "output_type": "stream",
     "text": [
      "Example 1:\n",
      "Input: [1, 2, 3, 1]\n",
      "Output: True\n"
     ]
    }
   ],
   "source": [
    "def contains_duplicate(nums):\n",
    "    seen = set()\n",
    "    for num in nums:\n",
    "        if num in seen:\n",
    "            return True\n",
    "        else:\n",
    "            seen.add(num)\n",
    "    return False\n",
    "\n",
    "nums1 = [1, 2, 3, 1]\n",
    "print(\"Example 1:\")\n",
    "print(\"Input:\", nums1)\n",
    "print(\"Output:\", contains_duplicate(nums1))"
   ]
  },
  {
   "cell_type": "markdown",
   "id": "f23262af",
   "metadata": {},
   "source": [
    "# Section C"
   ]
  },
  {
   "cell_type": "markdown",
   "id": "ff3254fa",
   "metadata": {},
   "source": [
    "1) Write a Python function that takes a list of dictionaries representing students' grades (keys: 'name' and 'grade') and returns a dictionary where the keys are the grade levels ('A', 'B', 'C') and the values are the counts of students who received each grade.<br>\n",
    "Example:<br>\n",
    "Input: dict1 = [{\"name\": \"Maulik\", \"grade\": \"A\"}, {\"name\": \"Jignesh\", \"grade\": \"A\"}, {\"name\": \"Arjun\", \"grade\": \"B\"}, {\"name\": \"Hemin\", \"grade\": \"C\"}]<br>\n",
    "Output: {\"A\":2, \"B\": 1, \"C\": 1}"
   ]
  },
  {
   "cell_type": "code",
   "execution_count": 42,
   "id": "e2b2db1b",
   "metadata": {},
   "outputs": [
    {
     "name": "stdout",
     "output_type": "stream",
     "text": [
      "Output: {'A': 2, 'B': 1, 'C': 1}\n"
     ]
    }
   ],
   "source": [
    "def count_grades(students):\n",
    "    grade_count = {'A': 0, 'B': 0, 'C': 0}\n",
    "    for student in students:\n",
    "        grade = student['grade']\n",
    "        grade_count[grade] += 1\n",
    "    return grade_count\n",
    "\n",
    "dict1 = [\n",
    "    {\"name\": \"Maulik\", \"grade\": \"A\"},\n",
    "    {\"name\": \"Jignesh\", \"grade\": \"A\"},\n",
    "    {\"name\": \"Arjun\", \"grade\": \"B\"},\n",
    "    {\"name\": \"Hemin\", \"grade\": \"C\"}\n",
    "]\n",
    "grades_count = count_grades(dict1)\n",
    "print(\"Output:\", grades_count)"
   ]
  },
  {
   "cell_type": "markdown",
   "id": "2295ac90",
   "metadata": {},
   "source": [
    "2) Create a Python class named \"DictOperations\" with methods to manipulate dictionaries, including:<br>\n",
    "(a) Adding a key-value pair to the dictionary.<br>\n",
    "(b) Removing a key-value pair from the dictionary.<br>\n",
    "(c) Updating the value associated with a specific key.<br>\n",
    "(d) Checking if a key exists in the dictionary.<br>\n",
    "(e) Retrieving all keys or values from the dictionary."
   ]
  },
  {
   "cell_type": "code",
   "execution_count": 45,
   "id": "45e608bb",
   "metadata": {},
   "outputs": [
    {
     "name": "stdout",
     "output_type": "stream",
     "text": [
      "\n",
      "1. Add a key-value pair\n",
      "2. Remove a key-value pair\n",
      "3. Update the value associated with a key\n",
      "4. Check if a key exists\n",
      "5. Retrieve all keys\n",
      "6. Retrieve all values\n",
      "7. Exit\n",
      "\n",
      "Enter your choice: 1\n",
      "Enter the key: kozak\n",
      "Enter the value: mod\n",
      "\n",
      "1. Add a key-value pair\n",
      "2. Remove a key-value pair\n",
      "3. Update the value associated with a key\n",
      "4. Check if a key exists\n",
      "5. Retrieve all keys\n",
      "6. Retrieve all values\n",
      "7. Exit\n",
      "\n",
      "Enter your choice: 1\n",
      "Enter the key: shrey\n",
      "Enter the value: aman\n",
      "\n",
      "1. Add a key-value pair\n",
      "2. Remove a key-value pair\n",
      "3. Update the value associated with a key\n",
      "4. Check if a key exists\n",
      "5. Retrieve all keys\n",
      "6. Retrieve all values\n",
      "7. Exit\n",
      "\n",
      "Enter your choice: 1\n",
      "Enter the key: kero\n",
      "Enter the value: chan\n",
      "\n",
      "1. Add a key-value pair\n",
      "2. Remove a key-value pair\n",
      "3. Update the value associated with a key\n",
      "4. Check if a key exists\n",
      "5. Retrieve all keys\n",
      "6. Retrieve all values\n",
      "7. Exit\n",
      "\n",
      "Enter your choice: 3\n",
      "Enter the key to update: kero\n",
      "Enter the new value: kun\n",
      "Value updated successfully.\n",
      "\n",
      "1. Add a key-value pair\n",
      "2. Remove a key-value pair\n",
      "3. Update the value associated with a key\n",
      "4. Check if a key exists\n",
      "5. Retrieve all keys\n",
      "6. Retrieve all values\n",
      "7. Exit\n",
      "\n",
      "Enter your choice: 2\n",
      "Enter the key to remove: shrey\n",
      "Key-value pair removed successfully.\n",
      "\n",
      "1. Add a key-value pair\n",
      "2. Remove a key-value pair\n",
      "3. Update the value associated with a key\n",
      "4. Check if a key exists\n",
      "5. Retrieve all keys\n",
      "6. Retrieve all values\n",
      "7. Exit\n",
      "\n",
      "Enter your choice: 4\n",
      "Enter the key to check: kozak\n",
      "Key exists in the dictionary.\n",
      "\n",
      "1. Add a key-value pair\n",
      "2. Remove a key-value pair\n",
      "3. Update the value associated with a key\n",
      "4. Check if a key exists\n",
      "5. Retrieve all keys\n",
      "6. Retrieve all values\n",
      "7. Exit\n",
      "\n",
      "Enter your choice: 5\n",
      "All keys: ['kozak', 'kero']\n",
      "\n",
      "1. Add a key-value pair\n",
      "2. Remove a key-value pair\n",
      "3. Update the value associated with a key\n",
      "4. Check if a key exists\n",
      "5. Retrieve all keys\n",
      "6. Retrieve all values\n",
      "7. Exit\n",
      "\n",
      "Enter your choice: 6\n",
      "All values: ['mod', 'kun']\n",
      "\n",
      "1. Add a key-value pair\n",
      "2. Remove a key-value pair\n",
      "3. Update the value associated with a key\n",
      "4. Check if a key exists\n",
      "5. Retrieve all keys\n",
      "6. Retrieve all values\n",
      "7. Exit\n",
      "\n",
      "Enter your choice: 7\n",
      "Exiting the program...\n"
     ]
    }
   ],
   "source": [
    "class DictOperations:\n",
    "    def __init__(self):\n",
    "        self.dictionary = {}\n",
    "\n",
    "    def add_pair(self, key, value):\n",
    "        self.dictionary[key] = value\n",
    "\n",
    "    def remove_pair(self, key):\n",
    "        if key in self.dictionary:\n",
    "            del self.dictionary[key]\n",
    "            print(\"Key-value pair removed successfully.\")\n",
    "        else:\n",
    "            print(\"Key not found in the dictionary.\")\n",
    "\n",
    "    def update_value(self, key, value):\n",
    "        if key in self.dictionary:\n",
    "            self.dictionary[key] = value\n",
    "            print(\"Value updated successfully.\")\n",
    "        else:\n",
    "            print(\"Key not found in the dictionary.\")\n",
    "\n",
    "    def check_key(self, key):\n",
    "        return key in self.dictionary\n",
    "\n",
    "    def get_all_keys(self):\n",
    "        return list(self.dictionary.keys())\n",
    "\n",
    "    def get_all_values(self):\n",
    "        return list(self.dictionary.values())\n",
    "\n",
    "\n",
    "# Example usage:\n",
    "dict_ops = DictOperations()\n",
    "\n",
    "while True:\n",
    "    print(\"\\n1. Add a key-value pair\")\n",
    "    print(\"2. Remove a key-value pair\")\n",
    "    print(\"3. Update the value associated with a key\")\n",
    "    print(\"4. Check if a key exists\")\n",
    "    print(\"5. Retrieve all keys\")\n",
    "    print(\"6. Retrieve all values\")\n",
    "    print(\"7. Exit\")\n",
    "\n",
    "    choice = input(\"\\nEnter your choice: \")\n",
    "\n",
    "    if choice == '1':\n",
    "        key = input(\"Enter the key: \")\n",
    "        value = input(\"Enter the value: \")\n",
    "        dict_ops.add_pair(key, value)\n",
    "    elif choice == '2':\n",
    "        key = input(\"Enter the key to remove: \")\n",
    "        dict_ops.remove_pair(key)\n",
    "    elif choice == '3':\n",
    "        key = input(\"Enter the key to update: \")\n",
    "        value = input(\"Enter the new value: \")\n",
    "        dict_ops.update_value(key, value)\n",
    "    elif choice == '4':\n",
    "        key = input(\"Enter the key to check: \")\n",
    "        if dict_ops.check_key(key):\n",
    "            print(\"Key exists in the dictionary.\")\n",
    "        else:\n",
    "            print(\"Key does not exist in the dictionary.\")\n",
    "    elif choice == '5':\n",
    "        print(\"All keys:\", dict_ops.get_all_keys())\n",
    "    elif choice == '6':\n",
    "        print(\"All values:\", dict_ops.get_all_values())\n",
    "    elif choice == '7':\n",
    "        print(\"Exiting the program...\")\n",
    "        break\n",
    "    else:\n",
    "        print(\"Invalid choice. Please enter a valid option.\")\n"
   ]
  }
 ],
 "metadata": {
  "kernelspec": {
   "display_name": "Python 3 (ipykernel)",
   "language": "python",
   "name": "python3"
  },
  "language_info": {
   "codemirror_mode": {
    "name": "ipython",
    "version": 3
   },
   "file_extension": ".py",
   "mimetype": "text/x-python",
   "name": "python",
   "nbconvert_exporter": "python",
   "pygments_lexer": "ipython3",
   "version": "3.10.9"
  }
 },
 "nbformat": 4,
 "nbformat_minor": 5
}
