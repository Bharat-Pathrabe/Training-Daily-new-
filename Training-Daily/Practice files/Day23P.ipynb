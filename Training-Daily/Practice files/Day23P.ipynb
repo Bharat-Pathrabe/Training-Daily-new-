{
 "cells": [
  {
   "cell_type": "markdown",
   "id": "108ac373",
   "metadata": {},
   "source": [
    "# Practice"
   ]
  },
  {
   "cell_type": "markdown",
   "id": "b614a8b3",
   "metadata": {},
   "source": [
    "Write a Python program to create a person class. Include attributes like name, country and date of birth. Implement a method to determine the person's age."
   ]
  },
  {
   "cell_type": "code",
   "execution_count": 3,
   "id": "2de1eaea",
   "metadata": {
    "scrolled": true
   },
   "outputs": [
    {
     "name": "stdout",
     "output_type": "stream",
     "text": [
      "Person 1:\n",
      "Name: Ferdi Odilia\n",
      "Country: France\n",
      "Date of Birth: 1962-07-12\n",
      "Age: 61\n",
      "\n",
      "Person 2:\n",
      "Name: Shweta Maddox\n",
      "Country: Canada\n",
      "Date of Birth: 1982-10-20\n",
      "Age: 41\n",
      "\n",
      "Person 3:\n",
      "Name: Elizaveta Tilman\n",
      "Country: USA\n",
      "Date of Birth: 1997-07-18\n",
      "Age: 26\n"
     ]
    }
   ],
   "source": [
    "# Import the date class from the datetime module to work with dates\n",
    "from datetime import date\n",
    "\n",
    "# Define a class called Person to represent a person with a name, country, and date of birth\n",
    "class Person:\n",
    "    # Initialize the Person object with a name, country, and date of birth\n",
    "    def __init__(self, name, country, date_of_birth):\n",
    "        self.name = name\n",
    "        self.country = country\n",
    "        self.date_of_birth = date_of_birth\n",
    "    \n",
    "    # Calculate the age of the person based on their date of birth\n",
    "    def calculate_age(self):\n",
    "        today = date.today()\n",
    "        age = today.year - self.date_of_birth.year\n",
    "        if today < date(today.year, self.date_of_birth.month, self.date_of_birth.day):\n",
    "            age -= 1\n",
    "        return age\n",
    "\n",
    "# Example usage\n",
    "# Create three Person objects with different attributes\n",
    "person1 = Person(\"Ferdi Odilia\", \"France\", date(1962, 7, 12))\n",
    "person2 = Person(\"Shweta Maddox\", \"Canada\", date(1982, 10, 20))\n",
    "person3 = Person(\"Elizaveta Tilman\", \"USA\", date(1997, 7, 18))\n",
    "\n",
    "# Access and print the attributes and calculated age for each person\n",
    "print(\"Person 1:\")\n",
    "print(\"Name:\", person1.name)\n",
    "print(\"Country:\", person1.country)\n",
    "print(\"Date of Birth:\", person1.date_of_birth)\n",
    "print(\"Age:\", person1.calculate_age())\n",
    "\n",
    "print(\"\\nPerson 2:\")\n",
    "print(\"Name:\", person2.name)\n",
    "print(\"Country:\", person2.country)\n",
    "print(\"Date of Birth:\", person2.date_of_birth)\n",
    "print(\"Age:\", person2.calculate_age())\n",
    "\n",
    "print(\"\\nPerson 3:\")\n",
    "print(\"Name:\", person3.name)\n",
    "print(\"Country:\", person3.country)\n",
    "print(\"Date of Birth:\", person3.date_of_birth)\n",
    "print(\"Age:\", person3.calculate_age())\n"
   ]
  },
  {
   "cell_type": "markdown",
   "id": "2410b765",
   "metadata": {},
   "source": [
    "Write a Python program to create a class that represents a shape. Include methods to calculate its area and perimeter. Implement subclasses for different shapes like circle, triangle, and square."
   ]
  },
  {
   "cell_type": "code",
   "execution_count": 4,
   "id": "78670444",
   "metadata": {
    "scrolled": true
   },
   "outputs": [
    {
     "name": "stdout",
     "output_type": "stream",
     "text": [
      "Radius of the circle: 7\n",
      "Circle Area: 153.93804002589985\n",
      "Circle Perimeter: 43.982297150257104\n",
      "\n",
      "Rectangle: Length = 5  Width = 7\n",
      "Rectangle Area: 35\n",
      "Rectangle Perimeter: 24\n",
      "\n",
      "Triangle: Base = 5  Height = 4  side1 = 4  side2 = 3  side3 = 5\n",
      "Triangle Area: 10.0\n",
      "Triangle Perimeter: 12\n"
     ]
    }
   ],
   "source": [
    "import math\n",
    "\n",
    "class Shape:\n",
    "    def calculate_area(self):\n",
    "        pass\n",
    "\n",
    "    def calculate_perimeter(self):\n",
    "        pass\n",
    "\n",
    "class Circle(Shape):\n",
    "    def __init__(self, radius):\n",
    "        self.radius = radius\n",
    "\n",
    "    def calculate_area(self):\n",
    "        return math.pi * self.radius**2\n",
    "\n",
    "    def calculate_perimeter(self):\n",
    "        return 2 * math.pi * self.radius\n",
    "\n",
    "class Rectangle(Shape):\n",
    "    def __init__(self, length, width):\n",
    "        self.length = length\n",
    "        self.width = width\n",
    "\n",
    "    def calculate_area(self):\n",
    "        return self.length * self.width\n",
    "\n",
    "    def calculate_perimeter(self):\n",
    "        return 2 * (self.length + self.width)\n",
    "\n",
    "class Triangle(Shape):\n",
    "    def __init__(self, base, height, side1, side2, side3):\n",
    "        self.base = base\n",
    "        self.height = height\n",
    "        self.side1 = side1\n",
    "        self.side2 = side2\n",
    "        self.side3 = side3\n",
    "\n",
    "    def calculate_area(self):\n",
    "        return 0.5 * self.base * self.height\n",
    "\n",
    "    def calculate_perimeter(self):\n",
    "        return self.side1 + self.side2 + self.side3\n",
    "\n",
    "r = 7\n",
    "circle = Circle(r)\n",
    "circle_area = circle.calculate_area()\n",
    "circle_perimeter = circle.calculate_perimeter()\n",
    "\n",
    "print(\"Radius of the circle:\", r)\n",
    "print(\"Circle Area:\", circle_area)\n",
    "print(\"Circle Perimeter:\", circle_perimeter)\n",
    "\n",
    "l = 5\n",
    "w = 7\n",
    "rectangle = Rectangle(l, w)\n",
    "rectangle_area = rectangle.calculate_area()\n",
    "rectangle_perimeter = rectangle.calculate_perimeter()\n",
    "\n",
    "print(\"\\nRectangle: Length =\", l, \" Width =\", w)\n",
    "print(\"Rectangle Area:\", rectangle_area)\n",
    "print(\"Rectangle Perimeter:\", rectangle_perimeter)\n",
    "\n",
    "base = 5\n",
    "height = 4\n",
    "s1 = 4\n",
    "s2 = 3\n",
    "s3 = 5\n",
    "\n",
    "print(\"\\nTriangle: Base =\", base, \" Height =\", height, \" side1 =\", s1, \" side2 =\", s2, \" side3 =\", s3)\n",
    "triangle = Triangle(base, height, s1, s2, s3)\n",
    "triangle_area = triangle.calculate_area()\n",
    "triangle_perimeter = triangle.calculate_perimeter()\n",
    "print(\"Triangle Area:\", triangle_area)\n",
    "print(\"Triangle Perimeter:\", triangle_perimeter)\n"
   ]
  },
  {
   "cell_type": "code",
   "execution_count": 5,
   "id": "63384f1e",
   "metadata": {},
   "outputs": [
    {
     "name": "stdout",
     "output_type": "stream",
     "text": [
      "None\n"
     ]
    }
   ],
   "source": [
    "numbers = [1, 2, 3, 4]\n",
    "digits = numbers.append(5)\n",
    "print(digits)"
   ]
  }
 ],
 "metadata": {
  "kernelspec": {
   "display_name": "Python 3 (ipykernel)",
   "language": "python",
   "name": "python3"
  },
  "language_info": {
   "codemirror_mode": {
    "name": "ipython",
    "version": 3
   },
   "file_extension": ".py",
   "mimetype": "text/x-python",
   "name": "python",
   "nbconvert_exporter": "python",
   "pygments_lexer": "ipython3",
   "version": "3.9.12"
  }
 },
 "nbformat": 4,
 "nbformat_minor": 5
}
