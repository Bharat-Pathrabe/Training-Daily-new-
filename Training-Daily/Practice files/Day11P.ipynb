{
 "cells": [
  {
   "cell_type": "markdown",
   "id": "1606cff4",
   "metadata": {},
   "source": [
    "# Practice (String Cont.)"
   ]
  },
  {
   "cell_type": "markdown",
   "id": "baaa6507",
   "metadata": {},
   "source": [
    "Q) Python program to display formatted text (width=70) as output."
   ]
  },
  {
   "cell_type": "code",
   "execution_count": 39,
   "id": "3a768c1d",
   "metadata": {},
   "outputs": [
    {
     "name": "stdout",
     "output_type": "stream",
     "text": [
      "\n",
      "Python is a widely used high-level, general-purpose, interpreted,\n",
      "dynamic programming language. Its design philosophy emphasizes code\n",
      "readability, and its syntax allows programmers to express concepts in\n",
      "fewer lines of code than possible in languages such as C++ or Java.\n",
      "\n"
     ]
    }
   ],
   "source": [
    "import textwrap\n",
    "sample_text = '''Python is a widely used high-level, general-purpose, interpreted,\n",
    "dynamic programming language. Its design philosophy emphasizes\n",
    "code readability, and its syntax allows programmers to express\n",
    "concepts in fewer lines of code than possible in languages such\n",
    "as C++ or Java.\n",
    "  '''\n",
    "print()\n",
    "print(textwrap.fill(sample_text, width=70))\n",
    "print()\n"
   ]
  },
  {
   "cell_type": "code",
   "execution_count": 43,
   "id": "15a51b0f",
   "metadata": {},
   "outputs": [
    {
     "name": "stdout",
     "output_type": "stream",
     "text": [
      "Python is a widely used high-level, general-purpose, interpreted,\n",
      "dynamic programming language. Its design philosophy emphasizes code\n",
      "readability, and its syntax allows programmers to express concepts in\n",
      "fewer lines of code than possible in languages such as C++ or Java.\n"
     ]
    }
   ],
   "source": [
    "sample_text = '''Python is a widely used high-level, general-purpose, interpreted,\n",
    "dynamic programming language. Its design philosophy emphasizes\n",
    "code readability, and its syntax allows programmers to express\n",
    "concepts in fewer lines of code than possible in languages such\n",
    "as C++ or Java.\n",
    "  '''\n",
    "sample_text = sample_text.split()\n",
    "width = 70\n",
    "each_sentence = \"\"\n",
    "for x in sample_text:\n",
    "   if len(each_sentence) + len(x) + 1 <= width:\n",
    "       each_sentence = \" \".join((each_sentence, x))\n",
    "   else:\n",
    "       print(each_sentence.strip())\n",
    "       each_sentence = x\n",
    "if each_sentence:\n",
    "   print(each_sentence)"
   ]
  },
  {
   "cell_type": "markdown",
   "id": "c91f3275",
   "metadata": {},
   "source": [
    "Q) Python program to remove existing indentation from all of the lines in a given text."
   ]
  },
  {
   "cell_type": "code",
   "execution_count": 65,
   "id": "79e7a56e",
   "metadata": {},
   "outputs": [
    {
     "name": "stdout",
     "output_type": "stream",
     "text": [
      "cleaned:\n",
      "Python is a widely used high-level, general-purpose, interpreted,\n",
      "dynamic programming language. Its design philosophy emphasizes\n",
      "code readability, and its syntax allows programmers to express\n",
      "concepts in fewer lines of code than possible in languages such\n",
      "as C++ or Java.\n",
      "\n"
     ]
    }
   ],
   "source": [
    "st = '''Python is a widely used high-level, general-purpose, interpreted,\n",
    "    dynamic programming language. Its design philosophy emphasizes\n",
    "code readability, and its syntax allows programmers to express\n",
    "        concepts in fewer lines of code than possible in languages such\n",
    "as C++ or Java.\n",
    "  '''\n",
    "\n",
    "def r_indent(st):\n",
    "    l= st.split(\"\\n\")\n",
    "    c_l=[i.lstrip() for i in l]\n",
    "    return \"\\n\".join(c_l)\n",
    "\n",
    "print(f\"cleaned:\\n{r_indent(st)}\")"
   ]
  },
  {
   "cell_type": "code",
   "execution_count": 67,
   "id": "d5ceada1",
   "metadata": {},
   "outputs": [
    {
     "name": "stdout",
     "output_type": "stream",
     "text": [
      "\n",
      "Python is a widely used high-level, general-purpose, interpreted,\n",
      "dynamic programming language. Its design philosophy emphasizes\n",
      "code readability, and its syntax allows programmers to express\n",
      "concepts in fewer lines of code than possible in languages such\n",
      "as C++ or Java.\n",
      "\n"
     ]
    }
   ],
   "source": [
    "import textwrap\n",
    "sample_text = '''\n",
    "    Python is a widely used high-level, general-purpose, interpreted,\n",
    "    dynamic programming language. Its design philosophy emphasizes\n",
    "    code readability, and its syntax allows programmers to express\n",
    "    concepts in fewer lines of code than possible in languages such\n",
    "    as C++ or Java.\n",
    "    '''\n",
    "text_without_Indentation = textwrap.dedent(sample_text)\n",
    "print(text_without_Indentation )"
   ]
  },
  {
   "cell_type": "markdown",
   "id": "fc5ec9f1",
   "metadata": {},
   "source": [
    "Q) Python program to add prefix text to all of the lines in a string."
   ]
  },
  {
   "cell_type": "code",
   "execution_count": 77,
   "id": "f09a798f",
   "metadata": {},
   "outputs": [
    {
     "name": "stdout",
     "output_type": "stream",
     "text": [
      "After Modification:\n",
      ":- Python is a widely used high-level, general-purpose, interpreted,\n",
      ":- dynamic programming language. Its design philosophy emphasizes\n",
      ":- code readability, and its syntax allows programmers to express\n",
      ":- concepts in fewer lines of code than possible in languages such\n",
      ":- as C++ or Java.\n"
     ]
    }
   ],
   "source": [
    "def pref(st,pre):\n",
    "    r= \"\\n\".join(pre+\" \"+i for i in st.split(\"\\n\"))\n",
    "    return r\n",
    "\n",
    "st='''Python is a widely used high-level, general-purpose, interpreted,\n",
    "dynamic programming language. Its design philosophy emphasizes\n",
    "code readability, and its syntax allows programmers to express\n",
    "concepts in fewer lines of code than possible in languages such\n",
    "as C++ or Java.'''\n",
    "pre=input(\"Enter prefix to add in each line:\")\n",
    "print(f\"After Modification:\\n{pref(st,pre)}\")"
   ]
  },
  {
   "cell_type": "markdown",
   "id": "53586ba5",
   "metadata": {},
   "source": [
    "Q) Python program to print the following numbers up to n decimal places."
   ]
  },
  {
   "cell_type": "code",
   "execution_count": 96,
   "id": "a4be5722",
   "metadata": {},
   "outputs": [
    {
     "name": "stdout",
     "output_type": "stream",
     "text": [
      "3.14\n",
      "2.72\n",
      "1.62\n",
      "4.67\n",
      "1.41\n"
     ]
    }
   ],
   "source": [
    "def format_numbers(numbers, decimal_places):\n",
    "   return list(map(lambda num: \"{:.{}f}\".format(num, decimal_places), numbers))\n",
    "if __name__ == \"__main__\":\n",
    "   def main():\n",
    "       numbers = [3.14159, 2.71828, 1.61803, 4.66920, 1.41421]\n",
    "       decimal_places = int(input(\"Enter the number of decimal places: \"))\n",
    "       f=format_numbers(numbers,decimal_places)\n",
    "       for num in f:\n",
    "           print(num)\n",
    "   main()"
   ]
  },
  {
   "cell_type": "markdown",
   "id": "2753a6d4",
   "metadata": {},
   "source": [
    "# Practice (Class)"
   ]
  },
  {
   "cell_type": "markdown",
   "id": "647cc4a5",
   "metadata": {},
   "source": [
    "Q) Python program to import a built-in array module and display the namespace of the said module."
   ]
  },
  {
   "cell_type": "code",
   "execution_count": 99,
   "id": "544d9af5",
   "metadata": {},
   "outputs": [
    {
     "name": "stdout",
     "output_type": "stream",
     "text": [
      "__name__\n",
      "__doc__\n",
      "__package__\n",
      "__loader__\n",
      "__spec__\n",
      "_array_reconstructor\n",
      "ArrayType\n",
      "array\n",
      "typecodes\n"
     ]
    }
   ],
   "source": [
    "import array\n",
    "for name in array.__dict__:\n",
    "    print(name)"
   ]
  },
  {
   "cell_type": "markdown",
   "id": "13c6163f",
   "metadata": {},
   "source": [
    "Q) Python program to create a class and display the namespace of that class."
   ]
  },
  {
   "cell_type": "code",
   "execution_count": 101,
   "id": "4d89311a",
   "metadata": {},
   "outputs": [
    {
     "name": "stdout",
     "output_type": "stream",
     "text": [
      "Module where MyClass is defined: __main__\n",
      "Class attributes and methods:\n",
      " - __module__: __main__\n",
      " - __init__: <function MyClass.__init__ at 0x72b04c2545e0>\n",
      " - do_something: <function MyClass.do_something at 0x72b04c2549d0>\n",
      " - __dict__: <attribute '__dict__' of 'MyClass' objects>\n",
      " - __weakref__: <attribute '__weakref__' of 'MyClass' objects>\n",
      " - __doc__: None\n"
     ]
    }
   ],
   "source": [
    "class MyClass:\n",
    "  def __init__(self, value):\n",
    "    self.value = value\n",
    "\n",
    "  def do_something(self):\n",
    "    print(f\"The value is: {self.value}\")\n",
    "my_module = MyClass.__module__\n",
    "attributes = MyClass.__dict__\n",
    "\n",
    "print(f\"Module where MyClass is defined: {my_module}\")\n",
    "print(f\"Class attributes and methods:\")\n",
    "for name, value in attributes.items():\n",
    "  print(f\" - {name}: {value}\")\n"
   ]
  },
  {
   "cell_type": "code",
   "execution_count": 100,
   "id": "0e688722",
   "metadata": {},
   "outputs": [
    {
     "name": "stdout",
     "output_type": "stream",
     "text": [
      "__module__\n",
      "sub_sets\n",
      "subsetsRecur\n",
      "__dict__\n",
      "__weakref__\n",
      "__doc__\n"
     ]
    }
   ],
   "source": [
    "class py_solution:\n",
    "    def sub_sets(self, sset):\n",
    "        return self.subsetsRecur([], sorted(sset))    \n",
    "    def subsetsRecur(self, current, sset):\n",
    "        if sset:\n",
    "            return self.subsetsRecur(current, sset[1:]) + self.subsetsRecur(current + [sset[0]], sset[1:])\n",
    "        return [current]\n",
    "for name in py_solution.__dict__:\n",
    "    print(name)\n"
   ]
  },
  {
   "cell_type": "markdown",
   "id": "40166a64",
   "metadata": {},
   "source": [
    "Q) Python program to create an instance of a specified class and display the namespace of the said instance."
   ]
  },
  {
   "cell_type": "code",
   "execution_count": 102,
   "id": "99456130",
   "metadata": {},
   "outputs": [
    {
     "name": "stdout",
     "output_type": "stream",
     "text": [
      "{'pokedex_id': '004', 'pokemon_name': 'Charmander', 'pokemon_type': 'Fire'}\n"
     ]
    }
   ],
   "source": [
    "class Pokemon:\n",
    "    def __init__(self,pokedex_id,pokemon_name,pokemon_type):\n",
    "        self.pokedex_id=pokedex_id\n",
    "        self.pokemon_name=pokemon_name\n",
    "        self.pokemon_type=pokemon_type\n",
    "pokemon=Pokemon(\"004\",\"Charmander\",\"Fire\")\n",
    "print(pokemon.__dict__)"
   ]
  },
  {
   "cell_type": "markdown",
   "id": "e980571f",
   "metadata": {},
   "source": [
    "Q) 'builtins' module provides direct access to all 'built-in' identifiers of Python.\n",
    "Write a Python program that imports the abs() function using the builtins module, displays the documentation of the abs() function and finds the absolute value of -155."
   ]
  },
  {
   "cell_type": "code",
   "execution_count": 104,
   "id": "094d7eae",
   "metadata": {},
   "outputs": [
    {
     "name": "stdout",
     "output_type": "stream",
     "text": [
      "Help on built-in function abs in module builtins:\n",
      "\n",
      "abs(x, /)\n",
      "    Return the absolute value of the argument.\n",
      "\n",
      "None\n",
      "155\n"
     ]
    }
   ],
   "source": [
    "from builtins import abs\n",
    "print(help(abs))\n",
    "print(abs(-155))"
   ]
  },
  {
   "cell_type": "markdown",
   "id": "f8cad54d",
   "metadata": {},
   "source": [
    "Q) Python function student(). Using function attributes display the names of all arguments."
   ]
  },
  {
   "cell_type": "code",
   "execution_count": 109,
   "id": "1cbe856b",
   "metadata": {},
   "outputs": [
    {
     "name": "stdout",
     "output_type": "stream",
     "text": [
      "Student ID: 212\n",
      "Student Name: Kozak\n",
      "Class:AI\n"
     ]
    }
   ],
   "source": [
    "def student(sid,sname,sclass):\n",
    "    return f\"Student ID: {sid}\\nStudent Name: {sname}\\nClass:{sclass}\"\n",
    "print(student(\"212\",\"Kozak\",\"AI\"))"
   ]
  },
  {
   "cell_type": "markdown",
   "id": "594cbd51",
   "metadata": {},
   "source": [
    "Q) Python function student_data () that will print the ID of a student (student_id). If the user passes an argument student_name or student_class the function will print the student name and class."
   ]
  },
  {
   "cell_type": "code",
   "execution_count": null,
   "id": "502b2d5b",
   "metadata": {},
   "outputs": [],
   "source": [
    "def student_data(student_id, **kwargs):\n",
    "    print(f'\\nStudent ID: {student_id}')\n",
    "    if 'student_name' in kwargs:\n",
    "        print(f\"Student Name: $ {kwargs['student_name']}\")\n",
    "    \n",
    "    if 'student_name' and 'student_class' in kwargs:\n",
    "            print(f\"\\nStudent Name: $ {kwargs['student_name']}\")\n",
    "            print(f\"Student Class: $ {kwargs['student_class']}\")\n",
    "\n",
    " \n",
    "student_data(student_id='SV12', student_name='Jean Garner')\n",
    "\n",
    "student_data(student_id='SV12', student_name='Jean Garner', student_class ='V')\n"
   ]
  }
 ],
 "metadata": {
  "kernelspec": {
   "display_name": "Python 3 (ipykernel)",
   "language": "python",
   "name": "python3"
  },
  "language_info": {
   "codemirror_mode": {
    "name": "ipython",
    "version": 3
   },
   "file_extension": ".py",
   "mimetype": "text/x-python",
   "name": "python",
   "nbconvert_exporter": "python",
   "pygments_lexer": "ipython3",
   "version": "3.10.13"
  }
 },
 "nbformat": 4,
 "nbformat_minor": 5
}
