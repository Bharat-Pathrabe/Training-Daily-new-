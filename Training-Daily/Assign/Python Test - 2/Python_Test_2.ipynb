{
 "cells": [
  {
   "cell_type": "markdown",
   "id": "4e9d0752",
   "metadata": {},
   "source": [
    "# Python Test - 2"
   ]
  },
  {
   "cell_type": "markdown",
   "id": "b342bbad",
   "metadata": {},
   "source": [
    "### Section A"
   ]
  },
  {
   "cell_type": "markdown",
   "id": "8ee8e6cc",
   "metadata": {},
   "source": [
    "Q1) What will be the output of the following Python code?<br>"
   ]
  },
  {
   "cell_type": "code",
   "execution_count": 1,
   "id": "3af556f7",
   "metadata": {},
   "outputs": [
    {
     "name": "stdout",
     "output_type": "stream",
     "text": [
      "[4, 3]\n"
     ]
    }
   ],
   "source": [
    "list1 = [1, 3]\n",
    "list2 = list1\n",
    "list1[0] = 4\n",
    "print(list2)"
   ]
  },
  {
   "cell_type": "markdown",
   "id": "b8559be4",
   "metadata": {},
   "source": [
    "Q2) What will be the output of the following Python code?"
   ]
  },
  {
   "cell_type": "code",
   "execution_count": 2,
   "id": "76e67e5d",
   "metadata": {},
   "outputs": [
    {
     "name": "stdout",
     "output_type": "stream",
     "text": [
      "dlrowolleh\n"
     ]
    }
   ],
   "source": [
    "str1=\"helloworld\"\n",
    "print(str1[::-1])"
   ]
  },
  {
   "cell_type": "markdown",
   "id": "85e2b2cf",
   "metadata": {},
   "source": [
    "Q3) What will be the output of the following Python code?"
   ]
  },
  {
   "cell_type": "code",
   "execution_count": 3,
   "id": "2b6e413f",
   "metadata": {},
   "outputs": [
    {
     "name": "stdout",
     "output_type": "stream",
     "text": [
      "[1, 2, 'hello']\n"
     ]
    }
   ],
   "source": [
    "l=[1, 0, 2, 0, 'hello', '', []]\n",
    "print(list(filter(bool, l)))"
   ]
  },
  {
   "cell_type": "markdown",
   "id": "3726e562",
   "metadata": {},
   "source": [
    "Q4) What will be the output of the following Python code?"
   ]
  },
  {
   "cell_type": "code",
   "execution_count": 4,
   "id": "fae680ef",
   "metadata": {},
   "outputs": [
    {
     "name": "stdout",
     "output_type": "stream",
     "text": [
      "56.24\n"
     ]
    }
   ],
   "source": [
    "x=56.236\n",
    "print(\"%.2f\"%x)"
   ]
  },
  {
   "cell_type": "markdown",
   "id": "1468e13b",
   "metadata": {},
   "source": [
    "Q5) What will be the output of the following Python code?"
   ]
  },
  {
   "cell_type": "code",
   "execution_count": 5,
   "id": "59864ce6",
   "metadata": {},
   "outputs": [
    {
     "name": "stdout",
     "output_type": "stream",
     "text": [
      "0\n",
      "1\n",
      "2\n"
     ]
    }
   ],
   "source": [
    "i=0\n",
    "while i< 5:\n",
    "    print(i)\n",
    "    i +=1\n",
    "    if i==3:\n",
    "        break\n",
    "else:\n",
    "    print(0)"
   ]
  },
  {
   "cell_type": "markdown",
   "id": "4207015d",
   "metadata": {},
   "source": [
    "Q6) What will be the output of the following Python code?"
   ]
  },
  {
   "cell_type": "code",
   "execution_count": 6,
   "id": "435f19e0",
   "metadata": {},
   "outputs": [
    {
     "name": "stdout",
     "output_type": "stream",
     "text": [
      "5\n"
     ]
    }
   ],
   "source": [
    "def additem(listParam):\n",
    "    listParam += [1]\n",
    "mylist = [1, 2, 3, 4]\n",
    "additem(mylist)\n",
    "print(len(mylist))"
   ]
  },
  {
   "cell_type": "markdown",
   "id": "ec647e0a",
   "metadata": {},
   "source": [
    "Q7) What will be the output of the following expression in Python?"
   ]
  },
  {
   "cell_type": "code",
   "execution_count": 7,
   "id": "f0472991",
   "metadata": {},
   "outputs": [
    {
     "name": "stdout",
     "output_type": "stream",
     "text": [
      "3\n"
     ]
    }
   ],
   "source": [
    "print(3*1**3)"
   ]
  },
  {
   "cell_type": "markdown",
   "id": "965f4857",
   "metadata": {},
   "source": [
    "Q8) If list1 is [2, 33, 222, 14, 25] then what will be the output of list1[-1]?"
   ]
  },
  {
   "cell_type": "code",
   "execution_count": 8,
   "id": "27241b0c",
   "metadata": {},
   "outputs": [
    {
     "name": "stdout",
     "output_type": "stream",
     "text": [
      "25\n"
     ]
    }
   ],
   "source": [
    "list1 = [2, 33, 222, 14, 25]\n",
    "print(list1[-1])"
   ]
  },
  {
   "cell_type": "markdown",
   "id": "50c8ffe2",
   "metadata": {},
   "source": [
    "Q9) If listl is [2, 33, 222, 14, 25] then what will be the output of listl[:-1]?"
   ]
  },
  {
   "cell_type": "code",
   "execution_count": 9,
   "id": "c4613cd9",
   "metadata": {},
   "outputs": [
    {
     "name": "stdout",
     "output_type": "stream",
     "text": [
      "[2, 33, 222, 14]\n"
     ]
    }
   ],
   "source": [
    "list1 = [2, 33, 222, 14, 25]\n",
    "print(list1[:-1])"
   ]
  },
  {
   "cell_type": "markdown",
   "id": "d1d23c64",
   "metadata": {},
   "source": [
    "Q10) What will be the output of the following Python code?"
   ]
  },
  {
   "cell_type": "code",
   "execution_count": 10,
   "id": "cba13cf9",
   "metadata": {},
   "outputs": [
    {
     "name": "stdout",
     "output_type": "stream",
     "text": [
      "n\n"
     ]
    }
   ],
   "source": [
    "names = ['Amir', 'Bear', 'Charlton', 'Daman']\n",
    "print(names[-1][-1])"
   ]
  },
  {
   "cell_type": "markdown",
   "id": "ad0e9027",
   "metadata": {},
   "source": [
    "Q11) What will be the output of the following Python code?"
   ]
  },
  {
   "cell_type": "code",
   "execution_count": 11,
   "id": "22d9b9a9",
   "metadata": {},
   "outputs": [
    {
     "name": "stdout",
     "output_type": "stream",
     "text": [
      "CheckCheckCheck\n"
     ]
    }
   ],
   "source": [
    "a=(\"Check\")*3\n",
    "print(a)"
   ]
  },
  {
   "cell_type": "markdown",
   "id": "0eff195f",
   "metadata": {},
   "source": [
    "Q12) What will be the output of the following Python code?"
   ]
  },
  {
   "cell_type": "code",
   "execution_count": 12,
   "id": "940cffe1",
   "metadata": {},
   "outputs": [
    {
     "name": "stdout",
     "output_type": "stream",
     "text": [
      "1 A 2 B 3 C "
     ]
    }
   ],
   "source": [
    "a = {1:\"A\",2:\"B\",3:\"C\"}\n",
    "for i,j in a.items():\n",
    "    print(i,j,end=\" \")"
   ]
  },
  {
   "cell_type": "markdown",
   "id": "4024b6b5",
   "metadata": {},
   "source": [
    "Q13) What will be the output of the following Python code?"
   ]
  },
  {
   "cell_type": "code",
   "execution_count": 13,
   "id": "5faed1ca",
   "metadata": {},
   "outputs": [
    {
     "name": "stdout",
     "output_type": "stream",
     "text": [
      "{1: 'A', 2: 'B', 3: 'C', 4: 'D', 5: 'E'}\n"
     ]
    }
   ],
   "source": [
    "a={1:\"A\",2:\"B\",3:\"C\"}\n",
    "b={4:\"D\",5:\"E\"}\n",
    "a.update(b)\n",
    "print(a)"
   ]
  },
  {
   "cell_type": "markdown",
   "id": "ce60dd59",
   "metadata": {},
   "source": [
    "Q14) What will be the output of the following Python code?"
   ]
  },
  {
   "cell_type": "code",
   "execution_count": 14,
   "id": "bebf4b6a",
   "metadata": {},
   "outputs": [
    {
     "name": "stdout",
     "output_type": "stream",
     "text": [
      "1\n",
      "2\n"
     ]
    }
   ],
   "source": [
    "def foo():\n",
    "    try:\n",
    "        print(1)\n",
    "    finally:\n",
    "        print(2)\n",
    "foo()"
   ]
  },
  {
   "cell_type": "markdown",
   "id": "a1a78816",
   "metadata": {},
   "source": [
    "Q15) If a=(1,2,3,4) then what will be the output of a[1:-1]?"
   ]
  },
  {
   "cell_type": "code",
   "execution_count": 15,
   "id": "3061d375",
   "metadata": {},
   "outputs": [
    {
     "name": "stdout",
     "output_type": "stream",
     "text": [
      "(2, 3)\n"
     ]
    }
   ],
   "source": [
    "a = (1,2,3,4)\n",
    "print(a[1:-1])"
   ]
  },
  {
   "cell_type": "markdown",
   "id": "9fda43a6",
   "metadata": {},
   "source": [
    "Q16) In the following Python code, which function is the decorator?"
   ]
  },
  {
   "cell_type": "code",
   "execution_count": null,
   "id": "27f43ca5",
   "metadata": {},
   "outputs": [],
   "source": [
    "\"\"\"def mk(x):\n",
    "    def mk1():\n",
    "        print(\"Decorated\")\n",
    "    x()\n",
    "    return mk1\n",
    "def mk2():\n",
    "    print(\"Ordinary\")\n",
    "p = mk(mk2)\"\"\""
   ]
  },
  {
   "cell_type": "markdown",
   "id": "56f678a0",
   "metadata": {},
   "source": [
    "answer - def mk(x):"
   ]
  },
  {
   "cell_type": "markdown",
   "id": "1bc26fe3",
   "metadata": {},
   "source": [
    "Q17) # Convert the following code to List Comprehension."
   ]
  },
  {
   "cell_type": "code",
   "execution_count": null,
   "id": "5e34c5c7",
   "metadata": {},
   "outputs": [],
   "source": [
    "\"\"\"my_string = \"I will score at least\"\n",
    "k = []\n",
    "for i in my_string.lower():\n",
    "    if i not in \"aeiou\":\n",
    "        k.append(i)\n",
    "print(k) \"\"\""
   ]
  },
  {
   "cell_type": "code",
   "execution_count": 17,
   "id": "787d8d76",
   "metadata": {},
   "outputs": [
    {
     "name": "stdout",
     "output_type": "stream",
     "text": [
      "[' ', 'w', 'l', 'l', ' ', 's', 'c', 'r', ' ', 't', ' ', 'l', 's', 't']\n"
     ]
    }
   ],
   "source": [
    "my_string = \"I will score at least\"\n",
    "k = [i for i in my_string.lower() if i not in \"aieou\"]\n",
    "print(k)"
   ]
  },
  {
   "cell_type": "markdown",
   "id": "70365942",
   "metadata": {},
   "source": [
    "#### (a) Permanently"
   ]
  },
  {
   "cell_type": "markdown",
   "id": "0cc3f1b5",
   "metadata": {},
   "source": [
    "Q18) If x=15 and y=12 then what will be the output of x&y?"
   ]
  },
  {
   "cell_type": "code",
   "execution_count": 18,
   "id": "7f8951ed",
   "metadata": {},
   "outputs": [
    {
     "name": "stdout",
     "output_type": "stream",
     "text": [
      "12\n"
     ]
    }
   ],
   "source": [
    "x = 15\n",
    "y = 12\n",
    "print(x&y)"
   ]
  },
  {
   "cell_type": "markdown",
   "id": "24aedfa0",
   "metadata": {},
   "source": [
    "Q19) What will be the output of the following Python code?"
   ]
  },
  {
   "cell_type": "code",
   "execution_count": 19,
   "id": "5dac5136",
   "metadata": {},
   "outputs": [
    {
     "name": "stdout",
     "output_type": "stream",
     "text": [
      "False\n"
     ]
    }
   ],
   "source": [
    "print(not(10<20) and not(10>30))"
   ]
  },
  {
   "cell_type": "markdown",
   "id": "b7e44a5e",
   "metadata": {},
   "source": [
    "Q20) What will be the output of the following Python code?"
   ]
  },
  {
   "cell_type": "code",
   "execution_count": 20,
   "id": "c9f4780e",
   "metadata": {},
   "outputs": [
    {
     "name": "stdout",
     "output_type": "stream",
     "text": [
      "['123', '890']\n"
     ]
    }
   ],
   "source": [
    "import re\n",
    "pattern = r'\\b\\d{3}\\b'\n",
    "text = \"123 4567 890 12 3456\"\n",
    "result = re.findall(pattern, text)\n",
    "print(result)"
   ]
  },
  {
   "cell_type": "markdown",
   "id": "121f94e6",
   "metadata": {},
   "source": [
    "### Section B"
   ]
  },
  {
   "cell_type": "markdown",
   "id": "aec2d98b",
   "metadata": {},
   "source": [
    "Q1) Given a list in Python and provided the positions of the elements, write a program to swap the two elements in the list<br>\n",
    "Example:<br>\n",
    "Input: list1 —— [23, 65, 19, 90], pos1 —— 1, pos2 —— 3<br>\n",
    "Output: [19, 65, 23, 90]<br>"
   ]
  },
  {
   "cell_type": "code",
   "execution_count": 21,
   "id": "73335d2c",
   "metadata": {},
   "outputs": [
    {
     "name": "stdout",
     "output_type": "stream",
     "text": [
      "[23, 65, 23, 90]\n"
     ]
    }
   ],
   "source": [
    "list1 = [23, 65, 23, 90]\n",
    "pos1 = 1\n",
    "pos2 = 3\n",
    "\n",
    "temp = list1[pos1 - 1]\n",
    "list1[pos1 - 1] = list1[pos2 - 1]\n",
    "list1[pos2 - 1] = temp\n",
    "\n",
    "print(list1)  "
   ]
  },
  {
   "cell_type": "markdown",
   "id": "da8e6c8d",
   "metadata": {},
   "source": [
    "Q2)  We are given a string, write a program to reverse words of a given string.<br>\n",
    "Example:<br>\n",
    "Input: “geeks quiz practice code” <br>\n",
    "Oufput: “code practice quiz geeks”<br>"
   ]
  },
  {
   "cell_type": "code",
   "execution_count": 22,
   "id": "c779089a",
   "metadata": {},
   "outputs": [
    {
     "name": "stdout",
     "output_type": "stream",
     "text": [
      "played be to meant its way the\n"
     ]
    }
   ],
   "source": [
    "str1 = input(\"Enter sentence: \").split()\n",
    "s = \" \".join(str1[::-1])\n",
    "print(s)"
   ]
  },
  {
   "cell_type": "markdown",
   "id": "833cfc97",
   "metadata": {},
   "source": [
    "Q3) Given a list of numbers, write a Python program to create a list of tuples having the first element as the number and the second element as the cube of the number.<br>\n",
    "Example:<br>\n",
    "Input: list —— [1, 2, 3]<br>\n",
    "Output: (1, 1), (2, 8), (3, 27)]"
   ]
  },
  {
   "cell_type": "code",
   "execution_count": 23,
   "id": "ab24c6be",
   "metadata": {},
   "outputs": [
    {
     "name": "stdout",
     "output_type": "stream",
     "text": [
      "[(1, 1), (2, 8), (3, 27)]\n"
     ]
    }
   ],
   "source": [
    "list1 = [1,2,3]\n",
    "list2 = []\n",
    "for i in list1:\n",
    "    list2.append((i,i**3))\n",
    "print(list2)"
   ]
  },
  {
   "cell_type": "markdown",
   "id": "09fcdf6f",
   "metadata": {},
   "source": [
    "Q4) Sort Python dictionaries in ascending order by Key.<br>\n",
    "Example:<br>\n",
    "Input: {’ravi’: 10, ’rajnish ’: 9, ’sanjeev’: 15, ’yash ’: 2, ’suraj’: 32)<br>\n",
    "Output: {’rajnish ’: 9, ’ravi’: 10, ’sanjeev’: 15, ’suraj’: 32, ’yash': 2}<br>"
   ]
  },
  {
   "cell_type": "code",
   "execution_count": 24,
   "id": "ccc43a1f",
   "metadata": {},
   "outputs": [
    {
     "name": "stdout",
     "output_type": "stream",
     "text": [
      "{'rajnish': 9, 'ravi': 10, 'sanjeev': 15, 'suraj': 32, 'yash ': 2}\n"
     ]
    }
   ],
   "source": [
    "s = {'rajnish': 9, 'ravi': 10, 'sanjeev': 15, 'suraj': 32, 'yash ': 2}\n",
    "k = dict(sorted(s.items(), key=lambda item: item[0]))\n",
    "print(k)"
   ]
  },
  {
   "cell_type": "markdown",
   "id": "0200a109",
   "metadata": {},
   "source": [
    "Q5) Write a Python Program to print the current year, month, and day."
   ]
  },
  {
   "cell_type": "code",
   "execution_count": 26,
   "id": "8ac5db75",
   "metadata": {},
   "outputs": [
    {
     "name": "stdout",
     "output_type": "stream",
     "text": [
      "Year : 2024 \n",
      "Month : 4 \n",
      "Day : 12\n"
     ]
    }
   ],
   "source": [
    "import datetime\n",
    "date = datetime.datetime.now()\n",
    "print(f\"Year : {date.year} \\nMonth : {date.month} \\nDay : {date.day}\")"
   ]
  },
  {
   "cell_type": "markdown",
   "id": "026c97a7",
   "metadata": {},
   "source": [
    "Q6)\n",
    "Consider we have two sets. Write a Python program for the following.<br>\n",
    "Find the intersection of the sets.<br>\n",
    "Find the union of the sets.<br>\n",
    "Find the maximum value from the union of the sets.<br>\n",
    "Find the minimum value from the union of the sets.<br>\n",
    "Find the length of the union of the sets.<br>"
   ]
  },
  {
   "cell_type": "code",
   "execution_count": 27,
   "id": "7f07ee62",
   "metadata": {},
   "outputs": [
    {
     "name": "stdout",
     "output_type": "stream",
     "text": [
      " Intersection : {4, 5} \n",
      " Union : {1, 2, 3, 4, 5, 6, 7, 8} \n",
      " Maximum : 8 \n",
      " Minimum : 1 \n",
      " Lenght: 8\n"
     ]
    }
   ],
   "source": [
    "set1 = {1,2,3,4,5}\n",
    "set2 = {4,5,6,7,8}\n",
    "inter = set1.intersection(set2)\n",
    "uni = set1.union(set2)\n",
    "print(f\" Intersection : {inter} \\n Union : {uni} \\n Maximum : {max(uni)} \\n Minimum : {min(uni)} \\n Lenght: {len(uni)}\")"
   ]
  },
  {
   "cell_type": "markdown",
   "id": "078982db",
   "metadata": {},
   "source": [
    "Q7) \n",
    "Count the total number of digits in a number without converting it to a string.<br>\n",
    "Example:<br>\n",
    "Input: 75869<br>"
   ]
  },
  {
   "cell_type": "code",
   "execution_count": 28,
   "id": "7878fa8c",
   "metadata": {},
   "outputs": [
    {
     "name": "stdout",
     "output_type": "stream",
     "text": [
      "5\n"
     ]
    }
   ],
   "source": [
    "x = 75869\n",
    "count = 0\n",
    "while x != 0:\n",
    "    x = x // 10  \n",
    "    count += 1  \n",
    "print(count)"
   ]
  },
  {
   "cell_type": "markdown",
   "id": "594acbcb",
   "metadata": {},
   "source": [
    "Q8) \n",
    "Write a function to read last n lines from a text file.<br>\n",
    "Example: test.txt file:<br>\n",
    "line1<br>\n",
    "line2<br>\n",
    "line3<br>\n",
    "line4<br>\n",
    "line5<br>\n",
    "line6<br>\n",
    "line7<br>\n",
    "Input: read_file(test.txt, 2) Output:<br>\n",
    "line6<br>\n",
    "line7<br>\n"
   ]
  },
  {
   "cell_type": "code",
   "execution_count": 30,
   "id": "300ab6e8",
   "metadata": {},
   "outputs": [
    {
     "name": "stdout",
     "output_type": "stream",
     "text": [
      "-\n",
      "nvidia\n"
     ]
    }
   ],
   "source": [
    "file_name = \"test.txt\"\n",
    "n = 2\n",
    "file = open(file_name, 'r')\n",
    "lines = file.readlines()\n",
    "file.close()\n",
    "last_n_lines = lines[-n:]\n",
    "\n",
    "for line in last_n_lines:\n",
    "    print(line, end='')"
   ]
  },
  {
   "cell_type": "markdown",
   "id": "82ea103e",
   "metadata": {},
   "source": [
    "Q9) \n",
    "Write a program to print multiplication table of a given number.<br>\n",
    "Input: num -— 2<br>\n",
    "Output: 2 4 6 8 10 12 14 16 18 20<br>"
   ]
  },
  {
   "cell_type": "code",
   "execution_count": 31,
   "id": "d7adc8fc",
   "metadata": {},
   "outputs": [
    {
     "name": "stdout",
     "output_type": "stream",
     "text": [
      "Multiplication table of 2:\n",
      "2 4 6 8 10 12 14 16 18 20 "
     ]
    }
   ],
   "source": [
    "num = 2\n",
    "print(f\"Multiplication table of {num}:\")\n",
    "for i in range(1, 11):\n",
    "    print(num * i, end=\" \")"
   ]
  },
  {
   "cell_type": "markdown",
   "id": "55bdec14",
   "metadata": {},
   "source": [
    "Q10)\n",
    "Should have at least one special symbol from: @ $ ! % * # ? &<br>\n",
    "Length should be between 8 to 15 characters.<br>\n"
   ]
  },
  {
   "cell_type": "code",
   "execution_count": 32,
   "id": "a1fbd7d3",
   "metadata": {},
   "outputs": [
    {
     "name": "stdout",
     "output_type": "stream",
     "text": [
      "Password is valid.\n"
     ]
    }
   ],
   "source": [
    "import re\n",
    "pattern = r\"^(?=.*\\d)(?=.*[a-z])(?=.*[A-Z])(?=.*[@$!%*#?&])[A-Za-z\\d@$!%*#?&]{8,15}$\"\n",
    "password = input(\"Enter your password: \")\n",
    "regex = re.compile(pattern)\n",
    "if regex.match(password):\n",
    "    print(\"Password is valid.\")\n",
    "else:\n",
    "    print(\"Password is invalid.\")\n"
   ]
  },
  {
   "cell_type": "markdown",
   "id": "f0cf5b45",
   "metadata": {},
   "source": [
    "Q11) \n",
    "Write a program to create a decorator function to measure the execution time of a function.<br>\n",
    "Example: Function took 0.0016 seconds to execute."
   ]
  },
  {
   "cell_type": "code",
   "execution_count": 35,
   "id": "956f02b7",
   "metadata": {},
   "outputs": [
    {
     "name": "stdout",
     "output_type": "stream",
     "text": [
      "Function took 2.0020382404327393 seconds to execute.\n"
     ]
    }
   ],
   "source": [
    "import time\n",
    "from functools import wraps\n",
    "\n",
    "def measure_time(x):\n",
    "    @wraps(x)\n",
    "    def wrapper(*args, **kwargs):\n",
    "        start = time.time()\n",
    "        result = x(*args, **kwargs)\n",
    "        end = time.time()\n",
    "        total = end - start\n",
    "        print(f\"Function took {total} seconds to execute.\")\n",
    "        return result\n",
    "    return wrapper\n",
    "\n",
    "@measure_time\n",
    "def example_function():\n",
    "    time.sleep(2)\n",
    "\n",
    "example_function()\n"
   ]
  },
  {
   "cell_type": "markdown",
   "id": "35e84f0b",
   "metadata": {},
   "source": [
    "Q12) Write a program to filter out odd and even numbers from a list of integers using a Lambda function.<br>\n",
    "Example:<br>\n",
    "Input: i<br>nput_list —— [1, 2, 3, 4, 5, 6, 7, 8, 9, 10]<br>\n",
    "Output:<br>\n",
    "odd_num <br>—— [1, 3, 5, 7, 9]<br>\n",
    "even_num —— [2, 4, 6, 8, 10]<br>"
   ]
  },
  {
   "cell_type": "code",
   "execution_count": 36,
   "id": "9f765dda",
   "metadata": {},
   "outputs": [
    {
     "name": "stdout",
     "output_type": "stream",
     "text": [
      "Odd numbers: [1, 3, 5, 7, 9]\n",
      "Even numbers: [2, 4, 6, 8, 10]\n"
     ]
    }
   ],
   "source": [
    "input_list = [1, 2, 3, 4, 5, 6, 7, 8, 9, 10]\n",
    "odd_num = list(filter(lambda x: x % 2 != 0, input_list))\n",
    "even_num = list(filter(lambda x: x % 2 == 0, input_list))\n",
    "\n",
    "print(\"Odd numbers:\", odd_num)\n",
    "print(\"Even numbers:\", even_num)"
   ]
  },
  {
   "cell_type": "markdown",
   "id": "f23262af",
   "metadata": {},
   "source": [
    "# Section C"
   ]
  },
  {
   "cell_type": "markdown",
   "id": "ff3254fa",
   "metadata": {},
   "source": [
    "Q1) Write a Python program to create a class representing a shopping cart which Includes the following methods.<br>\n",
    "        ◦ Adding a non-existing product with quantity and price. Quantity defaults to 1 if not provided.<br>\n",
    "        ◦ Removing an existing product.<br>\n",
    "        ◦ Updating the quantity/price of an existing product.<br>\n",
    "        ◦ Calculating the total unique products.<br>\n",
    "        ◦ Calculating the total price of all the products.<br>\n",
    "Example:<br>\n",
    "<br>\n",
    "\"Apple\": {<br>\n",
    "“price“:78.25, <br>\n",
    "“quantity“:1<br>\n",
    "<br>\n",
    "\"Orange”: {<br>\n",
    "“price“:63.75, <br>\n",
    "”quantity“:2<br>"
   ]
  },
  {
   "cell_type": "code",
   "execution_count": 37,
   "id": "e2b2db1b",
   "metadata": {
    "scrolled": true
   },
   "outputs": [
    {
     "name": "stdout",
     "output_type": "stream",
     "text": [
      "\n",
      "    1. Add Product\n",
      "    2. Remove Product\n",
      "    3. Update Product\n",
      "    4. Total Unique Products\n",
      "    5. Total Price\n",
      "    6. Exit\n",
      "    \n",
      "maggi added to the cart.\n",
      "\n",
      "    1. Add Product\n",
      "    2. Remove Product\n",
      "    3. Update Product\n",
      "    4. Total Unique Products\n",
      "    5. Total Price\n",
      "    6. Exit\n",
      "    \n",
      "maggi updated successfully.\n",
      "\n",
      "    1. Add Product\n",
      "    2. Remove Product\n",
      "    3. Update Product\n",
      "    4. Total Unique Products\n",
      "    5. Total Price\n",
      "    6. Exit\n",
      "    \n",
      "Total unique products: 1\n",
      "\n",
      "    1. Add Product\n",
      "    2. Remove Product\n",
      "    3. Update Product\n",
      "    4. Total Unique Products\n",
      "    5. Total Price\n",
      "    6. Exit\n",
      "    \n",
      "Total price of all products: $ 65\n",
      "\n",
      "    1. Add Product\n",
      "    2. Remove Product\n",
      "    3. Update Product\n",
      "    4. Total Unique Products\n",
      "    5. Total Price\n",
      "    6. Exit\n",
      "    \n",
      "Exiting...\n"
     ]
    }
   ],
   "source": [
    "class ShoppingCart:\n",
    "    def __init__(self):\n",
    "        self.cart = {}\n",
    "\n",
    "    def add_product(self, name, price, quantity=1):\n",
    "        if name in self.cart:\n",
    "            print(\"Product already exists in the cart.\")\n",
    "            return\n",
    "        self.cart[name] = {\"price\": price, \"quantity\": quantity}\n",
    "        print(f\"{name} added to the cart.\")\n",
    "\n",
    "    def remove_product(self, name):\n",
    "        if name in self.cart:\n",
    "            del self.cart[name]\n",
    "            print(f\"{name} removed from the cart.\")\n",
    "        else:\n",
    "            print(\"Product not found in the cart.\")\n",
    "\n",
    "    def update_product(self, name, price=None, quantity=None):\n",
    "        if name in self.cart:\n",
    "            if price is not None:\n",
    "                self.cart[name][\"price\"] = price\n",
    "            if quantity is not None:\n",
    "                self.cart[name][\"quantity\"] = quantity\n",
    "            print(f\"{name} updated successfully.\")\n",
    "        else:\n",
    "            print(\"Product not found in the cart.\")\n",
    "\n",
    "    def total_unique_products(self):\n",
    "        return len(self.cart)\n",
    "\n",
    "    def total_price(self):\n",
    "        total = sum(item[\"price\"] * item[\"quantity\"] for item in self.cart.values())\n",
    "        return total\n",
    "\n",
    "\n",
    "ob_sc = ShoppingCart()\n",
    "while True:\n",
    "    print(\"\"\"\n",
    "    1. Add Product\n",
    "    2. Remove Product\n",
    "    3. Update Product\n",
    "    4. Total Unique Products\n",
    "    5. Total Price\n",
    "    6. Exit\n",
    "    \"\"\")\n",
    "    choice = input(\"Enter your choice: \")\n",
    "\n",
    "    if choice == '1':\n",
    "        name = input(\"Enter product name: \")\n",
    "        price = float(input(\"Enter price: \"))\n",
    "        quantity = int(input(\"Enter quantity: \") or 1)\n",
    "        ob_sc.add_product(name, price, quantity)\n",
    "    elif choice == '2':\n",
    "        name = input(\"Enter product name to remove: \")\n",
    "        ob_sc.remove_product(name)\n",
    "    elif choice == '3':\n",
    "        name = input(\"Enter product name to update: \")\n",
    "        price = int(input(\"Enter new price: \"))  \n",
    "        quantity = int(input(\"Enter new quantity: \")) \n",
    "        ob_sc.update_product(name, price, quantity)\n",
    "    elif choice == '4':\n",
    "        print(\"Total unique products:\", ob_sc.total_unique_products())\n",
    "    elif choice == '5':\n",
    "        print(\"Total price of all products: $\", ob_sc.total_price())\n",
    "    elif choice == '6':\n",
    "        print(\"Exiting...\")\n",
    "        break\n",
    "    else:\n",
    "        print(\"Invalid choice. Please try again.\")"
   ]
  },
  {
   "cell_type": "markdown",
   "id": "2295ac90",
   "metadata": {},
   "source": [
    "Q2) Suppose there is a sports tournament, and you have a dictionary representing the current points of teams in the tournament. Each team is represented by its name (a string) and its points (an integer). Write a Python program to perform the <br>following tasks:\n",
    "        ◦ Implement a function 'add_team' which takes the team's name and points as an input and adds it to the dictionary if it doesn’t exist.<br>\n",
    "        ◦ Implement a function 'remove_team' which takes the team's name as input and deletes it from the dictionary if it exists.<br>\n",
    "        ◦ Implement a function 'update_points' which takes existing team’s names and points as input and updates it to the dictionary.<br>\n",
    "        ◦ Implement a function 'get_top_teams' which takes n as an input and gives top n teams from the dictionary.<br>\n",
    "        ◦ Implement a function 'write_to_file' that takes the dictionary and a filename as input and writes the information to the given filename in the format: \"Team: Points\".<br>\n",
    "Example:<br>\n",
    "(’Team 1“. 120, ’Team2\". 150, ’Team3\". 170, ’Team4\". 140, ’Team5\". 200)<br>\n"
   ]
  },
  {
   "cell_type": "code",
   "execution_count": 38,
   "id": "45e608bb",
   "metadata": {
    "scrolled": true
   },
   "outputs": [
    {
     "name": "stdout",
     "output_type": "stream",
     "text": [
      "\n",
      "    1. Add Team\n",
      "    2. Remove Team\n",
      "    3. Update Points\n",
      "    4. Get Top Teams\n",
      "    5. Write to File\n",
      "    6. Exit\n",
      "    \n",
      "Team 'furia' added with 120 points.\n",
      "\n",
      "    1. Add Team\n",
      "    2. Remove Team\n",
      "    3. Update Points\n",
      "    4. Get Top Teams\n",
      "    5. Write to File\n",
      "    6. Exit\n",
      "    \n",
      "Team 'G2' added with 150 points.\n",
      "\n",
      "    1. Add Team\n",
      "    2. Remove Team\n",
      "    3. Update Points\n",
      "    4. Get Top Teams\n",
      "    5. Write to File\n",
      "    6. Exit\n",
      "    \n",
      "Team 'Sen' added with 100 points.\n",
      "\n",
      "    1. Add Team\n",
      "    2. Remove Team\n",
      "    3. Update Points\n",
      "    4. Get Top Teams\n",
      "    5. Write to File\n",
      "    6. Exit\n",
      "    \n",
      "Team 'asd' added with 142 points.\n",
      "\n",
      "    1. Add Team\n",
      "    2. Remove Team\n",
      "    3. Update Points\n",
      "    4. Get Top Teams\n",
      "    5. Write to File\n",
      "    6. Exit\n",
      "    \n",
      "Team 'asd' removed.\n",
      "\n",
      "    1. Add Team\n",
      "    2. Remove Team\n",
      "    3. Update Points\n",
      "    4. Get Top Teams\n",
      "    5. Write to File\n",
      "    6. Exit\n",
      "    \n",
      "Top 5 teams:\n",
      "G2: 150\n",
      "furia: 120\n",
      "Sen: 100\n",
      "\n",
      "    1. Add Team\n",
      "    2. Remove Team\n",
      "    3. Update Points\n",
      "    4. Get Top Teams\n",
      "    5. Write to File\n",
      "    6. Exit\n",
      "    \n",
      "Data written to 'test.txt'.\n",
      "\n",
      "    1. Add Team\n",
      "    2. Remove Team\n",
      "    3. Update Points\n",
      "    4. Get Top Teams\n",
      "    5. Write to File\n",
      "    6. Exit\n",
      "    \n",
      "Exiting...\n"
     ]
    }
   ],
   "source": [
    "class Tournament:\n",
    "    def __init__(self):\n",
    "        self.teams = {}\n",
    "\n",
    "    def add_team(self, name, points):\n",
    "        if name not in self.teams:\n",
    "            self.teams[name] = points\n",
    "            print(f\"Team '{name}' added with {points} points.\")\n",
    "        else:\n",
    "            print(f\"Team '{name}' already exists.\")\n",
    "\n",
    "    def remove_team(self, name):\n",
    "        if name in self.teams:\n",
    "            del self.teams[name]\n",
    "            print(f\"Team '{name}' removed.\")\n",
    "        else:\n",
    "            print(f\"Team '{name}' not found.\")\n",
    "\n",
    "    def update_points(self, name, points):\n",
    "        if name in self.teams:\n",
    "            self.teams[name] = points\n",
    "            print(f\"Points for team '{name}' updated to {points}.\")\n",
    "        else:\n",
    "            print(f\"Team '{name}' not found.\")\n",
    "\n",
    "    def get_top_teams(self, n):\n",
    "        sorted_teams = sorted(self.teams.items(), key=lambda x: x[1], reverse=True)\n",
    "        return sorted_teams[:n]\n",
    "\n",
    "    def write_to_file(self, filename):\n",
    "        with open(filename, 'w') as file:\n",
    "            for team, points in self.teams.items():\n",
    "                file.write(f\"{team}: {points}\\n\")\n",
    "        print(f\"Data written to '{filename}'.\")\n",
    "\n",
    "ob_t = Tournament()\n",
    "\n",
    "while True:\n",
    "    print(\"\"\"\n",
    "    1. Add Team\n",
    "    2. Remove Team\n",
    "    3. Update Points\n",
    "    4. Get Top Teams\n",
    "    5. Write to File\n",
    "    6. Exit\n",
    "    \"\"\")\n",
    "\n",
    "    choice = input(\"Enter your choice: \")\n",
    "\n",
    "    if choice == '1':\n",
    "        name = input(\"Enter team name: \")\n",
    "        points = int(input(\"Enter points: \"))\n",
    "        ob_t.add_team(name, points)\n",
    "    elif choice == '2':\n",
    "        name = input(\"Enter team name to remove: \")\n",
    "        ob_t.remove_team(name)\n",
    "    elif choice == '3':\n",
    "        name = input(\"Enter team name to update points: \")\n",
    "        points = int(input(\"Enter new points: \"))\n",
    "        ob_t.update_points(name, points)\n",
    "    elif choice == '4':\n",
    "        n = int(input(\"Enter number of top teams to display: \"))\n",
    "        top_teams = ob_t.get_top_teams(n)\n",
    "        print(f\"Top {n} teams:\")\n",
    "        for team, points in top_teams:\n",
    "            print(f\"{team}: {points}\")\n",
    "    elif choice == '5':\n",
    "        filename = input(\"Enter filename to write to: \")\n",
    "        ob_t.write_to_file(filename)\n",
    "    elif choice == '6':\n",
    "        print(\"Exiting...\")\n",
    "        break\n",
    "    else:\n",
    "        print(\"Invalid choice. Please try again.\")"
   ]
  }
 ],
 "metadata": {
  "kernelspec": {
   "display_name": "Python 3 (ipykernel)",
   "language": "python",
   "name": "python3"
  },
  "language_info": {
   "codemirror_mode": {
    "name": "ipython",
    "version": 3
   },
   "file_extension": ".py",
   "mimetype": "text/x-python",
   "name": "python",
   "nbconvert_exporter": "python",
   "pygments_lexer": "ipython3",
   "version": "3.10.13"
  }
 },
 "nbformat": 4,
 "nbformat_minor": 5
}
