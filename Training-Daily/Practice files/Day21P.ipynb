{
 "cells": [
  {
   "cell_type": "markdown",
   "id": "c6d7aaab",
   "metadata": {},
   "source": [
    "Fibonacci Sequence: Write a program to generate the Fibonacci sequence up to a specified number of terms."
   ]
  },
  {
   "cell_type": "code",
   "execution_count": 3,
   "id": "ba754c89",
   "metadata": {},
   "outputs": [
    {
     "name": "stdout",
     "output_type": "stream",
     "text": [
      "Enter number of terms:6\n",
      "0\n",
      "1\n",
      "1\n",
      "2\n",
      "3\n",
      "5\n",
      "Done\n"
     ]
    }
   ],
   "source": [
    "def fibo(n):\n",
    "    a = 0\n",
    "    b = 1\n",
    "    for i in range (n):\n",
    "        print(a)\n",
    "        a,b = b,a+b\n",
    "    return \"Done\"\n",
    "    \n",
    "term = int(input(\"Enter number of terms: \"))\n",
    "print(fibo(term))"
   ]
  },
  {
   "cell_type": "code",
   "execution_count": 6,
   "id": "9a23c645",
   "metadata": {},
   "outputs": [
    {
     "name": "stdout",
     "output_type": "stream",
     "text": [
      "Enter the number of terms for Fibonacci sequence: 6\n",
      "[0, 1, 1, 2, 3, 5]\n"
     ]
    }
   ],
   "source": [
    "def fibonacci(n):\n",
    "    fib_sequence = [0, 1]\n",
    "    for i in range(2, n):\n",
    "        fib_sequence.append(fib_sequence[i-1] + fib_sequence[i-2])\n",
    "    return fib_sequence\n",
    "\n",
    "num_terms = int(input(\"Enter the number of terms for Fibonacci sequence: \"))\n",
    "print(fibonacci(num_terms))"
   ]
  },
  {
   "cell_type": "markdown",
   "id": "fd00923c",
   "metadata": {},
   "source": [
    "Palindrome Checker: Write a program to check if a given string is a palindrome."
   ]
  },
  {
   "cell_type": "code",
   "execution_count": 11,
   "id": "a43414f4",
   "metadata": {},
   "outputs": [
    {
     "name": "stdout",
     "output_type": "stream",
     "text": [
      "Enter string to check: 121\n",
      "Is string palindrome: True\n"
     ]
    }
   ],
   "source": [
    "def palin_check(string):\n",
    "    if string == string[::-1]:\n",
    "        return True\n",
    "    else:\n",
    "        return False\n",
    "\n",
    "string = input(\"Enter string to check: \")\n",
    "print(f\"Is string palindrome: {palin_check(string)}\")"
   ]
  },
  {
   "cell_type": "markdown",
   "id": "f1e53ea5",
   "metadata": {},
   "source": [
    "Factorial Calculator: Write a program to calculate the factorial of a given number."
   ]
  },
  {
   "cell_type": "code",
   "execution_count": 12,
   "id": "21ad2872",
   "metadata": {},
   "outputs": [
    {
     "name": "stdout",
     "output_type": "stream",
     "text": [
      "Enter number to calculate factorial: 5\n",
      "Factorial of 5 is : 120\n"
     ]
    }
   ],
   "source": [
    "def facto(num):\n",
    "    if num == 0:\n",
    "        return 1\n",
    "    else:\n",
    "        return num * facto(num-1)\n",
    "    \n",
    "num = int(input(\"Enter number to calculate factorial: \"))\n",
    "print(f\"Factorial of {num} is : {facto(num)}\")"
   ]
  },
  {
   "cell_type": "markdown",
   "id": "f8e5fdfa",
   "metadata": {},
   "source": [
    "Prime Number Checker: Write a program to check if a given number is prime."
   ]
  },
  {
   "cell_type": "code",
   "execution_count": 29,
   "id": "bdd9e701",
   "metadata": {},
   "outputs": [
    {
     "name": "stdout",
     "output_type": "stream",
     "text": [
      "Enter number to check is it a prime number: 7\n",
      "The entered number '7' is a prime number\n"
     ]
    }
   ],
   "source": [
    "def check_prime(num):\n",
    "    if num <= 1:\n",
    "        return \"not a\"\n",
    "    for i in range (2, int(num**0.5)+1):\n",
    "        if num % i == 0:\n",
    "            return \"not a\"\n",
    "    else:\n",
    "        return \"a\"\n",
    "    \n",
    "num = int(input(\"Enter number to check is it a prime number: \"))\n",
    "print(f\"The entered number '{num}' is {check_prime(num)} prime number\")"
   ]
  },
  {
   "cell_type": "markdown",
   "id": "829a2016",
   "metadata": {},
   "source": [
    "Sum of Digits: Write a program to compute the sum of digits of a given integer."
   ]
  },
  {
   "cell_type": "code",
   "execution_count": 32,
   "id": "86669c65",
   "metadata": {},
   "outputs": [
    {
     "name": "stdout",
     "output_type": "stream",
     "text": [
      "Enter number to compute sum of its digits: 234\n",
      "sum of digits: 9\n"
     ]
    }
   ],
   "source": [
    "def sum_of_digits(num):\n",
    "    sum_d = 0\n",
    "    for char in str(num):\n",
    "        if char.isdigit():\n",
    "            sum_d += int(char)\n",
    "    return sum_d\n",
    "\n",
    "num = int(input(\"Enter number to compute sum of its digits: \"))\n",
    "print(f\"sum of digits: {sum_of_digits(num)}\")"
   ]
  },
  {
   "cell_type": "code",
   "execution_count": 33,
   "id": "39325864",
   "metadata": {},
   "outputs": [
    {
     "name": "stdout",
     "output_type": "stream",
     "text": [
      "Enter an integer to compute the sum of its digits: 234\n",
      "Sum of digits: 9\n"
     ]
    }
   ],
   "source": [
    "def sum_of_digits(n):\n",
    "    return sum(int(digit) for digit in str(n) if digit.isdigit())\n",
    "\n",
    "number = int(input(\"Enter an integer to compute the sum of its digits: \"))\n",
    "print(\"Sum of digits:\", sum_of_digits(number))\n"
   ]
  },
  {
   "cell_type": "markdown",
   "id": "a7d0f6de",
   "metadata": {},
   "source": [
    "Reverse a String: Write a program to reverse a given string."
   ]
  },
  {
   "cell_type": "code",
   "execution_count": 35,
   "id": "2ac0adfa",
   "metadata": {
    "scrolled": true
   },
   "outputs": [
    {
     "name": "stdout",
     "output_type": "stream",
     "text": [
      "Enter a string to reverse: kozak\n",
      "Reversed string: kazok\n"
     ]
    }
   ],
   "source": [
    "def reverse_string(string):\n",
    "    return string[::-1]\n",
    "\n",
    "string = input(\"Enter a string to reverse: \")\n",
    "print(f\"Reversed string: {reverse_string(string)}\")    "
   ]
  },
  {
   "cell_type": "markdown",
   "id": "04dba44e",
   "metadata": {},
   "source": [
    "Word Count: Write a program that takes a sentence as input and counts the number of words in it."
   ]
  },
  {
   "cell_type": "code",
   "execution_count": 37,
   "id": "22abdb93",
   "metadata": {},
   "outputs": [
    {
     "name": "stdout",
     "output_type": "stream",
     "text": [
      "Enter a sentence for word count: the way its meant to be played\n",
      "Word count: 7\n"
     ]
    }
   ],
   "source": [
    "def word_count(string):\n",
    "    return sum(1 for i in string)\n",
    "\n",
    "string = input(\"Enter a sentence for word count: \").split()\n",
    "print(f\"Word count: {word_count(string)}\")"
   ]
  },
  {
   "cell_type": "markdown",
   "id": "ba1bd3d0",
   "metadata": {},
   "source": [
    "Temperature Converter: Write a program that converts temperature from Celsius to Fahrenheit or vice versa, based on user input."
   ]
  },
  {
   "cell_type": "code",
   "execution_count": 43,
   "id": "ec8c26e3",
   "metadata": {},
   "outputs": [
    {
     "name": "stdout",
     "output_type": "stream",
     "text": [
      "\n",
      "---:: Temperature Converter ::---\n",
      "\n",
      "1. celsius to fahernheit\n",
      "2. fahernheit to celsius\n",
      "\n",
      "Enter your Choice: 2\n",
      "Enter the Fahernheit temperature: 32\n",
      "Celsius Temperature: 0.0\n"
     ]
    }
   ],
   "source": [
    "def cl_fr_converter(temp):\n",
    "    return (temp * (9/5)) + 32\n",
    "\n",
    "def fr_cl_converter(fr):\n",
    "    return (temp -32) * (9/5)\n",
    "\n",
    "print(\"\"\"\n",
    "---:: Temperature Converter ::---\n",
    "\n",
    "1. celsius to fahernheit\n",
    "2. fahernheit to celsius\n",
    "\"\"\")\n",
    "ch = int(input(\"Enter your Choice: \"))\n",
    "if ch == 1:\n",
    "    temp = int(input(\"Enter the Celsius temperature: \"))\n",
    "    print(f\"Fahernheit Temperature: {cl_fr_converter(temp)}\")\n",
    "elif ch == 2:\n",
    "    temp = int(input(\"Enter the Fahernheit temperature: \"))\n",
    "    print(f\"Celsius Temperature: {fr_cl_converter(temp)}\")\n",
    "else:\n",
    "    print(\"Invalid choice.. Exiting!!!\")"
   ]
  },
  {
   "cell_type": "markdown",
   "id": "98ba0b7a",
   "metadata": {},
   "source": [
    "Find the Largest Element: Write a program to find the largest element in a list of numbers."
   ]
  },
  {
   "cell_type": "code",
   "execution_count": 44,
   "id": "6531235e",
   "metadata": {},
   "outputs": [
    {
     "name": "stdout",
     "output_type": "stream",
     "text": [
      "Enter list of numbers: 4 1 6 2 3\n",
      "Largest Number: 6\n"
     ]
    }
   ],
   "source": [
    "def largest(olist):\n",
    "    return max(olist)\n",
    "\n",
    "olist = [int(elements) for elements in input(\"Enter list of numbers: \").split()]\n",
    "print(f\"Largest Number: {largest(olist)}\")"
   ]
  },
  {
   "cell_type": "markdown",
   "id": "7d681bf3",
   "metadata": {},
   "source": [
    "Check for Armstrong Number: Write a program to check if a given number is an Armstrong number."
   ]
  },
  {
   "cell_type": "code",
   "execution_count": 49,
   "id": "9c45df7e",
   "metadata": {},
   "outputs": [
    {
     "name": "stdout",
     "output_type": "stream",
     "text": [
      "Enter the number to check armstrong or not: 153\n",
      "153 is an armstrong number\n"
     ]
    }
   ],
   "source": [
    "def armstrong(num):\n",
    "    num_str = str(num)\n",
    "    power = len(num_str)\n",
    "    return num == sum(int(i)**power for i in num_str)\n",
    "    \n",
    "num = int(input(\"Enter the number to check armstrong or not: \"))\n",
    "arm = armstrong(num)\n",
    "if arm == True:\n",
    "    print(f\"{num} is an armstrong number\")\n",
    "else:\n",
    "    print(f\"{num} is not a armstrong number\")"
   ]
  },
  {
   "cell_type": "markdown",
   "id": "f2c45f32",
   "metadata": {},
   "source": [
    "Find Common Elements: Write a program that finds the common elements between two lists."
   ]
  },
  {
   "cell_type": "code",
   "execution_count": 55,
   "id": "62a97912",
   "metadata": {},
   "outputs": [
    {
     "name": "stdout",
     "output_type": "stream",
     "text": [
      "Enter elements for list 1: 1 2 3 4 5\n",
      "Enter elements for list 2: 4 5 6 7 8\n",
      "Common elements: [4, 5]\n"
     ]
    }
   ],
   "source": [
    "def find_commons(list1,list2):\n",
    "    return list(set(list1) & set(list2))\n",
    "\n",
    "list1 = [int(i) for i in input(\"Enter elements for list 1: \").split()]\n",
    "list2 = [int(i) for i in input(\"Enter elements for list 2: \").split()]\n",
    "common = find_commons(list1,list2)\n",
    "print(f\"Common elements: {common}\")"
   ]
  },
  {
   "cell_type": "markdown",
   "id": "0523fbf4",
   "metadata": {},
   "source": [
    "Calculate Factorial Using Recursion: Write a program to calculate the factorial of a given number using recursion."
   ]
  },
  {
   "cell_type": "code",
   "execution_count": 57,
   "id": "b7bb0e3e",
   "metadata": {},
   "outputs": [
    {
     "name": "stdout",
     "output_type": "stream",
     "text": [
      "Enter number for factorial: 5\n",
      "Factorial of 5 : 120\n"
     ]
    }
   ],
   "source": [
    "def factorial(num):\n",
    "    if num == 0:\n",
    "        return 1\n",
    "    else:\n",
    "        return num * factorial(num-1)\n",
    "\n",
    "num = int(input(\"Enter number for factorial: \"))\n",
    "print(f\"Factorial of {num} : {factorial(num)}\")"
   ]
  },
  {
   "cell_type": "markdown",
   "id": "11c77d65",
   "metadata": {},
   "source": [
    "Check for Perfect Number: Write a program to check if a given number is a perfect number."
   ]
  },
  {
   "cell_type": "code",
   "execution_count": 63,
   "id": "80b2799e",
   "metadata": {},
   "outputs": [
    {
     "name": "stdout",
     "output_type": "stream",
     "text": [
      "Enter a number to check perfect number or not: 28\n",
      "28 is a perfect number.\n"
     ]
    }
   ],
   "source": [
    "def perfect_number(num):\n",
    "    total = sum(i for i in range(1,num) if num % i == 0)\n",
    "    if total == num:\n",
    "        return \"a\"\n",
    "    else:\n",
    "        return \"not a\"\n",
    "\n",
    "num = int(input(\"Enter a number to check perfect number or not: \"))\n",
    "print(f\"{num} is {perfect_number(num)} perfect number.\")"
   ]
  },
  {
   "cell_type": "markdown",
   "id": "930a1a2f",
   "metadata": {},
   "source": [
    "Compute LCM and GCD: Write a program to compute the Least Common Multiple (LCM) and Greatest Common Divisor (GCD) of two given numbers."
   ]
  },
  {
   "cell_type": "code",
   "execution_count": 68,
   "id": "c40e01fa",
   "metadata": {},
   "outputs": [
    {
     "name": "stdout",
     "output_type": "stream",
     "text": [
      "Enter first number: 2\n",
      "Enter second number: 4\n",
      "GCD: 2\n",
      "LCM: 4\n"
     ]
    }
   ],
   "source": [
    "def gcd(a, b):\n",
    "    while b != 0:\n",
    "        a, b = b, a % b\n",
    "    return a\n",
    "\n",
    "def lcm(a, b):\n",
    "    return (a * b) // gcd(a, b)\n",
    "\n",
    "num1 = int(input(\"Enter first number: \"))\n",
    "num2 = int(input(\"Enter second number: \"))\n",
    "print(\"GCD:\", gcd(num1, num2))\n",
    "print(\"LCM:\", lcm(num1, num2))"
   ]
  },
  {
   "cell_type": "markdown",
   "id": "4abb67b7",
   "metadata": {},
   "source": [
    "FizzBuzz: Write a program that prints the numbers from 1 to 100. But for multiples of three, print \"Fizz\" instead of the number, and for the multiples of five, print \"Buzz\". For numbers that are multiples of both three and five, print \"FizzBuzz\"."
   ]
  },
  {
   "cell_type": "code",
   "execution_count": 73,
   "id": "d2e61ec4",
   "metadata": {
    "scrolled": true
   },
   "outputs": [
    {
     "name": "stdout",
     "output_type": "stream",
     "text": [
      "1\n",
      "2\n",
      "Fizz\n",
      "4\n",
      "Buzz\n",
      "Fizz\n",
      "7\n",
      "8\n",
      "Fizz\n",
      "Buzz\n",
      "11\n",
      "Fizz\n",
      "13\n",
      "14\n",
      "FizzBuzz\n",
      "16\n",
      "17\n",
      "Fizz\n",
      "19\n",
      "Buzz\n",
      "Fizz\n",
      "22\n",
      "23\n",
      "Fizz\n",
      "Buzz\n",
      "26\n",
      "Fizz\n",
      "28\n",
      "29\n",
      "FizzBuzz\n",
      "31\n",
      "32\n",
      "Fizz\n",
      "34\n",
      "Buzz\n",
      "Fizz\n",
      "37\n",
      "38\n",
      "Fizz\n",
      "Buzz\n",
      "41\n",
      "Fizz\n",
      "43\n",
      "44\n",
      "FizzBuzz\n",
      "46\n",
      "47\n",
      "Fizz\n",
      "49\n",
      "Buzz\n",
      "Fizz\n",
      "52\n",
      "53\n",
      "Fizz\n",
      "Buzz\n",
      "56\n",
      "Fizz\n",
      "58\n",
      "59\n",
      "FizzBuzz\n",
      "61\n",
      "62\n",
      "Fizz\n",
      "64\n",
      "Buzz\n",
      "Fizz\n",
      "67\n",
      "68\n",
      "Fizz\n",
      "Buzz\n",
      "71\n",
      "Fizz\n",
      "73\n",
      "74\n",
      "FizzBuzz\n",
      "76\n",
      "77\n",
      "Fizz\n",
      "79\n",
      "Buzz\n",
      "Fizz\n",
      "82\n",
      "83\n",
      "Fizz\n",
      "Buzz\n",
      "86\n",
      "Fizz\n",
      "88\n",
      "89\n",
      "FizzBuzz\n",
      "91\n",
      "92\n",
      "Fizz\n",
      "94\n",
      "Buzz\n",
      "Fizz\n",
      "97\n",
      "98\n",
      "Fizz\n",
      "Buzz\n"
     ]
    }
   ],
   "source": [
    "for i in range (1,101):\n",
    "    if i % 3 == 0 and i % 5 == 0:\n",
    "        print(\"FizzBuzz\")\n",
    "    elif i % 3 == 0:\n",
    "        print(\"Fizz\")\n",
    "    elif i % 5 == 0:\n",
    "        print(\"Buzz\")\n",
    "    else:\n",
    "        print(i)"
   ]
  },
  {
   "cell_type": "markdown",
   "id": "19088d9e",
   "metadata": {},
   "source": [
    "Grade Calculator:\n",
    "Class: Suitable for middle or high school"
   ]
  },
  {
   "cell_type": "code",
   "execution_count": 85,
   "id": "3c33ff98",
   "metadata": {},
   "outputs": [
    {
     "name": "stdout",
     "output_type": "stream",
     "text": [
      "Enter your score:95\n",
      "Grade: A\n"
     ]
    }
   ],
   "source": [
    "def grade_calculator(grade):\n",
    "    if grade == 100:\n",
    "        return \"Get a life\"\n",
    "    elif grade >= 90:\n",
    "        return \"A\"\n",
    "    elif grade >= 75:\n",
    "        return \"B\"\n",
    "    elif grade >= 60:\n",
    "        return \"C\"\n",
    "    elif grade >= 45:\n",
    "        return \"D\"\n",
    "    elif grade >= 25:\n",
    "        return \"E\"\n",
    "    else:\n",
    "        return \"F\"\n",
    "\n",
    "grade = int(input(\"Enter your score:\"))\n",
    "print(f\"Grade: {grade_calculator(grade)}\")"
   ]
  },
  {
   "cell_type": "markdown",
   "id": "d1681818",
   "metadata": {},
   "source": [
    "Student Record System:\n",
    "<br>\n",
    "Operations: Add student, View all students, Search student<br>\n",
    "Class: Suitable for higher grades"
   ]
  },
  {
   "cell_type": "code",
   "execution_count": 94,
   "id": "ad85093e",
   "metadata": {
    "scrolled": true
   },
   "outputs": [
    {
     "name": "stdout",
     "output_type": "stream",
     "text": [
      "-----::: Student Record System :::-----\n",
      "\n",
      "    1.Add Student\n",
      "    2.View all Students\n",
      "    3.Search Student\n",
      "    4.Exit\n",
      "    \n",
      "Enter your choice: 1\n",
      "Enter student name: kozak\n",
      "Enter student rollno: 2\n",
      "Enter student standard: 1\n",
      "Student added successfully!!!\n",
      "\n",
      "    1.Add Student\n",
      "    2.View all Students\n",
      "    3.Search Student\n",
      "    4.Exit\n",
      "    \n",
      "Enter your choice: 1\n",
      "Enter student name: shrey\n",
      "Enter student rollno: 1\n",
      "Enter student standard: 2\n",
      "Student added successfully!!!\n",
      "\n",
      "    1.Add Student\n",
      "    2.View all Students\n",
      "    3.Search Student\n",
      "    4.Exit\n",
      "    \n",
      "Enter your choice: 2\n",
      "---:: Student List ::---\n",
      "\n",
      "Name: kozak\n",
      "Roll No.: 2\n",
      "Standard: 1\n",
      "\n",
      "Name: shrey\n",
      "Roll No.: 1\n",
      "Standard: 2\n",
      "\n",
      "    1.Add Student\n",
      "    2.View all Students\n",
      "    3.Search Student\n",
      "    4.Exit\n",
      "    \n",
      "Enter your choice: 3\n",
      "Enter student name to search: kozak\n",
      "\n",
      "Name: kozak\n",
      "Roll No.: 2\n",
      "Standard: 1\n",
      "\n",
      "    1.Add Student\n",
      "    2.View all Students\n",
      "    3.Search Student\n",
      "    4.Exit\n",
      "    \n",
      "Enter your choice: 3\n",
      "Enter student name to search: k\n",
      "Student not found\n",
      "\n",
      "    1.Add Student\n",
      "    2.View all Students\n",
      "    3.Search Student\n",
      "    4.Exit\n",
      "    \n",
      "Enter your choice: 4\n",
      "Exiting Record System...\n"
     ]
    }
   ],
   "source": [
    "class StudentRecordSystem:\n",
    "    def __init__(self):\n",
    "        self.students = []\n",
    "        \n",
    "    def add_student(self):\n",
    "        name = input(\"Enter student name: \")\n",
    "        rollno = input(\"Enter student rollno: \")\n",
    "        standard = input(\"Enter student standard: \")\n",
    "        self.students.append({\"Name\":name,\"Roll No.\":rollno,\"Standard\":standard})\n",
    "        print(\"Student added successfully!!!\")\n",
    "        \n",
    "    def view_student(self):\n",
    "        print(\"---:: Student List ::---\")\n",
    "        for student in self.students:\n",
    "            print(f\"\\nName: {student['Name']}\")\n",
    "            print(f\"Roll No.: {student['Roll No.']}\")\n",
    "            print(f\"Standard: {student['Standard']}\")\n",
    "        \n",
    "    def search_student(self):\n",
    "        search = input(\"Enter student name to search: \")\n",
    "        found = False\n",
    "        for student in self.students:\n",
    "            if student[\"Name\"] == search:\n",
    "                found = True\n",
    "                print(f\"\\nName: {student['Name']}\")\n",
    "                print(f\"Roll No.: {student['Roll No.']}\")\n",
    "                print(f\"Standard: {student['Standard']}\")\n",
    "        if found == False:\n",
    "            print(\"Student not found\")\n",
    "\n",
    "ob_srs=StudentRecordSystem()\n",
    "print(\"-----::: Student Record System :::-----\")\n",
    "while True:\n",
    "    \n",
    "    print(\"\"\"\n",
    "    1.Add Student\n",
    "    2.View all Students\n",
    "    3.Search Student\n",
    "    4.Exit\n",
    "    \"\"\")\n",
    "    ch = int(input(\"Enter your choice: \"))\n",
    "    if ch == 1 :\n",
    "        ob_srs.add_student()\n",
    "    elif ch == 2 :\n",
    "        ob_srs.view_student()\n",
    "    elif ch == 3 :\n",
    "        ob_srs.search_student()\n",
    "    elif ch == 4 :\n",
    "        print(\"Exiting Record System...\")\n",
    "        break\n",
    "    else:\n",
    "        print(\"Invalid choice.. Try again!\")"
   ]
  },
  {
   "cell_type": "markdown",
   "id": "05e2cf74",
   "metadata": {},
   "source": [
    "Library Management System:\n",
    "<br>\n",
    "Operations: Add book, Borrow book, Return book, Display available books<br>\n",
    "Class: Suitable for higher grades"
   ]
  },
  {
   "cell_type": "code",
   "execution_count": 97,
   "id": "09d7c3eb",
   "metadata": {},
   "outputs": [
    {
     "name": "stdout",
     "output_type": "stream",
     "text": [
      "-----::: Library Management System :::-----\n",
      "\n",
      "    1.Add Book\n",
      "    2.Borrow Book\n",
      "    3.Return Book\n",
      "    4.Display available Books\n",
      "    5.Exit\n",
      "    \n",
      "Enter your choice: 4\n",
      "--: Books in Invertory/self :--\n",
      "\n",
      "    1.Add Book\n",
      "    2.Borrow Book\n",
      "    3.Return Book\n",
      "    4.Display available Books\n",
      "    5.Exit\n",
      "    \n",
      "Enter your choice: 1\n",
      "Enter the name of the book:kozak\n",
      "Book added Successfully.\n",
      "\n",
      "    1.Add Book\n",
      "    2.Borrow Book\n",
      "    3.Return Book\n",
      "    4.Display available Books\n",
      "    5.Exit\n",
      "    \n",
      "Enter your choice: 1\n",
      "Enter the name of the book:shrey\n",
      "Book added Successfully.\n",
      "\n",
      "    1.Add Book\n",
      "    2.Borrow Book\n",
      "    3.Return Book\n",
      "    4.Display available Books\n",
      "    5.Exit\n",
      "    \n",
      "Enter your choice: 1\n",
      "Enter the name of the book:kero\n",
      "Book added Successfully.\n",
      "\n",
      "    1.Add Book\n",
      "    2.Borrow Book\n",
      "    3.Return Book\n",
      "    4.Display available Books\n",
      "    5.Exit\n",
      "    \n",
      "Enter your choice: 4\n",
      "--: Books in Invertory/self :--\n",
      "kozak\n",
      "shrey\n",
      "kero\n",
      "\n",
      "    1.Add Book\n",
      "    2.Borrow Book\n",
      "    3.Return Book\n",
      "    4.Display available Books\n",
      "    5.Exit\n",
      "    \n",
      "Enter your choice: 3\n",
      "Enter the name of the book to return:kozak\n",
      "Book already Exists\n",
      "\n",
      "    1.Add Book\n",
      "    2.Borrow Book\n",
      "    3.Return Book\n",
      "    4.Display available Books\n",
      "    5.Exit\n",
      "    \n",
      "Enter your choice: 3\n",
      "Enter the name of the book to return:bharat\n",
      "Book returned successfuly.\n",
      "\n",
      "    1.Add Book\n",
      "    2.Borrow Book\n",
      "    3.Return Book\n",
      "    4.Display available Books\n",
      "    5.Exit\n",
      "    \n",
      "Enter your choice: 4\n",
      "--: Books in Invertory/self :--\n",
      "kozak\n",
      "shrey\n",
      "kero\n",
      "bharat\n",
      "\n",
      "    1.Add Book\n",
      "    2.Borrow Book\n",
      "    3.Return Book\n",
      "    4.Display available Books\n",
      "    5.Exit\n",
      "    \n",
      "Enter your choice: 2\n",
      "Enter the name of the book to borrow:kero\n",
      "Book Borrowed Successfully.\n",
      "\n",
      "    1.Add Book\n",
      "    2.Borrow Book\n",
      "    3.Return Book\n",
      "    4.Display available Books\n",
      "    5.Exit\n",
      "    \n",
      "Enter your choice: 4\n",
      "--: Books in Invertory/self :--\n",
      "kozak\n",
      "shrey\n",
      "bharat\n",
      "\n",
      "    1.Add Book\n",
      "    2.Borrow Book\n",
      "    3.Return Book\n",
      "    4.Display available Books\n",
      "    5.Exit\n",
      "    \n",
      "Enter your choice: 5\n",
      "Exiting Management System...\n"
     ]
    }
   ],
   "source": [
    "class LibraryManagementSystem:\n",
    "    def __init__(self):\n",
    "        self.inventory = []\n",
    "        \n",
    "    def add_book(self):\n",
    "        add = input(\"Enter the name of the book:\")\n",
    "        self.inventory.append(add)\n",
    "        print(\"Book added Successfully.\")\n",
    "        \n",
    "    def borrow_book(self):\n",
    "        borrow = input(\"Enter the name of the book to borrow:\")\n",
    "        if borrow in self.inventory:\n",
    "            self.inventory.remove(borrow)\n",
    "            print(\"Book Borrowed Successfully.\")\n",
    "        else:\n",
    "            print(\"Book not available.\")\n",
    "        \n",
    "    def return_book(self):\n",
    "        returns = input(\"Enter the name of the book to return:\")\n",
    "        if returns in self.inventory:\n",
    "            print(\"Book already Exists\")\n",
    "        else:\n",
    "            self.inventory.append(returns)\n",
    "            print(\"Book returned successfuly.\")\n",
    "        \n",
    "    def display_all_book(self):\n",
    "        print (\"--: Books in Invertory/self :--\")\n",
    "        for book in self.inventory:\n",
    "            print(book)\n",
    "\n",
    "ob_lms=LibraryManagementSystem()\n",
    "print(\"-----::: Library Management System :::-----\")\n",
    "while True:\n",
    "    \n",
    "    print(\"\"\"\n",
    "    1.Add Book\n",
    "    2.Borrow Book\n",
    "    3.Return Book\n",
    "    4.Display available Books\n",
    "    5.Exit\n",
    "    \"\"\")\n",
    "    ch = int(input(\"Enter your choice: \"))\n",
    "    if ch == 1 :\n",
    "        ob_lms.add_book()\n",
    "    elif ch == 2 :\n",
    "        ob_lms.borrow_book()\n",
    "    elif ch == 3 :\n",
    "        ob_lms.return_book()\n",
    "    elif ch == 4 :\n",
    "        ob_lms.display_all_book()\n",
    "    elif ch == 5:\n",
    "        print(\"Exiting Management System...\")\n",
    "        break\n",
    "    else:\n",
    "        print(\"Invalid choice.. Try again!\")"
   ]
  },
  {
   "cell_type": "markdown",
   "id": "62145621",
   "metadata": {},
   "source": [
    "Bank Management System:\n",
    "<br>\n",
    "Operations: Create account, Deposit, Withdraw, Check balance, Display all accounts<br>\n",
    "Class: Suitable for higher grades"
   ]
  },
  {
   "cell_type": "code",
   "execution_count": 106,
   "id": "ea84e654",
   "metadata": {
    "scrolled": true
   },
   "outputs": [
    {
     "name": "stdout",
     "output_type": "stream",
     "text": [
      "-----::: Bank Management System :::-----\n",
      "\n",
      "    1.Create account\n",
      "    2.Deposit\n",
      "    3.Withdraw\n",
      "    4.Check balance\n",
      "    5.Display all account\n",
      "    6.Exit\n",
      "    \n",
      "Enter your choice: 1\n",
      "Enter Account holder name: kozak\n",
      "Enter mobile number: 8668614399\n",
      "Account created successfully\n",
      "\n",
      "    1.Create account\n",
      "    2.Deposit\n",
      "    3.Withdraw\n",
      "    4.Check balance\n",
      "    5.Display all account\n",
      "    6.Exit\n",
      "    \n",
      "Enter your choice: 2\n",
      "Enter account name for deposit: kozak\n",
      "Enter amount to deposit: 15000\n",
      "Deposit successfully\n",
      "\n",
      "    1.Create account\n",
      "    2.Deposit\n",
      "    3.Withdraw\n",
      "    4.Check balance\n",
      "    5.Display all account\n",
      "    6.Exit\n",
      "    \n",
      "Enter your choice: 3\n",
      "Enter account name for withdraw: 10000\n",
      "Account not found.\n",
      "\n",
      "    1.Create account\n",
      "    2.Deposit\n",
      "    3.Withdraw\n",
      "    4.Check balance\n",
      "    5.Display all account\n",
      "    6.Exit\n",
      "    \n",
      "Enter your choice: 3\n",
      "Enter account name for withdraw: kozak\n",
      "Enter amount to withdraw: 10000\n",
      "Ammount successfully withdrawn!\n",
      "\n",
      "    1.Create account\n",
      "    2.Deposit\n",
      "    3.Withdraw\n",
      "    4.Check balance\n",
      "    5.Display all account\n",
      "    6.Exit\n",
      "    \n",
      "Enter your choice: 5\n",
      "---:: Account list ::---\n",
      "Name:kozak | Mobile: 8668614399 | Balance: 5000\n",
      "------------------------\n",
      "\n",
      "    1.Create account\n",
      "    2.Deposit\n",
      "    3.Withdraw\n",
      "    4.Check balance\n",
      "    5.Display all account\n",
      "    6.Exit\n",
      "    \n",
      "Enter your choice: 3\n",
      "Enter account name for withdraw: kozak\n",
      "Enter amount to withdraw: 15000\n",
      "Insufficient Balance.\n",
      "\n",
      "    1.Create account\n",
      "    2.Deposit\n",
      "    3.Withdraw\n",
      "    4.Check balance\n",
      "    5.Display all account\n",
      "    6.Exit\n",
      "    \n",
      "Enter your choice: 4\n",
      "Enter account name for balance check: kozak\n",
      "kozak's Balance: 5000\n",
      "\n",
      "    1.Create account\n",
      "    2.Deposit\n",
      "    3.Withdraw\n",
      "    4.Check balance\n",
      "    5.Display all account\n",
      "    6.Exit\n",
      "    \n",
      "Enter your choice: 6\n",
      "Exiting Management System...\n"
     ]
    }
   ],
   "source": [
    "class BankManagementSystem:\n",
    "    def __init__(self):\n",
    "        self.accounts = []\n",
    "        #self.name = name\n",
    "        #self.mobile = mobile\n",
    "        #self.balance = balance\n",
    "        \n",
    "    def create(self):\n",
    "        name = input(\"Enter Account holder name: \")\n",
    "        mobile = input(\"Enter mobile number: \")\n",
    "        for acc in self.accounts:\n",
    "            if acc[\"Mobile\"] == mobile:\n",
    "                print (\"Account already exists.\")\n",
    "                return\n",
    "        self.accounts.append({\"Name\":name,\"Mobile\":mobile,\"Balance\":0})\n",
    "        print(\"Account created successfully\")\n",
    "        \n",
    "    def deposit(self):\n",
    "        name = input(\"Enter account name for deposit: \")\n",
    "        for acc in self.accounts:\n",
    "            if acc[\"Name\"] == name:\n",
    "                deposit = int(input(\"Enter amount to deposit: \"))\n",
    "                acc[\"Balance\"] += deposit\n",
    "                print(\"Deposit successfully\")\n",
    "                return\n",
    "        print(\"Account not found!\")\n",
    "        \n",
    "    def withdraw(self):\n",
    "        name = input(\"Enter account name for withdraw: \")\n",
    "        for acc in self.accounts:\n",
    "            if acc[\"Name\"] == name:\n",
    "                withdraw = int(input(\"Enter amount to withdraw: \"))\n",
    "                if acc[\"Balance\"] >= withdraw:\n",
    "                    acc[\"Balance\"] -= withdraw\n",
    "                    print(\"Ammount successfully withdrawn!\")\n",
    "                else:\n",
    "                    print(\"Insufficient Balance.\")\n",
    "                return\n",
    "        print(\"Account not found.\")\n",
    "                \n",
    "    def check(self):\n",
    "        name = input(\"Enter account name for balance check: \")\n",
    "        for acc in self.accounts:\n",
    "            if acc[\"Name\"] == name:\n",
    "                print(f\"{name}'s Balance: {acc['Balance']}\")\n",
    "                return\n",
    "        print(\"Account not found.\")\n",
    "        \n",
    "    def display(self):\n",
    "        print(\"---:: Account list ::---\")\n",
    "        for acc in self.accounts:\n",
    "            print(f\"Name:{acc['Name']} | Mobile: {acc['Mobile']} | Balance: {acc['Balance']}\")\n",
    "        print(\"------------------------\")\n",
    "\n",
    "ob_bms=BankManagementSystem()\n",
    "print(\"-----::: Bank Management System :::-----\")\n",
    "while True:\n",
    "    \n",
    "    print(\"\"\"\n",
    "    1.Create account\n",
    "    2.Deposit\n",
    "    3.Withdraw\n",
    "    4.Check balance\n",
    "    5.Display all account\n",
    "    6.Exit\n",
    "    \"\"\")\n",
    "    ch = int(input(\"Enter your choice: \"))\n",
    "    if ch == 1 :\n",
    "        ob_bms.create()\n",
    "    elif ch == 2 :\n",
    "        ob_bms.deposit()\n",
    "    elif ch == 3 :\n",
    "        ob_bms.withdraw()\n",
    "    elif ch == 4 :\n",
    "        ob_bms.check()\n",
    "    elif ch == 5:\n",
    "        ob_bms.display()\n",
    "    elif ch == 6:\n",
    "        print(\"Exiting Management System...\")\n",
    "        break\n",
    "    else:\n",
    "        print(\"Invalid choice.. Try again!\")"
   ]
  },
  {
   "cell_type": "code",
   "execution_count": 110,
   "id": "bc7d90e3",
   "metadata": {
    "scrolled": true
   },
   "outputs": [
    {
     "name": "stdout",
     "output_type": "stream",
     "text": [
      "\n",
      "Menu:\n",
      "1. Add student\n",
      "2. Add grade\n",
      "3. View grades\n",
      "4. Calculate average grade\n",
      "5. Exit\n",
      "Enter choice: 1\n",
      "Enter student's name: kozak\n",
      "Student added successfully with roll number: 1\n",
      "\n",
      "Menu:\n",
      "1. Add student\n",
      "2. Add grade\n",
      "3. View grades\n",
      "4. Calculate average grade\n",
      "5. Exit\n",
      "Enter choice: 2\n",
      "Enter student's roll number: 1\n",
      "Enter grade: 80\n",
      "Grade added successfully.\n",
      "\n",
      "Menu:\n",
      "1. Add student\n",
      "2. Add grade\n",
      "3. View grades\n",
      "4. Calculate average grade\n",
      "5. Exit\n",
      "Enter choice: 2\n",
      "Enter student's roll number: 1\n",
      "Enter grade: 90\n",
      "Grade added successfully.\n",
      "\n",
      "Menu:\n",
      "1. Add student\n",
      "2. Add grade\n",
      "3. View grades\n",
      "4. Calculate average grade\n",
      "5. Exit\n",
      "Enter choice: 3\n",
      "Enter student's roll number: 1\n",
      "Grades for kozak:\n",
      "Grade 1 : 80.0\n",
      "Grade 2 : 90.0\n",
      "\n",
      "Menu:\n",
      "1. Add student\n",
      "2. Add grade\n",
      "3. View grades\n",
      "4. Calculate average grade\n",
      "5. Exit\n",
      "Enter choice: 4\n",
      "Enter student's roll number: 1\n",
      "Average grade for kozak: 85.0\n",
      "\n",
      "Menu:\n",
      "1. Add student\n",
      "2. Add grade\n",
      "3. View grades\n",
      "4. Calculate average grade\n",
      "5. Exit\n",
      "Enter choice: 5\n"
     ]
    }
   ],
   "source": [
    "class Student:\n",
    "    students = {}\n",
    "    next_roll_number = 1\n",
    "\n",
    "    def __init__(self, name):\n",
    "        self.name = name\n",
    "        self.roll_number = Student.next_roll_number\n",
    "        Student.next_roll_number += 1\n",
    "        self.grades = []\n",
    "        Student.students[self.roll_number] = self\n",
    "\n",
    "    def add_grade(self, grade):\n",
    "        self.grades.append(grade)\n",
    "\n",
    "    def view_grades(self):\n",
    "        print(\"Grades for\", self.name + \":\")\n",
    "        for i, grade in enumerate(self.grades, start=1):\n",
    "            print(\"Grade\", i, \":\", grade)\n",
    "\n",
    "    def calculate_average_grade(self):\n",
    "        if not self.grades:\n",
    "            print(\"No grades available.\")\n",
    "        else:\n",
    "            average = sum(self.grades) / len(self.grades)\n",
    "            print(\"Average grade for\", self.name + \":\", average)\n",
    "\n",
    "\n",
    "while True:\n",
    "    print(\"\\nMenu:\")\n",
    "    print(\"1. Add student\")\n",
    "    print(\"2. Add grade\")\n",
    "    print(\"3. View grades\")\n",
    "    print(\"4. Calculate average grade\")\n",
    "    print(\"5. Exit\")\n",
    "\n",
    "    choice = input(\"Enter choice: \")\n",
    "\n",
    "    if choice == '1':\n",
    "        name = input(\"Enter student's name: \")\n",
    "        student = Student(name)\n",
    "        print(\"Student added successfully with roll number:\", student.roll_number)\n",
    "    elif choice == '2':\n",
    "        roll_number = int(input(\"Enter student's roll number: \"))\n",
    "        student = Student.students.get(roll_number)\n",
    "        if student:\n",
    "            grade = float(input(\"Enter grade: \"))\n",
    "            student.add_grade(grade)\n",
    "            print(\"Grade added successfully.\")\n",
    "        else:\n",
    "            print(\"Student not found.\")\n",
    "    elif choice == '3':\n",
    "        roll_number = int(input(\"Enter student's roll number: \"))\n",
    "        student = Student.students.get(roll_number)\n",
    "        if student:\n",
    "            student.view_grades()\n",
    "        else:\n",
    "            print(\"Student not found.\")\n",
    "    elif choice == '4':\n",
    "        roll_number = int(input(\"Enter student's roll number: \"))\n",
    "        student = Student.students.get(roll_number)\n",
    "        if student:\n",
    "            student.calculate_average_grade()\n",
    "        else:\n",
    "            print(\"Student not found.\")\n",
    "    elif choice == '5':\n",
    "        break\n",
    "    else:\n",
    "        print(\"Invalid choice. Please try again.\")\n"
   ]
  },
  {
   "cell_type": "markdown",
   "id": "51936048",
   "metadata": {},
   "source": [
    "Hospital Management System:\n",
    "<br>\n",
    "Operations: Add patient(name,condition,doctor assigned), View patients, Assign doctor, View doctors(name,specialty), Check patient status, Exit<br>\n",
    "Class: Suitable for higher grades"
   ]
  },
  {
   "cell_type": "code",
   "execution_count": 121,
   "id": "980006cc",
   "metadata": {
    "scrolled": true
   },
   "outputs": [
    {
     "name": "stdout",
     "output_type": "stream",
     "text": [
      "-----::: Hospital Management System :::-----\n",
      "\n",
      "    1. Add patient\n",
      "    2. View patients\n",
      "    3. Assign Doctor\n",
      "    4. View Doctors\n",
      "    5. Check patient status\n",
      "    6. Exit\n",
      "    \n",
      "Enter your choice: 1\n",
      "Enter the patient name: kozak\n",
      "Enter the patient condition: para\n",
      "Patient added successfully!\n",
      "\n",
      "    1. Add patient\n",
      "    2. View patients\n",
      "    3. Assign Doctor\n",
      "    4. View Doctors\n",
      "    5. Check patient status\n",
      "    6. Exit\n",
      "    \n",
      "Enter your choice: 2\n",
      "---:: Patients List ::---\n",
      "Name: kozak | Condition: para | Doctor: None\n",
      "-------------------------\n",
      "\n",
      "    1. Add patient\n",
      "    2. View patients\n",
      "    3. Assign Doctor\n",
      "    4. View Doctors\n",
      "    5. Check patient status\n",
      "    6. Exit\n",
      "    \n",
      "Enter your choice: 3\n",
      "Enter the patient's name: kozak\n",
      "Enter doctor's name: shrey\n",
      "Enter doctor's specialty: para\n",
      "Doctor assigned successfully.\n",
      "\n",
      "    1. Add patient\n",
      "    2. View patients\n",
      "    3. Assign Doctor\n",
      "    4. View Doctors\n",
      "    5. Check patient status\n",
      "    6. Exit\n",
      "    \n",
      "Enter your choice: 4\n",
      "---:: Doctors List ::---\n",
      "Name: shrey | Specialty: para\n",
      "-------------------------\n",
      "\n",
      "    1. Add patient\n",
      "    2. View patients\n",
      "    3. Assign Doctor\n",
      "    4. View Doctors\n",
      "    5. Check patient status\n",
      "    6. Exit\n",
      "    \n",
      "Enter your choice: 5\n",
      "Enter patient's name to check: kozak\n",
      "Name: kozak | Condition: para | Doctor: shrey\n",
      "\n",
      "    1. Add patient\n",
      "    2. View patients\n",
      "    3. Assign Doctor\n",
      "    4. View Doctors\n",
      "    5. Check patient status\n",
      "    6. Exit\n",
      "    \n",
      "Enter your choice: 2\n",
      "---:: Patients List ::---\n",
      "Name: kozak | Condition: para | Doctor: shrey\n",
      "-------------------------\n",
      "\n",
      "    1. Add patient\n",
      "    2. View patients\n",
      "    3. Assign Doctor\n",
      "    4. View Doctors\n",
      "    5. Check patient status\n",
      "    6. Exit\n",
      "    \n",
      "Enter your choice: 6\n",
      "Exiting Management System...\n"
     ]
    }
   ],
   "source": [
    "class HospitalManagementSystem:\n",
    "    def __init__(self):\n",
    "        self.patients = []\n",
    "        self.doctors = []\n",
    "\n",
    "    def add_patient(self):\n",
    "        pat_name = input(\"Enter the patient name: \")\n",
    "        condition = input(\"Enter the patient condition: \")\n",
    "        self.patients.append({\"Name\": pat_name, \"Condition\": condition, \"Doctor\": None})\n",
    "        print(\"Patient added successfully!\")\n",
    "\n",
    "    def view_patients(self):\n",
    "        print(\"---:: Patients List ::---\")\n",
    "        for pat in self.patients:\n",
    "            print(f\"Name: {pat['Name']} | Condition: {pat['Condition']} | Doctor: {pat['Doctor']}\")\n",
    "        print(\"-------------------------\")\n",
    "\n",
    "    def assign_doctor(self):\n",
    "        pat_name = input(\"Enter the patient's name: \")\n",
    "        for pat in self.patients:\n",
    "            if pat['Name'] == pat_name:\n",
    "                doc_name = input(\"Enter doctor's name: \")\n",
    "                specialty = input(\"Enter doctor's specialty: \")\n",
    "                doctor = {\"Name\": doc_name, \"Specialty\": specialty}\n",
    "                if doctor not in self.doctors:\n",
    "                    self.doctors.append(doctor)\n",
    "                pat['Doctor'] = doc_name\n",
    "                print(\"Doctor assigned successfully.\")\n",
    "                return\n",
    "        print(\"Patient not found.\")\n",
    "\n",
    "    def check_patient(self):\n",
    "        pat_name = input(\"Enter patient's name to check: \")\n",
    "        for pat in self.patients:\n",
    "            if pat[\"Name\"] == pat_name:\n",
    "                print(f\"Name: {pat['Name']} | Condition: {pat['Condition']} | Doctor: {pat['Doctor']}\")\n",
    "                return\n",
    "        print(\"Patient not found\")\n",
    "\n",
    "    def view_doctors(self):\n",
    "        print(\"---:: Doctors List ::---\")\n",
    "        for doc in self.doctors:\n",
    "            print(f\"Name: {doc['Name']} | Specialty: {doc['Specialty']}\")\n",
    "        print(\"-------------------------\")\n",
    "\n",
    "\n",
    "hms = HospitalManagementSystem()\n",
    "print(\"-----::: Hospital Management System :::-----\")\n",
    "while True:\n",
    "    print(\"\"\"\n",
    "    1. Add patient\n",
    "    2. View patients\n",
    "    3. Assign Doctor\n",
    "    4. View Doctors\n",
    "    5. Check patient status\n",
    "    6. Exit\n",
    "    \"\"\")\n",
    "    ch = int(input(\"Enter your choice: \"))\n",
    "    if ch == 1:\n",
    "        hms.add_patient()\n",
    "    elif ch == 2:\n",
    "        hms.view_patients()\n",
    "    elif ch == 3:\n",
    "        hms.assign_doctor()\n",
    "    elif ch == 4:\n",
    "        hms.view_doctors()\n",
    "    elif ch == 5:\n",
    "        hms.check_patient()\n",
    "    elif ch == 6:\n",
    "        print(\"Exiting Management System...\")\n",
    "        break\n",
    "    else:\n",
    "        print(\"Invalid choice.. Try again!\")\n"
   ]
  },
  {
   "cell_type": "markdown",
   "id": "bd9d7a66",
   "metadata": {},
   "source": [
    "Flight Booking System:\n",
    "<br>\n",
    "Operations: Add flight, Book ticket, View bookings, Cancel booking, Exit<br>\n",
    "Class: Suitable for higher grades"
   ]
  },
  {
   "cell_type": "code",
   "execution_count": null,
   "id": "e2d7eec3",
   "metadata": {},
   "outputs": [],
   "source": []
  },
  {
   "cell_type": "code",
   "execution_count": null,
   "id": "8bddd019",
   "metadata": {},
   "outputs": [],
   "source": []
  },
  {
   "cell_type": "code",
   "execution_count": null,
   "id": "8e44cab0",
   "metadata": {},
   "outputs": [],
   "source": []
  }
 ],
 "metadata": {
  "kernelspec": {
   "display_name": "Python 3 (ipykernel)",
   "language": "python",
   "name": "python3"
  },
  "language_info": {
   "codemirror_mode": {
    "name": "ipython",
    "version": 3
   },
   "file_extension": ".py",
   "mimetype": "text/x-python",
   "name": "python",
   "nbconvert_exporter": "python",
   "pygments_lexer": "ipython3",
   "version": "3.9.12"
  }
 },
 "nbformat": 4,
 "nbformat_minor": 5
}
