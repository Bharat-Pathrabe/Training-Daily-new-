{
 "cells": [
  {
   "cell_type": "markdown",
   "id": "d61e03db",
   "metadata": {},
   "source": [
    "# Practice (Json Cont.)"
   ]
  },
  {
   "cell_type": "markdown",
   "id": "ec2c8680",
   "metadata": {},
   "source": [
    "Q) program to convert Python objects into JSON strings. Print all the values."
   ]
  },
  {
   "cell_type": "code",
   "execution_count": 6,
   "id": "e534fd4d",
   "metadata": {},
   "outputs": [
    {
     "name": "stdout",
     "output_type": "stream",
     "text": [
      "Json Dict: {\"Name\": \"Kozak\", \"Dept\": \"AI\"}\n",
      "Json List : [\"Black\", \"Charcoal\", \"Grey\"]\n",
      "Json String : \"The way its meant to be played.\"\n",
      "Json int: 12345\n",
      "Json float: 12.12\n",
      "Json bool: true\n",
      "Json null: null\n"
     ]
    }
   ],
   "source": [
    "import json\n",
    "dic={\"Name\":\"Kozak\",\"Dept\":\"AI\"}\n",
    "lis=[\"Black\",\"Charcoal\",\"Grey\"]\n",
    "sstr=\"The way its meant to be played.\"\n",
    "iint=(12345)\n",
    "floatt=(12.12)\n",
    "boole=(True)\n",
    "none=(None)\n",
    "\n",
    "jdic=json.dumps(dic)\n",
    "jlis=json.dumps(lis)\n",
    "jsstr=json.dumps(sstr)\n",
    "jiint=json.dumps(iint)\n",
    "jfloatt=json.dumps(floatt)\n",
    "jboole=json.dumps(boole)\n",
    "jnone=json.dumps(none)\n",
    "\n",
    "print(f\"Json Dict: {jdic}\")\n",
    "print(f\"Json List : {jlis}\")\n",
    "print(f\"Json String : {jsstr}\")\n",
    "print(f\"Json int: {jiint}\")\n",
    "print(f\"Json float: {jfloatt}\")\n",
    "print(f\"Json bool: {jboole}\")\n",
    "print(f\"Json null: {jnone}\")"
   ]
  },
  {
   "cell_type": "markdown",
   "id": "bb449696",
   "metadata": {},
   "source": [
    "Q) program to convert Python dictionary object (sort by key) to JSON data. Print the object members with indent level 4."
   ]
  },
  {
   "cell_type": "code",
   "execution_count": 8,
   "id": "a416aa90",
   "metadata": {},
   "outputs": [
    {
     "name": "stdout",
     "output_type": "stream",
     "text": [
      "Original:{'4': 8, '2': 4, '5': 10, '7': 14, '1': 1}\n",
      "\n",
      "Json Data:{\n",
      "    \"1\": 1,\n",
      "    \"2\": 4,\n",
      "    \"4\": 8,\n",
      "    \"5\": 10,\n",
      "    \"7\": 14\n",
      "}\n"
     ]
    }
   ],
   "source": [
    "import json\n",
    "dic={\"4\":8,\"2\":4,\"5\":10,\"7\":14,\"1\":1}\n",
    "print(f\"Original:{dic}\")\n",
    "print(f\"\\nJson Data:{json.dumps(dic,sort_keys=True,indent=4)}\")"
   ]
  },
  {
   "cell_type": "markdown",
   "id": "277e447d",
   "metadata": {},
   "source": [
    "Q) program to convert JSON encoded data into Python objects."
   ]
  },
  {
   "cell_type": "code",
   "execution_count": 15,
   "id": "d33b67f9",
   "metadata": {},
   "outputs": [
    {
     "name": "stdout",
     "output_type": "stream",
     "text": [
      "PY dict: {'Name': 'Kozak', 'Dept': 'AI'}\n",
      "PY list: ['Black', 'Charcoal', 'Grey']\n",
      "PY string: The way its meant to be played.\n",
      "PY int: 12345\n",
      "PY float: 12.12\n",
      "PY bool: True\n",
      "PY null: None\n"
     ]
    }
   ],
   "source": [
    "import json\n",
    "jdic='{\"Name\":\"Kozak\",\"Dept\":\"AI\"}'\n",
    "jlis='[\"Black\",\"Charcoal\",\"Grey\"]'\n",
    "jsstr='\"The way its meant to be played.\"'\n",
    "jiint='12345'\n",
    "jfloatt='12.12'\n",
    "jboole='true'\n",
    "jnone='null'\n",
    "\n",
    "print(f\"PY dict: {json.loads(jdic)}\")\n",
    "print(f\"PY list: {json.loads(jlis)}\")\n",
    "print(f\"PY string: {json.loads(jsstr)}\")\n",
    "print(f\"PY int: {json.loads(jiint)}\")\n",
    "print(f\"PY float: {json.loads(jfloatt)}\")\n",
    "print(f\"PY bool: {json.loads(jboole)}\")\n",
    "print(f\"PY null: {json.loads(jnone)}\")"
   ]
  },
  {
   "cell_type": "markdown",
   "id": "f4511c46",
   "metadata": {},
   "source": [
    "Q) program to create a new JSON file from an existing JSON file."
   ]
  },
  {
   "cell_type": "code",
   "execution_count": 20,
   "id": "8eae253d",
   "metadata": {},
   "outputs": [],
   "source": [
    "import json\n",
    "\n",
    "with open(\"states.json\") as f:\n",
    "    s_data=json.load(f)\n",
    "\n",
    "for state in s_data[\"states\"]:\n",
    "    del state[\"timezone\"]\n",
    "\n",
    "with open(\"new_states.json\",\"w\") as f:\n",
    "    json.dump(s_data,f,indent=2)"
   ]
  },
  {
   "cell_type": "markdown",
   "id": "73ed5a79",
   "metadata": {},
   "source": [
    "Q) program to check whether an instance is complex or not."
   ]
  },
  {
   "cell_type": "code",
   "execution_count": 27,
   "id": "593308f4",
   "metadata": {},
   "outputs": [
    {
     "name": "stdout",
     "output_type": "stream",
     "text": [
      "Enter Complex Number: \n",
      "Number: (3+5j)\n",
      "[3.0, 5.0] were complex.\n"
     ]
    }
   ],
   "source": [
    "import json\n",
    "\n",
    "def encode_complex(object):\n",
    "    if isinstance(object, complex):\n",
    "        return [object.real, object.imag]\n",
    "    raise TypeError(repr(object) + \" is not JSON serialized\")\n",
    "\n",
    "print(\"Enter Complex Number: \")\n",
    "a=int(input(\"Real:\"))\n",
    "b=int(input(\"Complex:\"))\n",
    "com=complex(a,b)\n",
    "print(f\"Number: {com}\")\n",
    "print(f\"{json.dumps(com, default=encode_complex)} were complex.\") \n"
   ]
  },
  {
   "cell_type": "markdown",
   "id": "afa3e65f",
   "metadata": {},
   "source": [
    "Q) program to check whether a JSON string contains complex object or not."
   ]
  },
  {
   "cell_type": "code",
   "execution_count": 39,
   "id": "c9356519",
   "metadata": {},
   "outputs": [
    {
     "name": "stdout",
     "output_type": "stream",
     "text": [
      "(4+7j)\n",
      "{'real': 4, 'img': 7}\n"
     ]
    }
   ],
   "source": [
    "import json\n",
    "def com_num(o):\n",
    "    if \"complex\" in o:\n",
    "        return complex(o[\"real\"],o[\"img\"])\n",
    "    return o\n",
    "\n",
    "complex_o=json.loads('{\"complex\":true,\"real\":4,\"img\":7}',object_hook=com_num)\n",
    "simple_o=json.loads('{\"real\":4,\"img\":7}',object_hook=com_num)\n",
    "print(complex_o)\n",
    "print(simple_o)"
   ]
  },
  {
   "cell_type": "markdown",
   "id": "78b4b375",
   "metadata": {},
   "source": [
    "Q) program to access only unique key value of a Python object."
   ]
  },
  {
   "cell_type": "code",
   "execution_count": 52,
   "id": "486bfd44",
   "metadata": {},
   "outputs": [
    {
     "name": "stdout",
     "output_type": "stream",
     "text": [
      "\n",
      "Unique key in json object: {'Name': 'Kozak', 'Dept': 'AI'}\n"
     ]
    }
   ],
   "source": [
    "num = int(input(\"Enter the number of entries you want to add: \"))\n",
    "user_dict = {input(\"Key:\"):input(\"Value:\") for i in range(num)}\n",
    "p_ob=json.dumps(user_dict)\n",
    "print(f\"\\nUnique key in json object: {json.loads(p_ob)}\")\n"
   ]
  },
  {
   "cell_type": "markdown",
   "id": "8d1a5f23",
   "metadata": {},
   "source": [
    "Q) program to count the number of characters (character frequency) in a string."
   ]
  },
  {
   "cell_type": "code",
   "execution_count": 71,
   "id": "c6f32339",
   "metadata": {},
   "outputs": [
    {
     "name": "stdout",
     "output_type": "stream",
     "text": [
      "Count of Charcters: {'h': 1, 'e': 1, 'l': 2, 'o': 1}\n"
     ]
    }
   ],
   "source": [
    "def num(st):\n",
    "    return {i:st.count(i) for i in st}\n",
    "st=input(\"Enter any string: \")\n",
    "print(f\"Count of Charcters: {num(st)}\")"
   ]
  },
  {
   "cell_type": "markdown",
   "id": "d2815b27",
   "metadata": {},
   "source": [
    "Q) program to get a string made of the first 2 and last 2 characters of a given string. If the string length is less than 2, return the empty string instead.<br>\n",
    "Sample String : 'w3resource'<br>\n",
    "Expected Result : 'w3ce'<br>\n",
    "Sample String : 'w3'<br>\n",
    "Expected Result : 'w3w3'<br>\n",
    "Sample String : ' w'<br>\n",
    "Expected Result : Empty String"
   ]
  },
  {
   "cell_type": "code",
   "execution_count": 69,
   "id": "4bf1a83f",
   "metadata": {},
   "outputs": [
    {
     "name": "stdout",
     "output_type": "stream",
     "text": [
      "Ori: The way\n",
      "Result: Thay\n"
     ]
    }
   ],
   "source": [
    "def match(st):\n",
    "    return \"Empty String\" if len(st)< 2 else st[0:2] + st[-2:]\n",
    "\n",
    "st=input(\"Enter string: \")\n",
    "print(f\"Ori: {st}\")\n",
    "print(f\"Result: {match(st)}\")"
   ]
  },
  {
   "cell_type": "markdown",
   "id": "2d9a7ece",
   "metadata": {},
   "source": [
    "Q) Write a Python program to find the first appearance of the substrings 'not' and 'poor' in a given string. If 'not' follows 'poor', replace the whole 'not'...'poor' substring with 'good'. Return the resulting string.<br>\n",
    "Sample String : 'The lyrics is not that poor!'<br>\n",
    "'The lyrics is poor!'<br>\n",
    "Expected Result : 'The lyrics is good!'<br>\n",
    "'The lyrics is poor!'"
   ]
  },
  {
   "cell_type": "code",
   "execution_count": 87,
   "id": "b76ef21c",
   "metadata": {},
   "outputs": [
    {
     "name": "stdout",
     "output_type": "stream",
     "text": [
      " the lyrics is good\n"
     ]
    }
   ],
   "source": [
    "import re\n",
    "\n",
    "def convert(st):\n",
    "    return re.sub(\"not.*?poor\",\"good\",st)\n",
    "\n",
    "st=input(\"Enter String: \")\n",
    "print(convert(st))\n"
   ]
  },
  {
   "cell_type": "markdown",
   "id": "6a5dd188",
   "metadata": {},
   "source": [
    "Q) Python function that takes a list of words and return the longest word and the length of the longest one."
   ]
  },
  {
   "cell_type": "code",
   "execution_count": 94,
   "id": "87fa2d94",
   "metadata": {},
   "outputs": [
    {
     "name": "stdout",
     "output_type": "stream",
     "text": [
      "Longest word: kerochan \n",
      "Lenght of Word: 8\n"
     ]
    }
   ],
   "source": [
    "def long(words):\n",
    "    long_w=max(words,key=len)\n",
    "    len_w=len(long_w)\n",
    "    return long_w,len_w\n",
    "\n",
    "words= [word for word in input(\"Enter words separated via Spcaes: \").split()]\n",
    "long_w,len_w=long(words)\n",
    "print(f\"Longest word: {long_w} \\nLenght of Word: {len_w}\")"
   ]
  },
  {
   "cell_type": "markdown",
   "id": "3cfba8f8",
   "metadata": {},
   "source": [
    "Q) program to remove the nth index character from a nonempty string."
   ]
  },
  {
   "cell_type": "code",
   "execution_count": 1,
   "id": "d31e9052",
   "metadata": {},
   "outputs": [
    {
     "name": "stdout",
     "output_type": "stream",
     "text": [
      "Modified string: applbananaberry\n"
     ]
    }
   ],
   "source": [
    "st=input(\"Enter the string: \")\n",
    "n=int(input(\"which index character to remove:\"))\n",
    "m_st=st.replace(st[n-1],\"\",1)\n",
    "print(f\"Modified string: {m_st}\")"
   ]
  },
  {
   "cell_type": "code",
   "execution_count": 2,
   "id": "0526ebae",
   "metadata": {},
   "outputs": [
    {
     "name": "stdout",
     "output_type": "stream",
     "text": [
      "Modified string: applbananaberry\n"
     ]
    }
   ],
   "source": [
    "st = input(\"Enter the string: \")\n",
    "n = int(input(\"Which index character to replace: \"))\n",
    "m_st = st[:n-1] + st[n:]\n",
    "print(f\"Modified string: {m_st}\")"
   ]
  },
  {
   "cell_type": "markdown",
   "id": "7b715b7b",
   "metadata": {},
   "source": [
    "Q) program to change a given string to a newly string where the first and last chars have been exchanged."
   ]
  },
  {
   "cell_type": "code",
   "execution_count": 101,
   "id": "1f8e8aeb",
   "metadata": {},
   "outputs": [
    {
     "name": "stdout",
     "output_type": "stream",
     "text": [
      "Modified String: yhreS\n"
     ]
    }
   ],
   "source": [
    "def change_string(st):\n",
    "    return st[-1:] + st[1:-1] + st[:1]\n",
    "\n",
    "st=input(\"Enter String:\")\n",
    "print(f\"Modified String: {change_string(st)}\")"
   ]
  },
  {
   "cell_type": "markdown",
   "id": "65e32826",
   "metadata": {},
   "source": [
    "Q) program to remove characters that have odd index values in a given string."
   ]
  },
  {
   "cell_type": "code",
   "execution_count": 116,
   "id": "0768eda0",
   "metadata": {},
   "outputs": [
    {
     "name": "stdout",
     "output_type": "stream",
     "text": [
      "Modified String: ace\n"
     ]
    }
   ],
   "source": [
    "def mod(st):\n",
    "    return \"\".join([st[i] for i in range(len(st)) if i%2 == 0])\n",
    "st=input(\"Enter string:\")\n",
    "print(f\"Modified String: {mod(st)}\")"
   ]
  },
  {
   "cell_type": "markdown",
   "id": "71d8bb41",
   "metadata": {},
   "source": [
    "Q) program to count the occurrences of each word in a given sentence."
   ]
  },
  {
   "cell_type": "code",
   "execution_count": 134,
   "id": "35cd2cf1",
   "metadata": {},
   "outputs": [
    {
     "name": "stdout",
     "output_type": "stream",
     "text": [
      "Count of Charcters: {'program': 1, 'to': 1, 'count': 1, 'the': 1, 'occurrences': 1, 'of': 1, 'each': 1, 'word': 1, 'in': 1, 'a': 1, 'given': 1, 'sentence.': 1}\n"
     ]
    }
   ],
   "source": [
    "def num(st):\n",
    "    return {i:st.count(i) for i in st}\n",
    "st=input(\"Enter any sentence: \").split(\" \")\n",
    "print(f\"Count of Charcters: {num(st)}\")"
   ]
  },
  {
   "cell_type": "markdown",
   "id": "408b95b7",
   "metadata": {},
   "source": [
    "Q) program that accepts a comma-separated sequence of words as input and prints the distinct words in sorted form (alphanumerically).<br>\n",
    "Sample Words : red, white, black, red, green, black<br>\n",
    "Expected Result : black, green, red, white,red"
   ]
  },
  {
   "cell_type": "code",
   "execution_count": 133,
   "id": "e9e04906",
   "metadata": {},
   "outputs": [
    {
     "name": "stdout",
     "output_type": "stream",
     "text": [
      "Sorted R: black,green,red,white\n"
     ]
    }
   ],
   "source": [
    "st=input(\"Enter string comma separated: \").split(\",\")\n",
    "print(f\"Sorted R: {','.join(sorted(list(set(st))))}\")"
   ]
  },
  {
   "cell_type": "markdown",
   "id": "5cf8ce83",
   "metadata": {},
   "source": [
    "Q) Write a Python function to create an HTML string with tags around the word(s).<br>\n",
    "Sample function and result :<br>\n",
    "add_tags('i', 'Python') -> '<i>Python</i>'<br>\n",
    "add_tags('b', 'Python Tutorial') -> '<b>Python Tutorial </b>'"
   ]
  },
  {
   "cell_type": "code",
   "execution_count": 136,
   "id": "8b26b3a1",
   "metadata": {},
   "outputs": [
    {
     "name": "stdout",
     "output_type": "stream",
     "text": [
      "<b>kozak</b>\n"
     ]
    }
   ],
   "source": [
    "def add_tag(st,tag):\n",
    "    return f\"<{tag}>{st}</{tag}>\"\n",
    "st=input(\"Enter string:\")\n",
    "tag=input(\"Enter tag:\")\n",
    "print(add_tag(st,tag))"
   ]
  },
  {
   "cell_type": "code",
   "execution_count": 139,
   "id": "3c603841",
   "metadata": {},
   "outputs": [
    {
     "name": "stdout",
     "output_type": "stream",
     "text": [
      "Python\n",
      "PYTHON\n"
     ]
    }
   ],
   "source": [
    "def to_uppercase(str1):\n",
    "    num_upper = 0\n",
    "    for letter in str1[:4]:\n",
    "        if letter.upper() == letter:\n",
    "            num_upper += 1\n",
    "    if num_upper >= 2:\n",
    "        return str1.upper()\n",
    "    return str1\n",
    "print(to_uppercase('Python'))  \n",
    "print(to_uppercase('PyThon')) \n"
   ]
  }
 ],
 "metadata": {
  "kernelspec": {
   "display_name": "Python 3 (ipykernel)",
   "language": "python",
   "name": "python3"
  },
  "language_info": {
   "codemirror_mode": {
    "name": "ipython",
    "version": 3
   },
   "file_extension": ".py",
   "mimetype": "text/x-python",
   "name": "python",
   "nbconvert_exporter": "python",
   "pygments_lexer": "ipython3",
   "version": "3.10.13"
  }
 },
 "nbformat": 4,
 "nbformat_minor": 5
}
