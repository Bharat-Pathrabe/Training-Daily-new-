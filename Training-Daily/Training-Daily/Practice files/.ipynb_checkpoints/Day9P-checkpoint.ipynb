{
 "cells": [
  {
   "cell_type": "markdown",
   "id": "d61e03db",
   "metadata": {},
   "source": [
    "# Practice (Json Cont.)"
   ]
  },
  {
   "cell_type": "markdown",
   "id": "ec2c8680",
   "metadata": {},
   "source": [
    "Q) program to convert Python objects into JSON strings. Print all the values."
   ]
  },
  {
   "cell_type": "code",
   "execution_count": null,
   "id": "e534fd4d",
   "metadata": {},
   "outputs": [],
   "source": [
    "import json\n",
    "dic={Name:\"Kozak\",Dept:\"AI\"}\n",
    "lis=[\"Black\",\"Charcoal\",\"Grey\"]\n",
    "sett={\"Hehe\",\"Boy\"}\n",
    "sstr=\"The way its meant to be played.\"\n",
    "iint=12345\n",
    "floatt=12.12\n",
    "boole=True\n",
    "none=None\n",
    "\n",
    "jdic=json.dumps()\n",
    "jlis=\n",
    "jsett=\n",
    "jsstr=\n",
    "jiint=\n",
    "jfloatt=\n",
    "jboole=\n",
    "jnone="
   ]
  }
 ],
 "metadata": {
  "kernelspec": {
   "display_name": "Python 3 (ipykernel)",
   "language": "python",
   "name": "python3"
  },
  "language_info": {
   "codemirror_mode": {
    "name": "ipython",
    "version": 3
   },
   "file_extension": ".py",
   "mimetype": "text/x-python",
   "name": "python",
   "nbconvert_exporter": "python",
   "pygments_lexer": "ipython3",
   "version": "3.9.12"
  }
 },
 "nbformat": 4,
 "nbformat_minor": 5
}
