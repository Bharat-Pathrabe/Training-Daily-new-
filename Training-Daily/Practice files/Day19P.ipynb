{
 "cells": [
  {
   "cell_type": "markdown",
   "id": "497ec2c5",
   "metadata": {},
   "source": [
    "# Practice (Dictionary Cont.) "
   ]
  },
  {
   "cell_type": "markdown",
   "id": "236b67bf",
   "metadata": {},
   "source": [
    "Write a Python program to find the highest 3 values of corresponding keys in a dictionary."
   ]
  },
  {
   "cell_type": "code",
   "execution_count": 4,
   "id": "fc55b3a0",
   "metadata": {},
   "outputs": [
    {
     "name": "stdout",
     "output_type": "stream",
     "text": [
      "Highest 3 values are:\n",
      "Key: c value: 30\n",
      "Key: e value: 25\n",
      "Key: b value: 20\n"
     ]
    }
   ],
   "source": [
    "def highest(sample_dict,n=3):\n",
    "    sorted_dict = sorted(sample_dict.items(),key= lambda x : x[1] ,reverse=True)\n",
    "    highest= sorted_dict[:n]\n",
    "    return highest\n",
    "\n",
    "sample_dict = {'a': 10, 'b': 20, 'c': 30, 'd': 15, 'e': 25}\n",
    "highest_value= highest(sample_dict,3)\n",
    "print(\"Highest 3 values are:\")\n",
    "for key ,value in highest_value:\n",
    "    print(f\"Key: {key} value: {value}\")"
   ]
  },
  {
   "cell_type": "markdown",
   "id": "a13802f3",
   "metadata": {},
   "source": [
    "Write a Python program to combine values in a list of dictionaries.<br>\n",
    "Sample data: [{'item': 'item1', 'amount': 400}, {'item': 'item2', 'amount': 300}, {'item': 'item1', 'amount': 750}]<br>\n",
    "Expected Output: Counter({'item1': 1150, 'item2': 300})<br>"
   ]
  },
  {
   "cell_type": "code",
   "execution_count": 12,
   "id": "05da3039",
   "metadata": {},
   "outputs": [
    {
     "name": "stdout",
     "output_type": "stream",
     "text": [
      "Combined values are: {'item1': 1150, 'item2': 300}\n"
     ]
    }
   ],
   "source": [
    "sample_list = [{'item': 'item1', 'amount': 400}, {'item': 'item2', 'amount': 300}, {'item': 'item1', 'amount': 750}]\n",
    "combined_values= {d[\"item\"] : sum(item[\"amount\"] for item in sample_list if item[\"item\"] == d[\"item\"])  for d in sample_list}\n",
    "print(f\"Combined values are: {combined_values}\")"
   ]
  },
  {
   "cell_type": "code",
   "execution_count": 9,
   "id": "9ba0caf8",
   "metadata": {},
   "outputs": [
    {
     "name": "stdout",
     "output_type": "stream",
     "text": [
      "Combined Values: {'item1': 1150, 'item2': 300}\n"
     ]
    }
   ],
   "source": [
    "def combine_values(list_of_dicts):\n",
    "    result = {}\n",
    "    for d in list_of_dicts:\n",
    "        item = d['item']\n",
    "        amount = d['amount']\n",
    "        if item in result:\n",
    "            result[item] += amount\n",
    "        else:\n",
    "            result[item] = amount\n",
    "    return result\n",
    "\n",
    "# Sample data\n",
    "sample_data = [{'item': 'item1', 'amount': 400}, {'item': 'item2', 'amount': 300}, {'item': 'item1', 'amount': 750}]\n",
    "\n",
    "# Combine values and display the result\n",
    "combined_values = combine_values(sample_data)\n",
    "print(\"Combined Values:\", combined_values)"
   ]
  },
  {
   "cell_type": "markdown",
   "id": "c4a38340",
   "metadata": {},
   "source": [
    "Write a Python program to create a dictionary from a string.<br>\n",
    "Note: Track the count of the letters from the string.<br>\n",
    "Sample string : 'w3resource'<br>\n",
    "Expected output: {'w': 1, '3': 1, 'r': 2, 'e': 2, 's': 1, 'o': 1, 'u': 1, 'c': 1}"
   ]
  },
  {
   "cell_type": "code",
   "execution_count": 19,
   "id": "647cef5e",
   "metadata": {},
   "outputs": [
    {
     "name": "stdout",
     "output_type": "stream",
     "text": [
      "Count of the letters: {'k': 2, 'o': 1, 'z': 1, 'a': 1}\n"
     ]
    }
   ],
   "source": [
    "def count_letters(string):\n",
    "    count_dict= {} \n",
    "    sep_list=string\n",
    "    for char in sep_list:\n",
    "        if char in count_dict:\n",
    "            count_dict[char] += 1\n",
    "        else:\n",
    "            count_dict[char] = 1\n",
    "    return count_dict\n",
    "\n",
    "string = input(\"Enter word: \")\n",
    "print(f\"Count of the letters: {count_letters(string)}\")"
   ]
  },
  {
   "cell_type": "markdown",
   "id": "c390e51b",
   "metadata": {},
   "source": [
    "Write a Python program to print a dictionary in table format."
   ]
  },
  {
   "cell_type": "code",
   "execution_count": 1,
   "id": "2a65fbd0",
   "metadata": {},
   "outputs": [
    {
     "name": "stdout",
     "output_type": "stream",
     "text": [
      "Name   Age  City      \n",
      "Kozak  26  Nagpur    \n",
      "John   30  New York  \n"
     ]
    }
   ],
   "source": [
    "def print_list_of_dicts_horizontally(list_of_dicts):\n",
    "    # Find the maximum length of each key across all dictionaries\n",
    "    max_key_lengths = {key: max(len(str(d[key])) for d in list_of_dicts) for key in list_of_dicts[0].keys()}\n",
    "    \n",
    "    # Print column headers\n",
    "    for key, max_length in max_key_lengths.items():\n",
    "        print(f\"{key:<{max_length}}\", end=\"  \")\n",
    "    print()\n",
    "    \n",
    "    # Print values below each key\n",
    "    for d in list_of_dicts:\n",
    "        for key, max_length in max_key_lengths.items():\n",
    "            print(f\"{d[key]:<{max_length}}\", end=\"  \")\n",
    "        print()\n",
    "\n",
    "# Sample list of dictionaries\n",
    "sample_list_of_dicts = [{'Name': 'Kozak', 'Age': 26, 'City': 'Nagpur'}, {'Name': 'John', 'Age': 30, 'City': 'New York'}]\n",
    "\n",
    "# Print the list of dictionaries horizontally\n",
    "print_list_of_dicts_horizontally(sample_list_of_dicts)\n"
   ]
  },
  {
   "cell_type": "markdown",
   "id": "d78c4a85",
   "metadata": {},
   "source": [
    "# Practice "
   ]
  },
  {
   "cell_type": "markdown",
   "id": "de618593",
   "metadata": {},
   "source": [
    "Write python program to find the second largest number in the integer list."
   ]
  },
  {
   "cell_type": "code",
   "execution_count": 6,
   "id": "92cedec5",
   "metadata": {},
   "outputs": [
    {
     "name": "stdout",
     "output_type": "stream",
     "text": [
      "Enter nums with spaces:6 3 1 8 3 9 2\n",
      "8\n"
     ]
    }
   ],
   "source": [
    "list1 = [i for i in input(\"Enter nums with spaces:\").split()]\n",
    "large = sorted(list1,reverse=True)\n",
    "print(large[1])"
   ]
  },
  {
   "cell_type": "markdown",
   "id": "01e40d02",
   "metadata": {},
   "source": [
    "Write a Python program to count the frequency of each element in a list.<br>\n",
    "Example:<br>\n",
    "Input: nums = [1, 2, 3, 2, 1, 3, 2, 4, 5, 4] <br>\n",
    "Output: {1:2, 2:3, 3:2, 4:2, 5:1}"
   ]
  },
  {
   "cell_type": "code",
   "execution_count": 20,
   "id": "2807c3db",
   "metadata": {},
   "outputs": [
    {
     "name": "stdout",
     "output_type": "stream",
     "text": [
      "Enter nums with spaces:1 2 3 2 1 3 2 4 5 4\n",
      "Frquency count: {'1': 2, '2': 3, '3': 2, '4': 2, '5': 1}\n"
     ]
    }
   ],
   "source": [
    "def frequency(list1):\n",
    "    r={}\n",
    "    for i in list1:\n",
    "        if i in r:\n",
    "            r[i] += 1\n",
    "        else:\n",
    "            r[i] = 1\n",
    "    return r\n",
    "\n",
    "list1 = [i for i in input(\"Enter nums with spaces:\").split()]\n",
    "freq= frequency(list1)\n",
    "print(f\"Frquency count: {freq}\")"
   ]
  },
  {
   "cell_type": "markdown",
   "id": "bde12971",
   "metadata": {},
   "source": [
    "Write a Python program to find the common elements between two lists.<br>\n",
    "Input: list_a = [1, 2, 3, 4, 5] and list_b = [4, 5, 6, 7, 8]<br>\n",
    "Output: [4, 5]"
   ]
  },
  {
   "cell_type": "code",
   "execution_count": 25,
   "id": "83f60e07",
   "metadata": {},
   "outputs": [
    {
     "name": "stdout",
     "output_type": "stream",
     "text": [
      "Enter nums with spaces:1 2 3 4 5\n",
      "Enter nums with spaces:4 5 6 7 8\n",
      "Common elements: ['5', '4']\n"
     ]
    }
   ],
   "source": [
    "def common_elements(list1,list2):\n",
    "    set1 = set(list1)\n",
    "    set2 = set(list2)\n",
    "    set1.intersection_update(set2)\n",
    "    return list(set1)\n",
    "\n",
    "list1= [i for i in input(\"Enter nums with spaces:\").split()]\n",
    "list2= [i for i in input(\"Enter nums with spaces:\").split()]\n",
    "common_elements=common_elements(list1,list2)\n",
    "print(f\"Common elements: {common_elements}\")"
   ]
  },
  {
   "cell_type": "markdown",
   "id": "7eeeb8bc",
   "metadata": {},
   "source": [
    "Write a Python program to count Vowels in a Given Word.<br>\n",
    "Example:<br>\n",
    "Input: word = \"programming\"<br>\n",
    "Output: 3"
   ]
  },
  {
   "cell_type": "code",
   "execution_count": 29,
   "id": "944cf93e",
   "metadata": {},
   "outputs": [
    {
     "name": "stdout",
     "output_type": "stream",
     "text": [
      "Enter the word for vowel check:kozak\n",
      "Original  word: kozak \n",
      "Number of vowels in given word: 2\n"
     ]
    }
   ],
   "source": [
    "def check_vowels():\n",
    "    vowels = \"aeiou\"\n",
    "    counter = 0 \n",
    "    for i in word:\n",
    "        if i in vowels:\n",
    "            counter += 1\n",
    "    return counter\n",
    "\n",
    "word=input(\"Enter the word for vowel check:\").lower()\n",
    "print(f\"Original  word: {word} \\nNumber of vowels in given word: {check_vowels()}\")"
   ]
  },
  {
   "cell_type": "markdown",
   "id": "fde3642a",
   "metadata": {},
   "source": [
    "Write a program that accepts a sentence and calculate the number of letters\n",
    "and digits.<br>\n",
    "Suppose the following input is supplied to the program:<br>\n",
    "hello world! 123<br>\n",
    "Then, the output should be:<br>\n",
    "LETTERS 10<br>\n",
    "DIGITS 3"
   ]
  },
  {
   "cell_type": "code",
   "execution_count": 30,
   "id": "1b599c4b",
   "metadata": {},
   "outputs": [
    {
     "name": "stdout",
     "output_type": "stream",
     "text": [
      "Enter sentence:hello world! 123\n",
      "Original Sentence: hello world! 123 \n",
      "Letters: 10 \n",
      "Digits: 3\n"
     ]
    }
   ],
   "source": [
    "def calculate_letters_digits(sentence):\n",
    "    letters = 0\n",
    "    digits = 0\n",
    "    for char in sentence:\n",
    "        if char.isalpha():\n",
    "            letters += 1\n",
    "        if char.isdigit():\n",
    "            digits += 1\n",
    "    return letters,digits\n",
    "\n",
    "sentence=input(\"Enter sentence:\")\n",
    "letter_count,digit_count=calculate_letters_digits(sentence)\n",
    "print(f\"Original Sentence: {sentence} \\nLetters: {letter_count} \\nDigits: {digit_count}\")"
   ]
  },
  {
   "cell_type": "markdown",
   "id": "646334c9",
   "metadata": {},
   "source": [
    "Create a Python function that takes two dictionaries as input and merges them\n",
    "into a single dictionary. If there are any common keys, the values should be\n",
    "added together.<br>\n",
    "Example:<br>\n",
    "Input: dict1 = {\"a\":1, \"b\": 2}, dict2 = {\"c\":3, \"a\":4}<br>\n",
    "Output: {\"a\":5, \"b\": 2, \"c\":3}"
   ]
  },
  {
   "cell_type": "code",
   "execution_count": 32,
   "id": "3fec721f",
   "metadata": {},
   "outputs": [
    {
     "name": "stdout",
     "output_type": "stream",
     "text": [
      "Merged Dictionary: {'a': 5, 'b': 2, 'c': 3}\n"
     ]
    }
   ],
   "source": [
    "def merge_dictionary(dict1,dict2):\n",
    "    for key,value in dict2.items():\n",
    "        if key in dict1:\n",
    "            dict1[key] += value\n",
    "        else:\n",
    "            dict1[key] = value\n",
    "    return dict1\n",
    "\n",
    "dict1,dict2 = {\"a\":1, \"b\": 2},{\"c\":3, \"a\":4}\n",
    "dict_merged = merge_dictionary(dict1,dict2)\n",
    "print(f\"Merged Dictionary: {dict_merged}\")"
   ]
  },
  {
   "cell_type": "markdown",
   "id": "e9c74576",
   "metadata": {},
   "source": [
    "Create a Python function that takes a dictionary as input and returns a new\n",
    "dictionary with keys as values and values as keys (assuming values are unique)."
   ]
  },
  {
   "cell_type": "code",
   "execution_count": 33,
   "id": "41fdd073",
   "metadata": {},
   "outputs": [
    {
     "name": "stdout",
     "output_type": "stream",
     "text": [
      "Enter value for key(enter 'done' to finish):a\n",
      "Enter value for key 'a':1\n",
      "Enter value for key(enter 'done' to finish):b\n",
      "Enter value for key 'b':2\n",
      "Enter value for key(enter 'done' to finish):c\n",
      "Enter value for key 'c':3\n",
      "Enter value for key(enter 'done' to finish):d\n",
      "Enter value for key 'd':4\n",
      "Enter value for key(enter 'done' to finish):e\n",
      "Enter value for key 'e':5\n",
      "Enter value for key(enter 'done' to finish):done\n",
      "Original Dictionary: {'a': '1', 'b': '2', 'c': '3', 'd': '4', 'e': '5'} \n",
      "Reversed Dictionary: {'1': 'a', '2': 'b', '3': 'c', '4': 'd', '5': 'e'}\n"
     ]
    }
   ],
   "source": [
    "def create_dict():\n",
    "    dict1 = {}\n",
    "    while True:\n",
    "        key = input(\"Enter value for key(enter 'done' to finish):\")\n",
    "        if key == 'done':\n",
    "            break\n",
    "        value = input(f\"Enter value for key '{key}':\")\n",
    "        dict1[key] = value\n",
    "    return dict1\n",
    "    \n",
    "def reverse_key_value(dict1):\n",
    "    reverse_dict = {}\n",
    "    for key,value in dict1.items():\n",
    "        reverse_dict[value] = key\n",
    "    return reverse_dict\n",
    "    \n",
    "dict1 = create_dict()\n",
    "reverse_dict = reverse_key_value(dict1)\n",
    "print(f\"Original Dictionary: {dict1} \\nReversed Dictionary: {reverse_dict}\")"
   ]
  },
  {
   "cell_type": "markdown",
   "id": "4c3c9ff6",
   "metadata": {},
   "source": [
    "Create a Python class called StringManipulator with methods to perform various operations on strings, including:<br>\n",
    "Reversing a string.<br>\n",
    "Checking if a string is a palindrome.<br>\n",
    "Counting the occurrences of a specific character in the string.<br>\n",
    "Converting the string to uppercase.<br>\n",
    "Finding the index of the first occurrence of a substring within the string.<br>"
   ]
  },
  {
   "cell_type": "code",
   "execution_count": 74,
   "id": "0d8a5b29",
   "metadata": {
    "scrolled": true
   },
   "outputs": [
    {
     "name": "stdout",
     "output_type": "stream",
     "text": [
      "----------::::: String Manipulator :::::----------\n",
      "Enter a String:kozak\n",
      "\n",
      "    1.Reverse the string\n",
      "    2.Check Palindrome\n",
      "    3.Count character\n",
      "    4.Convert Upper\n",
      "    5.Find a substring\n",
      "    6.Exit\n",
      "    \n",
      "\n",
      "Original String: kozak\n",
      "\n",
      "Enter your choice:4\n",
      "Converting.. plz wait\n",
      "Converted String: KOZAK\n",
      "\n",
      "    1.Reverse the string\n",
      "    2.Check Palindrome\n",
      "    3.Count character\n",
      "    4.Convert Upper\n",
      "    5.Find a substring\n",
      "    6.Exit\n",
      "    \n",
      "\n",
      "Original String: kozak\n",
      "\n",
      "Enter your choice:6\n",
      "Exiting the Program..\n",
      "Exited\n"
     ]
    }
   ],
   "source": [
    "import time\n",
    "import re\n",
    "\n",
    "class StringManipulator:\n",
    "    \n",
    "    def __init__(self,string):\n",
    "        \n",
    "        self.string = string\n",
    "    \n",
    "    def reverse_string(self,string):\n",
    "        \n",
    "        return self.string[::-1]\n",
    "        \n",
    "    def check_palindrome(self,string):\n",
    "        \n",
    "        if self.string == self.string[::-1]:\n",
    "            return True\n",
    "        else:\n",
    "            return False\n",
    "        \n",
    "    def count_specific_character(self,string,char):\n",
    "        \n",
    "        return re.findall(char, self.string).count(char)\n",
    "        \n",
    "    def convert_to_upper(self, string):\n",
    "        \n",
    "        return self.string.upper()\n",
    "        \n",
    "    def first_occur_substring(self,string,substring):\n",
    "    \n",
    "        sub = re.search(substring, self.string)\n",
    "        #print(sub.span())\n",
    "        if sub:\n",
    "            print(f\"Found from..to position: {sub.span()}\")\n",
    "        else:\n",
    "            print(\"Substring not found\")\n",
    "    \n",
    "print(\"----------::::: String Manipulator :::::----------\")\n",
    "string = input(\"Enter a String:\")\n",
    "ob_SM = StringManipulator(string)\n",
    "while True:\n",
    "    time.sleep(1)\n",
    "    print(\"\"\"\n",
    "    1.Reverse the string\n",
    "    2.Check Palindrome\n",
    "    3.Count character\n",
    "    4.Convert Upper\n",
    "    5.Find a substring\n",
    "    6.Exit\n",
    "    \"\"\")\n",
    "    \n",
    "    print(f\"\\nOriginal String: {string}\")\n",
    "\n",
    "    ch = int(input(\"\\nEnter your choice:\"))\n",
    "    \n",
    "    if ch == 1 : \n",
    "            \n",
    "            print(\"Reversing String.. plz wait\")\n",
    "            time.sleep(1.5)\n",
    "            reverse = ob_SM.reverse_string(string)\n",
    "            print(f\"\\nReversed string: {reverse}\")\n",
    "            \n",
    "    elif ch == 2 :\n",
    "            \n",
    "            print(\"Checking palindrome.. plz wait\")\n",
    "            time.sleep(1.5)\n",
    "            check = ob_SM.check_palindrome(string)\n",
    "            print(f\"\\nPalindrome: {check}\")\n",
    "            \n",
    "    elif ch == 3 :\n",
    "            \n",
    "            char = input(\"Enter character to find:\")\n",
    "            print(\"Counting.. plz wait\")\n",
    "            time.sleep(1.5)\n",
    "            count = ob_SM.count_specific_character(string,char)\n",
    "            print(f\"\\nTotal Count: {count}\")\n",
    "        \n",
    "    elif ch == 4 :\n",
    "            \n",
    "            print(\"Converting.. plz wait\")\n",
    "            time.sleep(1.5)\n",
    "            convert = ob_SM.convert_to_upper(string)\n",
    "            print(f\"Converted String: {convert}\")\n",
    "            \n",
    "    elif ch == 5 :\n",
    "            \n",
    "            substring = input(\"Enter substring to find:\")\n",
    "            print(\"Counting.. plz wait\")\n",
    "            time.sleep(1.5)\n",
    "            ob_SM.first_occur_substring(string,substring)\n",
    "        \n",
    "    elif ch == 6 :\n",
    "            \n",
    "            print(\"Exiting the Manipulator..\")\n",
    "            time.sleep(1.5)\n",
    "            print(\"Exited\")\n",
    "            break\n",
    "            \n",
    "    else:\n",
    "            \n",
    "            print(\"Invalid Choice\")"
   ]
  },
  {
   "cell_type": "markdown",
   "id": "fa9ebc87",
   "metadata": {},
   "source": [
    "Design a Python class named MathCalculator with methods to perform basic mathematical operations, such as:<br>\n",
    "Adding two numbers.<br>\n",
    "Subtracting two numbers.<br>\n",
    "Multiplying two numbers.<br>\n",
    "Dividing two numbers.<br>\n",
    "Finding the square root of a number."
   ]
  },
  {
   "cell_type": "code",
   "execution_count": 78,
   "id": "fb098fa1",
   "metadata": {
    "scrolled": true
   },
   "outputs": [
    {
     "name": "stdout",
     "output_type": "stream",
     "text": [
      "----------::::: Math Calculator :::::----------\n",
      "Enter first number:10\n",
      "Enter second number:5\n",
      "\n",
      "    1.Add\n",
      "    2.Subtract\n",
      "    3.Multiply\n",
      "    4.Divide\n",
      "    5.Square root\n",
      "    6.Exit\n",
      "    \n",
      "\n",
      "Original Values: \n",
      "A = 10 \n",
      "B = 5\n",
      "\n",
      "Enter your choice:1\n",
      "Adding.. plz wait\n",
      "\n",
      "Addition: 15\n",
      "\n",
      "    1.Add\n",
      "    2.Subtract\n",
      "    3.Multiply\n",
      "    4.Divide\n",
      "    5.Square root\n",
      "    6.Exit\n",
      "    \n",
      "\n",
      "Original Values: \n",
      "A = 10 \n",
      "B = 5\n",
      "\n",
      "Enter your choice:2\n",
      "Subtracting.. plz wait\n",
      "\n",
      "Subtraction: 5\n",
      "\n",
      "    1.Add\n",
      "    2.Subtract\n",
      "    3.Multiply\n",
      "    4.Divide\n",
      "    5.Square root\n",
      "    6.Exit\n",
      "    \n",
      "\n",
      "Original Values: \n",
      "A = 10 \n",
      "B = 5\n",
      "\n",
      "Enter your choice:3\n",
      "Multiplying.. plz wait\n",
      "\n",
      "Multiplication: 50\n",
      "\n",
      "    1.Add\n",
      "    2.Subtract\n",
      "    3.Multiply\n",
      "    4.Divide\n",
      "    5.Square root\n",
      "    6.Exit\n",
      "    \n",
      "\n",
      "Original Values: \n",
      "A = 10 \n",
      "B = 5\n",
      "\n",
      "Enter your choice:4\n",
      "Dividing.. plz wait\n",
      "Divion: 2.0\n",
      "\n",
      "    1.Add\n",
      "    2.Subtract\n",
      "    3.Multiply\n",
      "    4.Divide\n",
      "    5.Square root\n",
      "    6.Exit\n",
      "    \n",
      "\n",
      "Original Values: \n",
      "A = 10 \n",
      "B = 5\n",
      "\n",
      "Enter your choice:5\n",
      "Enter number to find square root:25\n",
      "Finding.. plz wait\n",
      "Square root: 5.0\n",
      "\n",
      "    1.Add\n",
      "    2.Subtract\n",
      "    3.Multiply\n",
      "    4.Divide\n",
      "    5.Square root\n",
      "    6.Exit\n",
      "    \n",
      "\n",
      "Original Values: \n",
      "A = 10 \n",
      "B = 5\n",
      "\n",
      "Enter your choice:6\n",
      "Exiting the Calulator..\n",
      "Exited\n"
     ]
    }
   ],
   "source": [
    "import time\n",
    "import math\n",
    "\n",
    "class MathCalculator:\n",
    "    \n",
    "    def __init__(self,a,b):\n",
    "        \n",
    "        self.a = a\n",
    "        self.b = b\n",
    "    \n",
    "    def add(self):\n",
    "        \n",
    "        return self.a+self.b\n",
    "        \n",
    "    def sub(self):\n",
    "        \n",
    "        return self.a-self.b\n",
    "        \n",
    "    def mul(self):\n",
    "        \n",
    "        return self.a*self.b\n",
    "        \n",
    "    def div(self):\n",
    "        \n",
    "        return self.a/self.b\n",
    "        \n",
    "    def sq_r(self):\n",
    "        \n",
    "        c = int(input(\"Enter number to find square root:\"))\n",
    "        print(\"Finding.. plz wait\")\n",
    "        time.sleep(1.5)\n",
    "        return math.sqrt(c)\n",
    "    \n",
    "print(\"----------::::: Math Calculator :::::----------\")\n",
    "a = int(input(\"Enter first number:\"))\n",
    "b = int(input(\"Enter second number:\"))\n",
    "ob_MC = MathCalculator(a,b)\n",
    "while True:\n",
    "    time.sleep(1)\n",
    "    print(\"\"\"\n",
    "    1.Add\n",
    "    2.Subtract\n",
    "    3.Multiply\n",
    "    4.Divide\n",
    "    5.Square root\n",
    "    6.Exit\n",
    "    \"\"\")\n",
    "    \n",
    "    print(f\"\\nOriginal Values: \\nA = {a} \\nB = {b}\")\n",
    "\n",
    "    ch = int(input(\"\\nEnter your choice:\"))\n",
    "    \n",
    "    if ch == 1 : \n",
    "            \n",
    "            print(\"Adding.. plz wait\")\n",
    "            time.sleep(1.5)\n",
    "            add = ob_MC.add()\n",
    "            print(f\"\\nAddition: {add}\")\n",
    "            \n",
    "    elif ch == 2 :\n",
    "            \n",
    "            print(\"Subtracting.. plz wait\")\n",
    "            time.sleep(1.5)\n",
    "            sub = ob_MC.sub()\n",
    "            print(f\"\\nSubtraction: {sub}\")\n",
    "            \n",
    "    elif ch == 3 :\n",
    "            \n",
    "            print(\"Multiplying.. plz wait\")\n",
    "            time.sleep(1.5)\n",
    "            mul = ob_MC.mul()\n",
    "            print(f\"\\nMultiplication: {mul}\")\n",
    "        \n",
    "    elif ch == 4 :\n",
    "            \n",
    "            print(\"Dividing.. plz wait\")\n",
    "            time.sleep(1.5)\n",
    "            div = ob_MC.div()\n",
    "            print(f\"Divion: {div}\")\n",
    "            \n",
    "    elif ch == 5 :\n",
    "            \n",
    "            sq_r=ob_MC.sq_r()\n",
    "            print(f\"Square root: {sq_r}\")\n",
    "        \n",
    "    elif ch == 6 :\n",
    "            \n",
    "            print(\"Exiting the Calulator..\")\n",
    "            time.sleep(1.5)\n",
    "            print(\"Exited\")\n",
    "            break\n",
    "            \n",
    "    else:\n",
    "            \n",
    "            print(\"Invalid Choice\")"
   ]
  },
  {
   "cell_type": "markdown",
   "id": "f4dfedd8",
   "metadata": {},
   "source": [
    "Implement a Python class called FileHandler that provides methods to manipulate text files, including:<br>\n",
    "Reading the contents of a text file.<br>\n",
    "Writing data to a text file.<br>\n",
    "Appending data to an existing text file.<br>\n",
    "Counting the number of lines in a text file.<br>\n",
    "Searching for a specific string within a text file."
   ]
  },
  {
   "cell_type": "code",
   "execution_count": 95,
   "id": "f9cd812e",
   "metadata": {},
   "outputs": [
    {
     "name": "stdout",
     "output_type": "stream",
     "text": [
      "----------::::: File Handler :::::----------\n",
      "\n",
      "    1. Read the context of a file\n",
      "    2. Write data to a file\n",
      "    3. Append data to the file\n",
      "    4. Count number of lines in a text file\n",
      "    5. Search for specific string in a file\n",
      "    6. Exit\n",
      "    \n",
      "\n",
      "Enter your choice:3\n",
      "Enter the file name:g.txt\n",
      "Enter data for file:dadadada\n",
      "\n",
      "Appended Successfully\n",
      "\n",
      "    1. Read the context of a file\n",
      "    2. Write data to a file\n",
      "    3. Append data to the file\n",
      "    4. Count number of lines in a text file\n",
      "    5. Search for specific string in a file\n",
      "    6. Exit\n",
      "    \n",
      "\n",
      "Enter your choice:1\n",
      "Enter the file name:g.txt\n",
      "\n",
      "Reading.. please wait\n",
      "\n",
      "\n",
      "Contents: \n",
      "kozakmod\n",
      "shrey\n",
      "nvidia rip\n",
      "dadadada\n",
      "\n",
      "    1. Read the context of a file\n",
      "    2. Write data to a file\n",
      "    3. Append data to the file\n",
      "    4. Count number of lines in a text file\n",
      "    5. Search for specific string in a file\n",
      "    6. Exit\n",
      "    \n",
      "\n",
      "Enter your choice:4\n",
      "Enter the file name:g.txt\n",
      "Counting lines.. please wait\n",
      "Number of lines: 4\n",
      "\n",
      "    1. Read the context of a file\n",
      "    2. Write data to a file\n",
      "    3. Append data to the file\n",
      "    4. Count number of lines in a text file\n",
      "    5. Search for specific string in a file\n",
      "    6. Exit\n",
      "    \n",
      "\n",
      "Enter your choice:5\n",
      "Enter the file name:da\n",
      "Enter string to find:da\n",
      "File not found!\n",
      "\n",
      "    1. Read the context of a file\n",
      "    2. Write data to a file\n",
      "    3. Append data to the file\n",
      "    4. Count number of lines in a text file\n",
      "    5. Search for specific string in a file\n",
      "    6. Exit\n",
      "    \n",
      "\n",
      "Enter your choice:5\n",
      "Enter the file name:g.txt\n",
      "Enter string to find:da\n",
      "Searching string.. please wait\n",
      "String found\n",
      "\n",
      "    1. Read the context of a file\n",
      "    2. Write data to a file\n",
      "    3. Append data to the file\n",
      "    4. Count number of lines in a text file\n",
      "    5. Search for specific string in a file\n",
      "    6. Exit\n",
      "    \n",
      "\n",
      "Enter your choice:6\n",
      "Exiting the File Handler..\n",
      "Exited\n"
     ]
    }
   ],
   "source": [
    "import time\n",
    "\n",
    "class FileHandler:\n",
    "    def read(self):\n",
    "        filename = input(\"Enter the file name:\")\n",
    "        try:\n",
    "            with open(filename, \"r\") as file:\n",
    "                print(\"\\nReading.. please wait\")\n",
    "                time.sleep(1.5)\n",
    "                print(f\"\\n\\nContents: \\n{file.read()}\")\n",
    "        except FileNotFoundError:\n",
    "            print(\"File not found!\")\n",
    "        time.sleep(1)\n",
    "\n",
    "    def write(self):\n",
    "        filename = input(\"Enter the file name:\")\n",
    "        text = input(\"Enter data for file:\")\n",
    "        try:\n",
    "            with open(filename, \"w\") as file:\n",
    "                print(\"\\nWriting.. please wait\")\n",
    "                time.sleep(1.5)\n",
    "                file.write(text)\n",
    "                print(\"\\nWritten Successfully\")\n",
    "        except FileNotFoundError:\n",
    "            print(\"File not found!\")\n",
    "        time.sleep(1)\n",
    "\n",
    "    def append(self):\n",
    "        filename = input(\"Enter the file name:\")\n",
    "        text = input(\"Enter data for file:\")\n",
    "        try:\n",
    "            with open(filename, \"a\") as file:\n",
    "                print(\"Appending.. please wait\")\n",
    "                time.sleep(1.5)\n",
    "                file.write(\"\\n\" + text)\n",
    "                print(\"\\nAppended Successfully\")\n",
    "        except FileNotFoundError:\n",
    "            print(\"File not found!\")\n",
    "        time.sleep(1)\n",
    "\n",
    "    def count(self):\n",
    "        filename = input(\"Enter the file name:\")\n",
    "        try:\n",
    "            with open(filename, \"r\") as file:\n",
    "                print(\"Counting lines.. please wait\")\n",
    "                time.sleep(1.5)\n",
    "                lines = len(file.readlines())\n",
    "                print(f\"Number of lines: {lines}\")\n",
    "        except FileNotFoundError:\n",
    "            print(\"File not found!\")\n",
    "        time.sleep(1)\n",
    "\n",
    "    def search(self):\n",
    "        filename = input(\"Enter the file name:\")\n",
    "        search_string = input(\"Enter string to find:\")\n",
    "        try:\n",
    "            with open(filename, \"r\") as file:\n",
    "                print(\"Searching string.. please wait\")\n",
    "                time.sleep(1.5)\n",
    "                found = False\n",
    "                for line in file:\n",
    "                    if search_string in line:\n",
    "                        found = True\n",
    "                        break\n",
    "                if found:\n",
    "                    print(\"String found\")\n",
    "                else:\n",
    "                    print(\"String not found\")\n",
    "        except FileNotFoundError:\n",
    "            print(\"File not found!\")\n",
    "        time.sleep(1.5)\n",
    "\n",
    "\n",
    "print(\"----------::::: File Handler :::::----------\")\n",
    "\n",
    "ob_FH = FileHandler()\n",
    "\n",
    "while True:\n",
    "    print(\"\"\"\n",
    "    1. Read the context of a file\n",
    "    2. Write data to a file\n",
    "    3. Append data to the file\n",
    "    4. Count number of lines in a text file\n",
    "    5. Search for specific string in a file\n",
    "    6. Exit\n",
    "    \"\"\")\n",
    "\n",
    "    ch = input(\"\\nEnter your choice:\")\n",
    "    \n",
    "    if ch.isdigit():\n",
    "        ch = int(ch)\n",
    "        if ch == 1:\n",
    "            ob_FH.read()\n",
    "        elif ch == 2:\n",
    "            ob_FH.write()\n",
    "        elif ch == 3:\n",
    "            ob_FH.append()\n",
    "        elif ch == 4:\n",
    "            ob_FH.count()\n",
    "        elif ch == 5:\n",
    "            ob_FH.search()\n",
    "        elif ch == 6:\n",
    "            print(\"Exiting the File Handler..\")\n",
    "            time.sleep(1.5)\n",
    "            print(\"Exited\")\n",
    "            break\n",
    "        else:\n",
    "            print(\"Invalid Choice\")\n",
    "    else:\n",
    "        print(\"Invalid Choice, Please enter a number.\")\n"
   ]
  },
  {
   "cell_type": "markdown",
   "id": "70a7f6d2",
   "metadata": {},
   "source": [
    "Create a Python class named ListManipulator with methods to perform operations on lists, such as:<br>\n",
    "Sorting a list in ascending order.<br>\n",
    "Reversing the elements of a list.<br>\n",
    "Checking if a list is empty.<br>\n",
    "Finding the maximum and minimum elements in a list.<br>\n",
    "Removing duplicates from a list"
   ]
  },
  {
   "cell_type": "code",
   "execution_count": null,
   "id": "1b3fbc32",
   "metadata": {},
   "outputs": [],
   "source": []
  },
  {
   "cell_type": "markdown",
   "id": "f4b55a41",
   "metadata": {},
   "source": [
    "Design a Python class called EmployeeManager with methods to manage employee information, including:<br>\n",
    "Adding a new employee.<br>\n",
    "Removing an existing employee.<br>\n",
    "Updating the details of an employee.<br>\n",
    "Searching for an employee by name or ID.<br>\n",
    "Displaying the list of all employees.<br>"
   ]
  },
  {
   "cell_type": "code",
   "execution_count": null,
   "id": "7b238f2b",
   "metadata": {},
   "outputs": [],
   "source": []
  }
 ],
 "metadata": {
  "kernelspec": {
   "display_name": "Python 3 (ipykernel)",
   "language": "python",
   "name": "python3"
  },
  "language_info": {
   "codemirror_mode": {
    "name": "ipython",
    "version": 3
   },
   "file_extension": ".py",
   "mimetype": "text/x-python",
   "name": "python",
   "nbconvert_exporter": "python",
   "pygments_lexer": "ipython3",
   "version": "3.9.12"
  }
 },
 "nbformat": 4,
 "nbformat_minor": 5
}
