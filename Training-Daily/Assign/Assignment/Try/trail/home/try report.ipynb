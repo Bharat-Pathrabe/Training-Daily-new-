{
 "cells": [
  {
   "cell_type": "code",
   "execution_count": 2,
   "metadata": {},
   "outputs": [
    {
     "name": "stdout",
     "output_type": "stream",
     "text": [
      "Defaulting to user installation because normal site-packages is not writeable\n",
      "Collecting pandas\n",
      "  Downloading pandas-2.2.2-cp310-cp310-manylinux_2_17_x86_64.manylinux2014_x86_64.whl (13.0 MB)\n",
      "\u001b[2K     \u001b[90m━━━━━━━━━━━━━━━━━━━━━━━━━━━━━━━━━━━━━━━━\u001b[0m \u001b[32m13.0/13.0 MB\u001b[0m \u001b[31m4.7 MB/s\u001b[0m eta \u001b[36m0:00:00\u001b[0m00:01\u001b[0m00:01\u001b[0m\n",
      "\u001b[?25hCollecting tzdata>=2022.7\n",
      "  Downloading tzdata-2024.1-py2.py3-none-any.whl (345 kB)\n",
      "\u001b[2K     \u001b[90m━━━━━━━━━━━━━━━━━━━━━━━━━━━━━━━━━━━━━━━\u001b[0m \u001b[32m345.4/345.4 KB\u001b[0m \u001b[31m1.7 MB/s\u001b[0m eta \u001b[36m0:00:00\u001b[0ma \u001b[36m0:00:01\u001b[0m\n",
      "\u001b[?25hRequirement already satisfied: numpy>=1.22.4 in /home/trellis/.local/lib/python3.10/site-packages (from pandas) (1.26.4)\n",
      "Requirement already satisfied: python-dateutil>=2.8.2 in /home/trellis/.local/lib/python3.10/site-packages (from pandas) (2.9.0.post0)\n",
      "Requirement already satisfied: pytz>=2020.1 in /usr/lib/python3/dist-packages (from pandas) (2022.1)\n",
      "Requirement already satisfied: six>=1.5 in /home/trellis/.local/lib/python3.10/site-packages (from python-dateutil>=2.8.2->pandas) (1.16.0)\n",
      "Installing collected packages: tzdata, pandas\n",
      "Successfully installed pandas-2.2.2 tzdata-2024.1\n",
      "Note: you may need to restart the kernel to use updated packages.\n"
     ]
    }
   ],
   "source": [
    "pip install pandas"
   ]
  },
  {
   "cell_type": "code",
   "execution_count": 4,
   "metadata": {},
   "outputs": [
    {
     "name": "stdout",
     "output_type": "stream",
     "text": [
      "Defaulting to user installation because normal site-packages is not writeable\n",
      "Collecting openpyxl\n",
      "  Downloading openpyxl-3.1.2-py2.py3-none-any.whl (249 kB)\n",
      "\u001b[2K     \u001b[90m━━━━━━━━━━━━━━━━━━━━━━━━━━━━━━━━━━━━━━━\u001b[0m \u001b[32m250.0/250.0 KB\u001b[0m \u001b[31m3.9 MB/s\u001b[0m eta \u001b[36m0:00:00\u001b[0ma \u001b[36m0:00:01\u001b[0m\n",
      "\u001b[?25hCollecting et-xmlfile\n",
      "  Using cached et_xmlfile-1.1.0-py3-none-any.whl (4.7 kB)\n",
      "Installing collected packages: et-xmlfile, openpyxl\n",
      "Successfully installed et-xmlfile-1.1.0 openpyxl-3.1.2\n",
      "Note: you may need to restart the kernel to use updated packages.\n"
     ]
    }
   ],
   "source": [
    "pip install openpyxl"
   ]
  },
  {
   "cell_type": "code",
   "execution_count": 6,
   "metadata": {},
   "outputs": [
    {
     "name": "stdout",
     "output_type": "stream",
     "text": [
      "SELECT * FROM SourceFile WHERE substr(updated_datetime, 1, 10) = '240419'\n",
      "Data exported to Excel file: reports/Report_240419.xlsx\n"
     ]
    }
   ],
   "source": [
    "import os\n",
    "import sqlite3\n",
    "import pandas as pd\n",
    "from datetime import datetime\n",
    "\n",
    "def export_source_file_data_to_excel():\n",
    "    try:\n",
    "        # Constants\n",
    "        db_file = \"conversion.db\"\n",
    "        reports_folder = \"reports/\"\n",
    "        \n",
    "        # Get current date\n",
    "        today_date = datetime.now().strftime(\"%y%m%d\")\n",
    "        \n",
    "        # Create reports folder if it doesn't exist\n",
    "        os.makedirs(reports_folder, exist_ok=True)\n",
    "\n",
    "        # Connect to SQLite database\n",
    "        conn = sqlite3.connect(db_file)\n",
    "\n",
    "        # Query to select data from SourceFile table for today's date\n",
    "        query = f\"SELECT * FROM SourceFile WHERE substr(updated_datetime, 1, 10) = '{today_date}'\"\n",
    "        print(query)\n",
    "\n",
    "        # Read data into a DataFrame\n",
    "        df = pd.read_sql_query(query, conn)\n",
    "\n",
    "        # Close the database connection\n",
    "        conn.close()\n",
    "\n",
    "        # Write DataFrame to Excel file\n",
    "        excel_file_path = os.path.join(reports_folder, f\"Report_{today_date}.xlsx\")\n",
    "        df.to_excel(excel_file_path, index=False)\n",
    "\n",
    "        print(f\"Data exported to Excel file: {excel_file_path}\")\n",
    "    except Exception as e:\n",
    "        print(f\"Error exporting data to Excel file: {str(e)}\")\n",
    "\n",
    "if __name__ == \"__main__\":\n",
    "    export_source_file_data_to_excel()\n"
   ]
  },
  {
   "cell_type": "code",
   "execution_count": 10,
   "metadata": {},
   "outputs": [
    {
     "name": "stdout",
     "output_type": "stream",
     "text": [
      "Data exported to Excel file: reports/Report_2024-04-19.xlsx\n"
     ]
    }
   ],
   "source": [
    "import os\n",
    "import sqlite3\n",
    "import pandas as pd\n",
    "from datetime import datetime\n",
    "\n",
    "def export_source_file_data_to_excel():\n",
    "    try:\n",
    "        # Constants\n",
    "        db_file = \"conversion.db\"\n",
    "        reports_folder = \"reports/\"\n",
    "        \n",
    "        # Get current date\n",
    "        today_date = datetime.now().strftime(\"%Y-%m-%d\")\n",
    "        \n",
    "        # Create reports folder if it doesn't exist\n",
    "        os.makedirs(reports_folder, exist_ok=True)\n",
    "\n",
    "        # Connect to SQLite database\n",
    "        conn = sqlite3.connect(db_file)\n",
    "\n",
    "        # Query to select data from SourceFile table for today's date\n",
    "        query = f\"SELECT * FROM SourceFile WHERE substr(updated_datetime, 1, 10) = '{today_date}'\"\n",
    "        \n",
    "        # Read data into a DataFrame\n",
    "        df = pd.read_sql_query(query, conn)\n",
    "\n",
    "        # Close the database connection\n",
    "        conn.close()\n",
    "\n",
    "        # Write DataFrame to Excel file\n",
    "        excel_file_path = os.path.join(reports_folder, f\"Report_{today_date}.xlsx\")\n",
    "        df.to_excel(excel_file_path, index=False)\n",
    "\n",
    "        print(f\"Data exported to Excel file: {excel_file_path}\")\n",
    "    except Exception as e:\n",
    "        print(f\"Error exporting data to Excel file: {str(e)}\")\n",
    "\n",
    "if __name__ == \"__main__\":\n",
    "    export_source_file_data_to_excel()\n"
   ]
  },
  {
   "cell_type": "code",
   "execution_count": 12,
   "metadata": {},
   "outputs": [],
   "source": [
    "import os\n",
    "import sqlite3\n",
    "import pandas as pd\n",
    "from datetime import datetime\n",
    "import logging\n",
    "\n",
    "def export_source_file_data_to_excel():\n",
    "    try:\n",
    "        # Constants\n",
    "        db_file = \"conversion.db\"\n",
    "        reports_folder = \"reports/\"\n",
    "        \n",
    "        # Get current date\n",
    "        today_date = datetime.now().strftime(\"%Y-%m-%d\")\n",
    "        \n",
    "        # Create reports folder if it doesn't exist\n",
    "        os.makedirs(reports_folder, exist_ok=True)\n",
    "\n",
    "        # Connect to SQLite database\n",
    "        conn = sqlite3.connect(db_file)\n",
    "\n",
    "        # Query to select data from SourceFile table for today's date\n",
    "        query = f\"SELECT * FROM SourceFile WHERE substr(updated_datetime, 1, 10) = '{today_date}'\"\n",
    "        \n",
    "        # Read data into a DataFrame\n",
    "        df = pd.read_sql_query(query, conn)\n",
    "\n",
    "        # Close the database connection\n",
    "        conn.close()\n",
    "\n",
    "        # Write DataFrame to Excel file\n",
    "        excel_file_path = os.path.join(reports_folder, f\"Report_{today_date}.xlsx\")\n",
    "        df.to_excel(excel_file_path, index=False)\n",
    "\n",
    "        logging.info(f\"Data exported to Excel file: {excel_file_path}\")\n",
    "    except Exception as e:\n",
    "        logging.error(f\"Error exporting data to Excel file: {str(e)}\")\n",
    "\n",
    "if __name__ == \"__main__\":\n",
    "    # Set up logging\n",
    "    log_file = 'logs/file_convert.log'\n",
    "    os.makedirs(os.path.dirname(log_file), exist_ok=True)\n",
    "    logging.basicConfig(filename=log_file, level=logging.INFO, format='%(asctime)s - %(levelname)s - %(message)s')\n",
    "    \n",
    "    export_source_file_data_to_excel()\n"
   ]
  }
 ],
 "metadata": {
  "kernelspec": {
   "display_name": "Python 3",
   "language": "python",
   "name": "python3"
  },
  "language_info": {
   "codemirror_mode": {
    "name": "ipython",
    "version": 3
   },
   "file_extension": ".py",
   "mimetype": "text/x-python",
   "name": "python",
   "nbconvert_exporter": "python",
   "pygments_lexer": "ipython3",
   "version": "3.10.13"
  }
 },
 "nbformat": 4,
 "nbformat_minor": 2
}
