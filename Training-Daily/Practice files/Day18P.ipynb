{
 "cells": [
  {
   "cell_type": "markdown",
   "metadata": {},
   "source": [
    "# Practice (Dictionary)"
   ]
  },
  {
   "cell_type": "markdown",
   "metadata": {},
   "source": [
    "Write a Python program to count the frequency of each element in a list.<br>\n",
    "Example:<br>\n",
    "Input: nums = [1, 2, 3, 2, 1, 3, 2, 4, 5, 4]<br>\n",
    "Output: {1:2, 2:3, 3:2, 4:2, 5:1}<br>"
   ]
  },
  {
   "cell_type": "code",
   "execution_count": 9,
   "metadata": {},
   "outputs": [
    {
     "name": "stdout",
     "output_type": "stream",
     "text": [
      "Inputs are:['1', '2', '3', '2', '1', '3', '2', '4', '5', '4']\n",
      "Output: {'1': 2, '2': 3, '3': 2, '4': 2, '5': 1}\n"
     ]
    }
   ],
   "source": [
    "def count_frequency(nums):\n",
    "    frequency = {}\n",
    "    for num in nums:\n",
    "        if num in frequency:\n",
    "            frequency[num] += 1\n",
    "        else:\n",
    "            frequency[num] = 1\n",
    "    return frequency\n",
    "\n",
    "nums= [i for i in input(\"Enter number space separated\").split()]\n",
    "print(f\"Inputs are:{nums}\")\n",
    "frequency = count_frequency(nums)\n",
    "print(f\"Output: {frequency}\")"
   ]
  },
  {
   "cell_type": "markdown",
   "metadata": {},
   "source": [
    "Write a Python program that reads a text file, counts the frequency of each character, and stores the counts in a dictionary where the keys are the characters and the values are the frequencies."
   ]
  },
  {
   "cell_type": "code",
   "execution_count": 15,
   "metadata": {},
   "outputs": [
    {
     "name": "stdout",
     "output_type": "stream",
     "text": [
      "Character Frequency: {'T': 1, 'h': 2, 'e': 12, ' ': 16, 'w': 1, 'a': 8, 'y': 3, 'i': 3, 't': 4, 's': 1, 'm': 2, 'n': 6, 'o': 5, 'b': 1, 'p': 1, 'l': 3, 'd': 2, '\\n': 5, 'K': 3, 'Z': 1, 'M': 1, 'D': 2, 'r': 5, 'c': 2, 'S': 1, 'H': 1, 'U': 1, 'f': 2, 'A': 1, 'g': 1, 'B': 2, 'k': 2, 'u': 1, 'R': 1, 'G': 1, 'L': 1, 'W': 1}\n"
     ]
    }
   ],
   "source": [
    "def count_character_frequency(file_name):\n",
    "    char_frequency = {}\n",
    "    with open(file_name,\"r\") as file:\n",
    "        for line in file:\n",
    "            for char in line:\n",
    "                if char in char_frequency:\n",
    "                    char_frequency[char] += 1\n",
    "                else:\n",
    "                    char_frequency[char] = 1\n",
    "    return char_frequency\n",
    "\n",
    "file_name=input(\"Enter file name:\")\n",
    "frequency_dict = count_character_frequency(file_name)\n",
    "print(f\"Character Frequency: {frequency_dict}\")"
   ]
  },
  {
   "cell_type": "markdown",
   "metadata": {},
   "source": [
    "Create a Python function that takes two dictionaries as input and merges them into a single dictionary. If there are any common keys, the #values should be added together.<br>\n",
    "#Example:<br>\n",
    "#Input: dict1 = {\"a\":1, \"b\": 2}, dict2 = {\"c\":3, \"a\":4}<br>\n",
    "#Output: {\"a\":5, \"b\": 2, \"c\":3}<br>"
   ]
  },
  {
   "cell_type": "code",
   "execution_count": 23,
   "metadata": {},
   "outputs": [
    {
     "name": "stdout",
     "output_type": "stream",
     "text": [
      "Dictionary entered by the user:\n",
      "Dict 1: {'a': 1, 'b': 2}\n",
      "Dict 2: {'c': 3, 'a': 4}\n",
      "Merged Dictionary: {'a': 5, 'b': 2, 'c': 3}\n"
     ]
    }
   ],
   "source": [
    "def get_dictionary_from_input(x):\n",
    "    dictionary = {}\n",
    "    while True:\n",
    "        key = input(f\"Dict{x}: Enter a key (or type 'done' to finish): \")\n",
    "        if key.lower() == 'done':\n",
    "            break\n",
    "        value = int(input(f\"Dict{x}: Enter the value for '{key}': \"))\n",
    "        dictionary[key] = value\n",
    "    return dictionary\n",
    "\n",
    "def merge_dictionaries(user_dict,user_dict2):\n",
    "    merged_dict= user_dict.copy()\n",
    "    for key,value in user_dict2.items():\n",
    "        if key in merged_dict:\n",
    "            merged_dict[key] += value\n",
    "        else:\n",
    "            merged_dict[key] = value\n",
    "    return merged_dict\n",
    "\n",
    "user_dict = get_dictionary_from_input(1)\n",
    "user_dict2= get_dictionary_from_input(2)\n",
    "merged_dict=merge_dictionaries(user_dict,user_dict2)\n",
    "print(f\"Dictionary entered by the user:\\nDict 1: {user_dict}\\nDict 2: {user_dict2}\")\n",
    "print(f\"Merged Dictionary: {merged_dict}\")"
   ]
  },
  {
   "cell_type": "markdown",
   "metadata": {},
   "source": [
    "Create a Python function that takes a dictionary as input and returns a new\n",
    "dictionary with keys as values and values as keys (assuming values are unique)."
   ]
  },
  {
   "cell_type": "code",
   "execution_count": 1,
   "metadata": {},
   "outputs": [
    {
     "name": "stdout",
     "output_type": "stream",
     "text": [
      "Dictionary entered by the user: {'a': '1', 'b': '2'} \n",
      "Exchanged Keys and values dictionary: {'1': 'a', '2': 'b'}\n"
     ]
    }
   ],
   "source": [
    "def get_dictionary_from_input():\n",
    "    user_dict = {}\n",
    "    while True:\n",
    "        key = input(\"Enter a key (or enter 'done' to finish): \")\n",
    "        if key.lower() == 'done':\n",
    "            break\n",
    "        value = input(f\"Enter the value for {key}: \")\n",
    "        user_dict[key] = value\n",
    "    return user_dict\n",
    "\n",
    "def change_dict(user_dict):\n",
    "    exchanged_dict = {}\n",
    "    for key,value in user_dict.items():\n",
    "        exchanged_dict[value] = key\n",
    "    return exchanged_dict\n",
    "\n",
    "user_dict=get_dictionary_from_input()\n",
    "exchanged_dict=change_dict(user_dict)\n",
    "print(f\"Dictionary entered by the user: {user_dict} \\nExchanged Keys and values dictionary: {exchanged_dict}\")"
   ]
  },
  {
   "cell_type": "markdown",
   "metadata": {},
   "source": [
    "Write a Python function that takes a list of dictionaries representing students'<br>\n",
    "grades (keys: 'name' and 'grade') and returns a dictionary where the keys are the<br>\n",
    "grade levels ('A', 'B', 'C') and the values are the counts of students who received<br>\n",
    "each grade.<br>\n",
    "Example:<br>\n",
    "Input: dict1 = [{\"name\": \"Maulik\", \"grade\": \"A\"}, {\"name\": \"Jignesh\", \"grade\": \"A\"},<br>\n",
    "{\"name\": \"Arjun\", \"grade\": \"B\"}, {\"name\": \"Hemin\", \"grade\": \"C\"}]<br>\n",
    "Output: {\"A\":2, \"B\": 1, \"C\": 1}"
   ]
  },
  {
   "cell_type": "code",
   "execution_count": 8,
   "metadata": {},
   "outputs": [
    {
     "name": "stdout",
     "output_type": "stream",
     "text": [
      "List entered by user: [{'Name': 'Kozak', 'Grade': 'A'}, {'Name': 'Shrey', 'Grade': 'B'}, {'Name': 'Bharat', 'Grade': 'B'}, {'Name': 'Aman', 'Grade': 'C'}] \n",
      "Grade count: {'A': 1, 'B': 2, 'C': 1}\n"
     ]
    }
   ],
   "source": [
    "def get_grades_from_input():\n",
    "    student_grades=[]\n",
    "    while True:\n",
    "        name=input(\"Enter name of student(or type 'done' to finish): \")\n",
    "        if name.lower() == 'done':\n",
    "            break\n",
    "        grade=input(f\"Enter the grade for {name}: \").upper()\n",
    "        student_grades.append({\"Name\":name,\"Grade\":grade})\n",
    "    return student_grades\n",
    "\n",
    "def grade_count(user_list_dict):\n",
    "    grade_count = {}\n",
    "    for student in user_list_dict:\n",
    "        grade = student[\"Grade\"] \n",
    "        if grade in grade_count:\n",
    "            grade_count[grade] += 1\n",
    "        else:\n",
    "            grade_count[grade] = 1\n",
    "    return grade_count\n",
    "\n",
    "user_list_dict=get_grades_from_input()\n",
    "grade_count=grade_count(user_list_dict)\n",
    "print(f\"List entered by user: {user_list_dict} \\nGrade count: {grade_count}\")"
   ]
  },
  {
   "cell_type": "markdown",
   "metadata": {},
   "source": [
    "Write a Python program to sort (ascending and descending) a dictionary by value."
   ]
  },
  {
   "cell_type": "code",
   "execution_count": 12,
   "metadata": {},
   "outputs": [
    {
     "name": "stdout",
     "output_type": "stream",
     "text": [
      "Ascending Order: {'b': 5, 'd': 7, 'a': 10, 'c': 15} \n",
      "Descending Order {'c': 15, 'a': 10, 'd': 7, 'b': 5}\n"
     ]
    }
   ],
   "source": [
    "def sort_dict_by_value(my_dict,reverse=False):\n",
    "    sorted_dict=dict(sorted(my_dict.items(), key=lambda x: x[1], reverse=reverse ))\n",
    "    return sorted_dict\n",
    "\n",
    "my_dict = {'a': 10, 'b': 5, 'c': 15, 'd': 7}\n",
    "print(f\"Ascending Order: {sort_dict_by_value(my_dict)} \\nDescending Order {sort_dict_by_value(my_dict,reverse=True)}\")"
   ]
  },
  {
   "cell_type": "markdown",
   "metadata": {},
   "source": [
    "Write a Python program to add a key to a dictionary."
   ]
  },
  {
   "cell_type": "code",
   "execution_count": 17,
   "metadata": {},
   "outputs": [
    {
     "name": "stdout",
     "output_type": "stream",
     "text": [
      "Current Dict: {'kozak': '1', 'shrey': '2'}\n"
     ]
    }
   ],
   "source": [
    "dict = {}\n",
    "ch=input(f\"Current dict has no key and value would you like to add (y/n)?: \").lower()\n",
    "if ch == \"y\":\n",
    "    x=input(\"Enter the key for dict:\")\n",
    "    y=input(f\"Enter the value for {x}:\")\n",
    "    dict.update({x:y})\n",
    "    while True:\n",
    "        ch=input(\"Would you like to enter another key and value (y/n)?: \").lower()\n",
    "        if ch == \"n\":\n",
    "            break\n",
    "        x=input(\"Enter the key for dict:\")\n",
    "        y=input(f\"Enter the value for {x}:\")\n",
    "        dict.update({x:y})\n",
    "    print(f\"Current Dict: {dict}\") \n",
    "else:\n",
    "    print(f\"Current Dict has no inputs: {dict}\")    "
   ]
  },
  {
   "cell_type": "markdown",
   "metadata": {},
   "source": [
    "Write a Python script to concatenate the following dictionaries to create a new one.<br>\n",
    "Sample Dictionary :<br>\n",
    "dic1={1:10, 2:20}<br>\n",
    "dic2={3:30, 4:40}<br>\n",
    "dic3={5:50,6:60}<br>"
   ]
  },
  {
   "cell_type": "code",
   "execution_count": 18,
   "metadata": {},
   "outputs": [
    {
     "name": "stdout",
     "output_type": "stream",
     "text": [
      "Concanated string: {1: 10, 2: 20, 3: 30, 4: 40, 5: 50, 6: 60}\n"
     ]
    }
   ],
   "source": [
    "dic1={1:10, 2:20}\n",
    "dic2={3:30, 4:40}\n",
    "dic3={5:50,6:60}\n",
    "dic={}\n",
    "\n",
    "for key_value in (dic1,dic2,dic3):\n",
    "    dic.update(key_value)\n",
    "print(f\"Concanated string: {dic}\")"
   ]
  },
  {
   "cell_type": "markdown",
   "metadata": {},
   "source": [
    "Write a Python script to check whether a given key already exists in a dictionary."
   ]
  },
  {
   "cell_type": "code",
   "execution_count": 28,
   "metadata": {},
   "outputs": [
    {
     "name": "stdout",
     "output_type": "stream",
     "text": [
      "The key '4' has found in sample_dict.\n"
     ]
    }
   ],
   "source": [
    "def dict_key_checker(sample_dict,key_to_check):\n",
    "    if key_to_check in sample_dict:\n",
    "        return \"found\"\n",
    "    else:\n",
    "        return \"not found\"\n",
    "\n",
    "sample_dict = {1: 10, 2: 20, 3: 30, 4: 40, 5: 50, 6: 60}\n",
    "key_to_check=int(input(\"Enter key to check:\"))\n",
    "print(f\"The key '{key_to_check}' has {dict_key_checker(sample_dict,key_to_check)} in sample_dict.\")"
   ]
  },
  {
   "cell_type": "markdown",
   "metadata": {},
   "source": [
    " Write a Python program to iterate over dictionaries using for loops."
   ]
  },
  {
   "cell_type": "code",
   "execution_count": 30,
   "metadata": {},
   "outputs": [
    {
     "name": "stdout",
     "output_type": "stream",
     "text": [
      "Key: 1 Value: 10\n",
      "Key: 2 Value: 20\n",
      "Key: 3 Value: 30\n",
      "Key: 4 Value: 40\n",
      "Key: 5 Value: 50\n",
      "Key: 6 Value: 60\n"
     ]
    }
   ],
   "source": [
    "sample_dict = {1: 10, 2: 20, 3: 30, 4: 40, 5: 50, 6: 60}\n",
    "for key,value in sample_dict.items():\n",
    "    print(f\"Key: {key} Value: {value}\")"
   ]
  },
  {
   "cell_type": "markdown",
   "metadata": {},
   "source": [
    "Write a Python script to generate and print a dictionary that contains a number (between 1 and n) in the form (x, x*x).<br>\n",
    "Sample Dictionary ( n = 5) :<br>\n",
    "Expected Output : {1: 1, 2: 4, 3: 9, 4: 16, 5: 25}<br>"
   ]
  },
  {
   "cell_type": "code",
   "execution_count": 35,
   "metadata": {},
   "outputs": [
    {
     "name": "stdout",
     "output_type": "stream",
     "text": [
      "Entered Lenght: 5 \n",
      "Elements of Dict: {1: 1, 2: 4, 3: 9, 4: 16, 5: 25}\n"
     ]
    }
   ],
   "source": [
    "dict = {}\n",
    "length_of_dict=int(input(\"Enter number of elements:\"))\n",
    "for elements in range(1,length_of_dict+1):\n",
    "    dict[elements] = elements*elements\n",
    "print(f\"Entered Lenght: {length_of_dict} \\nElements of Dict: {dict}\")"
   ]
  },
  {
   "cell_type": "markdown",
   "metadata": {},
   "source": [
    "Write a Python script to print a dictionary where the keys are numbers between 1 and 15 (both included) and the values are the square of the keys.<br>\n",
    "Sample Dictionary<br>\n",
    "{1: 1, 2: 4, 3: 9, 4: 16, 5: 25, 6: 36, 7: 49, 8: 64, 9: 81, 10: 100, 11: 121, 12: 144, 13: 169, 14: 196, 15: 225}"
   ]
  },
  {
   "cell_type": "code",
   "execution_count": 36,
   "metadata": {},
   "outputs": [
    {
     "name": "stdout",
     "output_type": "stream",
     "text": [
      "Elements of dict: {1: 1, 2: 4, 3: 9, 4: 16, 5: 25, 6: 36, 7: 49, 8: 64, 9: 81, 10: 100, 11: 121, 12: 144, 13: 169, 14: 196, 15: 225}\n"
     ]
    }
   ],
   "source": [
    "dict={}\n",
    "for elements in range(1,16):\n",
    "    dict[elements] = elements**2\n",
    "print(f\"Elements of dict: {dict}\")"
   ]
  },
  {
   "cell_type": "markdown",
   "metadata": {},
   "source": [
    "Write a Python script to merge two Python dictionaries."
   ]
  },
  {
   "cell_type": "code",
   "execution_count": 37,
   "metadata": {},
   "outputs": [
    {
     "name": "stdout",
     "output_type": "stream",
     "text": [
      "Merged Dict: {1: 1, 2: 4, 3: 9, 4: 16, 5: 25, 6: 36, 7: 49, 8: 64, 9: 81, 10: 100}\n"
     ]
    }
   ],
   "source": [
    "dict = {}\n",
    "dict1 = {1: 1, 2: 4, 3: 9, 4: 16, 5: 25}\n",
    "dict2 = {6: 36, 7: 49, 8: 64, 9: 81, 10: 100}\n",
    "dict = dict1.copy()\n",
    "dict.update(dict2)\n",
    "print(f\"Merged Dict: {dict}\")"
   ]
  },
  {
   "cell_type": "markdown",
   "metadata": {},
   "source": [
    "Write a Python program to sum all the items in a dictionary."
   ]
  },
  {
   "cell_type": "code",
   "execution_count": 39,
   "metadata": {},
   "outputs": [
    {
     "name": "stdout",
     "output_type": "stream",
     "text": [
      "Sum of all values: 55\n"
     ]
    }
   ],
   "source": [
    "sample_dict= {1: 1, 2: 4, 3: 9, 4: 16, 5: 25}\n",
    "sum_of_values = sum(sample_dict.values())\n",
    "print(f\"Sum of all values: {sum_of_values}\")"
   ]
  },
  {
   "cell_type": "markdown",
   "metadata": {},
   "source": [
    " Write a Python program to multiply all the items in a dictionary."
   ]
  },
  {
   "cell_type": "code",
   "execution_count": 40,
   "metadata": {},
   "outputs": [
    {
     "name": "stdout",
     "output_type": "stream",
     "text": [
      "Multiply of all items: 14400\n"
     ]
    }
   ],
   "source": [
    "sample_dict= {1: 1, 2: 4, 3: 9, 4: 16, 5: 25}\n",
    "sum_of_items = 1\n",
    "for value in sample_dict.values():\n",
    "    sum_of_items *= value\n",
    "print(f\"Multiply of all items: {sum_of_items}\")"
   ]
  },
  {
   "cell_type": "markdown",
   "metadata": {},
   "source": [
    "Write a Python program to remove a key from a dictionary."
   ]
  },
  {
   "cell_type": "code",
   "execution_count": 42,
   "metadata": {},
   "outputs": [
    {
     "name": "stdout",
     "output_type": "stream",
     "text": [
      "Dict Before key Removal: {1: 1, 2: 4, 3: 9, 4: 16, 5: 25}\n",
      "Dict After key removal: {1: 1, 2: 4, 3: 9, 5: 25}\n"
     ]
    }
   ],
   "source": [
    "sample_dict= {1: 1, 2: 4, 3: 9, 4: 16, 5: 25}\n",
    "print(f\"Dict Before key Removal: {sample_dict}\")\n",
    "remove_key=int(input(\"Enter key to remove:\"))\n",
    "del sample_dict[remove_key]\n",
    "print(f\"Dict After key removal: {sample_dict}\")"
   ]
  },
  {
   "cell_type": "markdown",
   "metadata": {},
   "source": [
    "Q2) Create a Python class named \"DictOperations\" with methods to manipulate dictionaries, including:<br>\n",
    "(a) Adding a key-value pair to the dictionary.<br>\n",
    "(b) Removing a key-value pair from the dictionary.<br>\n",
    "(c) Updating the value associated with a specific key.<br>\n",
    "(d) Checking if a key exists in the dictionary.<br>\n",
    "(e) Retrieving all keys or values from the dictionary."
   ]
  },
  {
   "cell_type": "code",
   "execution_count": 16,
   "metadata": {},
   "outputs": [
    {
     "name": "stdout",
     "output_type": "stream",
     "text": [
      "\n",
      "    1. Add a key-value pair\"\n",
      "    2. Remove a key-value pair\"\n",
      "    3. Update the value associated with a key\"\n",
      "    4. Check if a key exists\"\n",
      "    5. Retrieve all keys\"\n",
      "    6. Retrieve all values\"\n",
      "    7. Exit\n",
      "\n",
      "Key-Value pair added Successfully\n",
      "\n",
      "    1. Add a key-value pair\"\n",
      "    2. Remove a key-value pair\"\n",
      "    3. Update the value associated with a key\"\n",
      "    4. Check if a key exists\"\n",
      "    5. Retrieve all keys\"\n",
      "    6. Retrieve all values\"\n",
      "    7. Exit\n",
      "\n",
      "Key-Value pair added Successfully\n",
      "\n",
      "    1. Add a key-value pair\"\n",
      "    2. Remove a key-value pair\"\n",
      "    3. Update the value associated with a key\"\n",
      "    4. Check if a key exists\"\n",
      "    5. Retrieve all keys\"\n",
      "    6. Retrieve all values\"\n",
      "    7. Exit\n",
      "\n",
      "Requested key exist\n",
      "\n",
      "    1. Add a key-value pair\"\n",
      "    2. Remove a key-value pair\"\n",
      "    3. Update the value associated with a key\"\n",
      "    4. Check if a key exists\"\n",
      "    5. Retrieve all keys\"\n",
      "    6. Retrieve all values\"\n",
      "    7. Exit\n",
      "\n",
      "    1. Add a key-value pair\"\n",
      "    2. Remove a key-value pair\"\n",
      "    3. Update the value associated with a key\"\n",
      "    4. Check if a key exists\"\n",
      "    5. Retrieve all keys\"\n",
      "    6. Retrieve all values\"\n",
      "    7. Exit\n",
      "\n",
      "Key-Value pair removed Successfully\n",
      "\n",
      "    1. Add a key-value pair\"\n",
      "    2. Remove a key-value pair\"\n",
      "    3. Update the value associated with a key\"\n",
      "    4. Check if a key exists\"\n",
      "    5. Retrieve all keys\"\n",
      "    6. Retrieve all values\"\n",
      "    7. Exit\n",
      "All keys: ['kozak']\n",
      "\n",
      "    1. Add a key-value pair\"\n",
      "    2. Remove a key-value pair\"\n",
      "    3. Update the value associated with a key\"\n",
      "    4. Check if a key exists\"\n",
      "    5. Retrieve all keys\"\n",
      "    6. Retrieve all values\"\n",
      "    7. Exit\n",
      "All Values: ['A']\n",
      "\n",
      "    1. Add a key-value pair\"\n",
      "    2. Remove a key-value pair\"\n",
      "    3. Update the value associated with a key\"\n",
      "    4. Check if a key exists\"\n",
      "    5. Retrieve all keys\"\n",
      "    6. Retrieve all values\"\n",
      "    7. Exit\n",
      "----------Exiting Program----------\n"
     ]
    }
   ],
   "source": [
    "class DictOperations:\n",
    "    def __init__(self):\n",
    "        self.dict = {}\n",
    "    \n",
    "    def add_key_value(self,key,value):\n",
    "        self.dict[key] = value\n",
    "        print(\"\\nKey-Value pair added Successfully\")\n",
    "\n",
    "    def remove_key_value(self,key):\n",
    "        if key in self.dict:\n",
    "            del self.dict[key]\n",
    "            print(\"\\nKey-Value pair removed Successfully\")\n",
    "        else:\n",
    "            print(\"\\nKey-Value pair not found\")\n",
    "    \n",
    "    def update_key_value(self,key):\n",
    "        if key in self.dict:\n",
    "            new_value=input(f\"\\nEnter new value for {key}: \")\n",
    "            self.dict[key] = new_value\n",
    "        else:\n",
    "            print(\"\\nRequested key not found\")\n",
    "    \n",
    "    def check_key_value(self,key):\n",
    "        if key in self.dict:\n",
    "            print(f\"\\nRequested key exist\")\n",
    "        else:\n",
    "            print(\"\\nRequested key does not exist\")\n",
    "\n",
    "    def retrieve_key(self):\n",
    "        return list(self.dict.keys())\n",
    "    \n",
    "    def retrieve_value(self):\n",
    "        return list(self.dict.values())\n",
    "\n",
    "dict_oper=DictOperations()\n",
    "while True:\n",
    "    print(\"\"\"\n",
    "    1. Add a key-value pair\"\n",
    "    2. Remove a key-value pair\"\n",
    "    3. Update the value associated with a key\"\n",
    "    4. Check if a key exists\"\n",
    "    5. Retrieve all keys\"\n",
    "    6. Retrieve all values\"\n",
    "    7. Exit\"\"\")\n",
    "\n",
    "    ch=int(input(\"Enter your choice:\"))\n",
    "\n",
    "    match ch:\n",
    "        case 1:\n",
    "            key=input(\"Enter the key: \")\n",
    "            value=input(\"Enter the value: \")\n",
    "            dict_oper.add_key_value(key,value)\n",
    "\n",
    "        case 2:\n",
    "            key=input(\"Enter the key to remove: \")\n",
    "            dict_oper.remove_key_value(key)\n",
    "\n",
    "        case 3:\n",
    "            key=input(\"Enter the key to update: \")\n",
    "            dict_oper.update_key_value(key)\n",
    "\n",
    "        case 4:\n",
    "            key=input(\"Enter the key to check: \")\n",
    "            dict_oper.check_key_value(key)\n",
    "\n",
    "        case 5:\n",
    "            print(f\"All keys: {dict_oper.retrieve_key()}\")\n",
    "\n",
    "        case 6:\n",
    "            print(f\"All Values: {dict_oper.retrieve_value()}\")\n",
    "\n",
    "        case 7:\n",
    "            print(\"----------Exiting Program----------\")\n",
    "            break\n",
    "\n",
    "        case default:\n",
    "            print(\"Invalid Choice! Please enter correct value.\")"
   ]
  },
  {
   "cell_type": "markdown",
   "metadata": {},
   "source": [
    "Write python program to find the second largest number in the integer list."
   ]
  },
  {
   "cell_type": "code",
   "execution_count": 22,
   "metadata": {},
   "outputs": [
    {
     "name": "stdout",
     "output_type": "stream",
     "text": [
      "Original List: [23, 11, 4, 444, 66] \n",
      "Second largest number: 66\n"
     ]
    }
   ],
   "source": [
    "def second_largest(integer_list):\n",
    "    integer_list.sort()\n",
    "    return integer_list[-2]\n",
    "\n",
    "integer_list = [int(element) for element in input(\"Enter elements for Integer list: \").split()]\n",
    "print(f\"Original List: {integer_list} \\nSecond largest number: {second_largest(integer_list)}\")"
   ]
  },
  {
   "cell_type": "markdown",
   "metadata": {},
   "source": [
    "Write a Python program to find the common elements between two lists.<br>\n",
    "Example:<br>\n",
    "Input: list_a = [1, 2, 3, 4, 5] and list_b = [4, 5, 6, 7, 8]<br>\n",
    "Output: [4, 5]"
   ]
  },
  {
   "cell_type": "code",
   "execution_count": 23,
   "metadata": {},
   "outputs": [
    {
     "name": "stdout",
     "output_type": "stream",
     "text": [
      "Original list are: \n",
      "list 1 : [1, 2, 3, 4, 5] \n",
      "list 2 : [4, 5, 6, 7, 8] \n",
      "Common Elements : [4, 5]\n"
     ]
    }
   ],
   "source": [
    "def find_common(integer_list1,integer_list2):\n",
    "    set_1=set(integer_list1)\n",
    "    set_2=set(integer_list2)\n",
    "    common_elements=set_1.intersection(set_2)\n",
    "    return list(common_elements)\n",
    "\n",
    "integer_list1 = [int(element) for element in input(\"Enter elements for Integer list 1: \").split()]\n",
    "integer_list2 = [int(element) for element in input(\"Enter elements for Integer list 2: \").split()]\n",
    "common_elements=find_common(integer_list1,integer_list2)\n",
    "print(f\"Original list are: \\nlist 1 : {integer_list1} \\nlist 2 : {integer_list2} \\nCommon Elements : {common_elements}\")"
   ]
  },
  {
   "cell_type": "markdown",
   "metadata": {},
   "source": [
    "Write a Python program to count Vowels in a Given Word.<br>\n",
    "Example:<br>\n",
    "Input: word = \"programming\"<br>\n",
    "Output: 3<br>"
   ]
  },
  {
   "cell_type": "code",
   "execution_count": 24,
   "metadata": {},
   "outputs": [
    {
     "name": "stdout",
     "output_type": "stream",
     "text": [
      "Original word: kozak \n",
      "Vowel count: 2\n"
     ]
    }
   ],
   "source": [
    "def count_vowels(word):\n",
    "    vowels = \"aeiouAEIOU\"\n",
    "    count = 0\n",
    "    for char in word:\n",
    "        if char in vowels:\n",
    "            count += 1\n",
    "    return count\n",
    "\n",
    "word = input(\"Enter the word: \")\n",
    "vowel_count = count_vowels(word)\n",
    "print(f\"Original word: {word} \\nVowel count: {vowel_count}\")"
   ]
  },
  {
   "cell_type": "markdown",
   "metadata": {},
   "source": [
    "Create a Python function that takes two lists as input and returns True if they have at least one common element, False otherwise."
   ]
  },
  {
   "cell_type": "code",
   "execution_count": 27,
   "metadata": {},
   "outputs": [
    {
     "name": "stdout",
     "output_type": "stream",
     "text": [
      "Original list : \n",
      "List 1 : [1, 2, 3, 4, 5] \n",
      "List 2 : [4, 5, 6, 7, 8] \n",
      "Output: True\n"
     ]
    }
   ],
   "source": [
    "def have_common_element(list1, list2):\n",
    "    set1 = set(list1)\n",
    "    for element in list2:\n",
    "        if element in set1:\n",
    "            return True\n",
    "    return False\n",
    "\n",
    "list1 = [int(element) for element in input(\"Enter elements for Integer list 1: \").split()]\n",
    "list2 = [int(element) for element in input(\"Enter elements for Integer list 1: \").split()]\n",
    "result = have_common_element(list1, list2)\n",
    "print(f\"Original list : \\nList 1 : {list1} \\nList 2 : {list2} \\nOutput: {result}\")"
   ]
  },
  {
   "cell_type": "markdown",
   "metadata": {},
   "source": [
    "Write a program to address the following scenario - Given an integer list nums, return true if any value appears at least twice in the list, and return false if every element is distinct.<br>\n",
    "Example 1:<br>\n",
    "Input: nums = [1,2,3,1]<br>\n",
    "Output: true"
   ]
  },
  {
   "cell_type": "code",
   "execution_count": 28,
   "metadata": {},
   "outputs": [
    {
     "name": "stdout",
     "output_type": "stream",
     "text": [
      "Original list: [1, 2, 3, 1] \n",
      "Output: True\n"
     ]
    }
   ],
   "source": [
    "def contains_duplicate(nums):\n",
    "    seen = set()\n",
    "    for num in nums:\n",
    "        if num in seen:\n",
    "            return True\n",
    "        else:\n",
    "            seen.add(num)\n",
    "    return False\n",
    "\n",
    "nums1 = [int(element) for element in input(\"Enter elements for Integer list 1: \").split()]\n",
    "print(f\"Original list: {nums1} \\nOutput: {contains_duplicate(nums1)}\")"
   ]
  },
  {
   "cell_type": "markdown",
   "metadata": {},
   "source": [
    "Write a Python program to sort a given dictionary by key."
   ]
  },
  {
   "cell_type": "code",
   "execution_count": 30,
   "metadata": {},
   "outputs": [
    {
     "name": "stdout",
     "output_type": "stream",
     "text": [
      "Sorted Dictionary: [1, 2, 3, 4, 5]\n"
     ]
    }
   ],
   "source": [
    "def sort_dict(sample_dict):\n",
    "    return sorted(sample_dict)\n",
    "\n",
    "sample_dict={3: 1, 1: 4, 5: 9, 2: 16, 4: 25}\n",
    "print(f\"Sorted Dictionary: {sort_dict(sample_dict)}\")"
   ]
  },
  {
   "cell_type": "markdown",
   "metadata": {},
   "source": [
    "Python program to get the maximum and minimum values of a dictionary."
   ]
  },
  {
   "cell_type": "code",
   "execution_count": 36,
   "metadata": {},
   "outputs": [
    {
     "name": "stdout",
     "output_type": "stream",
     "text": [
      "Maximum value of Dictionary: 25 Minimum value of Dictionary: 1\n"
     ]
    }
   ],
   "source": [
    "def get_max_value(sample_dict):\n",
    "    return max(sample_dict.values())\n",
    "\n",
    "def get_min_value(sample_dict):\n",
    "    return min(sample_dict.values())\n",
    "\n",
    "sample_dict={3: 9, 1: 1, 5: 25, 2: 4, 4: 16}\n",
    "max_value=get_max_value(sample_dict)\n",
    "min_value=get_min_value(sample_dict)\n",
    "print(f\"Maximum value of Dictionary: {max_value} Minimum value of Dictionary: {min_value}\")"
   ]
  },
  {
   "cell_type": "markdown",
   "metadata": {},
   "source": [
    "Write a Python program to get a dictionary from an object's fields."
   ]
  },
  {
   "cell_type": "code",
   "execution_count": 40,
   "metadata": {},
   "outputs": [
    {
     "name": "stdout",
     "output_type": "stream",
     "text": [
      "Dictionary from object's fields: {'name': 'KoZaK', 'age': 26}\n"
     ]
    }
   ],
   "source": [
    "class Person:\n",
    "    def __init__(self, name, age):\n",
    "        self.name = name\n",
    "        self.age = age\n",
    "\n",
    "person = Person(\"KoZaK\", 26)\n",
    "print(f\"Dictionary from object's fields: {person.__dict__}\")\n"
   ]
  },
  {
   "cell_type": "markdown",
   "metadata": {},
   "source": [
    "Write a Python program to remove duplicates from the dictionary."
   ]
  },
  {
   "cell_type": "code",
   "execution_count": 42,
   "metadata": {},
   "outputs": [
    {
     "name": "stdout",
     "output_type": "stream",
     "text": [
      "New Dictionary: {3: 9, 1: 1, 5: 25, 2: 4, 4: 16}\n"
     ]
    }
   ],
   "source": [
    "sample_dict={3: 9, 1: 1, 5: 25, 2: 4, 4: 16, 3: 9, 1: 1, 5: 25, 2: 4, 4: 16}\n",
    "new_dict={}\n",
    "for key,value in sample_dict.items():\n",
    "    if key not in new_dict:\n",
    "        new_dict[key] = value\n",
    "print(f\"New Dictionary: {new_dict}\")"
   ]
  },
  {
   "cell_type": "markdown",
   "metadata": {},
   "source": [
    "Write a Python program to check if a dictionary is empty or not."
   ]
  },
  {
   "cell_type": "code",
   "execution_count": 45,
   "metadata": {},
   "outputs": [
    {
     "name": "stdout",
     "output_type": "stream",
     "text": [
      "Not empty\n"
     ]
    }
   ],
   "source": [
    "dict = {\"Kozak\":\"A\"}\n",
    "if bool(dict):\n",
    "    print(\"Not empty\")\n",
    "else:\n",
    "    print(\"Empty\")"
   ]
  },
  {
   "cell_type": "markdown",
   "metadata": {},
   "source": [
    "Write a Python program to combine two dictionary by adding values for common keys.<br>\n",
    "d1 = {'a': 100, 'b': 200, 'c':300}<br>\n",
    "d2 = {'a': 300, 'b': 200, 'd':400}<br>\n",
    "Sample output: Counter({'a': 400, 'b': 400, 'd': 400, 'c': 300})"
   ]
  },
  {
   "cell_type": "code",
   "execution_count": 46,
   "metadata": {},
   "outputs": [
    {
     "name": "stdout",
     "output_type": "stream",
     "text": [
      "Updated Dictionary: {'a': 400, 'b': 400, 'c': 300, 'd': 400}\n"
     ]
    }
   ],
   "source": [
    "dict1 = {'a': 100, 'b': 200, 'c':300}\n",
    "dict2 = {'a': 300, 'b': 200, 'd':400}\n",
    "for key,value in dict2.items():\n",
    "    if key in dict1:\n",
    "        dict1[key] += value\n",
    "    else:\n",
    "        dict1[key] = value\n",
    "\n",
    "print(f\"Updated Dictionary: {dict1}\")"
   ]
  },
  {
   "cell_type": "markdown",
   "metadata": {},
   "source": [
    "Write a Python program to print all distinct values in a dictionary.<br>\n",
    "Sample Data : [{\"V\":\"S001\"}, {\"V\": \"S002\"}, {\"VI\": \"S001\"}, {\"VI\": \"S005\"}, {\"VII\":\"S005\"}, {\"V\":\"S009\"},{\"VIII\":\"S007\"}]<br>\n",
    "Expected Output : Unique Values: {'S005', 'S002', 'S007', 'S001', 'S009'}"
   ]
  },
  {
   "cell_type": "code",
   "execution_count": 47,
   "metadata": {},
   "outputs": [
    {
     "name": "stdout",
     "output_type": "stream",
     "text": [
      "Unique Valuses: {'S009', 'S007', 'S002', 'S001', 'S005'}\n"
     ]
    }
   ],
   "source": [
    "sample_list = [{\"V\":\"S001\"}, {\"V\": \"S002\"}, {\"VI\": \"S001\"}, {\"VI\": \"S005\"}, {\"VII\":\"S005\"}, {\"V\":\"S009\"},{\"VIII\":\"S007\"}]\n",
    "u_value = set(val for dic in sample_list for val in dic.values())\n",
    "print(f\"Unique Valuses: {u_value}\")"
   ]
  },
  {
   "cell_type": "markdown",
   "metadata": {},
   "source": [
    "Write a Python program to create and display all combinations of letters, selecting each letter from a different key in a dictionary.<br>\n",
    "Sample data : {'1':['a','b'], '2':['c','d']}<br>\n",
    "Expected Output:<br>\n",
    "ac<br>\n",
    "ad<br>\n",
    "bc<br>\n",
    "bd<br>"
   ]
  },
  {
   "cell_type": "code",
   "execution_count": 49,
   "metadata": {},
   "outputs": [
    {
     "name": "stdout",
     "output_type": "stream",
     "text": [
      "ac\n",
      "ad\n",
      "bc\n",
      "bd\n"
     ]
    }
   ],
   "source": [
    "import itertools\n",
    "d = {'1': ['a', 'b'], '2': ['c', 'd']}\n",
    "for combo in itertools.product(*[d[k] for k in sorted(d.keys())]):\n",
    "    print(''.join(combo))\n"
   ]
  }
 ],
 "metadata": {
  "kernelspec": {
   "display_name": "Python 3 (ipykernel)",
   "language": "python",
   "name": "python3"
  },
  "language_info": {
   "codemirror_mode": {
    "name": "ipython",
    "version": 3
   },
   "file_extension": ".py",
   "mimetype": "text/x-python",
   "name": "python",
   "nbconvert_exporter": "python",
   "pygments_lexer": "ipython3",
   "version": "3.9.12"
  }
 },
 "nbformat": 4,
 "nbformat_minor": 2
}
