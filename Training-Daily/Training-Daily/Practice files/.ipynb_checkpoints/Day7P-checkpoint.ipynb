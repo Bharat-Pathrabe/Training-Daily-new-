{
 "cells": [
  {
   "cell_type": "markdown",
   "id": "274ba2cc",
   "metadata": {},
   "source": [
    "# Practice"
   ]
  },
  {
   "cell_type": "code",
   "execution_count": 2,
   "id": "fcf4210b",
   "metadata": {},
   "outputs": [
    {
     "name": "stdout",
     "output_type": "stream",
     "text": [
      "Original Lists: \n",
      "First:{'White', 'Black', 'Red'}\n",
      "Second:{'Green', 'Red'}\n",
      "Colors which are present in first but not in second: {'White', 'Black'}\n",
      "Colors which are present in second but not in first: {'Green'}\n"
     ]
    }
   ],
   "source": [
    "# program that prints out all colors from color_list_1 that are not present in color_list_2.\n",
    "color_list_1 = set([\"White\", \"Black\", \"Red\"])\n",
    "color_list_2 = set([\"Red\", \"Green\"])\n",
    "\n",
    "print(f\"Original Lists: \\nFirst:{color_list_1}\\nSecond:{color_list_2}\")\n",
    "print(f\"Colors which are present in first but not in second: {color_list_1.difference(color_list_2)}\")\n",
    "print(f\"Colors which are present in second but not in first: {color_list_2.difference(color_list_1)}\")"
   ]
  },
  {
   "cell_type": "code",
   "execution_count": 11,
   "id": "0cc50bf5",
   "metadata": {},
   "outputs": [
    {
     "name": "stdout",
     "output_type": "stream",
     "text": [
      "Enter first number:336\n",
      "Enter Second number:360\n",
      "GCD of 336 and 360 is: 24\n"
     ]
    }
   ],
   "source": [
    "# program that computes the greatest common divisor (GCD) of two positive integers.\n",
    "def gcd(a,b):\n",
    "    if a % b == 0:\n",
    "        return b\n",
    "    for i in range(int(b/2),0,-1):\n",
    "        if a % i == 0 and b % i == 0:\n",
    "            return i\n",
    "a=int(input(\"Enter first number:\"))\n",
    "b=int(input(\"Enter Second number:\"))\n",
    "print(f\"GCD of {a} and {b} is: {gcd(a,b)}\")"
   ]
  },
  {
   "cell_type": "code",
   "execution_count": 7,
   "id": "2788b3ae",
   "metadata": {},
   "outputs": [
    {
     "name": "stdout",
     "output_type": "stream",
     "text": [
      "Enter first number:336\n",
      "Enter Second number:360\n",
      "GCD of 336 and 360 is: 24\n"
     ]
    }
   ],
   "source": [
    "import math\n",
    "a=int(input(\"Enter first number:\"))\n",
    "b=int(input(\"Enter Second number:\"))\n",
    "print(f\"GCD of {a} and {b} is: {math.gcd(a,b)}\")"
   ]
  },
  {
   "cell_type": "code",
   "execution_count": 13,
   "id": "db1cecea",
   "metadata": {},
   "outputs": [
    {
     "name": "stdout",
     "output_type": "stream",
     "text": [
      "Enter first number:15\n",
      "Enter Second number:17\n",
      "GCD of 15 and 17 is: 255\n"
     ]
    }
   ],
   "source": [
    "def lcm(a,b):\n",
    "    if a > b:\n",
    "        c = a\n",
    "    else:\n",
    "        c = b\n",
    "    while True:\n",
    "        if c % a == 0 and c % b == 0:\n",
    "            return c\n",
    "        c += 1\n",
    "a=int(input(\"Enter first number:\"))\n",
    "b=int(input(\"Enter Second number:\"))\n",
    "print(f\"GCD of {a} and {b} is: {lcm(a,b)}\")"
   ]
  },
  {
   "cell_type": "code",
   "execution_count": 12,
   "id": "5f1ff164",
   "metadata": {},
   "outputs": [
    {
     "name": "stdout",
     "output_type": "stream",
     "text": [
      "Enter first number:15\n",
      "Enter Second number:17\n",
      "GCD of 15 and 17 is: 255\n"
     ]
    }
   ],
   "source": [
    "import math\n",
    "a=int(input(\"Enter first number:\"))\n",
    "b=int(input(\"Enter Second number:\"))\n",
    "print(f\"GCD of {a} and {b} is: {math.lcm(a,b)}\")"
   ]
  },
  {
   "cell_type": "code",
   "execution_count": 17,
   "id": "0eae9ee3",
   "metadata": {},
   "outputs": [
    {
     "name": "stdout",
     "output_type": "stream",
     "text": [
      "Enter first number:5\n",
      "Enter Second number:10\n",
      "True\n"
     ]
    }
   ],
   "source": [
    "# program that returns true if the two given integer values are equal or their sum or difference is 5.\n",
    "def check(a,b):\n",
    "    if a == b or (a+b) == 5 or abs(a-b) == 5:\n",
    "        return True\n",
    "    else: return False\n",
    "a=int(input(\"Enter first number:\"))\n",
    "b=int(input(\"Enter Second number:\"))\n",
    "print(check(a,b))"
   ]
  },
  {
   "cell_type": "code",
   "execution_count": 20,
   "id": "877231cd",
   "metadata": {},
   "outputs": [
    {
     "name": "stdout",
     "output_type": "stream",
     "text": [
      "30\n",
      "Inputs Must be integers\n",
      "Inputs Must be integers\n"
     ]
    }
   ],
   "source": [
    "# program to add two objects if both objects are integers.\n",
    "def add(a,b):\n",
    "    if isinstance(a,int) and isinstance(b,int):\n",
    "        return a + b\n",
    "    else :\n",
    "        return \"Inputs Must be integers\"\n",
    "print(add(10,20))\n",
    "print(add(10,20.33))\n",
    "print(add(\"a\",20))"
   ]
  },
  {
   "cell_type": "code",
   "execution_count": 24,
   "id": "a5980e15",
   "metadata": {},
   "outputs": [
    {
     "name": "stdout",
     "output_type": "stream",
     "text": [
      "False\n"
     ]
    }
   ],
   "source": [
    "# program to check whether a file exists.\n",
    "import os\n",
    "print(os.path.isfile(\"math.txt\"))"
   ]
  },
  {
   "cell_type": "code",
   "execution_count": 27,
   "id": "b393e92e",
   "metadata": {},
   "outputs": [
    {
     "name": "stdout",
     "output_type": "stream",
     "text": [
      "OS Name: posix \n",
      "Platform: Linux \n",
      "Release: 6.5.0-25-generic\n"
     ]
    }
   ],
   "source": [
    "# program to get OS name, platform and release information.\n",
    "import os\n",
    "import platform\n",
    "print(f\"OS Name: {os.name} \\nPlatform: {platform.system()} \\nRelease: {platform.release()}\")"
   ]
  },
  {
   "cell_type": "code",
   "execution_count": 29,
   "id": "b6e0ba6b",
   "metadata": {},
   "outputs": [
    {
     "name": "stdout",
     "output_type": "stream",
     "text": [
      "4\n"
     ]
    }
   ],
   "source": [
    "# program to find out the number of CPUs used.\n",
    "import multiprocessing\n",
    "print(multiprocessing.cpu_count())"
   ]
  },
  {
   "cell_type": "code",
   "execution_count": 33,
   "id": "ebb71f00",
   "metadata": {
    "scrolled": true
   },
   "outputs": [
    {
     "name": "stdout",
     "output_type": "stream",
     "text": [
      "3\n",
      "         41 function calls in 0.000 seconds\n",
      "\n",
      "   Ordered by: standard name\n",
      "\n",
      "   ncalls  tottime  percall  cumtime  percall filename:lineno(function)\n",
      "        1    0.000    0.000    0.000    0.000 3619304851.py:3(sum)\n",
      "        1    0.000    0.000    0.000    0.000 <string>:1(<module>)\n",
      "        3    0.000    0.000    0.000    0.000 iostream.py:208(schedule)\n",
      "        2    0.000    0.000    0.000    0.000 iostream.py:420(_is_master_process)\n",
      "        2    0.000    0.000    0.000    0.000 iostream.py:439(_schedule_flush)\n",
      "        2    0.000    0.000    0.000    0.000 iostream.py:502(write)\n",
      "        3    0.000    0.000    0.000    0.000 iostream.py:97(_event_pipe)\n",
      "        3    0.000    0.000    0.000    0.000 socket.py:480(send)\n",
      "        3    0.000    0.000    0.000    0.000 threading.py:1059(_wait_for_tstate_lock)\n",
      "        3    0.000    0.000    0.000    0.000 threading.py:1126(is_alive)\n",
      "        3    0.000    0.000    0.000    0.000 threading.py:529(is_set)\n",
      "        1    0.000    0.000    0.000    0.000 {built-in method builtins.exec}\n",
      "        2    0.000    0.000    0.000    0.000 {built-in method builtins.isinstance}\n",
      "        2    0.000    0.000    0.000    0.000 {built-in method builtins.len}\n",
      "        1    0.000    0.000    0.000    0.000 {built-in method builtins.print}\n",
      "        2    0.000    0.000    0.000    0.000 {built-in method posix.getpid}\n",
      "        3    0.000    0.000    0.000    0.000 {method 'acquire' of '_thread.lock' objects}\n",
      "        3    0.000    0.000    0.000    0.000 {method 'append' of 'collections.deque' objects}\n",
      "        1    0.000    0.000    0.000    0.000 {method 'disable' of '_lsprof.Profiler' objects}\n",
      "\n",
      "\n"
     ]
    }
   ],
   "source": [
    "# program to determine the profiling of  Python programs.\n",
    "import cProfile\n",
    "def sum():\n",
    "    print(1 + 2)\n",
    "cProfile.run('sum()')\n"
   ]
  },
  {
   "cell_type": "code",
   "execution_count": 41,
   "id": "551ad525",
   "metadata": {},
   "outputs": [
    {
     "name": "stdout",
     "output_type": "stream",
     "text": [
      "Enter a number: 5\n",
      "Total time for function toke: 4.291534423828125e-06\n",
      "The sum of first n natural Numbers is: 15\n"
     ]
    }
   ],
   "source": [
    "# program to sum the first n positive integers\n",
    "# program to get the execution time of a Python method.\n",
    "import time\n",
    "def sum1(n):\n",
    "    s= time.time()\n",
    "    x= 0\n",
    "    for i in range(n):\n",
    "        x += i+1\n",
    "    e=time.time()\n",
    "    print(f\"Total time for function toke: {e-s}\")\n",
    "    return x\n",
    "n=int(input(\"Enter a number: \"))\n",
    "print(f\"The sum of first n natural Numbers is: {sum1(n)}\")"
   ]
  },
  {
   "cell_type": "code",
   "execution_count": 42,
   "id": "1456d8a7",
   "metadata": {},
   "outputs": [
    {
     "name": "stdout",
     "output_type": "stream",
     "text": [
      "Input your height: \n",
      "Feet: 5\n",
      "Inches: 7\n",
      "Your height is : 170 cm.\n"
     ]
    }
   ],
   "source": [
    "# program to convert height (in feet and inches) to centimeters.\n",
    "print(\"Input your height: \")\n",
    "h_ft = int(input(\"Feet: \"))\n",
    "h_inch = int(input(\"Inches: \"))\n",
    "h_inch += h_ft * 12\n",
    "h_cm = round(h_inch * 2.54, 1)\n",
    "print(\"Your height is : %d cm.\" % h_cm)"
   ]
  },
  {
   "cell_type": "code",
   "execution_count": 54,
   "id": "d95f43d0",
   "metadata": {},
   "outputs": [
    {
     "name": "stdout",
     "output_type": "stream",
     "text": [
      "Enter number: 50\n",
      "1\n",
      "1\n",
      "2\n",
      "3\n",
      "5\n",
      "8\n",
      "13\n",
      "21\n",
      "34\n"
     ]
    }
   ],
   "source": [
    "# program to get the Fibonacci series upto given number.\n",
    "n=int(input(\"Enter number: \"))\n",
    "a,b=0,1\n",
    "while b<n:\n",
    "    a,b=b,a+b\n",
    "    print(a)"
   ]
  },
  {
   "cell_type": "code",
   "execution_count": 56,
   "id": "cf7fbf1a",
   "metadata": {},
   "outputs": [
    {
     "name": "stdout",
     "output_type": "stream",
     "text": [
      "Number of rows:3\n",
      "Number of columns:3\n",
      "[[0, 0, 0], [0, 1, 2], [0, 2, 4]]\n"
     ]
    }
   ],
   "source": [
    "# program that takes two digits m (row) and n (column) as input and generates a two-dimensional array.\n",
    "#The element value in the i-th row and j-th column of the array should be i*j.\n",
    "m=int(input(\"Number of rows:\"))\n",
    "n=int(input(\"Number of columns:\"))\n",
    "l=[[i*j for i in range(n)] for j in range(m)]\n",
    "print(l)"
   ]
  },
  {
   "cell_type": "code",
   "execution_count": 60,
   "id": "43d9defb",
   "metadata": {},
   "outputs": [
    {
     "name": "stdout",
     "output_type": "stream",
     "text": [
      "the way\n",
      "its meant \n",
      "to be\n",
      "played\n",
      "\n",
      "the way\n",
      "its meant \n",
      "to be\n",
      "played\n"
     ]
    }
   ],
   "source": [
    "# program that accepts a sequence of lines (blank line to terminate) as input and\n",
    "#prints the lines as output (all characters in lower case).\n",
    "li=[]\n",
    "while True:\n",
    "    l=input()\n",
    "    if l:\n",
    "        li.append(l.lower())\n",
    "    else:\n",
    "        break\n",
    "for i in li:\n",
    "    print(i)"
   ]
  },
  {
   "cell_type": "code",
   "execution_count": 68,
   "id": "5b0711ae",
   "metadata": {},
   "outputs": [
    {
     "name": "stdout",
     "output_type": "stream",
     "text": [
      "0010,1100,0101,0011,1010,1101\n",
      "['0101', '1010']\n"
     ]
    }
   ],
   "source": [
    "# program that accepts a sequence of comma separated 4 digit binary numbers as its input. \n",
    "# The program will print the numbers that are divisible by 5 in a comma separated sequence.\n",
    "l=[x for x in input().split(\",\")]\n",
    "k=[p for p in l if int(p,2) % 5 ==0]\n",
    "print(k)"
   ]
  },
  {
   "cell_type": "code",
   "execution_count": 84,
   "id": "26196aa5",
   "metadata": {},
   "outputs": [
    {
     "name": "stdout",
     "output_type": "stream",
     "text": [
      "Input a stringqwe123\n",
      "Letters 3\n",
      "Digits 3\n"
     ]
    }
   ],
   "source": [
    "s = input(\"Input a string\")\n",
    "d = l = 0\n",
    "for c in s:\n",
    "    if c.isdigit():\n",
    "        d = d + 1\n",
    "    elif c.isalpha():\n",
    "        l = l + 1\n",
    "    else:\n",
    "        pass\n",
    "print(\"Letters\", l)\n",
    "print(\"Digits\", d)"
   ]
  },
  {
   "cell_type": "code",
   "execution_count": 4,
   "id": "cf735154",
   "metadata": {},
   "outputs": [
    {
     "name": "stdout",
     "output_type": "stream",
     "text": [
      "Input your password: Kerochan@555\n",
      "Valid Password\n"
     ]
    }
   ],
   "source": [
    "\"\"\"program to check the validity of passwords input by users.\n",
    "Validation :\n",
    "At least 1 letter between [a-z] and 1 letter between [A-Z].\n",
    "At least 1 number between [0-9].\n",
    "At least 1 character from [$#@].\n",
    "Minimum length 6 characters.\n",
    "Maximum length 16 characters.\"\"\"\n",
    "import re\n",
    "p = input(\"Input your password: \")\n",
    "x = True\n",
    "\n",
    "while x:\n",
    "    if (len(p) < 6 or len(p) > 12):\n",
    "        break\n",
    "    elif not re.search(\"[a-z]\", p):\n",
    "        break\n",
    "    elif not re.search(\"[0-9]\", p):\n",
    "        break\n",
    "    elif not re.search(\"[A-Z]\", p):\n",
    "        break\n",
    "    elif not re.search(\"[$#@]\", p):\n",
    "        break\n",
    "    elif re.search(\"\\s\", p):\n",
    "        break\n",
    "    else:\n",
    "        print(\"Valid Password\")\n",
    "        x = False\n",
    "        break\n",
    "if x:\n",
    "    print(\"Not a Valid Password\")\n"
   ]
  },
  {
   "cell_type": "code",
   "execution_count": 13,
   "id": "855044a1",
   "metadata": {},
   "outputs": [
    {
     "name": "stdout",
     "output_type": "stream",
     "text": [
      "[200, 202, 204, 206, 208, 220, 222, 224, 226, 228, 240, 242, 244, 246, 248, 260, 262, 264, 266, 268, 280, 282, 284, 286, 288]\n"
     ]
    }
   ],
   "source": [
    "# program to find numbers between 100 and 400 (both included) where each digit of a number is an even number.\n",
    "# The numbers obtained should be printed in a comma-separated sequence.\n",
    "items=[i for i in range(100,400) if (int(str(i)[0]) % 2 == 0) and (int(str(i)[1]) % 2 == 0) and (int(str(i)[2]) % 2 == 0)]\n",
    "print(items)"
   ]
  },
  {
   "cell_type": "code",
   "execution_count": 21,
   "id": "9920a17b",
   "metadata": {},
   "outputs": [
    {
     "name": "stdout",
     "output_type": "stream",
     "text": [
      "Enter Dog's age:12\n",
      "Dog's age as per Ours: 69\n"
     ]
    }
   ],
   "source": [
    "\"\"\"program to calculate a dog's age in dog years.\n",
    "Note: For the first two years, a dog year is equal to 10.5 human years. After that, each dog year equals 4 human years.\n",
    "Expected Output:\n",
    "\n",
    "Input a dog's age in human years: 15                                    \n",
    "The dog's age in dog's years is 73\"\"\"\n",
    "\n",
    "age=int(input(\"Enter Dog's age:\"))\n",
    "if age< 0:\n",
    "    print(\"Not a valid age\")\n",
    "elif age <= 2:\n",
    "    age *= 10.5\n",
    "else:\n",
    "    age = (age * 4)  + 21\n",
    "print(f\"Dog's age as per Ours: {age}\")"
   ]
  },
  {
   "cell_type": "code",
   "execution_count": 33,
   "id": "a0c5a550",
   "metadata": {},
   "outputs": [
    {
     "name": "stdout",
     "output_type": "stream",
     "text": [
      "Enter:2131231\n",
      "integer\n"
     ]
    }
   ],
   "source": [
    "# Python program that checks whether a string represents an integer or not.\n",
    "txt=input(\"Enter:\")\n",
    "if txt.strip().isdigit():\n",
    "    print(\"integer\")\n",
    "else:\n",
    "    print(\"Not a integer\")"
   ]
  },
  {
   "cell_type": "code",
   "execution_count": 1,
   "id": "8cb79862",
   "metadata": {},
   "outputs": [
    {
     "name": "stdout",
     "output_type": "stream",
     "text": [
      "Enter elements comma Sep: 7,4,7,1\n",
      "19\n"
     ]
    }
   ],
   "source": [
    "# program to calculate the sum of a list of numbers using recursion.\n",
    "def lsum(a):\n",
    "    return a[0] if len(a) == 1 else int(a[0]) + int(lsum(a[1:]))\n",
    "\n",
    "li=[x for x in input(\"Enter elements comma Sep: \").split(\",\")]\n",
    "\n",
    "print(lsum(li))"
   ]
  },
  {
   "cell_type": "code",
   "execution_count": 49,
   "id": "ff0f6928",
   "metadata": {},
   "outputs": [
    {
     "name": "stdout",
     "output_type": "stream",
     "text": [
      "Enter an integer: 2835\n",
      "Enter the base: 16\n",
      "The integer 2835 in base 16 is: B13\n"
     ]
    }
   ],
   "source": [
    "#  program to convert an integer to a string in any base using recursion.\n",
    "def convert_to_base(n, base):\n",
    "   digits = \"0123456789ABCDEFGHIJKLMNOPQRSTUVWXYZ\"\n",
    "   return digits[n] if n < base else convert_to_base(n // base, base) + digits[n % base]\n",
    "# Test the function\n",
    "number = int(input(\"Enter an integer: \"))\n",
    "base = int(input(\"Enter the base: \"))\n",
    "result = convert_to_base(number, base)\n",
    "print(f\"The integer {number} in base {base} is: {result}\")"
   ]
  },
  {
   "cell_type": "code",
   "execution_count": 55,
   "id": "93473a48",
   "metadata": {},
   "outputs": [
    {
     "name": "stdout",
     "output_type": "stream",
     "text": [
      "program to convert an integer to a string in any base using recursion.\n",
      "13\n"
     ]
    }
   ],
   "source": [
    "l=[x for x in input().split(\" \")]\n",
    "print(len(l))"
   ]
  }
 ],
 "metadata": {
  "kernelspec": {
   "display_name": "Python 3 (ipykernel)",
   "language": "python",
   "name": "python3"
  },
  "language_info": {
   "codemirror_mode": {
    "name": "ipython",
    "version": 3
   },
   "file_extension": ".py",
   "mimetype": "text/x-python",
   "name": "python",
   "nbconvert_exporter": "python",
   "pygments_lexer": "ipython3",
   "version": "3.9.12"
  }
 },
 "nbformat": 4,
 "nbformat_minor": 5
}
