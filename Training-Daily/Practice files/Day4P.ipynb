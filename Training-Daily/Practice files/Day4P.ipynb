{
 "cells": [
  {
   "cell_type": "markdown",
   "metadata": {},
   "source": [
    "# Practice"
   ]
  },
  {
   "cell_type": "code",
   "execution_count": 9,
   "metadata": {},
   "outputs": [
    {
     "name": "stdout",
     "output_type": "stream",
     "text": [
      "Welcome to the Text-based RPG!\n"
     ]
    },
    {
     "name": "stdout",
     "output_type": "stream",
     "text": [
      "\n",
      "1. Explore\n",
      "2. Check Stats\n",
      "3. Quit\n",
      "Name: K\n",
      "Health: 100\n",
      "Attack: 10\n",
      "Defense: 5\n",
      "Gold: 0\n",
      "\n",
      "1. Explore\n",
      "2. Check Stats\n",
      "3. Quit\n",
      "Goodbye!\n"
     ]
    }
   ],
   "source": [
    "import random\n",
    "class Player:\n",
    "   def __init__(self, name, health, attack, defense, gold):\n",
    "       self.name = name\n",
    "       self.health = health\n",
    "       self.attack = attack\n",
    "       self.defense = defense\n",
    "       self.gold = gold\n",
    "class Enemy:\n",
    "   def __init__(self, name, health, attack, defense, gold):\n",
    "       self.name = name\n",
    "       self.health = health\n",
    "       self.attack = attack\n",
    "       self.defense = defense\n",
    "       self.gold = gold\n",
    "# Function to perform a battle\n",
    "def battle(player, enemy):\n",
    "   print(f\"A wild {enemy.name} appears!\")\n",
    "   while player.health > 0 and enemy.health > 0:\n",
    "       print(f\"Your health: {player.health}\")\n",
    "       print(f\"{enemy.name}'s health: {enemy.health}\")\n",
    "       print(\"1. Attack\")\n",
    "       print(\"2. Run\")\n",
    "       choice = input(\"Choose your action: \")\n",
    "       if choice == \"1\":\n",
    "           # Player attacks enemy\n",
    "           enemy_damage = max(0, player.attack - enemy.defense)\n",
    "           enemy.health -= enemy_damage\n",
    "           print(f\"You attack the {enemy.name} for {enemy_damage} damage!\")\n",
    "           if enemy.health <= 0:\n",
    "               print(f\"You defeated the {enemy.name}!\")\n",
    "               player.gold += enemy.gold\n",
    "               break\n",
    "           # Enemy attacks player\n",
    "           player_damage = max(0, enemy.attack - player.defense)\n",
    "           player.health -= player_damage\n",
    "           print(f\"The {enemy.name} attacks you for {player_damage} damage!\")\n",
    "           if player.health <= 0:\n",
    "               print(\"You were defeated!\")\n",
    "               break\n",
    "       elif choice == \"2\":\n",
    "           print(\"You run away from the battle!\")\n",
    "           break\n",
    "# Main game loop\n",
    "def main():\n",
    "   print(\"Welcome to the Text-based RPG!\")\n",
    "   name = input(\"Enter your name: \")\n",
    "   player = Player(name, 100, 10, 5, 0)\n",
    "   enemies = [\n",
    "       {\"name\": \"Goblin\", \"health\": 30, \"attack\": 8, \"defense\": 2, \"gold\": 20},\n",
    "       {\"name\": \"Skeleton\", \"health\": 40, \"attack\": 10, \"defense\": 3, \"gold\": 30},\n",
    "       {\"name\": \"Orc\", \"health\": 50, \"attack\": 12, \"defense\": 5, \"gold\": 50}\n",
    "   ]\n",
    "   while True:\n",
    "       print(\"\\n1. Explore\")\n",
    "       print(\"2. Check Stats\")\n",
    "       print(\"3. Quit\")\n",
    "       choice = input(\"Choose your action: \")\n",
    "       if choice == \"1\":\n",
    "           enemy = random.choice(enemies)\n",
    "           battle(player, Enemy(**enemy))\n",
    "       elif choice == \"2\":\n",
    "           print(f\"Name: {player.name}\")\n",
    "           print(f\"Health: {player.health}\")\n",
    "           print(f\"Attack: {player.attack}\")\n",
    "           print(f\"Defense: {player.defense}\")\n",
    "           print(f\"Gold: {player.gold}\")\n",
    "       elif choice == \"3\":\n",
    "           print(\"Goodbye!\")\n",
    "           break\n",
    "       else:\n",
    "           print(\"Invalid choice. Please try again.\")\n",
    "if __name__ == \"__main__\":\n",
    "   main()"
   ]
  },
  {
   "cell_type": "markdown",
   "metadata": {},
   "source": [
    "# Inheritance"
   ]
  },
  {
   "cell_type": "code",
   "execution_count": 10,
   "metadata": {},
   "outputs": [
    {
     "name": "stdout",
     "output_type": "stream",
     "text": [
      "Welcome Mike Olsen to the class of 2019\n"
     ]
    }
   ],
   "source": [
    "class Person:\n",
    "  def __init__(self, fname, lname):\n",
    "    self.firstname = fname\n",
    "    self.lastname = lname\n",
    "\n",
    "\n",
    "class Student(Person):\n",
    "  def __init__(self, fname, lname, year):\n",
    "    super().__init__(fname, lname)\n",
    "    self.graduationyear = year\n",
    "\n",
    "  def welcome(self):\n",
    "    print(\"Welcome\", self.firstname, self.lastname, \"to the class of\", self.graduationyear)\n",
    "\n",
    "x = Student(\"Mike\", \"Olsen\", 2019)\n",
    "x.welcome()\n"
   ]
  },
  {
   "cell_type": "markdown",
   "metadata": {},
   "source": [
    "# Iterators"
   ]
  },
  {
   "cell_type": "code",
   "execution_count": 11,
   "metadata": {},
   "outputs": [
    {
     "name": "stdout",
     "output_type": "stream",
     "text": [
      "1\n",
      "2\n",
      "3\n",
      "4\n",
      "5\n",
      "6\n",
      "7\n",
      "8\n",
      "9\n",
      "10\n",
      "11\n",
      "12\n",
      "13\n",
      "14\n",
      "15\n",
      "16\n",
      "17\n",
      "18\n",
      "19\n",
      "20\n"
     ]
    }
   ],
   "source": [
    "class MyNumbers:\n",
    "  def __iter__(self):\n",
    "    self.a = 1\n",
    "    return self\n",
    "\n",
    "  def __next__(self):\n",
    "    if self.a <= 20:\n",
    "      x = self.a\n",
    "      self.a += 1\n",
    "      return x\n",
    "    else:\n",
    "      raise StopIteration\n",
    "\n",
    "myclass = MyNumbers()\n",
    "myiter = iter(myclass)\n",
    "\n",
    "for x in myiter:\n",
    "  print(x)\n"
   ]
  },
  {
   "cell_type": "markdown",
   "metadata": {},
   "source": [
    "# Polymorphism"
   ]
  },
  {
   "cell_type": "code",
   "execution_count": 14,
   "metadata": {},
   "outputs": [
    {
     "name": "stdout",
     "output_type": "stream",
     "text": [
      "So many categories of vehicle\n",
      "Differs according to the vehicle category\n",
      "So many categories of vehicle\n",
      "4\n",
      "So many categories of vehicle\n",
      "8\n"
     ]
    }
   ],
   "source": [
    "class Vehicle:\n",
    "     def desc(self):\n",
    "       print(\"So many categories of vehicle\")\n",
    "\n",
    "     def wheels(self):\n",
    "       print(\"Differs according to the vehicle category\")\n",
    "\n",
    "class car(Vehicle):\n",
    "     def wheels(self):\n",
    "       print(4)\n",
    "\n",
    "class bus(Vehicle):\n",
    "     def wheel(self):\n",
    "       print(8)\n",
    "\n",
    "obj_vehicle = Vehicle()\n",
    "obj_car = car()\n",
    "obj_bus = bus()\n",
    "obj_vehicle.desc()\n",
    "obj_vehicle.wheels()\n",
    "obj_car.desc()\n",
    "obj_car.wheels()\n",
    "obj_bus.desc()\n",
    "obj_bus.wheel()\n",
    "\n"
   ]
  },
  {
   "cell_type": "markdown",
   "metadata": {},
   "source": [
    "# Encapsulation"
   ]
  },
  {
   "cell_type": "code",
   "execution_count": 18,
   "metadata": {},
   "outputs": [
    {
     "name": "stdout",
     "output_type": "stream",
     "text": [
      "KoZaK\n"
     ]
    }
   ],
   "source": [
    "# Python program to \n",
    "# demonstrate private members \n",
    "  \n",
    "# Creating a Base class \n",
    "  \n",
    "  \n",
    "class Base: \n",
    "    def __init__(self): \n",
    "        self.a = \"KoZaK\"\n",
    "        self.__c = \"KoZaK\"\n",
    "  \n",
    "# Creating a derived class \n",
    "class Derived(Base): \n",
    "    def __init__(self): \n",
    "  \n",
    "        # Calling constructor of \n",
    "        # Base class \n",
    "        Base.__init__(self) \n",
    "        print(\"Calling private member of base class: \") \n",
    "        print(self.__c) \n",
    "  \n",
    "  \n",
    "# Driver code \n",
    "obj1 = Base() \n",
    "print(obj1.a) \n",
    "#print(obj1.c) \n",
    "  \n",
    "# Uncommenting print(obj1.c) will \n",
    "# raise an AttributeError \n",
    "  \n",
    "# Uncommenting obj2 = Derived() will \n",
    "# also raise an AttributeError as \n",
    "# private member of base class \n",
    "# is called inside derived class "
   ]
  },
  {
   "cell_type": "markdown",
   "metadata": {},
   "source": [
    "# Data Abstraction"
   ]
  },
  {
   "cell_type": "code",
   "execution_count": 20,
   "metadata": {},
   "outputs": [
    {
     "name": "stdout",
     "output_type": "stream",
     "text": [
      "You drive the car\n",
      "You ride the motorcycle\n",
      "This car is stopped\n",
      "This motorcycle is stopped\n"
     ]
    }
   ],
   "source": [
    "\n",
    "from abc import ABC, abstractmethod\n",
    "\n",
    "class Vehicle(ABC):\n",
    "\n",
    "    @abstractmethod\n",
    "    def go(self):\n",
    "        pass\n",
    "\n",
    "    @abstractmethod\n",
    "    def stop(self):\n",
    "        pass\n",
    "\n",
    "class Car(Vehicle):\n",
    "\n",
    "    def go(self):\n",
    "        print(\"You drive the car\")\n",
    "\n",
    "    def stop(self):\n",
    "        print(\"This car is stopped\")\n",
    "\n",
    "class Motorcycle(Vehicle):\n",
    "\n",
    "    def go(self):\n",
    "        print(\"You ride the motorcycle\")\n",
    "\n",
    "    def stop(self):\n",
    "        print(\"This motorcycle is stopped\")\n",
    "\n",
    "#vehicle = Vehicle()\n",
    "car = Car()\n",
    "motorcycle = Motorcycle()\n",
    "\n",
    "#vehicle.go()\n",
    "car.go()\n",
    "motorcycle.go()\n",
    "\n",
    "#vehicle.stop()\n",
    "car.stop()\n",
    "motorcycle.stop()"
   ]
  },
  {
   "cell_type": "markdown",
   "metadata": {},
   "source": [
    "# scope (local and Global)"
   ]
  },
  {
   "cell_type": "markdown",
   "metadata": {},
   "source": [
    "#### local"
   ]
  },
  {
   "cell_type": "code",
   "execution_count": 21,
   "metadata": {},
   "outputs": [
    {
     "name": "stdout",
     "output_type": "stream",
     "text": [
      "200\n",
      "300\n"
     ]
    }
   ],
   "source": [
    "x = 300\n",
    "\n",
    "def myfunc():\n",
    "  x = 200\n",
    "  print(x)\n",
    "\n",
    "myfunc()\n",
    "\n",
    "print(x)"
   ]
  },
  {
   "cell_type": "markdown",
   "metadata": {},
   "source": [
    "#### global"
   ]
  },
  {
   "cell_type": "code",
   "execution_count": 22,
   "metadata": {},
   "outputs": [
    {
     "name": "stdout",
     "output_type": "stream",
     "text": [
      "200\n"
     ]
    }
   ],
   "source": [
    "x = 300\n",
    "\n",
    "def myfunc():\n",
    "  global x\n",
    "  x = 200\n",
    "\n",
    "myfunc()\n",
    "\n",
    "print(x)"
   ]
  },
  {
   "cell_type": "markdown",
   "metadata": {},
   "source": [
    "# Modules"
   ]
  },
  {
   "cell_type": "code",
   "execution_count": 1,
   "metadata": {},
   "outputs": [
    {
     "name": "stdout",
     "output_type": "stream",
     "text": [
      "Linux\n",
      "['_Processor', '_WIN32_CLIENT_RELEASES', '_WIN32_SERVER_RELEASES', '__builtins__', '__cached__', '__copyright__', '__doc__', '__file__', '__loader__', '__name__', '__package__', '__spec__', '__version__', '_comparable_version', '_component_re', '_default_architecture', '_follow_symlinks', '_get_machine_win32', '_ironpython26_sys_version_parser', '_ironpython_sys_version_parser', '_java_getprop', '_libc_search', '_mac_ver_xml', '_node', '_norm_version', '_os_release_cache', '_os_release_candidates', '_os_release_line', '_os_release_unescape', '_parse_os_release', '_platform', '_platform_cache', '_pypy_sys_version_parser', '_sys_version', '_sys_version_cache', '_sys_version_parser', '_syscmd_file', '_syscmd_ver', '_uname_cache', '_unknown_as_blank', '_ver_output', '_ver_stages', 'architecture', 'collections', 'freedesktop_os_release', 'functools', 'itertools', 'java_ver', 'libc_ver', 'mac_ver', 'machine', 'node', 'os', 'platform', 'processor', 'python_branch', 'python_build', 'python_compiler', 'python_implementation', 'python_revision', 'python_version', 'python_version_tuple', 're', 'release', 'subprocess', 'sys', 'system', 'system_alias', 'uname', 'uname_result', 'version', 'win32_edition', 'win32_is_iot', 'win32_ver']\n",
      "KoZaK\n",
      "26\n",
      "India\n"
     ]
    }
   ],
   "source": [
    "import mymodule as mx   #created module\n",
    "import platform         #built in module\n",
    "\n",
    "x = platform.system()\n",
    "print(x)\n",
    "y=dir(platform)\n",
    "print(y)\n",
    "\n",
    "a = mx.person1[\"name\"]\n",
    "b = mx.person1[\"age\"]\n",
    "c = mx.person1[\"country\"]\n",
    "print(a)\n",
    "print(b)\n",
    "print(c)"
   ]
  },
  {
   "cell_type": "code",
   "execution_count": 2,
   "metadata": {},
   "outputs": [
    {
     "name": "stdout",
     "output_type": "stream",
     "text": [
      "KoZaK\n",
      "26\n",
      "India\n"
     ]
    }
   ],
   "source": [
    "from mymodule import person1\n",
    "\n",
    "print (person1[\"name\"])\n",
    "print (person1[\"age\"])\n",
    "print (person1[\"country\"])"
   ]
  },
  {
   "cell_type": "markdown",
   "metadata": {},
   "source": [
    "# Dates"
   ]
  },
  {
   "cell_type": "code",
   "execution_count": 9,
   "metadata": {},
   "outputs": [
    {
     "name": "stdout",
     "output_type": "stream",
     "text": [
      "2024-03-11 17:20:41.996576\n"
     ]
    }
   ],
   "source": [
    "import datetime\n",
    "x = datetime.datetime.now()\n",
    "print(x)"
   ]
  },
  {
   "cell_type": "code",
   "execution_count": 10,
   "metadata": {},
   "outputs": [
    {
     "name": "stdout",
     "output_type": "stream",
     "text": [
      "June\n"
     ]
    }
   ],
   "source": [
    "import datetime\n",
    "\n",
    "x = datetime.datetime(2018, 6, 1)\n",
    "\n",
    "print(x.strftime(\"%B\"))"
   ]
  },
  {
   "cell_type": "markdown",
   "metadata": {},
   "source": [
    "# Math"
   ]
  },
  {
   "cell_type": "code",
   "execution_count": 17,
   "metadata": {},
   "outputs": [
    {
     "name": "stdout",
     "output_type": "stream",
     "text": [
      "min: 5 \n",
      "max: 25 \n",
      "absolute: 7.25 \n",
      "power: 64 \n",
      "SquareRoot: 8.0 \n",
      "Rounds Upwards(ceiling): 1 \n",
      "Rounds Downwards(floor): 0 \n",
      "PI: 3.141592653589793\n"
     ]
    }
   ],
   "source": [
    "import math as m\n",
    "\n",
    "x = min(5, 10, 25)\n",
    "y = max(5, 10, 25)\n",
    "z = abs(-7.25)\n",
    "v = pow(4, 3)\n",
    "u = m.sqrt(64)\n",
    "a= m.ceil(0.4)\n",
    "b= m.floor(0.4)\n",
    "p= m.pi\n",
    "\n",
    "print(f\"min: {x} \\nmax: {y} \\nabsolute: {z} \\npower: {v} \\nSquareRoot: {u} \\nRounds Upwards(ceiling): {a} \\nRounds Downwards(floor): {b} \\nPI: {p}\")\n",
    "\n"
   ]
  }
 ],
 "metadata": {
  "kernelspec": {
   "display_name": "Python 3",
   "language": "python",
   "name": "python3"
  },
  "language_info": {
   "codemirror_mode": {
    "name": "ipython",
    "version": 3
   },
   "file_extension": ".py",
   "mimetype": "text/x-python",
   "name": "python",
   "nbconvert_exporter": "python",
   "pygments_lexer": "ipython3",
   "version": "3.10.12"
  }
 },
 "nbformat": 4,
 "nbformat_minor": 2
}
