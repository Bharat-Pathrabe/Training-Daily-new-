{
 "cells": [
  {
   "cell_type": "markdown",
   "id": "df035534",
   "metadata": {},
   "source": [
    "Create a Python class named ListManipulator with methods to perform operations on lists, such as:<br>\n",
    "Sorting a list in ascending order.<br>\n",
    "Reversing the elements of a list.<br>\n",
    "Checking if a list is empty.<br>\n",
    "Finding the maximum and minimum elements in a list.<br>\n",
    "Removing duplicates from a list"
   ]
  },
  {
   "cell_type": "code",
   "execution_count": 17,
   "id": "19f39b64",
   "metadata": {
    "scrolled": true
   },
   "outputs": [
    {
     "name": "stdout",
     "output_type": "stream",
     "text": [
      "----------::::: List Manipulator :::::----------\n",
      "Enter the list:4 1 6 4 1 6\n",
      "\n",
      "\n",
      "    1.Sort list in ascending order\n",
      "    2.Reverse the elements of list\n",
      "    3.Check is list Empty\n",
      "    4.Maximun and Minimum in list\n",
      "    5.Remove Duplicates\n",
      "    6.Exit the Manipulator\n",
      "    \n",
      "\n",
      "Enter your choice:5\n",
      "\n",
      "Orginal List: [4, 1, 6, 4, 1, 6]\n",
      "Removed all Duplicates: [4, 1, 6]\n",
      "\n",
      "\n",
      "    1.Sort list in ascending order\n",
      "    2.Reverse the elements of list\n",
      "    3.Check is list Empty\n",
      "    4.Maximun and Minimum in list\n",
      "    5.Remove Duplicates\n",
      "    6.Exit the Manipulator\n",
      "    \n",
      "\n",
      "Enter your choice:2\n",
      "\n",
      "Orginal List: [4, 1, 6, 4, 1, 6]\n",
      "Reversed List: [6, 1, 4]\n",
      "\n",
      "\n",
      "    1.Sort list in ascending order\n",
      "    2.Reverse the elements of list\n",
      "    3.Check is list Empty\n",
      "    4.Maximun and Minimum in list\n",
      "    5.Remove Duplicates\n",
      "    6.Exit the Manipulator\n",
      "    \n",
      "\n",
      "Enter your choice:3\n",
      "\n",
      "Orginal List: [4, 1, 6, 4, 1, 6]\n",
      "List is not Empty\n",
      "\n",
      "\n",
      "    1.Sort list in ascending order\n",
      "    2.Reverse the elements of list\n",
      "    3.Check is list Empty\n",
      "    4.Maximun and Minimum in list\n",
      "    5.Remove Duplicates\n",
      "    6.Exit the Manipulator\n",
      "    \n",
      "\n",
      "Enter your choice:4\n",
      "\n",
      "Orginal List: [4, 1, 6, 4, 1, 6]\n",
      "Maximun in list: 6 \n",
      "Minimum in list: 1\n",
      "\n",
      "\n",
      "    1.Sort list in ascending order\n",
      "    2.Reverse the elements of list\n",
      "    3.Check is list Empty\n",
      "    4.Maximun and Minimum in list\n",
      "    5.Remove Duplicates\n",
      "    6.Exit the Manipulator\n",
      "    \n",
      "\n",
      "Enter your choice:1\n",
      "\n",
      "Orginal List: [4, 1, 6, 4, 1, 6]\n",
      "Sorted List: [1, 4, 6]\n",
      "\n",
      "\n",
      "    1.Sort list in ascending order\n",
      "    2.Reverse the elements of list\n",
      "    3.Check is list Empty\n",
      "    4.Maximun and Minimum in list\n",
      "    5.Remove Duplicates\n",
      "    6.Exit the Manipulator\n",
      "    \n",
      "\n",
      "Enter your choice:6\n",
      "\n",
      "Orginal List: [4, 1, 6, 4, 1, 6]\n",
      "\n",
      "Exiting the Manipulator\n"
     ]
    }
   ],
   "source": [
    "class ListManipulator:\n",
    "    def __init__(self,original_list):\n",
    "        self.original_list = original_list\n",
    "        \n",
    "    def sort_list(self):\n",
    "        self.original_list.sort()\n",
    "        print(f\"Sorted List: {self.original_list}\")\n",
    "        \n",
    "    def reverse_list(self):\n",
    "        self.original_list.reverse()\n",
    "        print(f\"Reversed List: {self.original_list}\")\n",
    "        \n",
    "    def check_list(self):\n",
    "        if len(self.original_list) == 0:\n",
    "            print(\"List is Empty\")\n",
    "        else:\n",
    "            print(\"List is not Empty\")\n",
    "        \n",
    "    def max_min_list(self):\n",
    "        max_l = max(self.original_list)\n",
    "        min_l =min(self.original_list)\n",
    "        print(f\"Maximun in list: {max_l} \\nMinimum in list: {min_l}\")\n",
    "        \n",
    "    def remove_dup_list(self):\n",
    "        #self.original_list = set(self.original_list)\n",
    "        #self.original_list = list(self.original_list)\n",
    "        self.original_list = list(dict.fromkeys(self.original_list)) \n",
    "        print(f\"Removed all Duplicates: {self.original_list}\")\n",
    "\n",
    "print(\"----------::::: List Manipulator :::::----------\")\n",
    "original_list = [int(elements) for elements in input(\"Enter the list:\").split()]\n",
    "ob_LM = ListManipulator(original_list)\n",
    "while True:\n",
    "    print(\"\"\"\\n\n",
    "    1.Sort list in ascending order\n",
    "    2.Reverse the elements of list\n",
    "    3.Check is list Empty\n",
    "    4.Maximun and Minimum in list\n",
    "    5.Remove Duplicates\n",
    "    6.Exit the Manipulator\n",
    "    \"\"\")\n",
    "    choice = int(input(\"\\nEnter your choice:\"))\n",
    "    print(f\"\\nOrginal List: {original_list}\")\n",
    "    \n",
    "    if choice == 1:\n",
    "        ob_LM.sort_list()\n",
    "    elif choice == 2:\n",
    "        ob_LM.reverse_list()\n",
    "    elif choice == 3:\n",
    "        ob_LM.check_list()\n",
    "    elif choice == 4:\n",
    "        ob_LM.max_min_list()\n",
    "    elif choice == 5:\n",
    "        ob_LM.remove_dup_list()\n",
    "    elif choice == 6:\n",
    "        print(\"\\nExiting the Manipulator\")\n",
    "        break\n",
    "    else:    \n",
    "        print(\"Invalid Choice!! Please try again.\")"
   ]
  },
  {
   "cell_type": "markdown",
   "id": "37048301",
   "metadata": {},
   "source": [
    "Design a Python class called EmployeeManager with methods to manage employee information, including:<br>\n",
    "Adding a new employee.<br>\n",
    "Removing an existing employee.<br>\n",
    "Updating the details of an employee.<br>\n",
    "Searching for an employee.<br>\n",
    "Displaying the list of all employees.<br>"
   ]
  },
  {
   "cell_type": "code",
   "execution_count": 33,
   "id": "3ecb006b",
   "metadata": {
    "scrolled": true
   },
   "outputs": [
    {
     "name": "stdout",
     "output_type": "stream",
     "text": [
      "----------::::: Employee Manager :::::----------\n",
      "\n",
      "\n",
      "    1.Add Employee\n",
      "    2.Remove Employee\n",
      "    3.Update Employee\n",
      "    4.Search Employee \n",
      "    5.Display all Employees\n",
      "    6.Exit the Manager\n",
      "    \n",
      "\n",
      "Enter your choice:4\n",
      "Enter employee ID to search:1\n",
      "Employee not found\n",
      "\n",
      "\n",
      "    1.Add Employee\n",
      "    2.Remove Employee\n",
      "    3.Update Employee\n",
      "    4.Search Employee \n",
      "    5.Display all Employees\n",
      "    6.Exit the Manager\n",
      "    \n",
      "\n",
      "Enter your choice:1\n",
      "Enter employee ID: 1\n",
      "Enter employee name: kozak\n",
      "Enter employee occupation: q\n",
      "Enter employee salary: 1\n",
      "Employee added successfully.\n",
      "Do you want to add another employee? (yes/no): f\n",
      "\n",
      "\n",
      "    1.Add Employee\n",
      "    2.Remove Employee\n",
      "    3.Update Employee\n",
      "    4.Search Employee \n",
      "    5.Display all Employees\n",
      "    6.Exit the Manager\n",
      "    \n",
      "\n",
      "Enter your choice:5\n",
      "-----::: Employee List :::-----\n",
      "\n",
      "Employee ID: 1\n",
      "Name : kozak\n",
      "Occupation : q\n",
      "Salary : 1\n",
      "\n",
      "\n",
      "    1.Add Employee\n",
      "    2.Remove Employee\n",
      "    3.Update Employee\n",
      "    4.Search Employee \n",
      "    5.Display all Employees\n",
      "    6.Exit the Manager\n",
      "    \n",
      "\n",
      "Enter your choice:3\n",
      "Enter employee ID to update:1\n",
      "Enter employee name: Kozak\n",
      "Enter employee occupation: Engg\n",
      "Enter employee salary: 15\n",
      "Employee updated successfully.\n",
      "\n",
      "\n",
      "    1.Add Employee\n",
      "    2.Remove Employee\n",
      "    3.Update Employee\n",
      "    4.Search Employee \n",
      "    5.Display all Employees\n",
      "    6.Exit the Manager\n",
      "    \n",
      "\n",
      "Enter your choice:4\n",
      "Enter employee ID to search:1\n",
      "Employee ID: 1\n",
      "Name : Kozak\n",
      "Occupation : Engg\n",
      "Salary : 15\n",
      "\n",
      "\n",
      "    1.Add Employee\n",
      "    2.Remove Employee\n",
      "    3.Update Employee\n",
      "    4.Search Employee \n",
      "    5.Display all Employees\n",
      "    6.Exit the Manager\n",
      "    \n",
      "\n",
      "Enter your choice:2\n",
      "Enter employee ID to remove:1\n",
      "Employee Removed Successfully.\n",
      "\n",
      "\n",
      "    1.Add Employee\n",
      "    2.Remove Employee\n",
      "    3.Update Employee\n",
      "    4.Search Employee \n",
      "    5.Display all Employees\n",
      "    6.Exit the Manager\n",
      "    \n",
      "\n",
      "Enter your choice:4\n",
      "Enter employee ID to search:1\n",
      "Employee not found\n",
      "\n",
      "\n",
      "    1.Add Employee\n",
      "    2.Remove Employee\n",
      "    3.Update Employee\n",
      "    4.Search Employee \n",
      "    5.Display all Employees\n",
      "    6.Exit the Manager\n",
      "    \n",
      "\n",
      "Enter your choice:5\n",
      "-----::: Employee List :::-----\n",
      "\n",
      "\n",
      "    1.Add Employee\n",
      "    2.Remove Employee\n",
      "    3.Update Employee\n",
      "    4.Search Employee \n",
      "    5.Display all Employees\n",
      "    6.Exit the Manager\n",
      "    \n",
      "\n",
      "Enter your choice:6\n",
      "\n",
      "Exiting the Manager\n"
     ]
    }
   ],
   "source": [
    "class EmployeeManager:\n",
    "    def __init__(self,original_dict):\n",
    "        self.original_dict = original_dict\n",
    "        \n",
    "    def add_emp(self):\n",
    "        while True:\n",
    "            id = input(\"Enter employee ID: \")\n",
    "            name = input(\"Enter employee name: \")\n",
    "            occupation = input(\"Enter employee occupation: \")\n",
    "            salary = int(input(\"Enter employee salary: \"))\n",
    "            self.original_dict[id] = {\"Name\": name, \"Occupation\": occupation, \"Salary\": salary}\n",
    "            print(\"Employee added successfully.\")\n",
    "            choice = input(\"Do you want to add another employee? (yes/no): \")\n",
    "            if choice.lower() != 'yes':\n",
    "                break\n",
    "                \n",
    "    def remove_emp(self):\n",
    "        emp_id = input(\"Enter employee ID to remove:\")\n",
    "        del self.original_dict[emp_id]\n",
    "        print(\"Employee Removed Successfully.\")\n",
    "    \n",
    "    def update_emp(self):\n",
    "        emp_id = input(\"Enter employee ID to update:\")\n",
    "        name = input(\"Enter employee name: \")\n",
    "        occupation = input(\"Enter employee occupation: \")\n",
    "        salary = int(input(\"Enter employee salary: \"))\n",
    "        self.original_dict[emp_id] = {\"Name\": name, \"Occupation\": occupation, \"Salary\": salary}\n",
    "        print(\"Employee updated successfully.\")\n",
    "        \n",
    "    def search_emp(self):\n",
    "        emp_id = input(\"Enter employee ID to search:\")\n",
    "        for key,details in self.original_dict.items():\n",
    "            if emp_id == key:\n",
    "                print(f\"Employee ID: {key}\")\n",
    "                for details_key,details_value in details.items():\n",
    "                    print(f\"{details_key} : {details_value}\")\n",
    "                return\n",
    "        else:\n",
    "            print(\"Employee not found\")\n",
    "        \n",
    "    def display_all_emp(self):\n",
    "        print(\"-----::: Employee List :::-----\")\n",
    "        for key, details in self.original_dict.items():\n",
    "            print(f\"\\nEmployee ID: {key}\")\n",
    "            for details_key,details_value in details.items():\n",
    "                print(f\"{details_key} : {details_value}\")\n",
    "                \n",
    "\n",
    "print(\"----------::::: Employee Manager :::::----------\")\n",
    "original_dict = {}\n",
    "ob_EM = EmployeeManager(original_dict)\n",
    "while True:\n",
    "    print(\"\"\"\\n\n",
    "    1.Add Employee\n",
    "    2.Remove Employee\n",
    "    3.Update Employee\n",
    "    4.Search Employee \n",
    "    5.Display all Employees\n",
    "    6.Exit the Manager\n",
    "    \"\"\")\n",
    "    choice = int(input(\"\\nEnter your choice:\"))\n",
    "    \n",
    "    if choice == 1:\n",
    "        ob_EM.add_emp()\n",
    "    elif choice == 2:\n",
    "        ob_EM.remove_emp()\n",
    "    elif choice == 3:\n",
    "        ob_EM.update_emp()\n",
    "    elif choice == 4:\n",
    "        ob_EM.search_emp()\n",
    "    elif choice == 5:\n",
    "        ob_EM.display_all_emp()\n",
    "    elif choice == 6:\n",
    "        print(\"\\nExiting the Manager\")\n",
    "        break\n",
    "    else:    \n",
    "        print(\"Invalid Choice!! Please try again.\")"
   ]
  },
  {
   "cell_type": "markdown",
   "id": "259af09e",
   "metadata": {},
   "source": [
    "Write a Python function that takes a list of integers and returns a dictionary where the keys are the numbers themselves and the values are their frequencies in the list.<br>\n",
    "\n",
    "Example:<br>\n",
    "Input: [1, 2, 3, 1, 2, 1, 3, 4, 5]<br>\n",
    "Output: {1: 3, 2: 2, 3: 2, 4: 1, 5: 1}"
   ]
  },
  {
   "cell_type": "code",
   "execution_count": 35,
   "id": "999752cc",
   "metadata": {},
   "outputs": [
    {
     "name": "stdout",
     "output_type": "stream",
     "text": [
      "Enter list:4 1 6 2 3 4 1 6\n",
      "Original List: [4, 1, 6, 2, 3, 4, 1, 6] \n",
      "Element Frequency: {4: 2, 1: 2, 6: 2, 2: 1, 3: 1}\n"
     ]
    }
   ],
   "source": [
    "def freq(original_list):\n",
    "    freq_dict= {}\n",
    "    for element in original_list:\n",
    "        if element in freq_dict:\n",
    "            freq_dict[element] += 1\n",
    "        else:\n",
    "            freq_dict[element] = 1\n",
    "    return freq_dict\n",
    "\n",
    "original_list = [int(element) for element in input(\"Enter list: \").split()]\n",
    "freq_dict = freq(original_list)\n",
    "print(f\"Original List: {original_list} \\nElement Frequency: {freq_dict}\")"
   ]
  },
  {
   "cell_type": "markdown",
   "id": "6256b411",
   "metadata": {},
   "source": [
    "Write a Python function that takes a list of tuples representing (student name, score) pairs and returns a dictionary where the keys are the student names and the values are their average scores.\n",
    "<br>\n",
    "Example:<br>\n",
    "Input: [('John', 85), ('Alice', 90), ('Bob', 75), ('Alice', 95)]<br>\n",
    "Output: {'John': 85.0, 'Alice': 92.5, 'Bob': 75.0}"
   ]
  },
  {
   "cell_type": "code",
   "execution_count": 55,
   "id": "33331a7c",
   "metadata": {
    "scrolled": true
   },
   "outputs": [
    {
     "name": "stdout",
     "output_type": "stream",
     "text": [
      "sample List: [('John', 85), ('Alice', 90), ('Bob', 75), ('Alice', 95)] \n",
      "Student Avg: {'John': 85.0, 'Alice': 92.5, 'Bob': 75.0}\n"
     ]
    }
   ],
   "source": [
    "def student_avg(sample_list):\n",
    "    stu_dict = {}\n",
    "    for element in sample_list:\n",
    "        if element[0] in stu_dict:\n",
    "            stu_dict[element[0]].append(element[1])\n",
    "        else:\n",
    "            stu_dict[element[0]] = [element[1]]\n",
    "    for key,value in stu_dict.items():\n",
    "        stu_dict[key] = sum(value)/len(value)\n",
    "    return stu_dict\n",
    "\n",
    "sample_list = [('John', 85), ('Alice', 90), ('Bob', 75), ('Alice', 95)]\n",
    "stu_dict = student_avg(sample_list)\n",
    "print(f\"sample List: {sample_list} \\nStudent Avg: {stu_dict}\")"
   ]
  },
  {
   "cell_type": "markdown",
   "id": "1e51919a",
   "metadata": {},
   "source": [
    "Write a Python function that takes a list of strings and returns a dictionary where the keys are the initial letters of the strings and the values are lists containing words starting with that letter.\n",
    "<br>\n",
    "Example:<br>\n",
    "Input: ['apple', 'banana', 'pear', 'kiwi', 'orange']<br>\n",
    "Output: {'a': ['apple'], 'b': ['banana'], 'p': ['pear'], 'k': ['kiwi'], 'o': ['orange']}"
   ]
  },
  {
   "cell_type": "code",
   "execution_count": 59,
   "id": "11e38221",
   "metadata": {},
   "outputs": [
    {
     "name": "stdout",
     "output_type": "stream",
     "text": [
      "Enter words sep by spaces: apple banana\n",
      "Orginal List: ['apple', 'banana'] \n",
      "Initials of Each Word: {'a': ['apple'], 'b': ['banana']}\n"
     ]
    }
   ],
   "source": [
    "def initial_letters(original_list):\n",
    "    initial_dict = {}\n",
    "    for element in original_list:\n",
    "        initial_dict[element[0]] = [element]\n",
    "    return initial_dict\n",
    "\n",
    "original_list = [element for element in input(\"Enter words sep by spaces: \").split()]\n",
    "initial_dict=initial_letters(original_list)\n",
    "print(f\"Orginal List: {original_list} \\nInitials of Each Word: {initial_dict}\")"
   ]
  },
  {
   "cell_type": "markdown",
   "id": "52175e77",
   "metadata": {},
   "source": [
    "Write a Python function that takes a list of numbers and returns a dictionary where the keys are the numbers themselves and the values are True if the number is even and False otherwise.\n",
    "<br>\n",
    "Example:<br>\n",
    "Input: [1, 2, 3, 4, 5, 6, 7, 8, 9, 10]<br>\n",
    "Output: {1: False, 2: True, 3: False, 4: True, 5: False, 6: True, 7: False, 8: True, 9: False, 10: True}"
   ]
  },
  {
   "cell_type": "code",
   "execution_count": 60,
   "id": "e43251b5",
   "metadata": {},
   "outputs": [
    {
     "name": "stdout",
     "output_type": "stream",
     "text": [
      "Enter list:1 2 3 4 5 6 7 8 9 10\n",
      "Original List: [1, 2, 3, 4, 5, 6, 7, 8, 9, 10] \n",
      "Processed Dict: {1: False, 2: True, 3: False, 4: True, 5: False, 6: True, 7: False, 8: True, 9: False, 10: True}\n"
     ]
    }
   ],
   "source": [
    "def true_false(original_list):\n",
    "    dict1 = {}\n",
    "    for element in original_list:\n",
    "        if element % 2 == 0:\n",
    "            dict1[element] = True\n",
    "        else:\n",
    "            dict1[element] = False\n",
    "    return dict1\n",
    "\n",
    "original_list = [int(element) for element in input(\"Enter list:\").split()]\n",
    "dict1 = true_false(original_list)\n",
    "print(f\"Original List: {original_list} \\nProcessed Dict: {dict1}\")"
   ]
  },
  {
   "cell_type": "markdown",
   "id": "ac8caf45",
   "metadata": {},
   "source": [
    "Write a Python function that takes a list of strings and returns a dictionary where the keys are the lengths of the strings and the values are lists containing strings of that length.\n",
    "Example:<br>\n",
    "Input: ['apple', 'banana', 'pear', 'kiwi', 'orange']<br>\n",
    "Output: {5: ['apple', 'pear'], 6: ['banana', 'orange'], 4: ['kiwi']}"
   ]
  },
  {
   "cell_type": "code",
   "execution_count": 62,
   "id": "ea3072f7",
   "metadata": {},
   "outputs": [
    {
     "name": "stdout",
     "output_type": "stream",
     "text": [
      "Enter list:apple banana pear kiwi orange\n",
      "Original List: ['apple', 'banana', 'pear', 'kiwi', 'orange'] \n",
      "Proccessed Dict: {5: ['apple'], 6: ['banana', 'orange'], 4: ['pear', 'kiwi']}\n"
     ]
    }
   ],
   "source": [
    "def lenght_of_words(original_list):\n",
    "    len_dict = {}\n",
    "    for element in original_list:\n",
    "        len_ele = len(element)\n",
    "        if len_ele in len_dict:\n",
    "            len_dict[len_ele].append(element)\n",
    "        else:\n",
    "            len_dict[len_ele] = [element]\n",
    "    return len_dict\n",
    "\n",
    "original_list = [element for element in input(\"Enter list:\").split()]\n",
    "lenght_word = lenght_of_words(original_list)\n",
    "print(f\"Original List: {original_list} \\nProccessed Dict: {lenght_word}\")"
   ]
  },
  {
   "cell_type": "markdown",
   "id": "d5672414",
   "metadata": {},
   "source": [
    "Write a Python function that takes a list of integers and returns a dictionary where the keys are the integers themselves and the values are lists containing their factors.\n",
    "<br>\n",
    "Example:<br>\n",
    "Input: [6, 8, 12, 15]<br>\n",
    "Output: {6: [1, 2, 3, 6], 8: [1, 2, 4, 8], 12: [1, 2, 3, 4, 6, 12], 15: [1, 3, 5, 15]}"
   ]
  },
  {
   "cell_type": "code",
   "execution_count": 65,
   "id": "74acf285",
   "metadata": {},
   "outputs": [
    {
     "name": "stdout",
     "output_type": "stream",
     "text": [
      "Enter list:6 8 12 15\n",
      "Original List: [6, 8, 12, 15] \n",
      "Factor Dictionary: {6: [1, 2, 3, 6], 8: [1, 2, 4, 8], 12: [1, 2, 3, 4, 6, 12], 15: [1, 3, 5, 15]}\n"
     ]
    }
   ],
   "source": [
    "def fact_list(original_list):\n",
    "    dict1 = {}\n",
    "    for element in original_list:\n",
    "        for i in range(1,element + 1):\n",
    "            if element % i == 0:\n",
    "                if element in dict1:\n",
    "                    dict1[element].append(i)\n",
    "                else:\n",
    "                    dict1[element] = [i]\n",
    "    return dict1\n",
    "\n",
    "original_list = [int(element) for element in input(\"Enter list:\").split()]\n",
    "dict1 = fact_list(original_list)\n",
    "print(f\"Original List: {original_list} \\nFactor Dictionary: {dict1}\")"
   ]
  },
  {
   "cell_type": "markdown",
   "id": "20d8969b",
   "metadata": {},
   "source": [
    "Write a Python function that takes a list of strings and returns a dictionary where the keys are the strings themselves and the values are the counts of vowels in each string.\n",
    "<br>\n",
    "Example:<br>\n",
    "Input: ['hello', 'world', 'python', 'programming']<br>\n",
    "Output: {'hello': 2, 'world': 1, 'python': 1, 'programming': 3}"
   ]
  },
  {
   "cell_type": "code",
   "execution_count": 68,
   "id": "e4e1a9e9",
   "metadata": {},
   "outputs": [
    {
     "name": "stdout",
     "output_type": "stream",
     "text": [
      "Enter words: hello world python programming\n",
      "Original List: ['hello', 'world', 'python', 'programming'] \n",
      "Vowel Dictionary: {'hello': 2, 'world': 1, 'python': 1, 'programming': 3}\n"
     ]
    }
   ],
   "source": [
    "def vowels(o_list):\n",
    "    v_dict = {}\n",
    "    vowel = \"aeiou\"\n",
    "    for word in o_list:\n",
    "        v_dict[word] = 0\n",
    "        for char in word:\n",
    "            if char in vowel:\n",
    "                v_dict[word] += 1\n",
    "    return v_dict\n",
    "\n",
    "o_list = [word for word in input(\"Enter words: \").split()]\n",
    "v_dict = vowels(o_list)\n",
    "print(f\"Original List: {o_list} \\nVowel Dictionary: {v_dict}\")        "
   ]
  },
  {
   "cell_type": "markdown",
   "id": "0093c0c1",
   "metadata": {},
   "source": [
    "Write a Python function that takes a list of tuples representing (country, population) pairs and returns a dictionary where the keys are the countries and the values are their populations, but the populations are formatted with commas for thousands separation.\n",
    "<br>\n",
    "Example:<br>\n",
    "Input: [('USA', 328239523), ('China', 1439323776), ('India', 1380004385)]<br>\n",
    "Output: {'USA': '328,239,523', 'China': '1,439,323,776', 'India': '1,380,004,385'}"
   ]
  },
  {
   "cell_type": "code",
   "execution_count": 82,
   "id": "c5ab174c",
   "metadata": {},
   "outputs": [
    {
     "name": "stdout",
     "output_type": "stream",
     "text": [
      "Enter country and population separated by ',' (Press enter to finish):USA,564357463\n",
      "Enter country and population separated by ',' (Press enter to finish):\n",
      "Original List: [('USA', 564357463)] \n",
      "Index list: {'USA': '564,357,463'}\n"
     ]
    }
   ],
   "source": [
    "def input_user():\n",
    "    input_list = []\n",
    "    while True:\n",
    "        input_u = input(\"Enter country and population separated by ',' (Press enter to finish):\")\n",
    "        if not input_u:\n",
    "            break\n",
    "        country,population = input_u.split(',')\n",
    "        input_list.append((country.strip(),int(population.strip())))\n",
    "    return input_list\n",
    "\n",
    "def format_pop(popu):\n",
    "    return \"{:,}\".format(popu)\n",
    "\n",
    "def formatted(olist):\n",
    "    sdict = {}\n",
    "    for country,popu in olist:\n",
    "            sdict[country] = format_pop(popu)\n",
    "    return sdict\n",
    "\n",
    "olist = input_user()\n",
    "sdict = formatted(olist)\n",
    "print(f\"Original List: {olist} \\nIndex list: {sdict}\")"
   ]
  },
  {
   "cell_type": "markdown",
   "id": "141e6cbb",
   "metadata": {},
   "source": [
    "Write a Python function that takes a list of strings and returns a dictionary where the keys are the strings themselves and the values are lists containing the indices where each string appears in the list.\n",
    "<br>\n",
    "Example:<br>\n",
    "Input: ['apple', 'banana', 'apple', 'kiwi', 'orange', 'banana']<br>\n",
    "Output: {'apple': [0, 2], 'banana': [1, 5], 'kiwi': [3], 'orange': [4]}"
   ]
  },
  {
   "cell_type": "code",
   "execution_count": 70,
   "id": "c7b80f57",
   "metadata": {},
   "outputs": [
    {
     "name": "stdout",
     "output_type": "stream",
     "text": [
      "Enter words:apple banana apple kiwi orange banana\n",
      "Original List: ['apple', 'banana', 'apple', 'kiwi', 'orange', 'banana'] \n",
      "Index list: {'apple': [0, 2], 'banana': [1, 5], 'kiwi': [3], 'orange': [4]}\n"
     ]
    }
   ],
   "source": [
    "def appear(olist):\n",
    "    adict = {}\n",
    "    index = 0\n",
    "    for word in olist:\n",
    "        if word in adict:\n",
    "            adict[word].append(index)\n",
    "        else:\n",
    "            adict[word] = [index]\n",
    "        index += 1\n",
    "    return adict\n",
    "\n",
    "olist = [word for word in input(\"Enter words:\").split()]\n",
    "adict = appear(olist)\n",
    "print(f\"Original List: {olist} \\nIndex list: {adict}\")"
   ]
  },
  {
   "cell_type": "markdown",
   "id": "ef8f4c8d",
   "metadata": {},
   "source": [
    "Write a Python function that takes a list of strings and returns a dictionary where the keys are the strings themselves and the values are lists containing the indices of the characters in each string.\n",
    "<br>\n",
    "Example:<br>\n",
    "Input: ['apple', 'banana', 'kiwi']<br>\n",
    "Output: {'apple': [0, 1, 2, 3, 4], 'banana': [0, 1, 2, 3, 4, 5], 'kiwi': [0, 1, 2, 3]}"
   ]
  },
  {
   "cell_type": "code",
   "execution_count": 69,
   "id": "f8ef5162",
   "metadata": {},
   "outputs": [
    {
     "name": "stdout",
     "output_type": "stream",
     "text": [
      "Enter words:apple banana kiwi\n",
      "Original List: ['apple', 'banana', 'kiwi'] \n",
      "Index list: {'apple': [0, 1, 2, 3, 4], 'banana': [0, 1, 2, 3, 4, 5], 'kiwi': [0, 1, 2, 3]}\n"
     ]
    }
   ],
   "source": [
    "def indices(olist):\n",
    "    idict = {}\n",
    "    for word in olist:\n",
    "        idict[word] = []\n",
    "        for i in range(len(word)):\n",
    "            idict[word].append(i)\n",
    "    return idict\n",
    "\n",
    "olist = [word for word in input(\"Enter words:\").split()]\n",
    "idict = indices(olist)\n",
    "print(f\"Original List: {olist} \\nIndex list: {idict}\")"
   ]
  },
  {
   "cell_type": "markdown",
   "id": "2e044491",
   "metadata": {},
   "source": [
    "Web Scraping:\n",
    "Write a Python program to scrape the title of all articles from the front page of a news website using BeautifulSoup.\n",
    "\n",
    "Data Structures:\n",
    "Implement a stack data structure in Python using a list. Include methods for push, pop, and peek.\n",
    "\n",
    "Concurrency:\n",
    "Write a Python program that uses threading to download multiple files concurrently from a list of URLs."
   ]
  },
  {
   "cell_type": "markdown",
   "id": "b950d334",
   "metadata": {},
   "source": [
    "Write a Python function that takes a list of strings and returns a new list containing only the strings that start with a vowel.\n",
    "<br>\n",
    "Example:<br>\n",
    "Input: ['apple', 'banana', 'kiwi', 'orange', 'pear']<br>\n",
    "Output: ['apple', 'orange']"
   ]
  },
  {
   "cell_type": "code",
   "execution_count": 86,
   "id": "fd068ea7",
   "metadata": {},
   "outputs": [
    {
     "name": "stdout",
     "output_type": "stream",
     "text": [
      "Enter words: apple banana kiwi orange pear\n",
      "Original List: ['apple', 'banana', 'kiwi', 'orange', 'pear'] \n",
      "Vowel list: ['apple', 'orange']\n"
     ]
    }
   ],
   "source": [
    "def vowel_start(olist):\n",
    "    elist = []\n",
    "    vowels=\"aeiou\"\n",
    "    for word in olist:\n",
    "        if word[0] in vowels:\n",
    "            elist.append(word)\n",
    "    return elist\n",
    "\n",
    "olist = [word for word in input(\"Enter words: \").split()]\n",
    "elist = vowel_start(olist)\n",
    "print(f\"Original List: {olist} \\nVowel list: {elist}\")"
   ]
  },
  {
   "cell_type": "markdown",
   "id": "0db8eb0a",
   "metadata": {},
   "source": [
    "Write a Python program to count the number of lines in a text file."
   ]
  },
  {
   "cell_type": "code",
   "execution_count": 89,
   "id": "e1f0af49",
   "metadata": {},
   "outputs": [
    {
     "name": "stdout",
     "output_type": "stream",
     "text": [
      "Enter the filename: f.txt\n",
      "Number of lines: 6\n"
     ]
    }
   ],
   "source": [
    "filename = input(\"Enter the filename: \")\n",
    "file = open (filename,\"r\")\n",
    "count = 0\n",
    "for line in file:\n",
    "    count += 1\n",
    "file.close()\n",
    "print(f\"Number of lines: {count}\")"
   ]
  },
  {
   "cell_type": "markdown",
   "id": "f86877b0",
   "metadata": {},
   "source": [
    "Write a Python function to divide two numbers. Handle the ZeroDivisionError exception and return \"Infinity\" if the denominator is 0."
   ]
  },
  {
   "cell_type": "code",
   "execution_count": 97,
   "id": "2d6cd4a3",
   "metadata": {},
   "outputs": [
    {
     "name": "stdout",
     "output_type": "stream",
     "text": [
      "Enter value of a: 5\n",
      "Enter value of b: 0\n",
      "Division: Infinity\n"
     ]
    }
   ],
   "source": [
    "def divide(a,b):\n",
    "    try:\n",
    "        c = a / b\n",
    "        return c\n",
    "        \n",
    "    except ZeroDivisionError :\n",
    "        return \"Infinity\"\n",
    "    \n",
    "a = int(input(\"Enter value of a: \"))\n",
    "b = int(input(\"Enter value of b: \"))\n",
    "print(f\"Division: {divide(a,b)}\")"
   ]
  },
  {
   "cell_type": "markdown",
   "id": "68444809",
   "metadata": {},
   "source": [
    "Write a recursive Python function to calculate the factorial of a non-negative integer."
   ]
  },
  {
   "cell_type": "code",
   "execution_count": 98,
   "id": "f2ebd1a4",
   "metadata": {},
   "outputs": [
    {
     "name": "stdout",
     "output_type": "stream",
     "text": [
      "Enter number for factorial:5\n",
      "Factorial: 120\n"
     ]
    }
   ],
   "source": [
    "def fact_recur(n):\n",
    "    if n == 0:\n",
    "        return 1\n",
    "    fact = n * fact_recur(n-1)\n",
    "    return fact\n",
    "\n",
    "n = int(input(\"Enter number for factorial:\"))\n",
    "print(f\"Factorial: {fact_recur(n)}\")"
   ]
  },
  {
   "cell_type": "markdown",
   "id": "b9611d19",
   "metadata": {},
   "source": [
    "Create a Python class representing a Rectangle. Include methods to calculate its area and perimeter. Also, include methods to set and get its width and height."
   ]
  },
  {
   "cell_type": "code",
   "execution_count": 102,
   "id": "690cc924",
   "metadata": {
    "scrolled": true
   },
   "outputs": [
    {
     "name": "stdout",
     "output_type": "stream",
     "text": [
      "Enter width:5\n",
      "Enter Height:5\n",
      "\n",
      "Rectangle:\n",
      "\n",
      "    1.Width: 5\n",
      "    2.Height: 5\n",
      "    3.Area: 25\n",
      "    4.Perimeter: 20\n",
      "\n",
      "\n",
      "Rectangle:\n",
      "\n",
      "    1.Width: 8\n",
      "    2.Height: 4\n",
      "    3.Area: 32\n",
      "    4.Perimeter: 24\n",
      "\n"
     ]
    }
   ],
   "source": [
    "class Rectangle:\n",
    "    def __init__(self, width, height):\n",
    "        self.width = width\n",
    "        self.height = height\n",
    "\n",
    "    def set_width(self, width):\n",
    "        self.width = width\n",
    "\n",
    "    def set_height(self, height):\n",
    "        self.height = height\n",
    "\n",
    "    def get_width(self):\n",
    "        return self.width\n",
    "\n",
    "    def get_height(self):\n",
    "        return self.height\n",
    "\n",
    "    def calculate_area(self):\n",
    "        return self.width * self.height\n",
    "\n",
    "    def calculate_perimeter(self):\n",
    "        return 2 * (self.width + self.height)\n",
    "\n",
    "width = int(input(\"Enter width:\")) \n",
    "height = int(input(\"Enter Height:\"))\n",
    "rectangle = Rectangle(width,height)\n",
    "print(f\"\"\"\n",
    "Rectangle:\n",
    "\n",
    "    1.Width: {rectangle.get_width()}\n",
    "    2.Height: {rectangle.get_height()}\n",
    "    3.Area: {rectangle.calculate_area()}\n",
    "    4.Perimeter: {rectangle.calculate_perimeter()}\n",
    "\"\"\")\n",
    "rectangle.set_width(8)\n",
    "rectangle.set_height(4)\n",
    "print(f\"\"\"\n",
    "Rectangle:\n",
    "\n",
    "    1.Width: {rectangle.get_width()}\n",
    "    2.Height: {rectangle.get_height()}\n",
    "    3.Area: {rectangle.calculate_area()}\n",
    "    4.Perimeter: {rectangle.calculate_perimeter()}\n",
    "\"\"\")"
   ]
  },
  {
   "cell_type": "markdown",
   "id": "b4cb097a",
   "metadata": {},
   "source": [
    "Write a Python program to extract all email addresses from a given text using regular expressions."
   ]
  },
  {
   "cell_type": "code",
   "execution_count": 110,
   "id": "9ef69242",
   "metadata": {},
   "outputs": [
    {
     "name": "stdout",
     "output_type": "stream",
     "text": [
      "Enter text:This is a sample text with email addresses like example@email.com, john.doe@example.com, and alice123@example.domain. Please contact me at support@company.com if you have any questions.\n",
      "['example@email.com', 'john.doe@example.com', 'alice123@example.domain', 'support@company.com']\n"
     ]
    }
   ],
   "source": [
    "import re\n",
    "\n",
    "def email_extracter(text):\n",
    "    emails = re.findall(r'\\b[A-Za-z0-9._%+-]+@[A-Za-z0-9.-]+\\.[A-Z|a-z]{2,}\\b',text)\n",
    "    return emails\n",
    "    \n",
    "text = input(\"Enter text:\")\n",
    "emails = email_extracter(text)\n",
    "print(emails)"
   ]
  },
  {
   "cell_type": "markdown",
   "id": "0eeb2142",
   "metadata": {},
   "source": [
    "Sorting and Lambda Functions:\n",
    "Write a Python program to sort a list of tuples based on the second element of each tuple in descending order."
   ]
  },
  {
   "cell_type": "code",
   "execution_count": 107,
   "id": "280d7ea7",
   "metadata": {},
   "outputs": [
    {
     "name": "stdout",
     "output_type": "stream",
     "text": [
      "Enter tuple separated by comma (press enter to stop): m,1\n",
      "Enter tuple separated by comma (press enter to stop): j,9\n",
      "Enter tuple separated by comma (press enter to stop): h,5\n",
      "Enter tuple separated by comma (press enter to stop): f,3\n",
      "Enter tuple separated by comma (press enter to stop): d,7\n",
      "Enter tuple separated by comma (press enter to stop): \n",
      "Sorted list: [('j', 9), ('d', 7), ('h', 5), ('f', 3), ('m', 1)]\n"
     ]
    }
   ],
   "source": [
    "def inputtuple():\n",
    "    tlist = []\n",
    "    while True:\n",
    "        tinput = input(\"Enter tuple separated by comma (press enter to stop): \")\n",
    "        if not tinput:\n",
    "            break\n",
    "        f_element, s_element = tinput.split(',')\n",
    "        tlist.append((f_element.strip(), int(s_element.strip()))) \n",
    "    return tlist\n",
    "\n",
    "def sortted(tlist):\n",
    "\n",
    "    sorted_list = sorted(tlist, key=lambda x: x[1], reverse=True)\n",
    "    return sorted_list\n",
    "\n",
    "tlist = inputtuple()\n",
    "sort = sortted(tlist)\n",
    "print(f\"Sorted list: {sort}\")"
   ]
  }
 ],
 "metadata": {
  "kernelspec": {
   "display_name": "Python 3 (ipykernel)",
   "language": "python",
   "name": "python3"
  },
  "language_info": {
   "codemirror_mode": {
    "name": "ipython",
    "version": 3
   },
   "file_extension": ".py",
   "mimetype": "text/x-python",
   "name": "python",
   "nbconvert_exporter": "python",
   "pygments_lexer": "ipython3",
   "version": "3.9.12"
  }
 },
 "nbformat": 4,
 "nbformat_minor": 5
}
