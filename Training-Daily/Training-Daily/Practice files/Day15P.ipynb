{
 "cells": [
  {
   "cell_type": "markdown",
   "id": "1037762d",
   "metadata": {},
   "source": [
    "# Udemy"
   ]
  },
  {
   "cell_type": "markdown",
   "id": "b4967bd9",
   "metadata": {},
   "source": [
    "# Flow Control in Python"
   ]
  },
  {
   "cell_type": "markdown",
   "id": "1d46bfb3",
   "metadata": {},
   "source": [
    "##### IF statement "
   ]
  },
  {
   "cell_type": "code",
   "execution_count": 12,
   "id": "245e8ea4",
   "metadata": {},
   "outputs": [
    {
     "name": "stdout",
     "output_type": "stream",
     "text": [
      "Sorry! jedi kozak, you died in return if the jedi\n"
     ]
    }
   ],
   "source": [
    "name=input(\"Your name: \")\n",
    "age=int(input(\"How old are you {name}: \"))\n",
    "# if is a function to check a condition or expression and have a block of code inside it\n",
    "if age == 900:\n",
    "    print(f\"Sorry! jedi {name}, you died in return if the jedi\")\n",
    "# if you have multiple conditions to check\n",
    "elif age>=18:\n",
    "    print(\"You are old enough to vote!!\")\n",
    "# else statement is executed if the if function/statement condition turns out to be false\n",
    "else:\n",
    "    print(f\"please comeback in {18-age} years.\")"
   ]
  },
  {
   "cell_type": "code",
   "execution_count": 18,
   "id": "7f22c7e3",
   "metadata": {},
   "outputs": [
    {
     "name": "stdout",
     "output_type": "stream",
     "text": [
      "Please guess the number between 1 and 10:\n",
      "Please guess lower\n"
     ]
    }
   ],
   "source": [
    "#Guessing game using if else statement\n",
    "#answer is pre defined \n",
    "ans= 5\n",
    "print(\"Please guess the number between 1 and 10:\")\n",
    "guess=int(input())\n",
    "\n",
    "if guess < ans:\n",
    "    print(\"Please guess higher\")\n",
    "elif guess > ans:\n",
    "    print(\"Please guess lower\")\n",
    "else:\n",
    "    print(\"You got it first time\")"
   ]
  },
  {
   "cell_type": "code",
   "execution_count": 19,
   "id": "402dda64",
   "metadata": {},
   "outputs": [
    {
     "name": "stdout",
     "output_type": "stream",
     "text": [
      "The trees are different\n"
     ]
    }
   ],
   "source": [
    "tree1 = \"Banyan\"\n",
    "tree2 = \"Oak\"\n",
    "\n",
    "if tree1==tree2:\n",
    "    print(\"The trees are the same\")\n",
    "else:\n",
    "    print(\"The trees are different\")"
   ]
  },
  {
   "cell_type": "code",
   "execution_count": 29,
   "id": "11a700b4",
   "metadata": {},
   "outputs": [
    {
     "name": "stdout",
     "output_type": "stream",
     "text": [
      "Please guess the number between 1 and 10:\n",
      "Please guess lower\n",
      "Well done,you guessed it\n"
     ]
    }
   ],
   "source": [
    "#Guessing game using if else statement\n",
    "#answer is pre defined \n",
    "import random\n",
    "ans= random.randint(1,10)\n",
    "print(\"Please guess the number between 1 and 10:\")\n",
    "guess=int(input())\n",
    "\n",
    "if guess < ans:\n",
    "    print(\"Please guess higher\")\n",
    "    guess = int(input())\n",
    "    if guess == ans:\n",
    "        print(\"Well done,you guessed it\")\n",
    "    else:\n",
    "        print(f\"Sorry wrong guess the number was: {ans}\")\n",
    "elif guess > ans:\n",
    "    print(\"Please guess lower\")\n",
    "    guess = int(input())\n",
    "    if guess == ans:\n",
    "        print(\"Well done,you guessed it\")\n",
    "    else:\n",
    "        print(f\"Sorry wrong guess the number was: {ans}\")\n",
    "else:\n",
    "    print(\"You got it first time\")"
   ]
  },
  {
   "cell_type": "code",
   "execution_count": 50,
   "id": "fe007716",
   "metadata": {},
   "outputs": [
    {
     "name": "stdout",
     "output_type": "stream",
     "text": [
      "zara\n"
     ]
    }
   ],
   "source": [
    "list1 = ['xyz', 'zara', 'PYnative']\n",
    "print (max(list1))\n"
   ]
  },
  {
   "cell_type": "code",
   "execution_count": 51,
   "id": "ea239349",
   "metadata": {},
   "outputs": [
    {
     "ename": "TypeError",
     "evalue": "'set' object is not subscriptable",
     "output_type": "error",
     "traceback": [
      "\u001b[0;31m---------------------------------------------------------------------------\u001b[0m",
      "\u001b[0;31mTypeError\u001b[0m                                 Traceback (most recent call last)",
      "Cell \u001b[0;32mIn[51], line 2\u001b[0m\n\u001b[1;32m      1\u001b[0m sampleSet \u001b[38;5;241m=\u001b[39m {\u001b[38;5;124m\"\u001b[39m\u001b[38;5;124mYellow\u001b[39m\u001b[38;5;124m\"\u001b[39m, \u001b[38;5;124m\"\u001b[39m\u001b[38;5;124mOrange\u001b[39m\u001b[38;5;124m\"\u001b[39m, \u001b[38;5;124m\"\u001b[39m\u001b[38;5;124mBlack\u001b[39m\u001b[38;5;124m\"\u001b[39m}\n\u001b[0;32m----> 2\u001b[0m \u001b[38;5;28mprint\u001b[39m(\u001b[43msampleSet\u001b[49m\u001b[43m[\u001b[49m\u001b[38;5;241;43m1\u001b[39;49m\u001b[43m]\u001b[49m)\n",
      "\u001b[0;31mTypeError\u001b[0m: 'set' object is not subscriptable"
     ]
    }
   ],
   "source": [
    "sampleSet = {\"Yellow\", \"Orange\", \"Black\"}\n",
    "print(sampleSet[1])"
   ]
  },
  {
   "cell_type": "code",
   "execution_count": null,
   "id": "7413af4d",
   "metadata": {},
   "outputs": [],
   "source": []
  },
  {
   "cell_type": "code",
   "execution_count": null,
   "id": "da944bcb",
   "metadata": {},
   "outputs": [],
   "source": []
  },
  {
   "cell_type": "code",
   "execution_count": null,
   "id": "64d62249",
   "metadata": {},
   "outputs": [],
   "source": []
  },
  {
   "cell_type": "code",
   "execution_count": null,
   "id": "8003619e",
   "metadata": {},
   "outputs": [],
   "source": []
  },
  {
   "cell_type": "code",
   "execution_count": null,
   "id": "14113dc4",
   "metadata": {},
   "outputs": [],
   "source": []
  }
 ],
 "metadata": {
  "kernelspec": {
   "display_name": "Python 3",
   "language": "python",
   "name": "python3"
  },
  "language_info": {
   "codemirror_mode": {
    "name": "ipython",
    "version": 3
   },
   "file_extension": ".py",
   "mimetype": "text/x-python",
   "name": "python",
   "nbconvert_exporter": "python",
   "pygments_lexer": "ipython3",
   "version": "3.10.13"
  }
 },
 "nbformat": 4,
 "nbformat_minor": 5
}
