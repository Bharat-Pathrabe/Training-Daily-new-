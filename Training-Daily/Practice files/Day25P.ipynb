{
 "cells": [
  {
   "cell_type": "code",
   "execution_count": null,
   "id": "19298e24",
   "metadata": {},
   "outputs": [],
   "source": []
  },
  {
   "cell_type": "code",
   "execution_count": 4,
   "id": "54246a1d",
   "metadata": {},
   "outputs": [
    {
     "name": "stdout",
     "output_type": "stream",
     "text": [
      "Python list creation: 0.10881 seconds\n",
      "NumPy array creation: 0.00312 seconds\n",
      "Numpy is approximately 34.85 times faster than Lists for creation.\n",
      "\n",
      "Python list squaring: 0.29573 seconds\n",
      "NumPy array squaring: 0.00186 seconds\n",
      "Numpy is approximately 159.23 times faster than Lists for squaring.\n",
      "\n",
      "Python list sine computation: 0.16746 seconds\n",
      "NumPy array sine computation: 0.02483 seconds\n",
      "Numpy is approximately 6.74 times faster than Lists for sine computation.\n",
      "\n",
      "Python list summation: 0.00899 seconds\n",
      "NumPy array summation: 0.00107 seconds\n",
      "Numpy is approximately 8.42 times faster than Lists for summation.\n",
      "\n"
     ]
    }
   ],
   "source": [
    "\n",
    "import time\n",
    "import numpy as np\n",
    "import math\n",
    "\n",
    "# Number of elements\n",
    "N = 1000000\n",
    "\n",
    "# Benchmarking with the added line after each benchmark to show the relative performance improvement of NumPy over Python lists\n",
    "\n",
    "# Benchmarking creation\n",
    "start_time = time.time()\n",
    "python_list = [i for i in range(N)]\n",
    "end_time = time.time()\n",
    "python_list_creation_time = end_time - start_time\n",
    "\n",
    "start_time = time.time()\n",
    "numpy_array = np.arange(N)\n",
    "end_time = time.time()\n",
    "numpy_creation_time = end_time - start_time\n",
    "\n",
    "print(f\"Python list creation: {python_list_creation_time:.5f} seconds\")\n",
    "print(f\"NumPy array creation: {numpy_creation_time:.5f} seconds\")\n",
    "print(f\"Numpy is approximately {python_list_creation_time / numpy_creation_time:.2f} times faster than Lists for creation.\\n\")\n",
    "\n",
    "# Benchmarking arithmetic operations\n",
    "start_time = time.time()\n",
    "list_squared = [i**2 for i in python_list]\n",
    "end_time = time.time()\n",
    "python_list_squaring_time = end_time - start_time\n",
    "\n",
    "start_time = time.time()\n",
    "array_squared = numpy_array**2\n",
    "end_time = time.time()\n",
    "numpy_squaring_time = end_time - start_time\n",
    "\n",
    "print(f\"Python list squaring: {python_list_squaring_time:.5f} seconds\")\n",
    "print(f\"NumPy array squaring: {numpy_squaring_time:.5f} seconds\")\n",
    "print(f\"Numpy is approximately {python_list_squaring_time / numpy_squaring_time:.2f} times faster than Lists for squaring.\\n\")\n",
    "\n",
    "# Benchmarking mathematical functions\n",
    "start_time = time.time()\n",
    "list_sin = [math.sin(i) for i in python_list]\n",
    "end_time = time.time()\n",
    "python_list_sine_time = end_time - start_time\n",
    "\n",
    "start_time = time.time()\n",
    "array_sin = np.sin(numpy_array)\n",
    "end_time = time.time()\n",
    "numpy_sine_time = end_time - start_time\n",
    "\n",
    "print(f\"Python list sine computation: {python_list_sine_time:.5f} seconds\")\n",
    "print(f\"NumPy array sine computation: {numpy_sine_time:.5f} seconds\")\n",
    "print(f\"Numpy is approximately {python_list_sine_time / numpy_sine_time:.2f} times faster than Lists for sine computation.\\n\")\n",
    "\n",
    "# Benchmarking aggregations\n",
    "start_time = time.time()\n",
    "list_sum = sum(python_list)\n",
    "end_time = time.time()\n",
    "python_list_sum_time = end_time - start_time\n",
    "\n",
    "start_time = time.time()\n",
    "array_sum = np.sum(numpy_array)\n",
    "end_time = time.time()\n",
    "numpy_sum_time = end_time - start_time\n",
    "\n",
    "print(f\"Python list summation: {python_list_sum_time:.5f} seconds\")\n",
    "print(f\"NumPy array summation: {numpy_sum_time:.5f} seconds\")\n",
    "print(f\"Numpy is approximately {python_list_sum_time / numpy_sum_time:.2f} times faster than Lists for summation.\\n\")"
   ]
  },
  {
   "cell_type": "code",
   "execution_count": 5,
   "id": "6338f0b8",
   "metadata": {},
   "outputs": [
    {
     "name": "stdout",
     "output_type": "stream",
     "text": [
      "1.21.5\n"
     ]
    }
   ],
   "source": [
    "import numpy as np\n",
    "\n",
    "print(np.__version__)"
   ]
  },
  {
   "cell_type": "code",
   "execution_count": 14,
   "id": "8b6d376d",
   "metadata": {},
   "outputs": [
    {
     "name": "stdout",
     "output_type": "stream",
     "text": [
      "1292\n"
     ]
    }
   ],
   "source": [
    "# Python code to find key with Maximum value in Dictionary\n",
    "\n",
    "# Dictionary Initialization\n",
    "Tv = {'BreakingBad':100, 'GameOfThrones':1292, 'TMKUC' : 88}\n",
    "\n",
    "Keymax = max(zip(Tv.values(), Tv.keys()))[0]\n",
    "print(Keymax)\n"
   ]
  },
  {
   "cell_type": "code",
   "execution_count": 13,
   "id": "c2af274b",
   "metadata": {},
   "outputs": [
    {
     "name": "stdout",
     "output_type": "stream",
     "text": [
      "TMKUC\n"
     ]
    }
   ],
   "source": [
    "# Python code to find key with Maximum value in Dictionary\n",
    "\n",
    "# Dictionary Initialization\n",
    "Tv = {'BreakingBad':100, 'GameOfThrones':1292, 'TMKUC' : 88}\n",
    "\n",
    "Keymax = max(zip(Tv.keys(),Tv.values()))[0]\n",
    "print(Keymax)\n"
   ]
  },
  {
   "cell_type": "code",
   "execution_count": 18,
   "id": "fa2bc84e",
   "metadata": {},
   "outputs": [
    {
     "name": "stdout",
     "output_type": "stream",
     "text": [
      "Enter name of student(or type 'done' to finish): kozak\n",
      "Enter the grade for kozak: A\n",
      "Enter name of student(or type 'done' to finish): Shrey\n",
      "Enter the grade for Shrey: A\n",
      "Enter name of student(or type 'done' to finish): done\n",
      "List entered by user: [{'Name': 'kozak', 'Grade': 'A'}, {'Name': 'Shrey', 'Grade': 'A'}] \n",
      "Grade count: {'A': 2}\n"
     ]
    }
   ],
   "source": [
    "def get_grades_from_input():\n",
    "    student_grades=[]\n",
    "    while True:\n",
    "        name=input(\"Enter name of student(or type 'done' to finish): \")\n",
    "        if name.lower() == 'done':\n",
    "            break\n",
    "        grade=input(f\"Enter the grade for {name}: \").upper()\n",
    "        student_grades.append({\"Name\":name,\"Grade\":grade})\n",
    "    return student_grades\n",
    "\n",
    "def grade_count(user_list_dict):\n",
    "    grade_count = {}\n",
    "    for student in user_list_dict:\n",
    "        if student[\"Grade\"] in grade_count:\n",
    "            grade_count[student[\"Grade\"]] += 1\n",
    "        else:\n",
    "            grade_count[student[\"Grade\"]] = 1\n",
    "    return grade_count\n",
    "\n",
    "user_list_dict=get_grades_from_input()\n",
    "grade_count=grade_count(user_list_dict)\n",
    "print(f\"List entered by user: {user_list_dict} \\nGrade count: {grade_count}\")"
   ]
  },
  {
   "cell_type": "code",
   "execution_count": 22,
   "id": "1e174da4",
   "metadata": {},
   "outputs": [
    {
     "data": {
      "text/plain": [
       "[1, 2, 'hello']"
      ]
     },
     "execution_count": 22,
     "metadata": {},
     "output_type": "execute_result"
    }
   ],
   "source": [
    "i=[1, 0, 2, 0, 'hello','', []]\n",
    "list(filter(bool, i))"
   ]
  },
  {
   "cell_type": "code",
   "execution_count": 24,
   "id": "ba4bb611",
   "metadata": {},
   "outputs": [
    {
     "name": "stdout",
     "output_type": "stream",
     "text": [
      "0\n",
      "1\n",
      "2\n"
     ]
    }
   ],
   "source": [
    "i=0\n",
    "while i< 5:\n",
    "    print(i)\n",
    "    i+=1\n",
    "    if i==3:\n",
    "        break\n",
    "else:\n",
    "    print(0)"
   ]
  },
  {
   "cell_type": "code",
   "execution_count": 25,
   "id": "3ea65126",
   "metadata": {},
   "outputs": [
    {
     "name": "stdout",
     "output_type": "stream",
     "text": [
      "CheckCheckCheck\n"
     ]
    }
   ],
   "source": [
    "a=(\"Check\")*3\n",
    "print(a)"
   ]
  },
  {
   "cell_type": "code",
   "execution_count": 29,
   "id": "e1c9f13c",
   "metadata": {},
   "outputs": [
    {
     "name": "stdout",
     "output_type": "stream",
     "text": [
      "1 A2 B3 C"
     ]
    }
   ],
   "source": [
    "a={1:\"A\",2:\"B\",3:\"C\"}\n",
    "for i,j in a.items():\n",
    "    print(i,j,end=\"\")"
   ]
  },
  {
   "cell_type": "code",
   "execution_count": 30,
   "id": "2fe33743",
   "metadata": {},
   "outputs": [
    {
     "name": "stdout",
     "output_type": "stream",
     "text": [
      "{1: 'A', 2: 'B', 3: 'C', 4: 'D', 5: 'E'}\n"
     ]
    }
   ],
   "source": [
    "a={1:\"A\",2:\"B\",3:\"C\"}\n",
    "b={4:\"D\",5:\"E\"}\n",
    "a.update(b)\n",
    "print(a)\n"
   ]
  },
  {
   "cell_type": "code",
   "execution_count": 31,
   "id": "0992501c",
   "metadata": {},
   "outputs": [
    {
     "name": "stdout",
     "output_type": "stream",
     "text": [
      "1\n",
      "2\n"
     ]
    }
   ],
   "source": [
    "def foo():\n",
    "    try:\n",
    "        print(1)\n",
    "    finally:\n",
    "        print(2)\n",
    "foo()"
   ]
  },
  {
   "cell_type": "code",
   "execution_count": 3,
   "id": "ace17d91",
   "metadata": {},
   "outputs": [
    {
     "name": "stdout",
     "output_type": "stream",
     "text": [
      "[' ', 'w', 'l', 'l', ' ', 's', 'c', 'r', ' ', 't', ' ', 'l', 's', 't', ' ', '6', '0']\n"
     ]
    }
   ],
   "source": [
    "my_string = \"I will score at least 60\"\n",
    "#k= []\n",
    "#for iin my_string.lower():\n",
    "#if inotin \"aeiou\":\n",
    "#kappend(i)\n",
    "K= [i for i in my_string.lower() if i not in \"aeiuo\"]\n",
    "print(K)"
   ]
  },
  {
   "cell_type": "code",
   "execution_count": 4,
   "id": "50b5a96a",
   "metadata": {},
   "outputs": [
    {
     "name": "stdout",
     "output_type": "stream",
     "text": [
      "['123', '890']\n"
     ]
    }
   ],
   "source": [
    "import re\n",
    "pattern = r'\\b\\d{3}\\b'\n",
    "text = \"123 4567 890 12 3456\"\n",
    "result = re.findall(pattern, text)\n",
    "print(result)"
   ]
  },
  {
   "cell_type": "code",
   "execution_count": 13,
   "id": "b6a722dd",
   "metadata": {},
   "outputs": [
    {
     "name": "stdout",
     "output_type": "stream",
     "text": [
      "6\n"
     ]
    }
   ],
   "source": [
    "set1 = {4, 5, 6 , 1}\n",
    "set2 = {1, 2, 3}\n",
    "\n",
    "set3 = set1.union(set2)\n",
    "set3=list(set3)\n",
    "set3=sorted(set3,reverse=True)\n",
    "print(set3[0])"
   ]
  },
  {
   "cell_type": "code",
   "execution_count": 17,
   "id": "af4381d0",
   "metadata": {},
   "outputs": [
    {
     "ename": "SyntaxError",
     "evalue": "invalid syntax (2979834969.py, line 2)",
     "output_type": "error",
     "traceback": [
      "\u001b[0;36m  Cell \u001b[0;32mIn[17], line 2\u001b[0;36m\u001b[0m\n\u001b[0;31m    list2=[x for x in input_list lambda item: item%2==0]\u001b[0m\n\u001b[0m                                 ^\u001b[0m\n\u001b[0;31mSyntaxError\u001b[0m\u001b[0;31m:\u001b[0m invalid syntax\n"
     ]
    }
   ],
   "source": [
    "input_list = [1, 2, 3, 4, 5, 6, 7, 8, 9, 10]\n",
    "list2=[x for x in input_list lambda item: item%2==0]\n",
    "print(list2)"
   ]
  }
 ],
 "metadata": {
  "kernelspec": {
   "display_name": "Python 3 (ipykernel)",
   "language": "python",
   "name": "python3"
  },
  "language_info": {
   "codemirror_mode": {
    "name": "ipython",
    "version": 3
   },
   "file_extension": ".py",
   "mimetype": "text/x-python",
   "name": "python",
   "nbconvert_exporter": "python",
   "pygments_lexer": "ipython3",
   "version": "3.undefined.undefined"
  }
 },
 "nbformat": 4,
 "nbformat_minor": 5
}
