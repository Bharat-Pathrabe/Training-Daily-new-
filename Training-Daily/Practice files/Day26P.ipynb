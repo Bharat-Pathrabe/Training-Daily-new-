{
 "cells": [
  {
   "cell_type": "markdown",
   "id": "3567607e",
   "metadata": {},
   "source": [
    "# Practice "
   ]
  },
  {
   "cell_type": "code",
   "execution_count": 2,
   "id": "28ee63ff",
   "metadata": {},
   "outputs": [
    {
     "name": "stdout",
     "output_type": "stream",
     "text": [
      "-\n",
      "nvidia\n"
     ]
    }
   ],
   "source": [
    "#Write a function to read last n lines from a text file.\n",
    "#Example: test.txt file:\n",
    "#line1\n",
    "#line2\n",
    "#line3\n",
    "#line4\n",
    "#line5\n",
    "#line6\n",
    "#line7\n",
    "#Input: read_file(test.txt, 2) Output:\n",
    "#line6\n",
    "#line7\n",
    "\n",
    "file_name = \"test.txt\"\n",
    "n = 2\n",
    "file = open(file_name, 'r')\n",
    "lines = file.readlines()\n",
    "file.close()\n",
    "last_n_lines = lines[-n:]\n",
    "\n",
    "for line in last_n_lines:\n",
    "    print(line, end='')"
   ]
  },
  {
   "cell_type": "code",
   "execution_count": null,
   "id": "17f3372c",
   "metadata": {},
   "outputs": [],
   "source": []
  },
  {
   "cell_type": "code",
   "execution_count": null,
   "id": "a34822d8",
   "metadata": {},
   "outputs": [],
   "source": []
  },
  {
   "cell_type": "code",
   "execution_count": null,
   "id": "184d0bf2",
   "metadata": {},
   "outputs": [],
   "source": []
  },
  {
   "cell_type": "code",
   "execution_count": null,
   "id": "46329c2f",
   "metadata": {},
   "outputs": [],
   "source": []
  }
 ],
 "metadata": {
  "kernelspec": {
   "display_name": "Python 3 (ipykernel)",
   "language": "python",
   "name": "python3"
  },
  "language_info": {
   "codemirror_mode": {
    "name": "ipython",
    "version": 3
   },
   "file_extension": ".py",
   "mimetype": "text/x-python",
   "name": "python",
   "nbconvert_exporter": "python",
   "pygments_lexer": "ipython3",
   "version": "3.10.13"
  }
 },
 "nbformat": 4,
 "nbformat_minor": 5
}
