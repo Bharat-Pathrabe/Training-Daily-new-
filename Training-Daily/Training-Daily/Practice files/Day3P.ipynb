{
 "cells": [
  {
   "cell_type": "markdown",
   "metadata": {},
   "source": [
    "# Functions"
   ]
  },
  {
   "cell_type": "code",
   "execution_count": 1,
   "metadata": {},
   "outputs": [],
   "source": [
    "def my_function():\n",
    "    print(\"Hello from a function\")"
   ]
  },
  {
   "cell_type": "code",
   "execution_count": 3,
   "metadata": {},
   "outputs": [
    {
     "name": "stdout",
     "output_type": "stream",
     "text": [
      "apple\n",
      "banana\n",
      "cherry\n"
     ]
    }
   ],
   "source": [
    "def my_function(food):\n",
    "  for x in food:\n",
    "    print(x)\n",
    "\n",
    "fruits = [\"apple\", \"banana\", \"cherry\"]\n",
    "\n",
    "my_function(fruits)\n"
   ]
  },
  {
   "cell_type": "markdown",
   "metadata": {},
   "source": [
    "#### *args and **kwargs"
   ]
  },
  {
   "cell_type": "code",
   "execution_count": 7,
   "metadata": {},
   "outputs": [
    {
     "name": "stdout",
     "output_type": "stream",
     "text": [
      "The youngest child is Linus\n"
     ]
    }
   ],
   "source": [
    "# *args\n",
    "def my_function(*kids):\n",
    "  print(\"The youngest child is \" + kids[2])\n",
    "\n",
    "my_function(\"Emil\", \"Tobias\", \"Linus\")"
   ]
  },
  {
   "cell_type": "code",
   "execution_count": 6,
   "metadata": {},
   "outputs": [
    {
     "name": "stdout",
     "output_type": "stream",
     "text": [
      "His last name is Refsnes\n"
     ]
    }
   ],
   "source": [
    "# **kwargs\n",
    "def my_function(**kid):\n",
    "  print(\"His last name is \" + kid[\"lname\"])\n",
    "\n",
    "my_function(fname = \"Tobias\", lname = \"Refsnes\")"
   ]
  },
  {
   "cell_type": "markdown",
   "metadata": {},
   "source": [
    "#### Default Parameter Value"
   ]
  },
  {
   "cell_type": "code",
   "execution_count": 8,
   "metadata": {},
   "outputs": [
    {
     "name": "stdout",
     "output_type": "stream",
     "text": [
      "I am from Sweden\n",
      "I am from India\n",
      "I am from Norway\n",
      "I am from Brazil\n"
     ]
    }
   ],
   "source": [
    "def my_function(country = \"Norway\"):\n",
    "  print(\"I am from \" + country)\n",
    "\n",
    "my_function(\"Sweden\")\n",
    "my_function(\"India\")\n",
    "my_function()\n",
    "my_function(\"Brazil\")"
   ]
  },
  {
   "cell_type": "markdown",
   "metadata": {},
   "source": [
    "#### Positional-Only Arguments"
   ]
  },
  {
   "cell_type": "code",
   "execution_count": 9,
   "metadata": {},
   "outputs": [
    {
     "name": "stdout",
     "output_type": "stream",
     "text": [
      "3\n"
     ]
    }
   ],
   "source": [
    "def my_function(x, /):\n",
    "  print(x)\n",
    "\n",
    "my_function(3)"
   ]
  },
  {
   "cell_type": "markdown",
   "metadata": {},
   "source": [
    "#### Keyword-Only Arguments"
   ]
  },
  {
   "cell_type": "code",
   "execution_count": 10,
   "metadata": {},
   "outputs": [
    {
     "name": "stdout",
     "output_type": "stream",
     "text": [
      "3\n"
     ]
    }
   ],
   "source": [
    "def my_function(*, x):\n",
    "  print(x)\n",
    "\n",
    "my_function(x = 3)"
   ]
  },
  {
   "cell_type": "markdown",
   "metadata": {},
   "source": [
    "#### Combine Positional-Only and Keyword-Only"
   ]
  },
  {
   "cell_type": "code",
   "execution_count": 11,
   "metadata": {},
   "outputs": [
    {
     "name": "stdout",
     "output_type": "stream",
     "text": [
      "26\n"
     ]
    }
   ],
   "source": [
    "def my_function(a, b, /, *, c, d):\n",
    "  print(a + b + c + d)\n",
    "\n",
    "my_function(5, 6, c = 7, d = 8)"
   ]
  },
  {
   "cell_type": "markdown",
   "metadata": {},
   "source": [
    "#### Recursive "
   ]
  },
  {
   "cell_type": "code",
   "execution_count": 4,
   "metadata": {},
   "outputs": [
    {
     "name": "stdout",
     "output_type": "stream",
     "text": [
      "\n",
      "\n",
      "Recursion Example Results\n",
      "1\n",
      "3\n",
      "6\n",
      "10\n",
      "15\n",
      "21\n"
     ]
    },
    {
     "data": {
      "text/plain": [
       "21"
      ]
     },
     "execution_count": 4,
     "metadata": {},
     "output_type": "execute_result"
    }
   ],
   "source": [
    "def tri_recursion(k):\n",
    "  if(k > 0):\n",
    "    result = k + tri_recursion(k - 1)\n",
    "    print(result)\n",
    "  else:\n",
    "    result = 0\n",
    "  return result\n",
    "\n",
    "print(\"\\n\\nRecursion Example Results\")\n",
    "tri_recursion(6)"
   ]
  },
  {
   "cell_type": "markdown",
   "metadata": {},
   "source": [
    "# Lambda"
   ]
  },
  {
   "cell_type": "code",
   "execution_count": 12,
   "metadata": {},
   "outputs": [
    {
     "name": "stdout",
     "output_type": "stream",
     "text": [
      "-11\n",
      "-22\n"
     ]
    }
   ],
   "source": [
    "def myfunc(n):\n",
    "  return lambda a : a - (a * n)\n",
    "\n",
    "mydoubler = myfunc(2)\n",
    "mytripler = myfunc(3)\n",
    "\n",
    "print(mydoubler(11)) \n",
    "print(mytripler(11))\n"
   ]
  },
  {
   "cell_type": "markdown",
   "metadata": {},
   "source": [
    "# Array"
   ]
  },
  {
   "cell_type": "code",
   "execution_count": 13,
   "metadata": {},
   "outputs": [
    {
     "name": "stdout",
     "output_type": "stream",
     "text": [
      "Original list : \n",
      " [{'car': 'BMW', 'bike': 'Honda'}, {'fruit': 'orange'}]\n",
      "List after appending : \n",
      " [{'car': 'BMW', 'bike': 'Honda'}, {'fruit': 'orange'}, {'language': 'Python', 'Framework': 'Django'}]\n"
     ]
    }
   ],
   "source": [
    "ls = [{'car':'BMW', 'bike':'Honda'},{'fruit':'orange'}]\n",
    "print(\"Original list : \\n\",ls)\n",
    "dict = {'language':'Python','Framework':'Django'}\n",
    "\n",
    "ls.append(dict)\n",
    "print(\"List after appending : \\n\",ls)\n"
   ]
  },
  {
   "cell_type": "markdown",
   "metadata": {},
   "source": [
    "# Practice"
   ]
  },
  {
   "cell_type": "code",
   "execution_count": 14,
   "metadata": {},
   "outputs": [
    {
     "name": "stdout",
     "output_type": "stream",
     "text": [
      "Welcome to the Text-based RPG!\n",
      "\n",
      "1. Explore\n",
      "2. Check Stats\n",
      "3. Quit\n",
      "A wild Orc appears!\n",
      "Your health: 100\n",
      "Orc's health: 50\n",
      "1. Attack\n",
      "2. Run\n",
      "You attack the Orc for 5 damage!\n",
      "The Orc attacks you for 7 damage!\n",
      "Your health: 93\n",
      "Orc's health: 45\n",
      "1. Attack\n",
      "2. Run\n",
      "You attack the Orc for 5 damage!\n",
      "The Orc attacks you for 7 damage!\n",
      "Your health: 86\n",
      "Orc's health: 40\n",
      "1. Attack\n",
      "2. Run\n",
      "You attack the Orc for 5 damage!\n",
      "The Orc attacks you for 7 damage!\n",
      "Your health: 79\n",
      "Orc's health: 35\n",
      "1. Attack\n",
      "2. Run\n",
      "You attack the Orc for 5 damage!\n",
      "The Orc attacks you for 7 damage!\n",
      "Your health: 72\n",
      "Orc's health: 30\n",
      "1. Attack\n",
      "2. Run\n",
      "You attack the Orc for 5 damage!\n",
      "The Orc attacks you for 7 damage!\n",
      "Your health: 65\n",
      "Orc's health: 25\n",
      "1. Attack\n",
      "2. Run\n",
      "Your health: 65\n",
      "Orc's health: 25\n",
      "1. Attack\n",
      "2. Run\n",
      "You attack the Orc for 5 damage!\n",
      "The Orc attacks you for 7 damage!\n",
      "Your health: 58\n",
      "Orc's health: 20\n",
      "1. Attack\n",
      "2. Run\n",
      "You attack the Orc for 5 damage!\n",
      "The Orc attacks you for 7 damage!\n",
      "Your health: 51\n",
      "Orc's health: 15\n",
      "1. Attack\n",
      "2. Run\n",
      "You attack the Orc for 5 damage!\n",
      "The Orc attacks you for 7 damage!\n",
      "Your health: 44\n",
      "Orc's health: 10\n",
      "1. Attack\n",
      "2. Run\n",
      "You attack the Orc for 5 damage!\n",
      "The Orc attacks you for 7 damage!\n",
      "Your health: 37\n",
      "Orc's health: 5\n",
      "1. Attack\n",
      "2. Run\n",
      "You attack the Orc for 5 damage!\n",
      "You defeated the Orc!\n",
      "\n",
      "1. Explore\n",
      "2. Check Stats\n",
      "3. Quit\n",
      "Name: BHarat\n",
      "Health: 37\n",
      "Attack: 10\n",
      "Defense: 5\n",
      "Gold: 50\n",
      "\n",
      "1. Explore\n",
      "2. Check Stats\n",
      "3. Quit\n",
      "Goodbye!\n"
     ]
    }
   ],
   "source": [
    "import random\n",
    "# Player attributes\n",
    "player = {\n",
    "   \"name\": \"\",\n",
    "   \"health\": 100,\n",
    "   \"attack\": 10,\n",
    "   \"defense\": 5,\n",
    "   \"gold\": 0\n",
    "}\n",
    "# Enemies\n",
    "enemies = [\n",
    "   {\"name\": \"Goblin\", \"health\": 30, \"attack\": 8, \"defense\": 2, \"gold\": 20},\n",
    "   {\"name\": \"Skeleton\", \"health\": 40, \"attack\": 10, \"defense\": 3, \"gold\": 30},\n",
    "   {\"name\": \"Orc\", \"health\": 50, \"attack\": 12, \"defense\": 5, \"gold\": 50}\n",
    "]\n",
    "# Function to perform a battle\n",
    "def battle(enemy):\n",
    "   print(f\"A wild {enemy['name']} appears!\")\n",
    "   while player['health'] > 0 and enemy['health'] > 0:\n",
    "       print(f\"Your health: {player['health']}\")\n",
    "       print(f\"{enemy['name']}'s health: {enemy['health']}\")\n",
    "       print(\"1. Attack\")\n",
    "       print(\"2. Run\")\n",
    "       choice = input(\"Choose your action: \")\n",
    "       if choice == \"1\":\n",
    "           # Player attacks enemy\n",
    "           enemy_damage = max(0, player['attack'] - enemy['defense'])\n",
    "           enemy['health'] -= enemy_damage\n",
    "           print(f\"You attack the {enemy['name']} for {enemy_damage} damage!\")\n",
    "           if enemy['health'] <= 0:\n",
    "               print(f\"You defeated the {enemy['name']}!\")\n",
    "               player['gold'] += enemy['gold']\n",
    "               break\n",
    "           # Enemy attacks player\n",
    "           player_damage = max(0, enemy['attack'] - player['defense'])\n",
    "           player['health'] -= player_damage\n",
    "           print(f\"The {enemy['name']} attacks you for {player_damage} damage!\")\n",
    "           if player['health'] <= 0:\n",
    "               print(\"You were defeated!\")\n",
    "               break\n",
    "       elif choice == \"2\":\n",
    "           print(\"You run away from the battle!\")\n",
    "           break\n",
    "# Main game loop\n",
    "def main():\n",
    "   print(\"Welcome to the Text-based RPG!\")\n",
    "   player['name'] = input(\"Enter your name: \")\n",
    "   while True:\n",
    "       print(\"\\n1. Explore\")\n",
    "       print(\"2. Check Stats\")\n",
    "       print(\"3. Quit\")\n",
    "       choice = input(\"Choose your action: \")\n",
    "       if choice == \"1\":\n",
    "           enemy = random.choice(enemies)\n",
    "           battle(enemy)\n",
    "       elif choice == \"2\":\n",
    "           print(f\"Name: {player['name']}\")\n",
    "           print(f\"Health: {player['health']}\")\n",
    "           print(f\"Attack: {player['attack']}\")\n",
    "           print(f\"Defense: {player['defense']}\")\n",
    "           print(f\"Gold: {player['gold']}\")\n",
    "       elif choice == \"3\":\n",
    "           print(\"Goodbye!\")\n",
    "           break\n",
    "       else:\n",
    "           print(\"Invalid choice. Please try again.\")\n",
    "if __name__ == \"__main__\":\n",
    "   main()"
   ]
  },
  {
   "cell_type": "markdown",
   "metadata": {},
   "source": [
    "# Classes"
   ]
  },
  {
   "cell_type": "code",
   "execution_count": 15,
   "metadata": {},
   "outputs": [
    {
     "name": "stdout",
     "output_type": "stream",
     "text": [
      "Hello my name is John\n"
     ]
    }
   ],
   "source": [
    "class Person:\n",
    "  def __init__(self, name, age):\n",
    "    self.name = name\n",
    "    self.age = age\n",
    "\n",
    "  def myfunc(self):\n",
    "    print(\"Hello my name is \" + self.name)\n",
    "\n",
    "p1 = Person(\"John\", 36)\n",
    "p1.myfunc()"
   ]
  }
 ],
 "metadata": {
  "kernelspec": {
   "display_name": "Python 3",
   "language": "python",
   "name": "python3"
  },
  "language_info": {
   "codemirror_mode": {
    "name": "ipython",
    "version": 3
   },
   "file_extension": ".py",
   "mimetype": "text/x-python",
   "name": "python",
   "nbconvert_exporter": "python",
   "pygments_lexer": "ipython3",
   "version": "3.10.12"
  }
 },
 "nbformat": 4,
 "nbformat_minor": 2
}
