{
 "cells": [
  {
   "cell_type": "markdown",
   "id": "e26d8fb3",
   "metadata": {},
   "source": [
    "# Look Through Udemy course"
   ]
  },
  {
   "cell_type": "markdown",
   "id": "9820defc",
   "metadata": {},
   "source": [
    "##### print Statement "
   ]
  },
  {
   "cell_type": "code",
   "execution_count": 7,
   "id": "a3834e76",
   "metadata": {},
   "outputs": [
    {
     "name": "stdout",
     "output_type": "stream",
     "text": [
      "Hello world\n"
     ]
    }
   ],
   "source": [
    "print(\"Hello world\")\n",
    "\n",
    "#print- function\n",
    "#\"hello world\"- string argument\n",
    "#string argument is passed to print function"
   ]
  },
  {
   "cell_type": "code",
   "execution_count": 10,
   "id": "2d0c35e4",
   "metadata": {},
   "outputs": [
    {
     "name": "stdout",
     "output_type": "stream",
     "text": [
      "3\n"
     ]
    }
   ],
   "source": [
    "print(1+2)\n",
    "#1+2 - Arthematic expression"
   ]
  },
  {
   "cell_type": "code",
   "execution_count": 13,
   "id": "3cc150b3",
   "metadata": {},
   "outputs": [
    {
     "name": "stdout",
     "output_type": "stream",
     "text": [
      "3 kozak 3\n"
     ]
    }
   ],
   "source": [
    "print(1+2,\"kozak\",3)\n",
    "# each argument is separated via ,\n",
    "# 3 - Numerical literal"
   ]
  },
  {
   "cell_type": "markdown",
   "id": "b179d92e",
   "metadata": {},
   "source": [
    "##### Varibles"
   ]
  },
  {
   "cell_type": "code",
   "execution_count": 16,
   "id": "d4a1f124",
   "metadata": {},
   "outputs": [
    {
     "name": "stdout",
     "output_type": "stream",
     "text": [
      "Hello kozak\n"
     ]
    }
   ],
   "source": [
    "#name -varible \n",
    "#input - function \n",
    "name=input(\"Enter name:\")\n",
    "greet=\"Hello\"\n",
    "# \" \"- white space added \n",
    "print(greet + \" \" + name)\n",
    "# first input function is called then the user enters the value ,then the value is assigned to name varible\n",
    "\n"
   ]
  },
  {
   "cell_type": "markdown",
   "id": "b0f15280",
   "metadata": {},
   "source": [
    "##### String format"
   ]
  },
  {
   "cell_type": "code",
   "execution_count": 24,
   "id": "67eea060",
   "metadata": {},
   "outputs": [
    {
     "name": "stdout",
     "output_type": "stream",
     "text": [
      "String is been \n",
      "split over \n",
      "multiple lines with the help of \n",
      "'\\ n' escape character\n"
     ]
    }
   ],
   "source": [
    "print(\"String is been \\nsplit over \\nmultiple lines with the help of \\n'\\ n' escape character\")"
   ]
  },
  {
   "cell_type": "code",
   "execution_count": 25,
   "id": "a828f3c8",
   "metadata": {},
   "outputs": [
    {
     "name": "stdout",
     "output_type": "stream",
     "text": [
      "String has tab spaces \tin between them this is \tdone with the help of \t'\\ t' escape character\n"
     ]
    }
   ],
   "source": [
    "print(\"String has tab spaces \\tin between them this is \\tdone with the help of \\t'\\ t' escape character\")"
   ]
  },
  {
   "cell_type": "code",
   "execution_count": 26,
   "id": "c8e94300",
   "metadata": {},
   "outputs": [
    {
     "name": "stdout",
     "output_type": "stream",
     "text": [
      "Kozak's presense is \"empty\" through out the day.\n"
     ]
    }
   ],
   "source": [
    "print(\"\"\"Kozak's presense is \"empty\" through out the day.\"\"\")"
   ]
  },
  {
   "cell_type": "code",
   "execution_count": 28,
   "id": "8fc77fcd",
   "metadata": {},
   "outputs": [
    {
     "name": "stdout",
     "output_type": "stream",
     "text": [
      "There is no need \n",
      "for escape character backslash n to \n",
      "split the line \n",
      "because of 3 qoutess\n"
     ]
    }
   ],
   "source": [
    "print(\"\"\"There is no need \n",
    "for escape character backslash n to \n",
    "split the line \n",
    "because of 3 qoutess\"\"\")"
   ]
  },
  {
   "cell_type": "code",
   "execution_count": 30,
   "id": "bd1c76f0",
   "metadata": {},
   "outputs": [
    {
     "name": "stdout",
     "output_type": "stream",
     "text": [
      "we can use backslash to escape the end of the line\n"
     ]
    }
   ],
   "source": [
    "print(\"\"\"we can use \\\n",
    "backslash to escape \\\n",
    "the end \\\n",
    "of the line\"\"\")"
   ]
  },
  {
   "cell_type": "code",
   "execution_count": 31,
   "id": "cb8ff25f",
   "metadata": {},
   "outputs": [
    {
     "name": "stdout",
     "output_type": "stream",
     "text": [
      "c:\\user\\troll\\new.txt\n",
      "c:\\user\\troll\\new.txt\n"
     ]
    }
   ],
   "source": [
    "print(\"c:\\\\user\\\\troll\\\\new.txt\")\n",
    "# using \\\\ escape character to dismiss wrong interpretation by kernal\n",
    "print(r\"c:\\user\\troll\\new.txt\")\n",
    "# using r - raw to mark this as pass asit is "
   ]
  },
  {
   "cell_type": "markdown",
   "id": "c4ae9aa9",
   "metadata": {},
   "source": [
    "##### Varibles and types"
   ]
  },
  {
   "cell_type": "code",
   "execution_count": null,
   "id": "b39dba23",
   "metadata": {},
   "outputs": [],
   "source": [
    "#varibles is basically a way to give a meaning full name to an area of memory into which we can place certain values.\n",
    "greet= \"hello\"\n",
    "# python knows when ever we talk about the varible greet it has to refer to certain area of memory.\n",
    "# and also knows varible greet is of string type   \n",
    "# varoble greet is bound to the string hello"
   ]
  },
  {
   "cell_type": "markdown",
   "id": "0929cc33",
   "metadata": {},
   "source": [
    "##### Rules for varibles"
   ]
  },
  {
   "cell_type": "code",
   "execution_count": null,
   "id": "a4affd08",
   "metadata": {},
   "outputs": [],
   "source": [
    "# 1. must start with letter (upper or lower case) or underscore\n",
    "# 2. they can contain letter number and underscore but cannot contain numbers in starting of the varibles\n",
    "# 3. case sensitive so k and K will  refer to diff area of memory"
   ]
  },
  {
   "cell_type": "code",
   "execution_count": 33,
   "id": "d9a19666",
   "metadata": {},
   "outputs": [
    {
     "name": "stdout",
     "output_type": "stream",
     "text": [
      "<class 'str'>\n",
      "<class 'int'>\n",
      "<class 'str'>\n"
     ]
    }
   ],
   "source": [
    "#types\n",
    "age= 24\n",
    "greet=\"hello\"\n",
    "print(type(greet))\n",
    "print(type(age))\n",
    "#in here python returns that the object greeet and age is of type str and int as per python abbreviations \n",
    "# type function can be used to know the type of varibles and object or what type of information is we are storing in that object\n",
    "age=\"24 years\"\n",
    "print(type(age))\n",
    "# in python we can rebound the label age to the string value 24 years "
   ]
  },
  {
   "cell_type": "code",
   "execution_count": 37,
   "id": "e13fda68",
   "metadata": {},
   "outputs": [
    {
     "ename": "TypeError",
     "evalue": "can only concatenate str (not \"int\") to str",
     "output_type": "error",
     "traceback": [
      "\u001b[0;31m---------------------------------------------------------------------------\u001b[0m",
      "\u001b[0;31mTypeError\u001b[0m                                 Traceback (most recent call last)",
      "Cell \u001b[0;32mIn[37], line 3\u001b[0m\n\u001b[1;32m      1\u001b[0m age\u001b[38;5;241m=\u001b[39m\u001b[38;5;241m24\u001b[39m\n\u001b[1;32m      2\u001b[0m name\u001b[38;5;241m=\u001b[39m\u001b[38;5;124m\"\u001b[39m\u001b[38;5;124mkozak\u001b[39m\u001b[38;5;124m\"\u001b[39m\n\u001b[0;32m----> 3\u001b[0m \u001b[38;5;28mprint\u001b[39m(\u001b[43mname\u001b[49m\u001b[43m \u001b[49m\u001b[38;5;241;43m+\u001b[39;49m\u001b[43m \u001b[49m\u001b[38;5;124;43m\"\u001b[39;49m\u001b[38;5;124;43mis\u001b[39;49m\u001b[38;5;124;43m\"\u001b[39;49m\u001b[43m \u001b[49m\u001b[38;5;241;43m+\u001b[39;49m\u001b[43m \u001b[49m\u001b[43mage\u001b[49m \u001b[38;5;241m+\u001b[39m \u001b[38;5;124m\"\u001b[39m\u001b[38;5;124myears old\u001b[39m\u001b[38;5;124m\"\u001b[39m)\n\u001b[1;32m      4\u001b[0m \u001b[38;5;66;03m#Since python is a strongly type language it cannot concatenate string to int it has no idea what to do with that \u001b[39;00m\n\u001b[1;32m      5\u001b[0m \u001b[38;5;66;03m# automatic type conversion is usefull but python tries to prevent this to find the soure of bugs and error\u001b[39;00m\n",
      "\u001b[0;31mTypeError\u001b[0m: can only concatenate str (not \"int\") to str"
     ]
    }
   ],
   "source": [
    "age=24\n",
    "name=\"kozak\"\n",
    "print(name + \"is\" + age + \"years old\")\n",
    "#Since python is a strongly type language it cannot concatenate string to int it has no idea what to do with that \n",
    "# automatic type conversion is usefull but python tries to prevent this to find the soure of bugs and error"
   ]
  },
  {
   "cell_type": "markdown",
   "id": "a5ef6538",
   "metadata": {},
   "source": [
    " ##### Built in data types "
   ]
  },
  {
   "cell_type": "code",
   "execution_count": 38,
   "id": "ab194b87",
   "metadata": {},
   "outputs": [],
   "source": [
    "#numberic\n",
    "#iterator\n",
    "#sequence(which is also iterators)\n",
    "#mapping\n",
    "#files\n",
    "#class\n",
    "#exception"
   ]
  },
  {
   "cell_type": "code",
   "execution_count": null,
   "id": "fddc024b",
   "metadata": {},
   "outputs": [],
   "source": [
    "# Numberic data types \n",
    "# int\n",
    "# float\n",
    "# complex\n",
    "\n",
    "\n",
    "# In python there is no limit to int type so u can run out of memory but no size limit"
   ]
  },
  {
   "cell_type": "markdown",
   "id": "028ad6ed",
   "metadata": {},
   "source": [
    "##### Operators and expression"
   ]
  },
  {
   "cell_type": "code",
   "execution_count": 42,
   "id": "a8561f2b",
   "metadata": {},
   "outputs": [
    {
     "name": "stdout",
     "output_type": "stream",
     "text": [
      "15\n",
      "9\n",
      "36\n",
      "4.0\n",
      "4\n",
      "0\n",
      "\n",
      "1\n",
      "2\n",
      "3\n"
     ]
    }
   ],
   "source": [
    "a=12 \n",
    "b=3\n",
    "print(a+b)  # 15\n",
    "print(a-b)  # 9\n",
    "print(a*b)  # 36\n",
    "print(a/b)  # 4 (float division)\n",
    "print(a//b) # 4  quotient (integer division)\n",
    "print(a%b)  # 0 remainder\n",
    "\n",
    "print()\n",
    "\n",
    "for i in range(1,a//b): # a/b cannot use because of float division but we cam use a/b it gives integer division\n",
    "    print(i)"
   ]
  },
  {
   "cell_type": "markdown",
   "id": "e5371b73",
   "metadata": {},
   "source": [
    "### So we cannot use \"str\" or \"float\" where  \"int\" is needed because \"Python is a strongly typed language\""
   ]
  },
  {
   "cell_type": "code",
   "execution_count": 48,
   "id": "18dc0a0f",
   "metadata": {},
   "outputs": [
    {
     "name": "stdout",
     "output_type": "stream",
     "text": [
      "-35.0\n",
      "-35.0\n",
      "12.0\n",
      "12.0\n",
      "12.0\n",
      "0.1111111111111111\n"
     ]
    }
   ],
   "source": [
    "# Operator precedence \n",
    "a=12 \n",
    "b=3\n",
    "print(a + b /3 - 4 * 12)\n",
    "print (a + (b/3)- (4*12))\n",
    "print ((((a + b)/ 3)- 4)* 12)\n",
    "print (((a + b)/ 3 -4)* 12)\n",
    "c=a+b\n",
    "d=c/3\n",
    "e=d-4\n",
    "print(e*12)\n",
    "\n",
    "print(a /(b *a)/ b)"
   ]
  },
  {
   "cell_type": "code",
   "execution_count": 56,
   "id": "33144c29",
   "metadata": {},
   "outputs": [
    {
     "name": "stdout",
     "output_type": "stream",
     "text": [
      "Norwegian blue\n",
      "w\n",
      "e\n",
      " \n",
      "w\n",
      "i\n",
      "n\n",
      "\n",
      "Via Negative indexing:\n",
      "w\n",
      "e\n",
      " \n",
      "w\n",
      "i\n",
      "n\n",
      "\n",
      "Via Expression:\n",
      "w\n",
      "e\n",
      " \n",
      "w\n",
      "i\n",
      "n\n"
     ]
    }
   ],
   "source": [
    "# String data type \n",
    "# IN python str is a sequence of character \n",
    "#                   1111\n",
    "#         01234567890123\n",
    "parrot = \"Norwegian blue\"\n",
    "print(parrot)\n",
    "print(parrot[3]) # in codding index starts from 0 then goes 1 2 3 thats why 4th word w is printed\n",
    "print(parrot[4])\n",
    "print(parrot[9])\n",
    "print(parrot[3])\n",
    "print(parrot[6])\n",
    "print(parrot[8])\n",
    "\n",
    "print(\"\\nVia Negative indexing:\")\n",
    "print(parrot[-11]) # Via negative indexing\n",
    "print(parrot[-1])\n",
    "print(parrot[-5])\n",
    "print(parrot[-11])\n",
    "print(parrot[-8])\n",
    "print(parrot[-6])\n",
    "\n",
    "print(\"\\nVia Expression:\")\n",
    "print(parrot[3-14]) # \n",
    "print(parrot[4-14])\n",
    "print(parrot[9-14])\n",
    "print(parrot[3-14])\n",
    "print(parrot[6-14])\n",
    "print(parrot[8-14])"
   ]
  },
  {
   "cell_type": "markdown",
   "id": "1a92f7c2",
   "metadata": {},
   "source": [
    "##### String slicing"
   ]
  },
  {
   "cell_type": "code",
   "execution_count": 81,
   "id": "18680f59",
   "metadata": {},
   "outputs": [
    {
     "name": "stdout",
     "output_type": "stream",
     "text": [
      "Norweg\n",
      "Norweg\n",
      "blue\n",
      "blue\n",
      "Norweg\n",
      "ian blue\n",
      "Norwegian blue\n",
      "Norwegian blue\n",
      "Nre\n",
      "Nw\n",
      "\n",
      "bl\n",
      "bl\n"
     ]
    }
   ],
   "source": [
    "#                   1111\n",
    "#         01234567890123\n",
    "parrot = \"Norwegian blue\"\n",
    "#Here in string slicing [startpoint : Endpoint : steps/skips]\n",
    "#                       [   0       :    6     :            ] # inthis upto 6 but will not be inicluding slicing\n",
    "print(parrot[0:6])  # Norweg \n",
    "print(parrot[:6])\n",
    "print(parrot[10:14])\n",
    "print(parrot[10:])\n",
    "print(parrot[:6])\n",
    "print(parrot[6:])\n",
    "print(parrot[:6]+parrot[6:])\n",
    "print(parrot[:])\n",
    "print(parrot[0:6:2])    #Nre\n",
    "print(parrot[0:6:3])    #Nw\n",
    "\n",
    "\n",
    "# with Negative Indexing\n",
    "print()\n",
    "print(parrot[-4:-2])\n",
    "print(parrot[-4:12])"
   ]
  },
  {
   "cell_type": "code",
   "execution_count": 82,
   "id": "cb4681d1",
   "metadata": {},
   "outputs": [
    {
     "name": "stdout",
     "output_type": "stream",
     "text": [
      ",;: ,;\n",
      "[9, 654, 453, 483, 215, 453, 654]\n"
     ]
    }
   ],
   "source": [
    "number=\"9,654;453:483 215,453;654\"\n",
    "seperators=number[1::4]\n",
    "print(seperators)\n",
    "\n",
    "values = \"\".join(char if char not in seperators else \" \" for char in number).split()\n",
    "print([int(val) for val in values])"
   ]
  },
  {
   "cell_type": "code",
   "execution_count": 102,
   "id": "a46bc1d7",
   "metadata": {},
   "outputs": [
    {
     "name": "stdout",
     "output_type": "stream",
     "text": [
      "zyxwvutsrqponmlkjihgfedcba\n",
      "qpo\n",
      "qpo\n",
      "edcba\n",
      "edcba\n",
      "zyxwvuts\n"
     ]
    }
   ],
   "source": [
    "#negative slicing \n",
    "letters=\"abcdefghijklmnopqrstuvwxyz\"\n",
    "backwards=letters[::-1]     # here [::-1] is a slicing idioms\n",
    "print(backwards)\n",
    "print(letters[-10:-13:-1])\n",
    "print(letters[16:13:-1])\n",
    "print(letters[-22::-1])\n",
    "print(letters[4::-1])\n",
    "print(letters[:-9:-1])"
   ]
  },
  {
   "cell_type": "code",
   "execution_count": 105,
   "id": "ae77ff3c",
   "metadata": {},
   "outputs": [
    {
     "name": "stdout",
     "output_type": "stream",
     "text": [
      "\n"
     ]
    },
    {
     "ename": "IndexError",
     "evalue": "string index out of range",
     "output_type": "error",
     "traceback": [
      "\u001b[0;31m---------------------------------------------------------------------------\u001b[0m",
      "\u001b[0;31mIndexError\u001b[0m                                Traceback (most recent call last)",
      "Cell \u001b[0;32mIn[105], line 3\u001b[0m\n\u001b[1;32m      1\u001b[0m letters\u001b[38;5;241m=\u001b[39m\u001b[38;5;124m\"\u001b[39m\u001b[38;5;124m\"\u001b[39m\n\u001b[1;32m      2\u001b[0m \u001b[38;5;28mprint\u001b[39m(letters[:\u001b[38;5;241m1\u001b[39m]) \u001b[38;5;66;03m#slicing willreturn empty string\u001b[39;00m\n\u001b[0;32m----> 3\u001b[0m \u001b[38;5;28mprint\u001b[39m(\u001b[43mletters\u001b[49m\u001b[43m[\u001b[49m\u001b[38;5;241;43m0\u001b[39;49m\u001b[43m]\u001b[49m) \u001b[38;5;66;03m#indexing will produce error\u001b[39;00m\n",
      "\u001b[0;31mIndexError\u001b[0m: string index out of range"
     ]
    }
   ],
   "source": [
    "letters=\"\"\n",
    "print(letters[:1]) #slicing willreturn empty string\n",
    "print(letters[0]) #indexing will produce error"
   ]
  },
  {
   "cell_type": "markdown",
   "id": "f64ad687",
   "metadata": {},
   "source": [
    "##### Sequence Types"
   ]
  },
  {
   "cell_type": "code",
   "execution_count": null,
   "id": "14d06416",
   "metadata": {},
   "outputs": [],
   "source": [
    "#The string type\n",
    "#list\n",
    "#tuple\n",
    "#range\n",
    "#bytes and bytearray"
   ]
  },
  {
   "cell_type": "code",
   "execution_count": 111,
   "id": "b1bbcb0e",
   "metadata": {},
   "outputs": [
    {
     "name": "stdout",
     "output_type": "stream",
     "text": [
      "He's probably pining for the fjords\n",
      "He's probably pining for the fjords\n",
      "Hello Hello Hello Hello Hello \n",
      "Hello Hello Hello Hello Hello Hello Hello Hello Hello \n",
      "Hello Hello Hello Hello Hello 4\n"
     ]
    }
   ],
   "source": [
    "# string opeartors\n",
    "string1=\"He's \"\n",
    "string2=\"probably \"\n",
    "string3=\"pining \"\n",
    "string4=\"for the \"\n",
    "string5=\"fjords\"\n",
    "print(string1 + string2 + string3 + string4 + string5)\n",
    "print(\"He's \" \"probably \" \"pining \" \"for the \" \"fjords\")\n",
    "print(\"Hello \" * 5)\n",
    "print(\"Hello \" * (5+4))\n",
    "print(\"Hello \" * 5 + \"4\")"
   ]
  },
  {
   "cell_type": "code",
   "execution_count": 112,
   "id": "1c1ca38f",
   "metadata": {},
   "outputs": [
    {
     "name": "stdout",
     "output_type": "stream",
     "text": [
      "True\n",
      "True\n",
      "False\n",
      "False\n"
     ]
    }
   ],
   "source": [
    "today=\"friday\"\n",
    "print(\"day\" in today)       #true\n",
    "print(\"fri\" in today)       #true\n",
    "print(\"thurs\" in today)     #false\n",
    "print(\"parrot\" in \"fjords\") #false"
   ]
  },
  {
   "cell_type": "markdown",
   "id": "ec509c85",
   "metadata": {},
   "source": [
    "##### String replacements"
   ]
  },
  {
   "cell_type": "code",
   "execution_count": 113,
   "id": "ade15f35",
   "metadata": {},
   "outputs": [
    {
     "name": "stdout",
     "output_type": "stream",
     "text": [
      "My age is 24 years\n"
     ]
    }
   ],
   "source": [
    "age= 24\n",
    "print(\"My age is {0} years\".format(age))"
   ]
  },
  {
   "cell_type": "code",
   "execution_count": 114,
   "id": "2140dfb6",
   "metadata": {},
   "outputs": [
    {
     "name": "stdout",
     "output_type": "stream",
     "text": [
      "There are 31 days in Jan , Mar , May , Jul , Aug , oct and Dec\n"
     ]
    }
   ],
   "source": [
    "print(\"There are {0} days in {1} , {2} , {3} , {4} , {5} , {6} and {7}\"\n",
    "      .format(31, \"Jan\",\"Mar\",\"May\",\"Jul\",\"Aug\",\"oct\",\"Dec\" ))\n"
   ]
  },
  {
   "cell_type": "code",
   "execution_count": 115,
   "id": "06776919",
   "metadata": {},
   "outputs": [
    {
     "name": "stdout",
     "output_type": "stream",
     "text": [
      "Jan: 31, Feb: 29, Mar: 31, Apr: 30, May: 31, jun: 30, jul: 31, sep: 30, Oct: 31, Nov: 30, Dec: 31\n"
     ]
    }
   ],
   "source": [
    "print(\"Jan: {2}, Feb: {0}, Mar: {2}, Apr: {1}, May: {2}, jun: {1}, jul: {2}, sep: {1}, Oct: {2}, Nov: {1}, Dec: {2}\"\n",
    "      .format(29,30,31))"
   ]
  },
  {
   "cell_type": "markdown",
   "id": "2b343b49",
   "metadata": {},
   "source": [
    "##### Formatting"
   ]
  },
  {
   "cell_type": "code",
   "execution_count": 123,
   "id": "82874cc0",
   "metadata": {},
   "outputs": [
    {
     "name": "stdout",
     "output_type": "stream",
     "text": [
      "No.  1 Squared is   1 and cubed is    1\n",
      "No.  2 Squared is   4 and cubed is    8\n",
      "No.  3 Squared is   9 and cubed is   27\n",
      "No.  4 Squared is  16 and cubed is   64\n",
      "No.  5 Squared is  25 and cubed is  125\n",
      "No.  6 Squared is  36 and cubed is  216\n",
      "No.  7 Squared is  49 and cubed is  343\n",
      "No.  8 Squared is  64 and cubed is  512\n",
      "No.  9 Squared is  81 and cubed is  729\n",
      "No. 10 Squared is 100 and cubed is 1000\n",
      "No. 11 Squared is 121 and cubed is 1331\n",
      "No. 12 Squared is 144 and cubed is 1728\n",
      "\n",
      "No.  1 Squared is 1   and cubed is  1  \n",
      "No.  2 Squared is 4   and cubed is  8  \n",
      "No.  3 Squared is 9   and cubed is  27 \n",
      "No.  4 Squared is 16  and cubed is  64 \n",
      "No.  5 Squared is 25  and cubed is 125 \n",
      "No.  6 Squared is 36  and cubed is 216 \n",
      "No.  7 Squared is 49  and cubed is 343 \n",
      "No.  8 Squared is 64  and cubed is 512 \n",
      "No.  9 Squared is 81  and cubed is 729 \n",
      "No. 10 Squared is 100 and cubed is 1000\n",
      "No. 11 Squared is 121 and cubed is 1331\n",
      "No. 12 Squared is 144 and cubed is 1728\n"
     ]
    }
   ],
   "source": [
    "for i in range(1,13):\n",
    "    print(\"No. {0:2} Squared is {1:3} and cubed is {2:4}\"\n",
    "          .format(i,i ** 2,i ** 3))\n",
    "    \n",
    "print()\n",
    "\n",
    "for i in range(1,13):\n",
    "    print(\"No. {0:2} Squared is {1:<3} and cubed is {2:^4}\"\n",
    "          .format(i,i ** 2,i ** 3)) # < is used to left aliegn and ^ is used for center\n"
   ]
  },
  {
   "cell_type": "code",
   "execution_count": 126,
   "id": "2f902577",
   "metadata": {},
   "outputs": [
    {
     "name": "stdout",
     "output_type": "stream",
     "text": [
      "pi is approximately 3.142857142857143\n",
      "pi is approximately     3.142857\n",
      "pi is approximately 3.14285714285714279370154144999105483293533325195312\n",
      "pi is approximately 3.14285714285714279370154144999105483293533325195312\n",
      "pi is approximately           3.14285714285714279370154144999105483293533325195312\n",
      "pi is approximately                     3.14285714285714279370154144999105483293533325195312\n"
     ]
    }
   ],
   "source": [
    "#Feild widths and precision\n",
    "print(\"pi is approximately {0:12}\".format(22/7))\n",
    "print(\"pi is approximately {0:12f}\".format(22/7))\n",
    "print(\"pi is approximately {0:12.50f}\".format(22/7))\n",
    "print(\"pi is approximately {0:52.50f}\".format(22/7))\n",
    "print(\"pi is approximately {0:62.50f}\".format(22/7))\n",
    "print(\"pi is approximately {0:72.50f}\".format(22/7))"
   ]
  },
  {
   "cell_type": "code",
   "execution_count": 128,
   "id": "70715ce6",
   "metadata": {},
   "outputs": [
    {
     "name": "stdout",
     "output_type": "stream",
     "text": [
      "pi is approximately 3.14285714285714279370154144999105483293533325195312\n",
      "pi is approximately 3.14285714285714279370154144999105483293533325195312\n"
     ]
    }
   ],
   "source": [
    "#f-strings\n",
    "print(f\"pi is approximately {22/7:12.50f}\")\n",
    "pi=22/7\n",
    "print(f\"pi is approximately {pi:12.50f}\")"
   ]
  },
  {
   "cell_type": "code",
   "execution_count": 131,
   "id": "8bd7fa72",
   "metadata": {},
   "outputs": [
    {
     "name": "stdout",
     "output_type": "stream",
     "text": [
      "My age is 24 years\n",
      "My age is 24 years, 6 months\n",
      "PI is approximately 3.142857\n",
      "PI is approximately         3.14285714285714279370154144999105483293533325195312\n"
     ]
    }
   ],
   "source": [
    "#String Interpolation for Python2 \n",
    "age= 24\n",
    "print(\"My age is %d years\"% age)\n",
    "\n",
    "major= \"years\"\n",
    "minor= \"months\"\n",
    "print(\"My age is %d %s, %d %s\"% (age,major,6,minor))\n",
    "print(\"PI is approximately %f\"% (22/7))\n",
    "print(\"PI is approximately %60.50f\"% (22/7))"
   ]
  },
  {
   "cell_type": "markdown",
   "id": "7c218607",
   "metadata": {},
   "source": [
    "# Practice (Programming puzzles)"
   ]
  },
  {
   "cell_type": "markdown",
   "id": "69388691",
   "metadata": {},
   "source": [
    "Q) Write a Python program to check whether the given strings are palindromes or not. Return True otherwise False.<br>\n",
    "Input:<br>\n",
    "['palindrome', 'madamimadam', '', 'foo', 'eyes']<br>\n",
    "Output:<br>\n",
    "[False, True, True, False, False]<br>"
   ]
  },
  {
   "cell_type": "code",
   "execution_count": 3,
   "id": "90217f5b",
   "metadata": {},
   "outputs": [
    {
     "name": "stdout",
     "output_type": "stream",
     "text": [
      "[True]\n"
     ]
    }
   ],
   "source": [
    "def palin(st):\n",
    "    return [s == s[::-1] for s in st]\n",
    "\n",
    "st=[i for i in input(\"Enter words to check palindromes or not:\").split()]\n",
    "print(palin(st))"
   ]
  },
  {
   "cell_type": "code",
   "execution_count": null,
   "id": "3248dbb1",
   "metadata": {},
   "outputs": [],
   "source": []
  }
 ],
 "metadata": {
  "kernelspec": {
   "display_name": "Python 3 (ipykernel)",
   "language": "python",
   "name": "python3"
  },
  "language_info": {
   "codemirror_mode": {
    "name": "ipython",
    "version": 3
   },
   "file_extension": ".py",
   "mimetype": "text/x-python",
   "name": "python",
   "nbconvert_exporter": "python",
   "pygments_lexer": "ipython3",
   "version": "3.10.13"
  }
 },
 "nbformat": 4,
 "nbformat_minor": 5
}
