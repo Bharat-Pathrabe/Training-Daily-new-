{
 "cells": [
  {
   "cell_type": "markdown",
   "id": "0e4e789b",
   "metadata": {},
   "source": [
    "# Practice (Decorator cont.)"
   ]
  },
  {
   "cell_type": "markdown",
   "id": "c3e48dfe",
   "metadata": {},
   "source": [
    "Q) Write a Python program that implements a decorator to enforce rate limits on a function."
   ]
  },
  {
   "cell_type": "code",
   "execution_count": 11,
   "id": "118b018e",
   "metadata": {},
   "outputs": [
    {
     "name": "stdout",
     "output_type": "stream",
     "text": [
      "API call executed successfully..\n",
      "API call executed successfully..\n",
      "API call executed successfully..\n",
      "API call executed successfully..\n",
      "API call executed successfully..\n",
      "API call executed successfully..\n",
      "Error occurred: Rate Limit exceeded,please try again later.\n",
      "Error occurred: Rate Limit exceeded,please try again later.\n"
     ]
    }
   ],
   "source": [
    "import time\n",
    "def rate_limits(max_calls,period):\n",
    "    def decorator(func):\n",
    "        calls=0\n",
    "        last_Reset=time.time()\n",
    "\n",
    "        def wrapper(*args,**kargs):\n",
    "            nonlocal calls,last_Reset\n",
    "            elapsed = time.time() - last_Reset\n",
    "            if elapsed > period:\n",
    "                calls=0\n",
    "                last_Reset=time.time()\n",
    "            if calls >=max_calls:\n",
    "                raise Exception(\"Rate Limit exceeded,please try again later.\")\n",
    "            calls+=1\n",
    "            return func(*args,**kargs)\n",
    "        return wrapper\n",
    "    return decorator\n",
    "\n",
    "@rate_limits(max_calls=6,period=10)\n",
    "def call():\n",
    "    print(\"API call executed successfully..\")\n",
    "\n",
    "for i in range(8):\n",
    "    try:\n",
    "        call()\n",
    "    except Exception as e:\n",
    "        print(f\"Error occurred: {e}\")"
   ]
  },
  {
   "cell_type": "markdown",
   "id": "aa5ffa53",
   "metadata": {},
   "source": [
    "Q) Python program that implements a decorator to enforce type checking on the arguments of a function."
   ]
  },
  {
   "cell_type": "code",
   "execution_count": 15,
   "id": "585a58f1",
   "metadata": {},
   "outputs": [
    {
     "name": "stdout",
     "output_type": "stream",
     "text": [
      "Result: 12\n"
     ]
    },
    {
     "ename": "TypeError",
     "evalue": "Argument 'x' must be of type 'int'",
     "output_type": "error",
     "traceback": [
      "\u001b[0;31m---------------------------------------------------------------------------\u001b[0m",
      "\u001b[0;31mTypeError\u001b[0m                                 Traceback (most recent call last)",
      "Cell \u001b[0;32mIn[15], line 25\u001b[0m\n\u001b[1;32m     22\u001b[0m r\u001b[38;5;241m=\u001b[39mmulti(\u001b[38;5;241m3\u001b[39m,\u001b[38;5;241m4\u001b[39m)\n\u001b[1;32m     23\u001b[0m \u001b[38;5;28mprint\u001b[39m(\u001b[38;5;124mf\u001b[39m\u001b[38;5;124m\"\u001b[39m\u001b[38;5;124mResult: \u001b[39m\u001b[38;5;132;01m{\u001b[39;00mr\u001b[38;5;132;01m}\u001b[39;00m\u001b[38;5;124m\"\u001b[39m)\n\u001b[0;32m---> 25\u001b[0m r\u001b[38;5;241m=\u001b[39m \u001b[43mmulti\u001b[49m\u001b[43m(\u001b[49m\u001b[38;5;124;43m\"\u001b[39;49m\u001b[38;5;124;43m3\u001b[39;49m\u001b[38;5;124;43m\"\u001b[39;49m\u001b[43m,\u001b[49m\u001b[38;5;241;43m7\u001b[39;49m\u001b[43m)\u001b[49m\n",
      "Cell \u001b[0;32mIn[15], line 10\u001b[0m, in \u001b[0;36mchecker.<locals>.wrapper\u001b[0;34m(*args, **kwargs)\u001b[0m\n\u001b[1;32m      8\u001b[0m     para_type\u001b[38;5;241m=\u001b[39mpara[para_name]\u001b[38;5;241m.\u001b[39mannotation\n\u001b[1;32m      9\u001b[0m     \u001b[38;5;28;01mif\u001b[39;00m \u001b[38;5;129;01mnot\u001b[39;00m \u001b[38;5;28misinstance\u001b[39m(arg,para_type):\n\u001b[0;32m---> 10\u001b[0m         \u001b[38;5;28;01mraise\u001b[39;00m \u001b[38;5;167;01mTypeError\u001b[39;00m(\u001b[38;5;124mf\u001b[39m\u001b[38;5;124m\"\u001b[39m\u001b[38;5;124mArgument \u001b[39m\u001b[38;5;124m'\u001b[39m\u001b[38;5;132;01m{\u001b[39;00mpara_name\u001b[38;5;132;01m}\u001b[39;00m\u001b[38;5;124m'\u001b[39m\u001b[38;5;124m must be of type \u001b[39m\u001b[38;5;124m'\u001b[39m\u001b[38;5;132;01m{\u001b[39;00mpara_type\u001b[38;5;241m.\u001b[39m\u001b[38;5;18m__name__\u001b[39m\u001b[38;5;132;01m}\u001b[39;00m\u001b[38;5;124m'\u001b[39m\u001b[38;5;124m\"\u001b[39m)\n\u001b[1;32m     11\u001b[0m \u001b[38;5;28;01mfor\u001b[39;00m para_name,arg \u001b[38;5;129;01min\u001b[39;00m kwargs\u001b[38;5;241m.\u001b[39mitems():\n\u001b[1;32m     12\u001b[0m     para_type\u001b[38;5;241m=\u001b[39mpara[para_name]\u001b[38;5;241m.\u001b[39mannotation\n",
      "\u001b[0;31mTypeError\u001b[0m: Argument 'x' must be of type 'int'"
     ]
    }
   ],
   "source": [
    "import inspect\n",
    "def checker(func):\n",
    "    def wrapper(*args,**kwargs):\n",
    "        sign=inspect.signature(func)\n",
    "        para=sign.parameters\n",
    "        for i,arg in enumerate(args):\n",
    "            para_name=list(para.keys())[i]\n",
    "            para_type=para[para_name].annotation\n",
    "            if not isinstance(arg,para_type):\n",
    "                raise TypeError(f\"Argument '{para_name}' must be of type '{para_type.__name__}'\")\n",
    "        for para_name,arg in kwargs.items():\n",
    "            para_type=para[para_name].annotation\n",
    "            if not isinstance(arg,para_type):\n",
    "                raise TypeError(f\"Argument '{para_name}' must be of type '{para_type.__name__}'\")\n",
    "        return func(*args,**kwargs)\n",
    "    return wrapper\n",
    "\n",
    "@checker\n",
    "def multi(x:int,y:int)-> int:\n",
    "    return x*y\n",
    "\n",
    "r=multi(3,4)\n",
    "print(f\"Result: {r}\")\n",
    "\n",
    "r= multi(\"3\",7)"
   ]
  },
  {
   "cell_type": "markdown",
   "id": "41901946",
   "metadata": {},
   "source": [
    "Q) Python program that implements a decorator to measure the memory usage of a function."
   ]
  },
  {
   "cell_type": "code",
   "execution_count": 20,
   "id": "6279dd56",
   "metadata": {},
   "outputs": [
    {
     "name": "stdout",
     "output_type": "stream",
     "text": [
      "Memory usage of cal_fact\n",
      "/usr/lib/python3.10/ast.py:50: size=489 KiB, count=8925, average=56 B\n",
      "/usr/lib/python3.10/genericpath.py:77: size=224 KiB, count=2285, average=100 B\n",
      "/home/trellis/.local/lib/python3.10/site-packages/asttokens/line_numbers.py:47: size=140 KiB, count=748, average=192 B\n",
      "/home/trellis/.local/lib/python3.10/site-packages/pygments/lexer.py:504: size=85.9 KiB, count=1100, average=80 B\n",
      "/home/trellis/.local/lib/python3.10/site-packages/executing/executing.py:169: size=75.9 KiB, count=196, average=396 B\n",
      "Memory usage of cal_fact\n",
      "/usr/lib/python3.10/ast.py:50: size=489 KiB, count=8925, average=56 B\n",
      "/usr/lib/python3.10/genericpath.py:77: size=179 KiB, count=1636, average=112 B\n",
      "/home/trellis/.local/lib/python3.10/site-packages/asttokens/line_numbers.py:47: size=140 KiB, count=748, average=192 B\n",
      "/home/trellis/.local/lib/python3.10/site-packages/executing/executing.py:169: size=75.9 KiB, count=196, average=396 B\n",
      "/home/trellis/.local/lib/python3.10/site-packages/executing/executing.py:171: size=64.4 KiB, count=906, average=73 B\n",
      "Memory usage of cal_fact\n",
      "/usr/lib/python3.10/ast.py:50: size=489 KiB, count=8925, average=56 B\n",
      "/usr/lib/python3.10/genericpath.py:77: size=179 KiB, count=1636, average=112 B\n",
      "/home/trellis/.local/lib/python3.10/site-packages/asttokens/line_numbers.py:47: size=140 KiB, count=748, average=192 B\n",
      "/home/trellis/.local/lib/python3.10/site-packages/executing/executing.py:169: size=75.9 KiB, count=196, average=396 B\n",
      "/home/trellis/.local/lib/python3.10/site-packages/executing/executing.py:171: size=64.4 KiB, count=906, average=73 B\n",
      "Memory usage of cal_fact\n",
      "/usr/lib/python3.10/ast.py:50: size=488 KiB, count=8915, average=56 B\n",
      "/home/trellis/.local/lib/python3.10/site-packages/asttokens/line_numbers.py:47: size=140 KiB, count=748, average=192 B\n",
      "/home/trellis/.local/lib/python3.10/site-packages/executing/executing.py:169: size=75.9 KiB, count=196, average=396 B\n",
      "/home/trellis/.local/lib/python3.10/site-packages/executing/executing.py:171: size=64.4 KiB, count=906, average=73 B\n",
      "/home/trellis/.local/lib/python3.10/site-packages/executing/executing.py:154: size=45.6 KiB, count=488, average=96 B\n",
      "Memory usage of cal_fact\n",
      "/usr/lib/python3.10/ast.py:50: size=488 KiB, count=8915, average=56 B\n",
      "/home/trellis/.local/lib/python3.10/site-packages/asttokens/line_numbers.py:47: size=140 KiB, count=748, average=192 B\n",
      "/home/trellis/.local/lib/python3.10/site-packages/executing/executing.py:169: size=75.9 KiB, count=196, average=396 B\n",
      "/home/trellis/.local/lib/python3.10/site-packages/executing/executing.py:171: size=64.4 KiB, count=906, average=73 B\n",
      "/home/trellis/.local/lib/python3.10/site-packages/executing/executing.py:154: size=45.6 KiB, count=488, average=96 B\n",
      "Memory usage of cal_fact\n",
      "/usr/lib/python3.10/ast.py:50: size=488 KiB, count=8915, average=56 B\n",
      "/home/trellis/.local/lib/python3.10/site-packages/asttokens/line_numbers.py:47: size=140 KiB, count=748, average=192 B\n",
      "/home/trellis/.local/lib/python3.10/site-packages/executing/executing.py:169: size=75.9 KiB, count=196, average=396 B\n",
      "/home/trellis/.local/lib/python3.10/site-packages/executing/executing.py:171: size=64.4 KiB, count=906, average=73 B\n",
      "/home/trellis/.local/lib/python3.10/site-packages/executing/executing.py:154: size=45.6 KiB, count=488, average=96 B\n",
      "Factorial: 120\n"
     ]
    }
   ],
   "source": [
    "import tracemalloc\n",
    "def memory(func):\n",
    "    def wrapper(*args,**kwargs):\n",
    "        tracemalloc.start()\n",
    "        r=func(*args,**kwargs)\n",
    "        snapshot=tracemalloc.take_snapshot()\n",
    "        top_stats=snapshot.statistics(\"lineno\")\n",
    "        print(f\"Memory usage of {func.__name__}\")\n",
    "        for stat in top_stats[:5]:\n",
    "            print(stat)\n",
    "        return r\n",
    "    return wrapper\n",
    "\n",
    "\n",
    "@memory\n",
    "def cal_fact(n):\n",
    "    if n==0:\n",
    "        return 1\n",
    "    else:\n",
    "        return n*cal_fact(n-1)\n",
    "r=cal_fact(5)\n",
    "print(f\"Factorial:\",r)"
   ]
  },
  {
   "cell_type": "markdown",
   "id": "f8e7fb3a",
   "metadata": {},
   "source": [
    "Q) Python program that implements a decorator to provide caching with expiration time for a function."
   ]
  },
  {
   "cell_type": "code",
   "execution_count": 25,
   "id": "fcc387ef",
   "metadata": {},
   "outputs": [
    {
     "name": "stdout",
     "output_type": "stream",
     "text": [
      "Executing expensive function...\n",
      "25\n",
      "Result retrieved from cache for expensive_function.\n",
      "25\n",
      "Result retrieved from cache for expensive_function.\n",
      "25\n"
     ]
    }
   ],
   "source": [
    "import time\n",
    "\n",
    "def cache_with_expiry(expiration_time):\n",
    "    cache = {}\n",
    "\n",
    "    def decorator(func):\n",
    "        def wrapper(*args, **kwargs):\n",
    "            current_time = time.time()\n",
    "            for key in list(cache.keys()):\n",
    "                if current_time - cache[key]['time'] >= expiration_time:\n",
    "                    del cache[key]\n",
    "            key = (func.__name__, args, frozenset(kwargs.items()))\n",
    "            if key in cache:\n",
    "                print(f\"Result retrieved from cache for {func.__name__}.\")\n",
    "                return cache[key]['value']\n",
    "            else:\n",
    "                result = func(*args, **kwargs)\n",
    "                cache[key] = {'value': result, 'time': time.time()}\n",
    "                return result\n",
    "        return wrapper\n",
    "    return decorator\n",
    "\n",
    "@cache_with_expiry(expiration_time=5)\n",
    "def expensive_function(n):\n",
    "    print(\"Executing expensive function...\")\n",
    "    time.sleep(2)  \n",
    "    return n * n\n",
    "\n",
    "# Call the decorated function\n",
    "print(expensive_function(5))  \n",
    "print(expensive_function(5))  \n",
    "time.sleep(2)\n",
    "print(expensive_function(5))  \n"
   ]
  },
  {
   "cell_type": "markdown",
   "id": "66cc8ce5",
   "metadata": {},
   "source": [
    "# Practice (Programming puzzles)"
   ]
  },
  {
   "cell_type": "markdown",
   "id": "1bcac236",
   "metadata": {},
   "source": [
    "Q) Python program that accepts a list of integers and calculates the length and the fifth element. Return true if the length of the list is 8 and the fifth element occurs thrice in the said list."
   ]
  },
  {
   "cell_type": "code",
   "execution_count": 34,
   "id": "6925ece8",
   "metadata": {},
   "outputs": [
    {
     "name": "stdout",
     "output_type": "stream",
     "text": [
      "True\n"
     ]
    }
   ],
   "source": [
    "def check(x):\n",
    "    if len(x) >= 8:\n",
    "        if x.count(x[4]) == 3:\n",
    "            return True\n",
    "        else:\n",
    "            return False\n",
    "    return False\n",
    "\n",
    "a=[i for i in input(\"Enter numbers space separated:\").split(\" \")]\n",
    "print(check(a))"
   ]
  },
  {
   "cell_type": "markdown",
   "id": "28e273a4",
   "metadata": {},
   "source": [
    "Q) Python program that accepts an integer and determines whether it is greater than 4^4 and which is 4 mod 34."
   ]
  },
  {
   "cell_type": "code",
   "execution_count": 39,
   "id": "eed13a9e",
   "metadata": {},
   "outputs": [
    {
     "name": "stdout",
     "output_type": "stream",
     "text": [
      "True\n"
     ]
    }
   ],
   "source": [
    "def check(x):\n",
    "    if x > pow(4,4) and x%34 == 4:\n",
    "            return True\n",
    "    return False\n",
    "\n",
    "a=int(input(\"Enter number:\"))\n",
    "print(check(a))"
   ]
  },
  {
   "cell_type": "markdown",
   "id": "1f17f440",
   "metadata": {},
   "source": [
    "Q) We are making n stone piles! The first pile has n stones. If n is even, then all piles have an even number of stones. If n is odd, all piles have an odd number of stones. Each pile must more stones than the previous pile but as few as possible. Write a Python program to find the number of stones in each pile.<br>\n",
    "Input: 2<br>\n",
    "Output:<br>\n",
    "[2, 4]<br>\n",
    "Input: 10<br>\n",
    "Output:<br>\n",
    "[10, 12, 14, 16, 18, 20, 22, 24, 26, 28]"
   ]
  },
  {
   "cell_type": "code",
   "execution_count": 43,
   "id": "b6985030",
   "metadata": {},
   "outputs": [
    {
     "name": "stdout",
     "output_type": "stream",
     "text": [
      "[10, 12, 14, 16, 18, 20, 22, 24, 26, 28]\n"
     ]
    }
   ],
   "source": [
    "def stones(n):\n",
    "    return [n + 2 * i for i in range(n)]\n",
    "\n",
    "n=int(input(\"Enter number for piles:\"))\n",
    "print(stones(n))"
   ]
  },
  {
   "cell_type": "markdown",
   "id": "8c7abd0e",
   "metadata": {},
   "source": [
    "Q) Write a Python program to check the nth-1 string is a proper substring of the nth string in a given list of strings.<br>\n",
    "Input:<br>\n",
    "['a', 'abb', 'sfs', 'oo', 'de', 'sfde']<br>\n",
    "Output:<br>\n",
    "True<br>\n",
    "Input:<br>\n",
    "['a', 'abb', 'sfs', 'oo', 'ee', 'sfde']<br>\n",
    "Output:<br>\n",
    "False<br>"
   ]
  },
  {
   "cell_type": "code",
   "execution_count": 53,
   "id": "450758a9",
   "metadata": {},
   "outputs": [
    {
     "name": "stdout",
     "output_type": "stream",
     "text": [
      "True\n"
     ]
    }
   ],
   "source": [
    "import re\n",
    "\n",
    "def substring(x):\n",
    "    last=x[-1]\n",
    "    sec_last=x[-2]\n",
    "    if re.search(sec_last,last) == None:\n",
    "        return False\n",
    "    else:\n",
    "        return True\n",
    "\n",
    "a=[i for i in input(\"Enter strings space separated:\").split(\" \")]\n",
    "print(substring(a))"
   ]
  },
  {
   "cell_type": "markdown",
   "id": "9fdc3056",
   "metadata": {},
   "source": [
    "Q) Write a Python program to test a list of one hundred integers between 0 and 999, which all differ by ten from one another. Return True otherwise False.<br>\n",
    "Input:<br>\n",
    "[0, 10, 20, 30, 40, 50, 60, 70, 80, 90, 100, 110, 120, 130, 140, 150, 160, 170, 180, 190, 200, 210, 220, 230, 240, 250, 260, 270, 280, 290, 300, 310, 320, 330, 340, 350, 360, 370, 380, 390, 400, 410, 420, 430, 440, 450, 460, 470, 480, 490, 500, 510, 520, 530, 540, 550, 560, 570, 580, 590, 600, 610, 620, 630, 640, 650, 660, 670, 680, 690, 700, 710, 720, 730, 740, 750, 760, 770, 780, 790, 800, 810, 820, 830, 840, 850, 860, 870, 880, 890, 900, 910, 920, 930, 940, 950, 960, 970, 980, 990]<br>\n",
    "Output:<br>\n",
    "True<br>\n",
    "Input:<br>\n",
    "[0, 20, 40, 60, 80, 100, 120, 140, 160, 180, 200, 220, 240, 260, 280, 300, 320, 340, 360, 380, 400, 420, 440, 460, 480, 500, 520, 540, 560, 580, 600, 620, 640, 660, 680, 700, 720, 740, 760, 780, 800, 820, 840, 860, 880, 900, 920, 940, 960, 980]<br>\n",
    "Output:<br>\n",
    "False<br>"
   ]
  },
  {
   "cell_type": "code",
   "execution_count": 55,
   "id": "4ccbf7f2",
   "metadata": {},
   "outputs": [
    {
     "name": "stdout",
     "output_type": "stream",
     "text": [
      "Original list:\n",
      "[0, 10, 20, 30, 40, 50, 60, 70, 80, 90, 100, 110, 120, 130, 140, 150, 160, 170, 180, 190, 200, 210, 220, 230, 240, 250, 260, 270, 280, 290, 300, 310, 320, 330, 340, 350, 360, 370, 380, 390, 400, 410, 420, 430, 440, 450, 460, 470, 480, 490, 500, 510, 520, 530, 540, 550, 560, 570, 580, 590, 600, 610, 620, 630, 640, 650, 660, 670, 680, 690, 700, 710, 720, 730, 740, 750, 760, 770, 780, 790, 800, 810, 820, 830, 840, 850, 860, 870, 880, 890, 900, 910, 920, 930, 940, 950, 960, 970, 980, 990]\n",
      "Check whether the said list contains one hundred integers between 0 and 999 which all differ by ten from one another:\n",
      "True\n",
      "\n",
      "Original list:\n",
      "[0, 20, 40, 60, 80, 100, 120, 140, 160, 180, 200, 220, 240, 260, 280, 300, 320, 340, 360, 380, 400, 420, 440, 460, 480, 500, 520, 540, 560, 580, 600, 620, 640, 660, 680, 700, 720, 740, 760, 780, 800, 820, 840, 860, 880, 900, 920, 940, 960, 980]\n",
      "Check whether the said list contains one hundred integers between 0 and 999 which all differ by ten from one another:\n",
      "False\n"
     ]
    }
   ],
   "source": [
    "def test(li):\n",
    "    return all(i in range(1000) and abs(i - j) >= 10 for i in li for j in li if i != j) and len(set(li)) == 100\n",
    "\n",
    "nums = list(range(0, 1000, 10))\n",
    "print(\"Original list:\")\n",
    "print(nums)\n",
    "\n",
    "print(\"Check whether the said list contains one hundred integers between 0 and 999 which all differ by ten from one another:\")\n",
    "print(test(nums))\n",
    "nums = list(range(0, 1000, 20))\n",
    "print(\"\\nOriginal list:\")\n",
    "print(nums)\n",
    "print(\"Check whether the said list contains one hundred integers between 0 and 999 which all differ by ten from one another:\")\n",
    "print(test(nums))\n"
   ]
  },
  {
   "cell_type": "markdown",
   "id": "d1a9652c",
   "metadata": {},
   "source": [
    "Q) Write a Python program to check a given list of integers where the sum of the first i integers is i.<br>\n",
    "Input:<br>\n",
    "[0, 1, 2, 3, 4, 5]<br>\n",
    "Output:<br>\n",
    "False<br>\n",
    "Input:<br>\n",
    "[1, 1, 1, 1, 1, 1]<br>\n",
    "Output:<br>\n",
    "True"
   ]
  },
  {
   "cell_type": "code",
   "execution_count": 61,
   "id": "f9d8532a",
   "metadata": {},
   "outputs": [
    {
     "name": "stdout",
     "output_type": "stream",
     "text": [
      "Original list:\n",
      "[0, 1, 2, 3, 4, 5, 6]\n",
      "Check the said list, where the sum of the first i integers is i: i = 3\n",
      "True\n"
     ]
    }
   ],
   "source": [
    "def test(li, i):\n",
    "    return sum(li[:i]) == i\n",
    "\n",
    "nums = [int(x) for x in input(\"Enter integers separated by spaces: \").split()]\n",
    "i = int(input(\"Enter the value of 'i': \"))\n",
    "print(\"Original list:\")\n",
    "print(nums)\n",
    "print(\"Check the said list, where the sum of the first i integers is i: i =\", i)\n",
    "print(test(nums, i))\n"
   ]
  },
  {
   "cell_type": "markdown",
   "id": "bf5f0cb5",
   "metadata": {},
   "source": [
    "Q) Write a Python program to split a string of words separated by commas and spaces into two lists, words and separators.<br>\n",
    "Input: W3resource Python, Exercises.<br>\n",
    "Output:<br>\n",
    "[['W3resource', 'Python', 'Exercises.'], [' ', ', ']]<br>"
   ]
  },
  {
   "cell_type": "code",
   "execution_count": 62,
   "id": "c75629f9",
   "metadata": {},
   "outputs": [
    {
     "name": "stdout",
     "output_type": "stream",
     "text": [
      "Original string: koza,mod\n",
      "Split the said string into 2 lists: words and separators:\n",
      "[['koza', 'mod'], [',']]\n"
     ]
    }
   ],
   "source": [
    "def test(string):\n",
    "    import re\n",
    "    merged = re.split(r\"([ ,]+)\", string)\n",
    "    return [merged[::2], merged[1::2]]\n",
    "\n",
    "s = input(\"Enter a string: \")\n",
    "print(\"Original string:\", s)\n",
    "print(\"Split the said string into 2 lists: words and separators:\")\n",
    "print(test(s))\n"
   ]
  },
  {
   "cell_type": "markdown",
   "id": "0300d3ea",
   "metadata": {},
   "source": [
    "Q) Write a Python program to find a list of integers containing exactly four distinct values, such that no integer repeats twice consecutively among the first twenty entries."
   ]
  },
  {
   "cell_type": "code",
   "execution_count": 66,
   "id": "76209d0c",
   "metadata": {},
   "outputs": [
    {
     "name": "stdout",
     "output_type": "stream",
     "text": [
      "True\n"
     ]
    }
   ],
   "source": [
    "def twice(x):\n",
    "    return all([x[i] != x[i+1] for i in range(len(x)-1 )]) and len(set(x)) == 4\n",
    "\n",
    "nums = [int(x) for x in input(\"Enter integers separated by spaces: \").split()]\n",
    "print(twice(nums))"
   ]
  },
  {
   "cell_type": "markdown",
   "id": "0d537f5f",
   "metadata": {},
   "source": [
    "Q) Given a string consisting of whitespace and groups of matched parentheses, write a Python program to split it into groups of perfectly matched parentheses without any whitespace.<br>\n",
    "Input:<br>\n",
    "( ()) ((()()())) (()) ()<br>\n",
    "Output:<br>\n",
    "['(())', '((()()()))', '(())', '()']<br>\n",
    "Input:<br>\n",
    "() (( ( )() ( )) ) ( ())<br>\n",
    "Output:<br>\n",
    "['()', '((()()()))', '(())']<br>"
   ]
  },
  {
   "cell_type": "code",
   "execution_count": 75,
   "id": "7958f7e4",
   "metadata": {},
   "outputs": [
    {
     "name": "stdout",
     "output_type": "stream",
     "text": [
      "Parentheses string: () (( ( )() (  )) ) ( ())\n",
      "Separate parentheses groups of the said string:\n",
      "['()', '((()()()))', '(())']\n"
     ]
    }
   ],
   "source": [
    "def test(combined):\n",
    "    ls = []\n",
    "    s2 = \"\"\n",
    "    for s in combined.replace(' ', ''):\n",
    "        s2 += s\n",
    "        if s2.count(\"(\") == s2.count(\")\"):\n",
    "            ls.append(s2)\n",
    "            s2 = \"\"\n",
    "    return ls\n",
    "\n",
    "combined = input(\"Enter a string with parentheses: \")\n",
    "print(f\"Parentheses string: {combined}\")\n",
    "print(f\"Separate parentheses groups of the said string:\\n{test(combined)}\")"
   ]
  },
  {
   "cell_type": "markdown",
   "id": "5cf4cbbc",
   "metadata": {},
   "source": [
    "Q) Write a Python program to find the indexes of numbers in a given list below a given threshold.<br>\n",
    "Original list:<br>\n",
    "[0, 12, 45, 3, 4923, 322, 105, 29, 15, 39, 55]<br>\n",
    "Threshold: 100<br>\n",
    "Check the indexes of numbers of the said list below the given threshold:<br>\n",
    "[0, 1, 2, 3, 7, 8, 9, 10]<br>\n",
    "Original list:<br>\n",
    "[0, 12, 4, 3, 49, 9, 1, 5, 3]<br>\n",
    "Threshold: 10<br>\n",
    "Check the indexes of numbers of the said list below the given threshold:<br>\n",
    "[0, 2, 3, 5, 6, 7, 8]<br>"
   ]
  },
  {
   "cell_type": "code",
   "execution_count": 79,
   "id": "4f435734",
   "metadata": {},
   "outputs": [
    {
     "name": "stdout",
     "output_type": "stream",
     "text": [
      "Indexes of numbers below the threshold: [1, 3, 4, 6]\n"
     ]
    }
   ],
   "source": [
    "def find_indexes_below_threshold(lst, threshold):\n",
    "    return [index for index, num in enumerate(lst) if num < threshold]\n",
    "\n",
    "# Take input for the list of numbers\n",
    "nums = [int(x) for x in input(\"Enter list of numbers separated by space: \").split()]\n",
    "\n",
    "# Take input for the threshold\n",
    "threshold = int(input(\"Enter the threshold: \"))\n",
    "\n",
    "result = find_indexes_below_threshold(nums, threshold)\n",
    "print(\"Indexes of numbers below the threshold:\", result)\n"
   ]
  },
  {
   "cell_type": "code",
   "execution_count": 2,
   "metadata": {},
   "outputs": [
    {
     "name": "stdout",
     "output_type": "stream",
     "text": [
      "THe entered strings are not anagram:\n"
     ]
    }
   ],
   "source": [
    "def anagram(x,y):\n",
    "    if sorted(a.lower()) == sorted(b.lower()):\n",
    "        return(\"THe entered strings are anagram:\")\n",
    "    else:\n",
    "        return(\"THe entered strings are not anagram:\")\n",
    "\n",
    "a=input(\"ENter first word:\")\n",
    "b=input(\"Enter second word:\")\n",
    "print(anagram(a,b))"
   ]
  }
 ],
 "metadata": {
  "kernelspec": {
   "display_name": "Python 3",
   "language": "python",
   "name": "python3"
  },
  "language_info": {
   "codemirror_mode": {
    "name": "ipython",
    "version": 3
   },
   "file_extension": ".py",
   "mimetype": "text/x-python",
   "name": "python",
   "nbconvert_exporter": "python",
   "pygments_lexer": "ipython3",
   "version": "3.10.13"
  }
 },
 "nbformat": 4,
 "nbformat_minor": 5
}
